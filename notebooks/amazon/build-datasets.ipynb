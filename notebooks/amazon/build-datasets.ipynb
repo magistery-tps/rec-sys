{
 "cells": [
  {
   "cell_type": "code",
   "execution_count": 1,
   "id": "94f881df-4e34-4baa-bb19-bd38a2542192",
   "metadata": {},
   "outputs": [],
   "source": [
    "%load_ext autoreload\n",
    "%autoreload 2"
   ]
  },
  {
   "cell_type": "code",
   "execution_count": 2,
   "id": "f8259342-bd48-49ce-a235-d7febaeabe33",
   "metadata": {},
   "outputs": [],
   "source": [
    "import sys\n",
    "sys.path.append('../../src')"
   ]
  },
  {
   "cell_type": "code",
   "execution_count": 3,
   "id": "72fe1c26-d376-424b-9fce-17b67596e8ed",
   "metadata": {},
   "outputs": [],
   "source": [
    "import numpy as np\n",
    "import pandas as pd\n",
    "import glob\n",
    "import json\n",
    "import logging"
   ]
  },
  {
   "cell_type": "code",
   "execution_count": 4,
   "id": "79655577-629a-4f96-83ae-dd88a019cad5",
   "metadata": {},
   "outputs": [],
   "source": [
    "DATASET_PATH = '../datasets/amazon-sneakers'"
   ]
  },
  {
   "cell_type": "code",
   "execution_count": 5,
   "id": "31172179-9a94-4ce5-acd3-cf05a4c14d4a",
   "metadata": {},
   "outputs": [],
   "source": [
    "products_detail_files         = !find {DATASET_PATH} -type f -name '??????????.json'\n",
    "products_detail_variant_files = !find {DATASET_PATH} -type f -name '*_variant_*.json'\n",
    "\n",
    "products_detail_files = products_detail_files + products_detail_variant_files\n",
    "# products_detail_files"
   ]
  },
  {
   "cell_type": "code",
   "execution_count": 6,
   "id": "29e81c60-0404-41c2-b6df-98af59d2ef42",
   "metadata": {},
   "outputs": [],
   "source": [
    "def load_json(path):\n",
    "    with open(path,'r') as f:\n",
    "        return json.load(f)\n",
    "\n",
    "def to_product_detail_json(path):\n",
    "    json = load_json(path)\n",
    "    json['variant'] = ('variant' in path)\n",
    "    return json\n",
    "    \n",
    "product_details = [to_product_detail_json(file) for file in products_detail_files]"
   ]
  },
  {
   "cell_type": "code",
   "execution_count": 7,
   "id": "f7c4c723-c962-4090-9f4d-dca82198e295",
   "metadata": {},
   "outputs": [],
   "source": [
    "def price(data):    \n",
    "    if 'price_range' in data and data['price_range'] != None:\n",
    "        price_range = data['price_range']\n",
    "        \n",
    "        if isinstance(price_range, str):\n",
    "            return price_range.split('Details The List Price')[0].replace('List Price:', '').replace('$', '')\n",
    "        elif 'from' in price_range and 'to' in price_range:\n",
    "            return (price_range['to'] - price_range['from']) / 2\n",
    "        elif 'from' in price_range:\n",
    "            return price_range['from']\n",
    "        elif 'to' in price_range:\n",
    "            return price_range['to']\n",
    "\n",
    "    return 0\n",
    "\n",
    "def to_product_detail_row(data):\n",
    "    try:        \n",
    "        return {\n",
    "            'id'         : data['id'],\n",
    "            'title'      : data['title'],\n",
    "            'description': data['description'],\n",
    "            'variant'    : data['variant'],\n",
    "            'url'        : data['images'][0][0],\n",
    "            'rating'     : data['rating'],\n",
    "            'reviews'    : data['reviews_count'],\n",
    "            'price'      : price(data)\n",
    "        }\n",
    "    except Exception as e:\n",
    "        logging.error(f'{e}. Data: {data}')\n",
    "        \n",
    "\n",
    "product_detail_rows = [to_product_detail_row(pd) for pd in product_details if pd['id']]"
   ]
  },
  {
   "cell_type": "code",
   "execution_count": 8,
   "id": "512f92e5-f1aa-433a-b9bd-469da7ed89bc",
   "metadata": {},
   "outputs": [
    {
     "data": {
      "text/html": [
       "<pre style=\"white-space:pre;overflow-x:auto;line-height:normal;font-family:Menlo,'DejaVu Sans Mono',consolas,'Courier New',monospace\">\n",
       "<span style=\"font-weight: bold\">{</span>\n",
       "    <span style=\"color: #008000; text-decoration-color: #008000\">'id'</span>: <span style=\"color: #008000; text-decoration-color: #008000\">'B0B8V49Z1V'</span>,\n",
       "    <span style=\"color: #008000; text-decoration-color: #008000\">'title'</span>: <span style=\"color: #008000; text-decoration-color: #008000\">\"FLYFUPPY Women's Slip-on Canvas Comfort Fashion Sneakers Low Top Classic Lace up Walking Shoes Leopard Size\"</span>,\n",
       "    <span style=\"color: #008000; text-decoration-color: #008000\">'description'</span>: <span style=\"color: #800080; text-decoration-color: #800080; font-style: italic\">None</span>,\n",
       "    <span style=\"color: #008000; text-decoration-color: #008000\">'variant'</span>: <span style=\"color: #ff0000; text-decoration-color: #ff0000; font-style: italic\">False</span>,\n",
       "    <span style=\"color: #008000; text-decoration-color: #008000\">'url'</span>: <span style=\"color: #008000; text-decoration-color: #008000\">'https://m.media-amazon.com/images/I/81FUVhjkB1L._AC_UY625_.jpg'</span>,\n",
       "    <span style=\"color: #008000; text-decoration-color: #008000\">'rating'</span>: <span style=\"color: #008080; text-decoration-color: #008080; font-weight: bold\">4.6</span>,\n",
       "    <span style=\"color: #008000; text-decoration-color: #008000\">'reviews'</span>: <span style=\"color: #008080; text-decoration-color: #008080; font-weight: bold\">16</span>,\n",
       "    <span style=\"color: #008000; text-decoration-color: #008000\">'price'</span>: <span style=\"color: #008080; text-decoration-color: #008080; font-weight: bold\">0.0</span>\n",
       "<span style=\"font-weight: bold\">}</span>\n",
       "</pre>\n"
      ],
      "text/plain": [
       "\n",
       "\u001b[1m{\u001b[0m\n",
       "    \u001b[32m'id'\u001b[0m: \u001b[32m'B0B8V49Z1V'\u001b[0m,\n",
       "    \u001b[32m'title'\u001b[0m: \u001b[32m\"FLYFUPPY Women's Slip-on Canvas Comfort Fashion Sneakers Low Top Classic Lace up Walking Shoes Leopard Size\"\u001b[0m,\n",
       "    \u001b[32m'description'\u001b[0m: \u001b[3;35mNone\u001b[0m,\n",
       "    \u001b[32m'variant'\u001b[0m: \u001b[3;91mFalse\u001b[0m,\n",
       "    \u001b[32m'url'\u001b[0m: \u001b[32m'https://m.media-amazon.com/images/I/81FUVhjkB1L._AC_UY625_.jpg'\u001b[0m,\n",
       "    \u001b[32m'rating'\u001b[0m: \u001b[1;36m4.6\u001b[0m,\n",
       "    \u001b[32m'reviews'\u001b[0m: \u001b[1;36m16\u001b[0m,\n",
       "    \u001b[32m'price'\u001b[0m: \u001b[1;36m0.0\u001b[0m\n",
       "\u001b[1m}\u001b[0m\n"
      ]
     },
     "metadata": {},
     "output_type": "display_data"
    }
   ],
   "source": [
    "product_detail_rows[0]"
   ]
  },
  {
   "cell_type": "code",
   "execution_count": 9,
   "id": "a5e36f66-0fd0-4794-9fd1-6bcca9ac5543",
   "metadata": {},
   "outputs": [
    {
     "data": {
      "text/html": [
       "<div>\n",
       "<style scoped>\n",
       "    .dataframe tbody tr th:only-of-type {\n",
       "        vertical-align: middle;\n",
       "    }\n",
       "\n",
       "    .dataframe tbody tr th {\n",
       "        vertical-align: top;\n",
       "    }\n",
       "\n",
       "    .dataframe thead th {\n",
       "        text-align: right;\n",
       "    }\n",
       "</style>\n",
       "<table border=\"1\" class=\"dataframe\">\n",
       "  <thead>\n",
       "    <tr style=\"text-align: right;\">\n",
       "      <th></th>\n",
       "      <th>id</th>\n",
       "      <th>title</th>\n",
       "      <th>description</th>\n",
       "      <th>variant</th>\n",
       "      <th>url</th>\n",
       "      <th>rating</th>\n",
       "      <th>reviews</th>\n",
       "      <th>price</th>\n",
       "    </tr>\n",
       "  </thead>\n",
       "  <tbody>\n",
       "    <tr>\n",
       "      <th>0</th>\n",
       "      <td>B0B8V49Z1V</td>\n",
       "      <td>FLYFUPPY Women's Slip-on Canvas Comfort Fashio...</td>\n",
       "      <td>None</td>\n",
       "      <td>False</td>\n",
       "      <td>https://m.media-amazon.com/images/I/81FUVhjkB1...</td>\n",
       "      <td>4.6</td>\n",
       "      <td>16</td>\n",
       "      <td>0.0</td>\n",
       "    </tr>\n",
       "    <tr>\n",
       "      <th>1</th>\n",
       "      <td>B08TRDBGQF</td>\n",
       "      <td>Nike Women's Low-Top Sneakers</td>\n",
       "      <td>These shoes provide the user with great comfor...</td>\n",
       "      <td>False</td>\n",
       "      <td>https://m.media-amazon.com/images/I/61DOlkBbfJ...</td>\n",
       "      <td>2.7</td>\n",
       "      <td>7</td>\n",
       "      <td>31.0</td>\n",
       "    </tr>\n",
       "    <tr>\n",
       "      <th>2</th>\n",
       "      <td>B06XVY23RT</td>\n",
       "      <td>Reebok Women's Club C Sneaker</td>\n",
       "      <td>None</td>\n",
       "      <td>False</td>\n",
       "      <td>https://m.media-amazon.com/images/I/81B-Vy65uk...</td>\n",
       "      <td>4.6</td>\n",
       "      <td>16053</td>\n",
       "      <td>13.075</td>\n",
       "    </tr>\n",
       "    <tr>\n",
       "      <th>3</th>\n",
       "      <td>B0785RGRWX</td>\n",
       "      <td>Reebok Men's Classic Harman Run Sneaker</td>\n",
       "      <td>None</td>\n",
       "      <td>False</td>\n",
       "      <td>https://m.media-amazon.com/images/I/71FaYc6pSM...</td>\n",
       "      <td>4.6</td>\n",
       "      <td>6501</td>\n",
       "      <td>10.465</td>\n",
       "    </tr>\n",
       "    <tr>\n",
       "      <th>4</th>\n",
       "      <td>B0BDZV1LCS</td>\n",
       "      <td>Steve Madden Ganzo-R Sneaker</td>\n",
       "      <td>None</td>\n",
       "      <td>False</td>\n",
       "      <td>https://m.media-amazon.com/images/I/71C-5pfm1D...</td>\n",
       "      <td>5.0</td>\n",
       "      <td>1 rating</td>\n",
       "      <td>0.0</td>\n",
       "    </tr>\n",
       "    <tr>\n",
       "      <th>...</th>\n",
       "      <td>...</td>\n",
       "      <td>...</td>\n",
       "      <td>...</td>\n",
       "      <td>...</td>\n",
       "      <td>...</td>\n",
       "      <td>...</td>\n",
       "      <td>...</td>\n",
       "      <td>...</td>\n",
       "    </tr>\n",
       "    <tr>\n",
       "      <th>1780</th>\n",
       "      <td>B08M41C7LJ</td>\n",
       "      <td>New Balance Women's 237 V1 Classic Sneaker</td>\n",
       "      <td>The running shoes of the 1970s might best be d...</td>\n",
       "      <td>True</td>\n",
       "      <td>https://m.media-amazon.com/images/I/71R7sXYcIH...</td>\n",
       "      <td>4.3</td>\n",
       "      <td>331</td>\n",
       "      <td>0.0</td>\n",
       "    </tr>\n",
       "    <tr>\n",
       "      <th>1781</th>\n",
       "      <td>B0BCKJCPCC</td>\n",
       "      <td>Niluber Women's Chunky Platform Dad Lace-Up Ca...</td>\n",
       "      <td>Product Attributes Product Volume：‎ 11.52 x 9....</td>\n",
       "      <td>True</td>\n",
       "      <td>https://m.media-amazon.com/images/I/51OzTAM+i2...</td>\n",
       "      <td>4.5</td>\n",
       "      <td>2</td>\n",
       "      <td>0.0</td>\n",
       "    </tr>\n",
       "    <tr>\n",
       "      <th>1782</th>\n",
       "      <td>B08MQ3KH5J</td>\n",
       "      <td>GOOBON Air Shoes for Women Tennis Sports Athle...</td>\n",
       "      <td>None</td>\n",
       "      <td>True</td>\n",
       "      <td>https://m.media-amazon.com/images/I/81JUPSpLy4...</td>\n",
       "      <td>4.2</td>\n",
       "      <td>4033</td>\n",
       "      <td>0</td>\n",
       "    </tr>\n",
       "    <tr>\n",
       "      <th>1783</th>\n",
       "      <td>B083M256V2</td>\n",
       "      <td>Women's Walking Shoes Sock Sneakers Slip on Me...</td>\n",
       "      <td>None</td>\n",
       "      <td>True</td>\n",
       "      <td>https://m.media-amazon.com/images/I/71SsHeFWTy...</td>\n",
       "      <td>4.1</td>\n",
       "      <td>13313</td>\n",
       "      <td>9.0</td>\n",
       "    </tr>\n",
       "    <tr>\n",
       "      <th>1784</th>\n",
       "      <td>B0B2K22K9V</td>\n",
       "      <td>Roxy Women's Bayshore Slip on Sneaker Shoe</td>\n",
       "      <td>Textile upper with printed heel and lace up de...</td>\n",
       "      <td>True</td>\n",
       "      <td>https://m.media-amazon.com/images/I/71uulTMb5u...</td>\n",
       "      <td>4.6</td>\n",
       "      <td>9859</td>\n",
       "      <td>27.99</td>\n",
       "    </tr>\n",
       "  </tbody>\n",
       "</table>\n",
       "<p>1785 rows × 8 columns</p>\n",
       "</div>"
      ]
     },
     "execution_count": 9,
     "metadata": {},
     "output_type": "execute_result"
    }
   ],
   "source": [
    "product_detail = pd.DataFrame(product_detail_rows)\n",
    "product_detail"
   ]
  },
  {
   "cell_type": "code",
   "execution_count": 10,
   "id": "5cfe89a1-728a-4301-82d0-af01b1cf4773",
   "metadata": {},
   "outputs": [
    {
     "data": {
      "text/html": [
       "<pre style=\"white-space:pre;overflow-x:auto;line-height:normal;font-family:Menlo,'DejaVu Sans Mono',consolas,'Courier New',monospace\">\n",
       "<span style=\"color: #008080; text-decoration-color: #008080; font-weight: bold\">0.000</span>     <span style=\"color: #008080; text-decoration-color: #008080; font-weight: bold\">437</span>\n",
       "<span style=\"color: #008080; text-decoration-color: #008080; font-weight: bold\">46.885</span>     <span style=\"color: #008080; text-decoration-color: #008080; font-weight: bold\">55</span>\n",
       "<span style=\"color: #008080; text-decoration-color: #008080; font-weight: bold\">45.640</span>     <span style=\"color: #008080; text-decoration-color: #008080; font-weight: bold\">32</span>\n",
       "<span style=\"color: #008080; text-decoration-color: #008080; font-weight: bold\">3.500</span>      <span style=\"color: #008080; text-decoration-color: #008080; font-weight: bold\">27</span>\n",
       "<span style=\"color: #008080; text-decoration-color: #008080; font-weight: bold\">54.000</span>     <span style=\"color: #008080; text-decoration-color: #008080; font-weight: bold\">23</span>\n",
       "         <span style=\"color: #808000; text-decoration-color: #808000\">...</span> \n",
       "<span style=\"color: #008080; text-decoration-color: #008080; font-weight: bold\">0.035</span>       <span style=\"color: #008080; text-decoration-color: #008080; font-weight: bold\">1</span>\n",
       "<span style=\"color: #008080; text-decoration-color: #008080; font-weight: bold\">1.735</span>       <span style=\"color: #008080; text-decoration-color: #008080; font-weight: bold\">1</span>\n",
       "<span style=\"color: #008080; text-decoration-color: #008080; font-weight: bold\">18.630</span>      <span style=\"color: #008080; text-decoration-color: #008080; font-weight: bold\">1</span>\n",
       "<span style=\"color: #008080; text-decoration-color: #008080; font-weight: bold\">10.450</span>      <span style=\"color: #008080; text-decoration-color: #008080; font-weight: bold\">1</span>\n",
       "<span style=\"color: #008080; text-decoration-color: #008080; font-weight: bold\">19.995</span>      <span style=\"color: #008080; text-decoration-color: #008080; font-weight: bold\">1</span>\n",
       "Name: price, Length: <span style=\"color: #008080; text-decoration-color: #008080; font-weight: bold\">453</span>, dtype: int64\n",
       "</pre>\n"
      ],
      "text/plain": [
       "\n",
       "\u001b[1;36m0.000\u001b[0m     \u001b[1;36m437\u001b[0m\n",
       "\u001b[1;36m46.885\u001b[0m     \u001b[1;36m55\u001b[0m\n",
       "\u001b[1;36m45.640\u001b[0m     \u001b[1;36m32\u001b[0m\n",
       "\u001b[1;36m3.500\u001b[0m      \u001b[1;36m27\u001b[0m\n",
       "\u001b[1;36m54.000\u001b[0m     \u001b[1;36m23\u001b[0m\n",
       "         \u001b[33m...\u001b[0m \n",
       "\u001b[1;36m0.035\u001b[0m       \u001b[1;36m1\u001b[0m\n",
       "\u001b[1;36m1.735\u001b[0m       \u001b[1;36m1\u001b[0m\n",
       "\u001b[1;36m18.630\u001b[0m      \u001b[1;36m1\u001b[0m\n",
       "\u001b[1;36m10.450\u001b[0m      \u001b[1;36m1\u001b[0m\n",
       "\u001b[1;36m19.995\u001b[0m      \u001b[1;36m1\u001b[0m\n",
       "Name: price, Length: \u001b[1;36m453\u001b[0m, dtype: int64\n"
      ]
     },
     "metadata": {},
     "output_type": "display_data"
    }
   ],
   "source": [
    "product_detail.price.value_counts()"
   ]
  },
  {
   "cell_type": "code",
   "execution_count": 44,
   "id": "dc0b1dc2-ad41-404e-b791-7fa2f545c040",
   "metadata": {},
   "outputs": [],
   "source": [
    "product_detail.to_json(f'{DATASET_PATH}/items.json', orient=\"records\")"
   ]
  },
  {
   "cell_type": "code",
   "execution_count": 37,
   "id": "27fb821c-f124-4449-b655-855328760da8",
   "metadata": {},
   "outputs": [],
   "source": [
    "def to_reviews_json(path):\n",
    "    reviews = load_json(path)\n",
    "    for review in reviews:\n",
    "        review['item_id']  = path.split('/')[-1].split('_')[0]\n",
    "        review['username'] = review['user']\n",
    "        del review['user']\n",
    "    return reviews\n",
    "\n",
    "\n",
    "product_reviews = []\n",
    "for file in glob.glob(f'{DATASET_PATH}/*_reviews.json'):\n",
    "    product_reviews.extend(to_reviews_json(file))"
   ]
  },
  {
   "cell_type": "code",
   "execution_count": 42,
   "id": "2544ffbb-dc1d-4226-9a7a-fae6f588d1ed",
   "metadata": {},
   "outputs": [],
   "source": [
    "user_interactions = pd.DataFrame(product_reviews)\n",
    "user_interactions = user_interactions[['username', 'item_id', 'rating', 'message']]"
   ]
  },
  {
   "cell_type": "code",
   "execution_count": 45,
   "id": "b715ec77-0657-4303-b617-dd1b1e9f75ec",
   "metadata": {},
   "outputs": [],
   "source": [
    "user_interactions.to_json(f'{DATASET_PATH}/interactions.json', orient=\"records\")"
   ]
  },
  {
   "cell_type": "code",
   "execution_count": null,
   "id": "f4e4041b-2d7c-499c-a36b-9e9a45cff49b",
   "metadata": {},
   "outputs": [],
   "source": []
  }
 ],
 "metadata": {
  "kernelspec": {
   "display_name": "Python 3 (ipykernel)",
   "language": "python",
   "name": "python3"
  },
  "language_info": {
   "codemirror_mode": {
    "name": "ipython",
    "version": 3
   },
   "file_extension": ".py",
   "mimetype": "text/x-python",
   "name": "python",
   "nbconvert_exporter": "python",
   "pygments_lexer": "ipython3",
   "version": "3.10.6"
  }
 },
 "nbformat": 4,
 "nbformat_minor": 5
}
