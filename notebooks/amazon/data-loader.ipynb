{
 "cells": [
  {
   "cell_type": "code",
   "execution_count": 2,
   "id": "94f881df-4e34-4baa-bb19-bd38a2542192",
   "metadata": {},
   "outputs": [],
   "source": [
    "%load_ext autoreload\n",
    "%autoreload 2"
   ]
  },
  {
   "cell_type": "code",
   "execution_count": 3,
   "id": "f8259342-bd48-49ce-a235-d7febaeabe33",
   "metadata": {},
   "outputs": [],
   "source": [
    "import sys\n",
    "sys.path.append('../../src')"
   ]
  },
  {
   "cell_type": "code",
   "execution_count": 4,
   "id": "72fe1c26-d376-424b-9fce-17b67596e8ed",
   "metadata": {},
   "outputs": [],
   "source": [
    "import numpy as np\n",
    "import pandas as pd\n",
    "import data.database as db\n",
    "import logging"
   ]
  },
  {
   "cell_type": "code",
   "execution_count": 15,
   "id": "79655577-629a-4f96-83ae-dd88a019cad5",
   "metadata": {},
   "outputs": [],
   "source": [
    "DATASET_PATH = '../../datasets/amazon-sneakers'\n",
    "DB_CONFIG = {\n",
    "  'host'     : 'localhost',\n",
    "  'user'     : 'root',\n",
    "  'password' : '1234'\n",
    "}"
   ]
  },
  {
   "cell_type": "code",
   "execution_count": null,
   "id": "45a28385-f264-46e1-8410-8e09fca46bac",
   "metadata": {},
   "outputs": [],
   "source": [
    "database = db.Database(DATASET_PATH)\n",
    "\n",
    "item_repo = db.ItemRepository(database)\n",
    "interaction_repo = db.IteractionRepository(database)"
   ]
  },
  {
   "cell_type": "code",
   "execution_count": 12,
   "id": "28344fce-605c-4a36-968c-4b2d1dc6cb38",
   "metadata": {},
   "outputs": [],
   "source": [
    "items      = pd.read_json(f'{DATASET_PATH}/db_items.json')\n",
    "interactions = pd.read_json(f'{DATASET_PATH}/db_interactions.json')"
   ]
  },
  {
   "cell_type": "code",
   "execution_count": 13,
   "id": "12b0a606-c591-4cf2-b85c-85d27f81a40d",
   "metadata": {},
   "outputs": [
    {
     "data": {
      "text/html": [
       "<div>\n",
       "<style scoped>\n",
       "    .dataframe tbody tr th:only-of-type {\n",
       "        vertical-align: middle;\n",
       "    }\n",
       "\n",
       "    .dataframe tbody tr th {\n",
       "        vertical-align: top;\n",
       "    }\n",
       "\n",
       "    .dataframe thead th {\n",
       "        text-align: right;\n",
       "    }\n",
       "</style>\n",
       "<table border=\"1\" class=\"dataframe\">\n",
       "  <thead>\n",
       "    <tr style=\"text-align: right;\">\n",
       "      <th></th>\n",
       "      <th>item_id</th>\n",
       "      <th>name</th>\n",
       "      <th>description</th>\n",
       "      <th>image</th>\n",
       "    </tr>\n",
       "  </thead>\n",
       "  <tbody>\n",
       "    <tr>\n",
       "      <th>0</th>\n",
       "      <td>1</td>\n",
       "      <td>Superga Women's 2750 Cotu Classic Sneaker</td>\n",
       "      <td>None</td>\n",
       "      <td>https://m.media-amazon.com/images/I/612WcQ1+bI...</td>\n",
       "    </tr>\n",
       "    <tr>\n",
       "      <th>1</th>\n",
       "      <td>2</td>\n",
       "      <td>New Suede Shoe Cleaner Kit. Suede Brush &amp; Sued...</td>\n",
       "      <td>None</td>\n",
       "      <td>https://m.media-amazon.com/images/I/71tbpuN6ZI...</td>\n",
       "    </tr>\n",
       "    <tr>\n",
       "      <th>2</th>\n",
       "      <td>3</td>\n",
       "      <td>New Balance Women's Dynasoft Nergize V3 Cross ...</td>\n",
       "      <td>None</td>\n",
       "      <td>https://m.media-amazon.com/images/I/71pR+J-gp4...</td>\n",
       "    </tr>\n",
       "    <tr>\n",
       "      <th>3</th>\n",
       "      <td>4</td>\n",
       "      <td>NCNDB Women's Camouflage Wedges Sneakers Inner...</td>\n",
       "      <td>welcome.our Sneaker shoes size tabs are chines...</td>\n",
       "      <td>https://m.media-amazon.com/images/I/61reE-na08...</td>\n",
       "    </tr>\n",
       "    <tr>\n",
       "      <th>4</th>\n",
       "      <td>5</td>\n",
       "      <td>Reebok Men's Classic Harman Run Sneaker</td>\n",
       "      <td>None</td>\n",
       "      <td>https://m.media-amazon.com/images/I/71FaYc6pSM...</td>\n",
       "    </tr>\n",
       "  </tbody>\n",
       "</table>\n",
       "</div>"
      ]
     },
     "execution_count": 13,
     "metadata": {},
     "output_type": "execute_result"
    }
   ],
   "source": [
    "items.head(5)"
   ]
  },
  {
   "cell_type": "code",
   "execution_count": 14,
   "id": "4ad392a8-de38-4c7b-9a85-bc0187ab54e7",
   "metadata": {},
   "outputs": [
    {
     "data": {
      "text/html": [
       "<div>\n",
       "<style scoped>\n",
       "    .dataframe tbody tr th:only-of-type {\n",
       "        vertical-align: middle;\n",
       "    }\n",
       "\n",
       "    .dataframe tbody tr th {\n",
       "        vertical-align: top;\n",
       "    }\n",
       "\n",
       "    .dataframe thead th {\n",
       "        text-align: right;\n",
       "    }\n",
       "</style>\n",
       "<table border=\"1\" class=\"dataframe\">\n",
       "  <thead>\n",
       "    <tr style=\"text-align: right;\">\n",
       "      <th></th>\n",
       "      <th>user_id</th>\n",
       "      <th>item_id</th>\n",
       "      <th>rating</th>\n",
       "    </tr>\n",
       "  </thead>\n",
       "  <tbody>\n",
       "    <tr>\n",
       "      <th>0</th>\n",
       "      <td>1</td>\n",
       "      <td>191</td>\n",
       "      <td>4.0</td>\n",
       "    </tr>\n",
       "    <tr>\n",
       "      <th>1</th>\n",
       "      <td>1</td>\n",
       "      <td>191</td>\n",
       "      <td>4.0</td>\n",
       "    </tr>\n",
       "    <tr>\n",
       "      <th>2</th>\n",
       "      <td>1</td>\n",
       "      <td>191</td>\n",
       "      <td>4.0</td>\n",
       "    </tr>\n",
       "    <tr>\n",
       "      <th>3</th>\n",
       "      <td>1</td>\n",
       "      <td>191</td>\n",
       "      <td>4.0</td>\n",
       "    </tr>\n",
       "    <tr>\n",
       "      <th>4</th>\n",
       "      <td>1</td>\n",
       "      <td>191</td>\n",
       "      <td>4.0</td>\n",
       "    </tr>\n",
       "  </tbody>\n",
       "</table>\n",
       "</div>"
      ]
     },
     "execution_count": 14,
     "metadata": {},
     "output_type": "execute_result"
    }
   ],
   "source": [
    "interactions.head(5)"
   ]
  },
  {
   "cell_type": "code",
   "execution_count": 15,
   "id": "0bc1be78-69dc-46d3-b074-6a74e4c96827",
   "metadata": {},
   "outputs": [],
   "source": []
  },
  {
   "cell_type": "code",
   "execution_count": 16,
   "id": "517b6073-0504-4e22-98e8-9d5ff35d5ec7",
   "metadata": {},
   "outputs": [],
   "source": [
    "def execute(connection, query):\n",
    "    try:\n",
    "        cursor = connection.cursor()\n",
    "        cursor.execute(query)\n",
    "        connection.commit()\n",
    "    except Exception as error:\n",
    "        print(error)\n",
    "        print(f'Query: {query}')\n",
    "\n",
    "\n",
    "def insert_item(connection, row):\n",
    "    query = \"\"\"\n",
    "        INSERT INTO \n",
    "            recsys.recsysweb_item(id, name, description, image)\n",
    "        VALUES (\n",
    "            :ID,\n",
    "            \":NAME\",\n",
    "            \":DESC\",\n",
    "            \":IMAGE\"\n",
    "        );    \n",
    "        \"\"\".replace(':ID', str(row['id'])) \\\n",
    "            .replace(':NAME', str(row['name'])) \\\n",
    "            .replace(':DESC', str(row['description']).replace('\"', '')) \\\n",
    "            .replace(':IMAGE', str(row['image']))\n",
    "    execute(connection, query)\n",
    "        \n",
    "def insert_interaction(connection, row):\n",
    "    query = \"\"\"\n",
    "        INSERT INTO \n",
    "            recsys.recsysweb_interaction(item_id, user_id, rating)\n",
    "        VALUES (\n",
    "            \":ITEM_ID\",\n",
    "            \":USER_ID\",\n",
    "            \":RATING\"\n",
    "        );    \n",
    "        \"\"\".replace(':ITEM_ID', str(int(row['item_id']))) \\\n",
    "            .replace(':USER_ID', str(int(row['user_id']))) \\\n",
    "            .replace(':RATING', str(row['rating']))\n",
    "    execute(connection, query)"
   ]
  },
  {
   "cell_type": "code",
   "execution_count": 17,
   "id": "e93b2dea-2635-4fd1-a957-aa6c5d06eb42",
   "metadata": {},
   "outputs": [
    {
     "data": {
      "text/html": [
       "<pre style=\"white-space:pre;overflow-x:auto;line-height:normal;font-family:Menlo,'DejaVu Sans Mono',consolas,'Courier New',monospace\"><span style=\"color: #008080; text-decoration-color: #008080; font-weight: bold\">1451</span> <span style=\"font-weight: bold\">(</span><span style=\"color: #008080; text-decoration-color: #008080; font-weight: bold\">23000</span><span style=\"font-weight: bold\">)</span>: Cannot delete or update a parent row: a foreign key constraint fails \n",
       "<span style=\"font-weight: bold\">(</span>`recsys`.`recsysweb_interaction`, CONSTRAINT \n",
       "`recsysweb_interaction_item_id_818b6e1a_fk_recsysweb_item_id` FOREIGN KEY <span style=\"font-weight: bold\">(</span>`item_id`<span style=\"font-weight: bold\">)</span> \n",
       "REFERENCES `recsysweb_item` <span style=\"font-weight: bold\">(</span>`id`<span style=\"font-weight: bold\">))</span>\n",
       "</pre>\n"
      ],
      "text/plain": [
       "\u001b[1;36m1451\u001b[0m \u001b[1m(\u001b[0m\u001b[1;36m23000\u001b[0m\u001b[1m)\u001b[0m: Cannot delete or update a parent row: a foreign key constraint fails \n",
       "\u001b[1m(\u001b[0m`recsys`.`recsysweb_interaction`, CONSTRAINT \n",
       "`recsysweb_interaction_item_id_818b6e1a_fk_recsysweb_item_id` FOREIGN KEY \u001b[1m(\u001b[0m`item_id`\u001b[1m)\u001b[0m \n",
       "REFERENCES `recsysweb_item` \u001b[1m(\u001b[0m`id`\u001b[1m)\u001b[0m\u001b[1m)\u001b[0m\n"
      ]
     },
     "metadata": {},
     "output_type": "display_data"
    },
    {
     "data": {
      "text/html": [
       "<pre style=\"white-space:pre;overflow-x:auto;line-height:normal;font-family:Menlo,'DejaVu Sans Mono',consolas,'Courier New',monospace\">Query: DELETE FROM recsys.recsysweb_item\n",
       "</pre>\n"
      ],
      "text/plain": [
       "Query: DELETE FROM recsys.recsysweb_item\n"
      ]
     },
     "metadata": {},
     "output_type": "display_data"
    }
   ],
   "source": [
    "execute(connection, 'ALTER TABLE recsys.recsysweb_item MODIFY id int(11) NOT NULL')\n",
    "execute(connection, 'DELETE FROM recsys.recsysweb_item')"
   ]
  },
  {
   "cell_type": "code",
   "execution_count": 18,
   "id": "1e0bcc3d-e347-4bf5-accf-bf9ab261b1e9",
   "metadata": {},
   "outputs": [
    {
     "ename": "NameError",
     "evalue": "name 'movies' is not defined",
     "output_type": "error",
     "traceback": [
      "\u001b[0;31m---------------------------------------------------------------------------\u001b[0m",
      "\u001b[0;31mNameError\u001b[0m                                 Traceback (most recent call last)",
      "Input \u001b[0;32mIn [18]\u001b[0m, in \u001b[0;36m<cell line: 1>\u001b[0;34m()\u001b[0m\n\u001b[0;32m----> 1\u001b[0m \u001b[38;5;28;01mfor\u001b[39;00m _, row \u001b[38;5;129;01min\u001b[39;00m \u001b[43mmovies\u001b[49m\u001b[38;5;241m.\u001b[39miterrows():\n\u001b[1;32m      2\u001b[0m     insert_item(connection, row)\n",
      "\u001b[0;31mNameError\u001b[0m: name 'movies' is not defined"
     ]
    }
   ],
   "source": [
    "for _, row in movies.iterrows():\n",
    "    insert_item(connection, row)    "
   ]
  },
  {
   "cell_type": "code",
   "execution_count": null,
   "id": "ffbe6e93-4e56-401d-a7f5-a59be3000189",
   "metadata": {},
   "outputs": [],
   "source": [
    "execute(connection, 'DELETE FROM recsys.recsysweb_interaction')"
   ]
  },
  {
   "cell_type": "code",
   "execution_count": null,
   "id": "ad29a4f8-9a68-44c7-96e0-402890b27c72",
   "metadata": {},
   "outputs": [],
   "source": [
    "for _, row in interactions.iterrows():\n",
    "    insert_interaction(connection, row)"
   ]
  },
  {
   "cell_type": "code",
   "execution_count": null,
   "id": "dac78301-39d2-48c4-bbde-f53a50a59eaa",
   "metadata": {},
   "outputs": [],
   "source": [
    "connection.close()"
   ]
  },
  {
   "cell_type": "code",
   "execution_count": null,
   "id": "061c30b6-1d94-454c-8584-2a11e56bf439",
   "metadata": {},
   "outputs": [],
   "source": [
    "interactions.user_id.max()"
   ]
  }
 ],
 "metadata": {
  "kernelspec": {
   "display_name": "Python 3 (ipykernel)",
   "language": "python",
   "name": "python3"
  },
  "language_info": {
   "codemirror_mode": {
    "name": "ipython",
    "version": 3
   },
   "file_extension": ".py",
   "mimetype": "text/x-python",
   "name": "python",
   "nbconvert_exporter": "python",
   "pygments_lexer": "ipython3",
   "version": "3.10.6"
  },
  "widgets": {
   "application/vnd.jupyter.widget-state+json": {
    "state": {},
    "version_major": 2,
    "version_minor": 0
   }
  }
 },
 "nbformat": 4,
 "nbformat_minor": 5
}
