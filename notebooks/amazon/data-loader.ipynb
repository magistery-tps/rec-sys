{
 "cells": [
  {
   "cell_type": "code",
   "execution_count": 1,
   "id": "94f881df-4e34-4baa-bb19-bd38a2542192",
   "metadata": {},
   "outputs": [],
   "source": [
    "%load_ext autoreload\n",
    "%autoreload 2"
   ]
  },
  {
   "cell_type": "code",
   "execution_count": 2,
   "id": "f8259342-bd48-49ce-a235-d7febaeabe33",
   "metadata": {},
   "outputs": [],
   "source": [
    "import sys\n",
    "sys.path.append('../../src')"
   ]
  },
  {
   "cell_type": "code",
   "execution_count": 3,
   "id": "72fe1c26-d376-424b-9fce-17b67596e8ed",
   "metadata": {},
   "outputs": [],
   "source": [
    "import numpy as np\n",
    "import pandas as pd\n",
    "import mysql.connector\n",
    "import logging"
   ]
  },
  {
   "cell_type": "code",
   "execution_count": 4,
   "id": "79655577-629a-4f96-83ae-dd88a019cad5",
   "metadata": {},
   "outputs": [],
   "source": [
    "DATASET_PATH = '../../datasets/amazon-sneakers'"
   ]
  },
  {
   "cell_type": "code",
   "execution_count": 5,
   "id": "28344fce-605c-4a36-968c-4b2d1dc6cb38",
   "metadata": {},
   "outputs": [],
   "source": [
    "items      = pd.read_json(f'{DATASET_PATH}/items.json')\n",
    "interactions = pd.read_json(f'{DATASET_PATH}/interactions.json')"
   ]
  },
  {
   "cell_type": "code",
   "execution_count": 6,
   "id": "a48ccfae-c316-43b7-b822-7734af43b4f4",
   "metadata": {},
   "outputs": [
    {
     "data": {
      "text/html": [
       "<div>\n",
       "<style scoped>\n",
       "    .dataframe tbody tr th:only-of-type {\n",
       "        vertical-align: middle;\n",
       "    }\n",
       "\n",
       "    .dataframe tbody tr th {\n",
       "        vertical-align: top;\n",
       "    }\n",
       "\n",
       "    .dataframe thead th {\n",
       "        text-align: right;\n",
       "    }\n",
       "</style>\n",
       "<table border=\"1\" class=\"dataframe\">\n",
       "  <thead>\n",
       "    <tr style=\"text-align: right;\">\n",
       "      <th></th>\n",
       "      <th>id</th>\n",
       "      <th>title</th>\n",
       "      <th>description</th>\n",
       "      <th>variant</th>\n",
       "      <th>url</th>\n",
       "      <th>rating</th>\n",
       "      <th>reviews</th>\n",
       "      <th>price</th>\n",
       "    </tr>\n",
       "  </thead>\n",
       "  <tbody>\n",
       "    <tr>\n",
       "      <th>0</th>\n",
       "      <td>B0B8V49Z1V</td>\n",
       "      <td>FLYFUPPY Women's Slip-on Canvas Comfort Fashio...</td>\n",
       "      <td>None</td>\n",
       "      <td>False</td>\n",
       "      <td>https://m.media-amazon.com/images/I/81FUVhjkB1...</td>\n",
       "      <td>4.6</td>\n",
       "      <td>16</td>\n",
       "      <td>0.0</td>\n",
       "    </tr>\n",
       "    <tr>\n",
       "      <th>1</th>\n",
       "      <td>B08TRDBGQF</td>\n",
       "      <td>Nike Women's Low-Top Sneakers</td>\n",
       "      <td>These shoes provide the user with great comfor...</td>\n",
       "      <td>False</td>\n",
       "      <td>https://m.media-amazon.com/images/I/61DOlkBbfJ...</td>\n",
       "      <td>2.7</td>\n",
       "      <td>7</td>\n",
       "      <td>31.0</td>\n",
       "    </tr>\n",
       "    <tr>\n",
       "      <th>2</th>\n",
       "      <td>B06XVY23RT</td>\n",
       "      <td>Reebok Women's Club C Sneaker</td>\n",
       "      <td>None</td>\n",
       "      <td>False</td>\n",
       "      <td>https://m.media-amazon.com/images/I/81B-Vy65uk...</td>\n",
       "      <td>4.6</td>\n",
       "      <td>16053</td>\n",
       "      <td>13.075</td>\n",
       "    </tr>\n",
       "    <tr>\n",
       "      <th>3</th>\n",
       "      <td>B0785RGRWX</td>\n",
       "      <td>Reebok Men's Classic Harman Run Sneaker</td>\n",
       "      <td>None</td>\n",
       "      <td>False</td>\n",
       "      <td>https://m.media-amazon.com/images/I/71FaYc6pSM...</td>\n",
       "      <td>4.6</td>\n",
       "      <td>6501</td>\n",
       "      <td>10.465</td>\n",
       "    </tr>\n",
       "    <tr>\n",
       "      <th>4</th>\n",
       "      <td>B0BDZV1LCS</td>\n",
       "      <td>Steve Madden Ganzo-R Sneaker</td>\n",
       "      <td>None</td>\n",
       "      <td>False</td>\n",
       "      <td>https://m.media-amazon.com/images/I/71C-5pfm1D...</td>\n",
       "      <td>5.0</td>\n",
       "      <td>1 rating</td>\n",
       "      <td>0.0</td>\n",
       "    </tr>\n",
       "  </tbody>\n",
       "</table>\n",
       "</div>"
      ]
     },
     "execution_count": 6,
     "metadata": {},
     "output_type": "execute_result"
    }
   ],
   "source": [
    "items.head(5)"
   ]
  },
  {
   "cell_type": "code",
   "execution_count": 7,
   "id": "1e720c17-0f1d-49e2-a226-db9a5bfb13ba",
   "metadata": {},
   "outputs": [],
   "source": [
    "items['description'] = items['description'] + ' (Price: ' + items['price'].astype(str) + ')'"
   ]
  },
  {
   "cell_type": "code",
   "execution_count": 8,
   "id": "cdad1f92-edbc-4567-aca3-2477919a8c3c",
   "metadata": {},
   "outputs": [
    {
     "data": {
      "text/html": [
       "<div>\n",
       "<style scoped>\n",
       "    .dataframe tbody tr th:only-of-type {\n",
       "        vertical-align: middle;\n",
       "    }\n",
       "\n",
       "    .dataframe tbody tr th {\n",
       "        vertical-align: top;\n",
       "    }\n",
       "\n",
       "    .dataframe thead th {\n",
       "        text-align: right;\n",
       "    }\n",
       "</style>\n",
       "<table border=\"1\" class=\"dataframe\">\n",
       "  <thead>\n",
       "    <tr style=\"text-align: right;\">\n",
       "      <th></th>\n",
       "      <th>item_id</th>\n",
       "      <th>id</th>\n",
       "      <th>title</th>\n",
       "      <th>description</th>\n",
       "    </tr>\n",
       "  </thead>\n",
       "  <tbody>\n",
       "    <tr>\n",
       "      <th>0</th>\n",
       "      <td>1</td>\n",
       "      <td>B0B8V49Z1V</td>\n",
       "      <td>FLYFUPPY Women's Slip-on Canvas Comfort Fashio...</td>\n",
       "      <td>NaN</td>\n",
       "    </tr>\n",
       "    <tr>\n",
       "      <th>1</th>\n",
       "      <td>2</td>\n",
       "      <td>B08TRDBGQF</td>\n",
       "      <td>Nike Women's Low-Top Sneakers</td>\n",
       "      <td>These shoes provide the user with great comfor...</td>\n",
       "    </tr>\n",
       "    <tr>\n",
       "      <th>2</th>\n",
       "      <td>3</td>\n",
       "      <td>B06XVY23RT</td>\n",
       "      <td>Reebok Women's Club C Sneaker</td>\n",
       "      <td>NaN</td>\n",
       "    </tr>\n",
       "    <tr>\n",
       "      <th>3</th>\n",
       "      <td>4</td>\n",
       "      <td>B0785RGRWX</td>\n",
       "      <td>Reebok Men's Classic Harman Run Sneaker</td>\n",
       "      <td>NaN</td>\n",
       "    </tr>\n",
       "    <tr>\n",
       "      <th>4</th>\n",
       "      <td>5</td>\n",
       "      <td>B0BDZV1LCS</td>\n",
       "      <td>Steve Madden Ganzo-R Sneaker</td>\n",
       "      <td>NaN</td>\n",
       "    </tr>\n",
       "  </tbody>\n",
       "</table>\n",
       "</div>"
      ]
     },
     "execution_count": 8,
     "metadata": {},
     "output_type": "execute_result"
    }
   ],
   "source": [
    "items['item_id'] = pd.factorize(items['id'])[0] +1\n",
    "items = items[['item_id', 'id', 'title', 'description']]\n",
    "items.head(5)"
   ]
  },
  {
   "cell_type": "code",
   "execution_count": 9,
   "id": "318fe528-6259-4135-8972-c90d06e73d10",
   "metadata": {},
   "outputs": [],
   "source": [
    "interactions['user_id'] = pd.factorize(interactions['username'])[0] + 1"
   ]
  },
  {
   "cell_type": "code",
   "execution_count": 10,
   "id": "01c808f2-6229-4a83-9fbd-f1a8c870c269",
   "metadata": {},
   "outputs": [
    {
     "data": {
      "text/html": [
       "<div>\n",
       "<style scoped>\n",
       "    .dataframe tbody tr th:only-of-type {\n",
       "        vertical-align: middle;\n",
       "    }\n",
       "\n",
       "    .dataframe tbody tr th {\n",
       "        vertical-align: top;\n",
       "    }\n",
       "\n",
       "    .dataframe thead th {\n",
       "        text-align: right;\n",
       "    }\n",
       "</style>\n",
       "<table border=\"1\" class=\"dataframe\">\n",
       "  <thead>\n",
       "    <tr style=\"text-align: right;\">\n",
       "      <th></th>\n",
       "      <th>username</th>\n",
       "      <th>item_id</th>\n",
       "      <th>rating</th>\n",
       "      <th>message</th>\n",
       "      <th>user_id</th>\n",
       "    </tr>\n",
       "  </thead>\n",
       "  <tbody>\n",
       "    <tr>\n",
       "      <th>0</th>\n",
       "      <td>B.Garcia87</td>\n",
       "      <td>B08FQYQYPM</td>\n",
       "      <td>4.0</td>\n",
       "      <td>I bought this as a cheap shoe for work. I work...</td>\n",
       "      <td>1</td>\n",
       "    </tr>\n",
       "    <tr>\n",
       "      <th>1</th>\n",
       "      <td>hannamand</td>\n",
       "      <td>B08FQYQYPM</td>\n",
       "      <td>5.0</td>\n",
       "      <td>I bought both the Blue and Black versions of t...</td>\n",
       "      <td>2</td>\n",
       "    </tr>\n",
       "    <tr>\n",
       "      <th>2</th>\n",
       "      <td>lisam72</td>\n",
       "      <td>B08FQYQYPM</td>\n",
       "      <td>4.0</td>\n",
       "      <td>They weren't quite what I thought they would b...</td>\n",
       "      <td>3</td>\n",
       "    </tr>\n",
       "    <tr>\n",
       "      <th>3</th>\n",
       "      <td>Leo Trotter</td>\n",
       "      <td>B08FQYQYPM</td>\n",
       "      <td>4.0</td>\n",
       "      <td>Product was exactly as described. Great runnin...</td>\n",
       "      <td>4</td>\n",
       "    </tr>\n",
       "    <tr>\n",
       "      <th>4</th>\n",
       "      <td>Scott l</td>\n",
       "      <td>B08FQYQYPM</td>\n",
       "      <td>4.0</td>\n",
       "      <td>They work</td>\n",
       "      <td>5</td>\n",
       "    </tr>\n",
       "  </tbody>\n",
       "</table>\n",
       "</div>"
      ]
     },
     "execution_count": 10,
     "metadata": {},
     "output_type": "execute_result"
    }
   ],
   "source": [
    "interactions.head()"
   ]
  },
  {
   "cell_type": "code",
   "execution_count": 11,
   "id": "ae9150da-b591-48e8-9ca8-ac4b7d61cef3",
   "metadata": {},
   "outputs": [],
   "source": [
    "interactions = interactions.merge(items, left_on='item_id', right_on='id')[['item_id_y', 'rating', 'user_id']]\n",
    "interactions = interactions.rename(columns={'item_id_y': 'item_id'})"
   ]
  },
  {
   "cell_type": "code",
   "execution_count": 12,
   "id": "16b28e83-e56b-49b3-be42-fa0515586f0f",
   "metadata": {},
   "outputs": [],
   "source": [
    "items = items[['item_id', 'title', 'description']]"
   ]
  },
  {
   "cell_type": "code",
   "execution_count": 13,
   "id": "12b0a606-c591-4cf2-b85c-85d27f81a40d",
   "metadata": {},
   "outputs": [
    {
     "data": {
      "text/html": [
       "<div>\n",
       "<style scoped>\n",
       "    .dataframe tbody tr th:only-of-type {\n",
       "        vertical-align: middle;\n",
       "    }\n",
       "\n",
       "    .dataframe tbody tr th {\n",
       "        vertical-align: top;\n",
       "    }\n",
       "\n",
       "    .dataframe thead th {\n",
       "        text-align: right;\n",
       "    }\n",
       "</style>\n",
       "<table border=\"1\" class=\"dataframe\">\n",
       "  <thead>\n",
       "    <tr style=\"text-align: right;\">\n",
       "      <th></th>\n",
       "      <th>item_id</th>\n",
       "      <th>title</th>\n",
       "      <th>description</th>\n",
       "    </tr>\n",
       "  </thead>\n",
       "  <tbody>\n",
       "    <tr>\n",
       "      <th>0</th>\n",
       "      <td>1</td>\n",
       "      <td>FLYFUPPY Women's Slip-on Canvas Comfort Fashio...</td>\n",
       "      <td>NaN</td>\n",
       "    </tr>\n",
       "    <tr>\n",
       "      <th>1</th>\n",
       "      <td>2</td>\n",
       "      <td>Nike Women's Low-Top Sneakers</td>\n",
       "      <td>These shoes provide the user with great comfor...</td>\n",
       "    </tr>\n",
       "    <tr>\n",
       "      <th>2</th>\n",
       "      <td>3</td>\n",
       "      <td>Reebok Women's Club C Sneaker</td>\n",
       "      <td>NaN</td>\n",
       "    </tr>\n",
       "    <tr>\n",
       "      <th>3</th>\n",
       "      <td>4</td>\n",
       "      <td>Reebok Men's Classic Harman Run Sneaker</td>\n",
       "      <td>NaN</td>\n",
       "    </tr>\n",
       "    <tr>\n",
       "      <th>4</th>\n",
       "      <td>5</td>\n",
       "      <td>Steve Madden Ganzo-R Sneaker</td>\n",
       "      <td>NaN</td>\n",
       "    </tr>\n",
       "    <tr>\n",
       "      <th>...</th>\n",
       "      <td>...</td>\n",
       "      <td>...</td>\n",
       "      <td>...</td>\n",
       "    </tr>\n",
       "    <tr>\n",
       "      <th>1780</th>\n",
       "      <td>45</td>\n",
       "      <td>New Balance Women's 237 V1 Classic Sneaker</td>\n",
       "      <td>The running shoes of the 1970s might best be d...</td>\n",
       "    </tr>\n",
       "    <tr>\n",
       "      <th>1781</th>\n",
       "      <td>18</td>\n",
       "      <td>Niluber Women's Chunky Platform Dad Lace-Up Ca...</td>\n",
       "      <td>Product Attributes Product Volume：‎ 11.52 x 9....</td>\n",
       "    </tr>\n",
       "    <tr>\n",
       "      <th>1782</th>\n",
       "      <td>390</td>\n",
       "      <td>GOOBON Air Shoes for Women Tennis Sports Athle...</td>\n",
       "      <td>NaN</td>\n",
       "    </tr>\n",
       "    <tr>\n",
       "      <th>1783</th>\n",
       "      <td>103</td>\n",
       "      <td>Women's Walking Shoes Sock Sneakers Slip on Me...</td>\n",
       "      <td>NaN</td>\n",
       "    </tr>\n",
       "    <tr>\n",
       "      <th>1784</th>\n",
       "      <td>29</td>\n",
       "      <td>Roxy Women's Bayshore Slip on Sneaker Shoe</td>\n",
       "      <td>Textile upper with printed heel and lace up de...</td>\n",
       "    </tr>\n",
       "  </tbody>\n",
       "</table>\n",
       "<p>1785 rows × 3 columns</p>\n",
       "</div>"
      ]
     },
     "execution_count": 13,
     "metadata": {},
     "output_type": "execute_result"
    }
   ],
   "source": [
    "items"
   ]
  },
  {
   "cell_type": "code",
   "execution_count": 14,
   "id": "4ad392a8-de38-4c7b-9a85-bc0187ab54e7",
   "metadata": {},
   "outputs": [
    {
     "data": {
      "text/html": [
       "<div>\n",
       "<style scoped>\n",
       "    .dataframe tbody tr th:only-of-type {\n",
       "        vertical-align: middle;\n",
       "    }\n",
       "\n",
       "    .dataframe tbody tr th {\n",
       "        vertical-align: top;\n",
       "    }\n",
       "\n",
       "    .dataframe thead th {\n",
       "        text-align: right;\n",
       "    }\n",
       "</style>\n",
       "<table border=\"1\" class=\"dataframe\">\n",
       "  <thead>\n",
       "    <tr style=\"text-align: right;\">\n",
       "      <th></th>\n",
       "      <th>item_id</th>\n",
       "      <th>rating</th>\n",
       "      <th>user_id</th>\n",
       "    </tr>\n",
       "  </thead>\n",
       "  <tbody>\n",
       "    <tr>\n",
       "      <th>0</th>\n",
       "      <td>168</td>\n",
       "      <td>4.0</td>\n",
       "      <td>1</td>\n",
       "    </tr>\n",
       "    <tr>\n",
       "      <th>1</th>\n",
       "      <td>168</td>\n",
       "      <td>5.0</td>\n",
       "      <td>2</td>\n",
       "    </tr>\n",
       "    <tr>\n",
       "      <th>2</th>\n",
       "      <td>168</td>\n",
       "      <td>4.0</td>\n",
       "      <td>3</td>\n",
       "    </tr>\n",
       "    <tr>\n",
       "      <th>3</th>\n",
       "      <td>168</td>\n",
       "      <td>4.0</td>\n",
       "      <td>4</td>\n",
       "    </tr>\n",
       "    <tr>\n",
       "      <th>4</th>\n",
       "      <td>168</td>\n",
       "      <td>4.0</td>\n",
       "      <td>5</td>\n",
       "    </tr>\n",
       "    <tr>\n",
       "      <th>...</th>\n",
       "      <td>...</td>\n",
       "      <td>...</td>\n",
       "      <td>...</td>\n",
       "    </tr>\n",
       "    <tr>\n",
       "      <th>162789</th>\n",
       "      <td>236</td>\n",
       "      <td>3.0</td>\n",
       "      <td>4196</td>\n",
       "    </tr>\n",
       "    <tr>\n",
       "      <th>162790</th>\n",
       "      <td>236</td>\n",
       "      <td>5.0</td>\n",
       "      <td>4197</td>\n",
       "    </tr>\n",
       "    <tr>\n",
       "      <th>162791</th>\n",
       "      <td>236</td>\n",
       "      <td>5.0</td>\n",
       "      <td>4198</td>\n",
       "    </tr>\n",
       "    <tr>\n",
       "      <th>162792</th>\n",
       "      <td>236</td>\n",
       "      <td>5.0</td>\n",
       "      <td>4199</td>\n",
       "    </tr>\n",
       "    <tr>\n",
       "      <th>162793</th>\n",
       "      <td>236</td>\n",
       "      <td>5.0</td>\n",
       "      <td>4200</td>\n",
       "    </tr>\n",
       "  </tbody>\n",
       "</table>\n",
       "<p>162794 rows × 3 columns</p>\n",
       "</div>"
      ]
     },
     "execution_count": 14,
     "metadata": {},
     "output_type": "execute_result"
    }
   ],
   "source": [
    "interactions"
   ]
  },
  {
   "cell_type": "code",
   "execution_count": 15,
   "id": "0bc1be78-69dc-46d3-b074-6a74e4c96827",
   "metadata": {},
   "outputs": [],
   "source": [
    "connection = mysql.connector.connect(\n",
    "  host     = \"localhost\",\n",
    "  user     = \"root\",\n",
    "  password = \"1234\"\n",
    ")"
   ]
  },
  {
   "cell_type": "code",
   "execution_count": 16,
   "id": "517b6073-0504-4e22-98e8-9d5ff35d5ec7",
   "metadata": {},
   "outputs": [],
   "source": [
    "def execute(connection, query):\n",
    "    try:\n",
    "        cursor = connection.cursor()\n",
    "        cursor.execute(query)\n",
    "        connection.commit()\n",
    "    except Exception as error:\n",
    "        print(error)\n",
    "        print(f'Query: {query}')\n",
    "\n",
    "\n",
    "def insert_item(connection, row):\n",
    "    query = \"\"\"\n",
    "        INSERT INTO \n",
    "            recsys.recsysweb_item(id, name, description, image)\n",
    "        VALUES (\n",
    "            :ID,\n",
    "            \":NAME\",\n",
    "            \":DESC\",\n",
    "            \":IMAGE\"\n",
    "        );    \n",
    "        \"\"\".replace(':ID', str(row['id'])) \\\n",
    "            .replace(':NAME', str(row['name'])) \\\n",
    "            .replace(':DESC', str(row['description']).replace('\"', '')) \\\n",
    "            .replace(':IMAGE', str(row['image']))\n",
    "    execute(connection, query)\n",
    "        \n",
    "def insert_interaction(connection, row):\n",
    "    query = \"\"\"\n",
    "        INSERT INTO \n",
    "            recsys.recsysweb_interaction(item_id, user_id, rating)\n",
    "        VALUES (\n",
    "            \":ITEM_ID\",\n",
    "            \":USER_ID\",\n",
    "            \":RATING\"\n",
    "        );    \n",
    "        \"\"\".replace(':ITEM_ID', str(int(row['item_id']))) \\\n",
    "            .replace(':USER_ID', str(int(row['user_id']))) \\\n",
    "            .replace(':RATING', str(row['rating']))\n",
    "    execute(connection, query)"
   ]
  },
  {
   "cell_type": "code",
   "execution_count": 17,
   "id": "e93b2dea-2635-4fd1-a957-aa6c5d06eb42",
   "metadata": {},
   "outputs": [
    {
     "data": {
      "text/html": [
       "<pre style=\"white-space:pre;overflow-x:auto;line-height:normal;font-family:Menlo,'DejaVu Sans Mono',consolas,'Courier New',monospace\"><span style=\"color: #008080; text-decoration-color: #008080; font-weight: bold\">1451</span> <span style=\"font-weight: bold\">(</span><span style=\"color: #008080; text-decoration-color: #008080; font-weight: bold\">23000</span><span style=\"font-weight: bold\">)</span>: Cannot delete or update a parent row: a foreign key constraint fails \n",
       "<span style=\"font-weight: bold\">(</span>`recsys`.`recsysweb_interaction`, CONSTRAINT \n",
       "`recsysweb_interaction_item_id_818b6e1a_fk_recsysweb_item_id` FOREIGN KEY <span style=\"font-weight: bold\">(</span>`item_id`<span style=\"font-weight: bold\">)</span> \n",
       "REFERENCES `recsysweb_item` <span style=\"font-weight: bold\">(</span>`id`<span style=\"font-weight: bold\">))</span>\n",
       "</pre>\n"
      ],
      "text/plain": [
       "\u001b[1;36m1451\u001b[0m \u001b[1m(\u001b[0m\u001b[1;36m23000\u001b[0m\u001b[1m)\u001b[0m: Cannot delete or update a parent row: a foreign key constraint fails \n",
       "\u001b[1m(\u001b[0m`recsys`.`recsysweb_interaction`, CONSTRAINT \n",
       "`recsysweb_interaction_item_id_818b6e1a_fk_recsysweb_item_id` FOREIGN KEY \u001b[1m(\u001b[0m`item_id`\u001b[1m)\u001b[0m \n",
       "REFERENCES `recsysweb_item` \u001b[1m(\u001b[0m`id`\u001b[1m)\u001b[0m\u001b[1m)\u001b[0m\n"
      ]
     },
     "metadata": {},
     "output_type": "display_data"
    },
    {
     "data": {
      "text/html": [
       "<pre style=\"white-space:pre;overflow-x:auto;line-height:normal;font-family:Menlo,'DejaVu Sans Mono',consolas,'Courier New',monospace\">Query: DELETE FROM recsys.recsysweb_item\n",
       "</pre>\n"
      ],
      "text/plain": [
       "Query: DELETE FROM recsys.recsysweb_item\n"
      ]
     },
     "metadata": {},
     "output_type": "display_data"
    }
   ],
   "source": [
    "execute(connection, 'ALTER TABLE recsys.recsysweb_item MODIFY id int(11) NOT NULL')\n",
    "execute(connection, 'DELETE FROM recsys.recsysweb_item')"
   ]
  },
  {
   "cell_type": "code",
   "execution_count": 18,
   "id": "1e0bcc3d-e347-4bf5-accf-bf9ab261b1e9",
   "metadata": {},
   "outputs": [
    {
     "ename": "NameError",
     "evalue": "name 'movies' is not defined",
     "output_type": "error",
     "traceback": [
      "\u001b[0;31m---------------------------------------------------------------------------\u001b[0m",
      "\u001b[0;31mNameError\u001b[0m                                 Traceback (most recent call last)",
      "Input \u001b[0;32mIn [18]\u001b[0m, in \u001b[0;36m<cell line: 1>\u001b[0;34m()\u001b[0m\n\u001b[0;32m----> 1\u001b[0m \u001b[38;5;28;01mfor\u001b[39;00m _, row \u001b[38;5;129;01min\u001b[39;00m \u001b[43mmovies\u001b[49m\u001b[38;5;241m.\u001b[39miterrows():\n\u001b[1;32m      2\u001b[0m     insert_item(connection, row)\n",
      "\u001b[0;31mNameError\u001b[0m: name 'movies' is not defined"
     ]
    }
   ],
   "source": [
    "for _, row in movies.iterrows():\n",
    "    insert_item(connection, row)    "
   ]
  },
  {
   "cell_type": "code",
   "execution_count": null,
   "id": "ffbe6e93-4e56-401d-a7f5-a59be3000189",
   "metadata": {},
   "outputs": [],
   "source": [
    "execute(connection, 'DELETE FROM recsys.recsysweb_interaction')"
   ]
  },
  {
   "cell_type": "code",
   "execution_count": null,
   "id": "ad29a4f8-9a68-44c7-96e0-402890b27c72",
   "metadata": {},
   "outputs": [],
   "source": [
    "for _, row in interactions.iterrows():\n",
    "    insert_interaction(connection, row)"
   ]
  },
  {
   "cell_type": "code",
   "execution_count": null,
   "id": "dac78301-39d2-48c4-bbde-f53a50a59eaa",
   "metadata": {},
   "outputs": [],
   "source": [
    "connection.close()"
   ]
  },
  {
   "cell_type": "code",
   "execution_count": null,
   "id": "061c30b6-1d94-454c-8584-2a11e56bf439",
   "metadata": {},
   "outputs": [],
   "source": [
    "interactions.user_id.max()"
   ]
  }
 ],
 "metadata": {
  "kernelspec": {
   "display_name": "Python 3 (ipykernel)",
   "language": "python",
   "name": "python3"
  },
  "language_info": {
   "codemirror_mode": {
    "name": "ipython",
    "version": 3
   },
   "file_extension": ".py",
   "mimetype": "text/x-python",
   "name": "python",
   "nbconvert_exporter": "python",
   "pygments_lexer": "ipython3",
   "version": "3.10.6"
  }
 },
 "nbformat": 4,
 "nbformat_minor": 5
}
