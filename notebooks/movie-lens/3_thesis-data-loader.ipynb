{
 "cells": [
  {
   "cell_type": "markdown",
   "id": "2f7b374c-b72c-43d6-b294-887bd7372350",
   "metadata": {},
   "source": [
    "# MovieLens: Carga en base de datos"
   ]
  },
  {
   "cell_type": "code",
   "execution_count": 1,
   "id": "94f881df-4e34-4baa-bb19-bd38a2542192",
   "metadata": {},
   "outputs": [],
   "source": [
    "%load_ext autoreload\n",
    "%autoreload 2"
   ]
  },
  {
   "cell_type": "code",
   "execution_count": 2,
   "id": "f8259342-bd48-49ce-a235-d7febaeabe33",
   "metadata": {},
   "outputs": [],
   "source": [
    "import sys\n",
    "sys.path.append('../../src')"
   ]
  },
  {
   "cell_type": "code",
   "execution_count": 4,
   "id": "72fe1c26-d376-424b-9fce-17b67596e8ed",
   "metadata": {},
   "outputs": [],
   "source": [
    "import os\n",
    "import numpy as np\n",
    "import pandas as pd\n",
    "import mysql.connector\n",
    "import logging\n",
    "from tmdb_api import TMDbApi\n",
    "from logger import LoggerBuilder\n",
    "\n",
    "from parallel_pandas import ParallelPandas"
   ]
  },
  {
   "cell_type": "markdown",
   "id": "48c29740-9f98-48f5-b67a-a435f75ec15f",
   "metadata": {},
   "source": [
    "## Setup"
   ]
  },
  {
   "cell_type": "code",
   "execution_count": 5,
   "id": "79655577-629a-4f96-83ae-dd88a019cad5",
   "metadata": {},
   "outputs": [],
   "source": [
    "DATASET_PATH = '../../datasets'\n",
    "MM_PATH      = f'{DATASET_PATH}/movielens-movies.json'"
   ]
  },
  {
   "cell_type": "code",
   "execution_count": 6,
   "id": "8ea29914-e468-4f5a-be83-4f82df4972cb",
   "metadata": {
    "tags": []
   },
   "outputs": [],
   "source": [
    "LoggerBuilder.build()"
   ]
  },
  {
   "cell_type": "code",
   "execution_count": 7,
   "id": "fdacb9f7-f054-413c-9704-d93e4c087d67",
   "metadata": {
    "tags": []
   },
   "outputs": [],
   "source": [
    "ParallelPandas.initialize(n_cpu=24, split_factor=4)"
   ]
  },
  {
   "cell_type": "markdown",
   "id": "ae80fc26-f664-4148-96bd-2ff8dfc51af2",
   "metadata": {},
   "source": [
    "## Funciones"
   ]
  },
  {
   "cell_type": "code",
   "execution_count": 41,
   "id": "2dd107eb-cef4-4b80-afb5-15dbf6dc6d4a",
   "metadata": {
    "tags": []
   },
   "outputs": [],
   "source": [
    "def execute(connection, query):\n",
    "    try:\n",
    "        cursor = connection.cursor()\n",
    "        cursor.execute(query)\n",
    "        connection.commit()\n",
    "    except Exception as error:\n",
    "        print(error)\n",
    "        print(f'Query: {query}')\n",
    "\n",
    "\n",
    "def insert_item(connection, row):\n",
    "    query = \"\"\"\n",
    "        INSERT INTO \n",
    "            recsys.recsysweb_item(id, title, overview, image)\n",
    "        VALUES (\n",
    "            :ID,\n",
    "            \":NAME\",\n",
    "            \":DESC\",\n",
    "            \":IMAGE\"\n",
    "        );    \n",
    "        \"\"\".replace(':ID', str(row['id'])) \\\n",
    "            .replace(':NAME', str(row['title'])) \\\n",
    "            .replace(':DESC', str(row['overview']).replace('\"', '')) \\\n",
    "            .replace(':IMAGE', str(row['image']))\n",
    "    execute(connection, query)\n",
    "        \n",
    "def insert_interaction(connection, row):\n",
    "    query = \"\"\"\n",
    "        INSERT INTO \n",
    "            recsys.recsysweb_interaction(movie_id, user_id, rating)\n",
    "        VALUES (\n",
    "            \":ITEM_ID\",\n",
    "            \":USER_ID\",\n",
    "            \":RATING\"\n",
    "        );    \n",
    "        \"\"\".replace(':ITEM_ID', str(int(row['movie_id']))) \\\n",
    "            .replace(':USER_ID', str(int(row['user_id']))) \\\n",
    "            .replace(':RATING', str(row['rating']))\n",
    "    execute(connection, query)\n",
    "    \n",
    "    \n",
    "def preprocess_movie_metadata(df):\n",
    "    # To numeric id...\n",
    "    df['imdb_id'] = df['imdb_id'].apply(lambda x: x.replace('tt', '') if type(x) == str else x)\n",
    "    \n",
    "    # Filter not null...\n",
    "    df = df[~df['imdb_id'].isnull()]\n",
    "    \n",
    "    # Filter inconsistents movie ids..\n",
    "    df = df[~df['id'].str.contains('-')]\n",
    "    \n",
    "    # Filter not null...\n",
    "    df = df[~df['id'].isnull()]\n",
    "    \n",
    "    # Make numeric columns...\n",
    "    df['id']      = df['id'].astype(dtype='int64')\n",
    "    df['imdb_id'] = df['imdb_id'].astype(dtype='int64')\n",
    "\n",
    "    # Renameing...\n",
    "    return df[['id', 'imdb_id']].rename(columns={'id': 'tmdb_id'})"
   ]
  },
  {
   "cell_type": "markdown",
   "id": "74b0fe87-bd7e-4ddd-98f8-568c4f7a1578",
   "metadata": {
    "tags": []
   },
   "source": [
    "## Procedimiento"
   ]
  },
  {
   "cell_type": "markdown",
   "id": "9cf62252-c319-4127-a51e-948b1473cf7e",
   "metadata": {},
   "source": [
    "**Step 1**: Cargamos los datasets."
   ]
  },
  {
   "cell_type": "code",
   "execution_count": 9,
   "id": "28344fce-605c-4a36-968c-4b2d1dc6cb38",
   "metadata": {},
   "outputs": [],
   "source": [
    "movies          = pd.read_json(f'{DATASET_PATH}/movies.json')\n",
    "interactions    = pd.read_json(f'{DATASET_PATH}/interactions.json')"
   ]
  },
  {
   "cell_type": "code",
   "execution_count": 11,
   "id": "ee3dd310-4f17-4c03-8b2c-fa9aa9b611ab",
   "metadata": {
    "tags": []
   },
   "outputs": [],
   "source": [
    "if os.path.exists(MM_PATH):\n",
    "    mm_df = pd.read_json(f'{DATASET_PATH}/movielens-movies.json')\n",
    "else:\n",
    "    mm_df = pd.read_csv(f'../../thesis-datasets/tmdb/movies_metadata.csv')\n",
    "\n",
    "    mm_df = preprocess_movie_metadata(mm_df)\n",
    "\n",
    "    mm_df = movies.merge(mm_df, on='imdb_id')\n",
    "    mm_df = mm_df[['id', 'imdb_id', 'tmdb_id', 'title', 'overview']]\n",
    "\n",
    "    api = TMDbApi()\n",
    "    mm_df['image'] = mm_df['tmdb_id'].p_apply(lambda movie_id: api.movie_by(movie_id).poster)\n",
    "\n",
    "    mm_df.to_json(MM_PATH)"
   ]
  },
  {
   "cell_type": "code",
   "execution_count": 35,
   "id": "e243a457-da93-4cc2-91ac-43012b00ca9c",
   "metadata": {
    "tags": []
   },
   "outputs": [
    {
     "name": "stdout",
     "output_type": "stream",
     "text": [
      "<class 'pandas.core.frame.DataFrame'>\n",
      "Int64Index: 33467 entries, 0 to 33466\n",
      "Data columns (total 6 columns):\n",
      " #   Column    Non-Null Count  Dtype \n",
      "---  ------    --------------  ----- \n",
      " 0   id        33467 non-null  int64 \n",
      " 1   imdb_id   33467 non-null  int64 \n",
      " 2   tmdb_id   33467 non-null  int64 \n",
      " 3   title     33467 non-null  object\n",
      " 4   overview  33467 non-null  object\n",
      " 5   image     33016 non-null  object\n",
      "dtypes: int64(3), object(3)\n",
      "memory usage: 1.8+ MB\n"
     ]
    }
   ],
   "source": [
    "mm_df.info()"
   ]
  },
  {
   "cell_type": "code",
   "execution_count": 36,
   "id": "71fd1f5a-4bb5-46a2-a13b-a93bc08be6e3",
   "metadata": {
    "tags": []
   },
   "outputs": [
    {
     "name": "stdout",
     "output_type": "stream",
     "text": [
      "<class 'pandas.core.frame.DataFrame'>\n",
      "Int64Index: 210725 entries, 0 to 210724\n",
      "Data columns (total 6 columns):\n",
      " #   Column     Non-Null Count   Dtype         \n",
      "---  ------     --------------   -----         \n",
      " 0   rating     210725 non-null  float64       \n",
      " 1   timestamp  210725 non-null  datetime64[ns]\n",
      " 2   user_id    210725 non-null  int64         \n",
      " 3   movie_id   210725 non-null  int64         \n",
      " 4   tags       210725 non-null  object        \n",
      " 5   year       210725 non-null  int64         \n",
      "dtypes: datetime64[ns](1), float64(1), int64(3), object(1)\n",
      "memory usage: 11.3+ MB\n"
     ]
    }
   ],
   "source": [
    "interactions.info()"
   ]
  },
  {
   "cell_type": "markdown",
   "id": "9f7e721c-7442-4033-8eae-06590e23bd5f",
   "metadata": {},
   "source": [
    "**Step 2**: Creamos una conexión a la base de datos."
   ]
  },
  {
   "cell_type": "code",
   "execution_count": 12,
   "id": "0bc1be78-69dc-46d3-b074-6a74e4c96827",
   "metadata": {},
   "outputs": [],
   "source": [
    "connection = mysql.connector.connect(\n",
    "  host     = \"localhost\",\n",
    "  user     = \"root\",\n",
    "  password = \"1234\"\n",
    ")"
   ]
  },
  {
   "cell_type": "markdown",
   "id": "4b0fd950-5d68-4c84-a574-2daa42d36e98",
   "metadata": {
    "tags": []
   },
   "source": [
    "**Step 3**: Borramos la tabla de items para cargar la nueva version de items desde el dataframe de items."
   ]
  },
  {
   "cell_type": "code",
   "execution_count": 28,
   "id": "ffbe6e93-4e56-401d-a7f5-a59be3000189",
   "metadata": {},
   "outputs": [],
   "source": [
    "execute(connection, 'DELETE FROM recsys.recsysweb_interaction')"
   ]
  },
  {
   "cell_type": "code",
   "execution_count": 29,
   "id": "1b9195b0-3dee-4851-9d7d-e7f673eedbc5",
   "metadata": {
    "tags": []
   },
   "outputs": [],
   "source": [
    "execute(connection, 'ALTER TABLE recsys.recsysweb_item MODIFY id int(11) NOT NULL')"
   ]
  },
  {
   "cell_type": "code",
   "execution_count": 30,
   "id": "e93b2dea-2635-4fd1-a957-aa6c5d06eb42",
   "metadata": {},
   "outputs": [],
   "source": [
    "execute(connection, 'DELETE FROM recsys.recsysweb_item')"
   ]
  },
  {
   "cell_type": "markdown",
   "id": "7864429e-e47e-4dbd-b956-95afb94aea45",
   "metadata": {},
   "source": [
    "**Step 4**: Se insertan los nuevos items en la tabla `recsys.recsysweb_item`."
   ]
  },
  {
   "cell_type": "code",
   "execution_count": null,
   "id": "1e0bcc3d-e347-4bf5-accf-bf9ab261b1e9",
   "metadata": {},
   "outputs": [],
   "source": [
    "for _, row in mm_df.iterrows(): insert_item(connection, row)"
   ]
  },
  {
   "cell_type": "markdown",
   "id": "14786649-93ae-41d5-88cc-4b2c09a18350",
   "metadata": {},
   "source": [
    "**Step 5**: Se realiza el mismo procedimiento con la tabla de interacciones (`recsys.recsysweb_interaction`). Se borra la tabla y se vuelve a insertar todas las interacciones."
   ]
  },
  {
   "cell_type": "code",
   "execution_count": null,
   "id": "ad29a4f8-9a68-44c7-96e0-402890b27c72",
   "metadata": {},
   "outputs": [],
   "source": [
    "for _, row in interactions.iterrows(): insert_interaction(connection, row)"
   ]
  },
  {
   "cell_type": "markdown",
   "id": "65aa8bf9-e486-452d-af7f-d8f7dddfc307",
   "metadata": {},
   "source": [
    "**Step 6**: Se cierra la conexión con la base de datos."
   ]
  },
  {
   "cell_type": "code",
   "execution_count": 43,
   "id": "dac78301-39d2-48c4-bbde-f53a50a59eaa",
   "metadata": {},
   "outputs": [],
   "source": [
    "connection.close()"
   ]
  },
  {
   "cell_type": "markdown",
   "id": "cb17b656-9555-4ab2-9342-d434b58ecb9e",
   "metadata": {
    "tags": []
   },
   "source": [
    "**Step 7**: Se consulta la cantidad de usuario en el dataset de interacciones. "
   ]
  },
  {
   "cell_type": "code",
   "execution_count": 44,
   "id": "061c30b6-1d94-454c-8584-2a11e56bf439",
   "metadata": {},
   "outputs": [
    {
     "data": {
      "text/plain": [
       "162534"
      ]
     },
     "execution_count": 44,
     "metadata": {},
     "output_type": "execute_result"
    }
   ],
   "source": [
    "interactions.user_id.max()"
   ]
  }
 ],
 "metadata": {
  "kernelspec": {
   "display_name": "Python 3 (ipykernel)",
   "language": "python",
   "name": "python3"
  },
  "language_info": {
   "codemirror_mode": {
    "name": "ipython",
    "version": 3
   },
   "file_extension": ".py",
   "mimetype": "text/x-python",
   "name": "python",
   "nbconvert_exporter": "python",
   "pygments_lexer": "ipython3",
   "version": "3.10.11"
  },
  "widgets": {
   "application/vnd.jupyter.widget-state+json": {
    "state": {},
    "version_major": 2,
    "version_minor": 0
   }
  }
 },
 "nbformat": 4,
 "nbformat_minor": 5
}
