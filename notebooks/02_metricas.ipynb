{
 "cells": [
  {
   "cell_type": "code",
   "execution_count": 1,
   "metadata": {
    "id": "KzwbnWio93YL"
   },
   "outputs": [],
   "source": [
    "import math"
   ]
  },
  {
   "cell_type": "code",
   "execution_count": 8,
   "metadata": {
    "id": "8hGRbuZt-VCM"
   },
   "outputs": [],
   "source": [
    "GT = [1, 2, 3, 4, 5, 6, 7, 8, 9, 10] # verdad\n",
    "\n",
    "R1 = [1, 2, 3, 4, 5, 6, 7, 8, 9, 10] # perfecta\n",
    "R2 = [1, 2, 3, 14, 5, 6, 7, 8, 9, 10] # error posicion 4\n",
    "R3 = [1, 2, 13, 4, 5, 6, 7, 8, 9, 10] # error posicion 3\n",
    "R4 = [1, 12, 3, 4, 5, 6, 7, 8, 9, 10] # error posicion 2\n",
    "R5 = [11, 2, 3, 4, 5, 6, 7, 8, 9, 10] # error posicion 1\n",
    "R6 = [11, 22, 33, 4, 5, 6, 7, 8, 9, 10]  # error posiciones 1, 2, 3"
   ]
  },
  {
   "cell_type": "markdown",
   "metadata": {
    "id": "K8URjuc-_lCB"
   },
   "source": [
    "# Precision@10"
   ]
  },
  {
   "cell_type": "code",
   "execution_count": 6,
   "metadata": {
    "id": "48GiTBKc94hU"
   },
   "outputs": [],
   "source": [
    "def precision_at(ground_truth, recommendation, n=10):\n",
    "    return len(set(ground_truth[:n-1]).intersection(recommendation[:len(ground_truth[:n-1])])) / len(ground_truth[:n-1])"
   ]
  },
  {
   "cell_type": "code",
   "execution_count": 7,
   "metadata": {
    "colab": {
     "base_uri": "https://localhost:8080/"
    },
    "id": "ZJ64H87Q-Pu2",
    "outputId": "d6b86f5d-d146-436f-ddd5-f7dd0cf955b3"
   },
   "outputs": [
    {
     "name": "stdout",
     "output_type": "stream",
     "text": [
      "1.0\n",
      "0.8888888888888888\n",
      "0.8888888888888888\n",
      "0.8888888888888888\n",
      "0.8888888888888888\n",
      "0.6666666666666666\n"
     ]
    }
   ],
   "source": [
    "print(precision_at(GT, R1))\n",
    "print(precision_at(GT, R2))\n",
    "print(precision_at(GT, R3))\n",
    "print(precision_at(GT, R4))\n",
    "print(precision_at(GT, R5))\n",
    "print(precision_at(GT, R6))"
   ]
  },
  {
   "cell_type": "markdown",
   "metadata": {
    "id": "JzNC7sNqW4Mm"
   },
   "source": [
    "# Mean Reciprocal Rank (MRR)"
   ]
  },
  {
   "cell_type": "code",
   "execution_count": 43,
   "metadata": {
    "id": "H0duft-EW5f2"
   },
   "outputs": [],
   "source": [
    "def mrr(ground_truth, recommendation):\n",
    "    return sum([1/(i+1) for i in range(len(recommendation)) if recommendation[i] in ground_truth]) / len(ground_truth)\n",
    "\n"
   ]
  },
  {
   "cell_type": "code",
   "execution_count": 44,
   "metadata": {
    "colab": {
     "base_uri": "https://localhost:8080/"
    },
    "id": "COGpl1Vvav9c",
    "outputId": "76917395-a2b8-4d3a-d794-1b98fd926224"
   },
   "outputs": [
    {
     "name": "stdout",
     "output_type": "stream",
     "text": [
      "0.2928968253968254\n",
      "0.26789682539682536\n",
      "0.25956349206349205\n",
      "0.24289682539682542\n",
      "0.1928968253968254\n",
      "0.10956349206349207\n"
     ]
    }
   ],
   "source": [
    "print(mrr(GT, R1))\n",
    "print(mrr(GT, R2))\n",
    "print(mrr(GT, R3))\n",
    "print(mrr(GT, R4))\n",
    "print(mrr(GT, R5))\n",
    "print(mrr(GT, R6))"
   ]
  },
  {
   "cell_type": "markdown",
   "metadata": {
    "id": "nsMnX6hhAWo-"
   },
   "source": [
    "# Normalized Discounted Cumulative Gain"
   ]
  },
  {
   "cell_type": "code",
   "execution_count": null,
   "metadata": {
    "id": "yoUMWrRAAVkH"
   },
   "outputs": [],
   "source": [
    "def ndcg(groud_truth, recommendation):\n",
    "    dcg = 0\n",
    "    idcg = 0\n",
    "    for i, r in enumerate(recommendation):\n",
    "        rel = int(r in groud_truth)\n",
    "        dcg += rel / math.log2(i+1+1)\n",
    "        idcg += 1 / math.log2(i+1+1)\n",
    "    \n",
    "    return dcg / idcg"
   ]
  },
  {
   "cell_type": "code",
   "execution_count": null,
   "metadata": {
    "colab": {
     "base_uri": "https://localhost:8080/"
    },
    "id": "ES055GW1A2GA",
    "outputId": "d5f326ab-1fce-4c1f-8ffc-c93730d1e72e"
   },
   "outputs": [
    {
     "name": "stdout",
     "output_type": "stream",
     "text": [
      "1.0\n",
      "0.9052116356304493\n",
      "0.8899541168509599\n",
      "0.8611375561264454\n",
      "0.7799082337019199\n",
      "0.5309999066793252\n"
     ]
    }
   ],
   "source": [
    "print(ndcg(GT, R1))\n",
    "print(ndcg(GT, R2))\n",
    "print(ndcg(GT, R3))\n",
    "print(ndcg(GT, R4))\n",
    "print(ndcg(GT, R5))\n",
    "print(ndcg(GT, R6))"
   ]
  }
 ],
 "metadata": {
  "colab": {
   "provenance": []
  },
  "kernelspec": {
   "display_name": "Python 3 (ipykernel)",
   "language": "python",
   "name": "python3"
  },
  "language_info": {
   "codemirror_mode": {
    "name": "ipython",
    "version": 3
   },
   "file_extension": ".py",
   "mimetype": "text/x-python",
   "name": "python",
   "nbconvert_exporter": "python",
   "pygments_lexer": "ipython3",
   "version": "3.10.8"
  },
  "widgets": {
   "application/vnd.jupyter.widget-state+json": {
    "state": {},
    "version_major": 2,
    "version_minor": 0
   }
  }
 },
 "nbformat": 4,
 "nbformat_minor": 4
}
