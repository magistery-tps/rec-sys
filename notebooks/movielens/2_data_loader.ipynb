{
 "cells": [
  {
   "cell_type": "markdown",
   "id": "2f7b374c-b72c-43d6-b294-887bd7372350",
   "metadata": {},
   "source": [
    "# MovieLens: Carga en base de datos"
   ]
  },
  {
   "cell_type": "code",
   "execution_count": 6,
   "id": "94f881df-4e34-4baa-bb19-bd38a2542192",
   "metadata": {},
   "outputs": [],
   "source": [
    "%load_ext autoreload\n",
    "%autoreload 2"
   ]
  },
  {
   "cell_type": "code",
   "execution_count": 7,
   "id": "f8259342-bd48-49ce-a235-d7febaeabe33",
   "metadata": {},
   "outputs": [],
   "source": [
    "import sys\n",
    "sys.path.append('../../src')"
   ]
  },
  {
   "cell_type": "code",
   "execution_count": 8,
   "id": "72fe1c26-d376-424b-9fce-17b67596e8ed",
   "metadata": {},
   "outputs": [],
   "source": [
    "import numpy as np\n",
    "import pandas as pd\n",
    "import mysql.connector\n",
    "import logging"
   ]
  },
  {
   "cell_type": "code",
   "execution_count": 9,
   "id": "79655577-629a-4f96-83ae-dd88a019cad5",
   "metadata": {},
   "outputs": [],
   "source": [
    "DATASET_PATH = '../../datasets'"
   ]
  },
  {
   "cell_type": "markdown",
   "id": "ae80fc26-f664-4148-96bd-2ff8dfc51af2",
   "metadata": {},
   "source": [
    "## Funciones"
   ]
  },
  {
   "cell_type": "code",
   "execution_count": 2,
   "id": "2dd107eb-cef4-4b80-afb5-15dbf6dc6d4a",
   "metadata": {
    "tags": []
   },
   "outputs": [],
   "source": [
    "def execute(connection, query):\n",
    "    try:\n",
    "        cursor = connection.cursor()\n",
    "        cursor.execute(query)\n",
    "        connection.commit()\n",
    "    except Exception as error:\n",
    "        print(error)\n",
    "        print(f'Query: {query}')\n",
    "\n",
    "\n",
    "def insert_item(connection, row):\n",
    "    query = \"\"\"\n",
    "        INSERT INTO \n",
    "            recsys.recsysweb_item(id, name, description, image)\n",
    "        VALUES (\n",
    "            :ID,\n",
    "            \":NAME\",\n",
    "            \":DESC\",\n",
    "            \":IMAGE\"\n",
    "        );    \n",
    "        \"\"\".replace(':ID', str(row['id'])) \\\n",
    "            .replace(':NAME', str(row['name'])) \\\n",
    "            .replace(':DESC', str(row['description']).replace('\"', '')) \\\n",
    "            .replace(':IMAGE', str(row['image']))\n",
    "    execute(connection, query)\n",
    "        \n",
    "def insert_interaction(connection, row):\n",
    "    query = \"\"\"\n",
    "        INSERT INTO \n",
    "            recsys.recsysweb_interaction(item_id, user_id, rating)\n",
    "        VALUES (\n",
    "            \":ITEM_ID\",\n",
    "            \":USER_ID\",\n",
    "            \":RATING\"\n",
    "        );    \n",
    "        \"\"\".replace(':ITEM_ID', str(int(row['item_id']))) \\\n",
    "            .replace(':USER_ID', str(int(row['user_id']))) \\\n",
    "            .replace(':RATING', str(row['rating']))\n",
    "    execute(connection, query)"
   ]
  },
  {
   "cell_type": "markdown",
   "id": "74b0fe87-bd7e-4ddd-98f8-568c4f7a1578",
   "metadata": {
    "tags": []
   },
   "source": [
    "## Procedimiento"
   ]
  },
  {
   "cell_type": "markdown",
   "id": "9cf62252-c319-4127-a51e-948b1473cf7e",
   "metadata": {},
   "source": [
    "**Step 1**: Cargamos los datasets."
   ]
  },
  {
   "cell_type": "code",
   "execution_count": 5,
   "id": "28344fce-605c-4a36-968c-4b2d1dc6cb38",
   "metadata": {},
   "outputs": [],
   "source": [
    "movies      = pd.read_csv(f'{DATASET_PATH}/items.csv')\n",
    "interactions = pd.read_csv(f'{DATASET_PATH}/interactions.csv')"
   ]
  },
  {
   "cell_type": "code",
   "execution_count": 6,
   "id": "a48ccfae-c316-43b7-b822-7734af43b4f4",
   "metadata": {},
   "outputs": [
    {
     "data": {
      "text/html": [
       "<div>\n",
       "<style scoped>\n",
       "    .dataframe tbody tr th:only-of-type {\n",
       "        vertical-align: middle;\n",
       "    }\n",
       "\n",
       "    .dataframe tbody tr th {\n",
       "        vertical-align: top;\n",
       "    }\n",
       "\n",
       "    .dataframe thead th {\n",
       "        text-align: right;\n",
       "    }\n",
       "</style>\n",
       "<table border=\"1\" class=\"dataframe\">\n",
       "  <thead>\n",
       "    <tr style=\"text-align: right;\">\n",
       "      <th></th>\n",
       "      <th>id</th>\n",
       "      <th>name</th>\n",
       "      <th>description</th>\n",
       "      <th>image</th>\n",
       "    </tr>\n",
       "  </thead>\n",
       "  <tbody>\n",
       "    <tr>\n",
       "      <th>0</th>\n",
       "      <td>1</td>\n",
       "      <td>Toy Story (1995)</td>\n",
       "      <td>Led by Woody, Andy's toys live happily in his ...</td>\n",
       "      <td>https://image.tmdb.org/t/p/w500//uXDfjJbdP4ijW...</td>\n",
       "    </tr>\n",
       "    <tr>\n",
       "      <th>1</th>\n",
       "      <td>10</td>\n",
       "      <td>GoldenEye (1995)</td>\n",
       "      <td>James Bond must unmask the mysterious head of ...</td>\n",
       "      <td>https://image.tmdb.org/t/p/w500//bFzjdy6ucvNlX...</td>\n",
       "    </tr>\n",
       "    <tr>\n",
       "      <th>2</th>\n",
       "      <td>11</td>\n",
       "      <td>American President, The (1995)</td>\n",
       "      <td>Widowed U.S. president Andrew Shepherd, one of...</td>\n",
       "      <td>https://image.tmdb.org/t/p/w500//yObOAYFIHXHkF...</td>\n",
       "    </tr>\n",
       "    <tr>\n",
       "      <th>3</th>\n",
       "      <td>14</td>\n",
       "      <td>Nixon (1995)</td>\n",
       "      <td>An all-star cast powers this epic look at Amer...</td>\n",
       "      <td>https://image.tmdb.org/t/p/w500//ORlTkdDwWU94O...</td>\n",
       "    </tr>\n",
       "    <tr>\n",
       "      <th>4</th>\n",
       "      <td>15</td>\n",
       "      <td>Cutthroat Island (1995)</td>\n",
       "      <td>Morgan Adams and her slave, William Shaw, are ...</td>\n",
       "      <td>https://image.tmdb.org/t/p/w500//hYdeBZ4BFXivd...</td>\n",
       "    </tr>\n",
       "  </tbody>\n",
       "</table>\n",
       "</div>"
      ]
     },
     "execution_count": 6,
     "metadata": {},
     "output_type": "execute_result"
    }
   ],
   "source": [
    "movies.head(3)"
   ]
  },
  {
   "cell_type": "code",
   "execution_count": 5,
   "id": "379b1522-a6af-489d-bd23-43090164d76e",
   "metadata": {},
   "outputs": [
    {
     "ename": "NameError",
     "evalue": "name 'interactions' is not defined",
     "output_type": "error",
     "traceback": [
      "\u001b[0;31m---------------------------------------------------------------------------\u001b[0m",
      "\u001b[0;31mNameError\u001b[0m                                 Traceback (most recent call last)",
      "Cell \u001b[0;32mIn[5], line 1\u001b[0m\n\u001b[0;32m----> 1\u001b[0m \u001b[43minteractions\u001b[49m\u001b[38;5;241m.\u001b[39mhead(\u001b[38;5;241m3\u001b[39m)\n",
      "\u001b[0;31mNameError\u001b[0m: name 'interactions' is not defined"
     ]
    }
   ],
   "source": [
    "interactions.head(3)"
   ]
  },
  {
   "cell_type": "markdown",
   "id": "9f7e721c-7442-4033-8eae-06590e23bd5f",
   "metadata": {},
   "source": [
    "**Step 2**: Creamos una conexión a la base de datos."
   ]
  },
  {
   "cell_type": "code",
   "execution_count": 8,
   "id": "0bc1be78-69dc-46d3-b074-6a74e4c96827",
   "metadata": {},
   "outputs": [],
   "source": [
    "connection = mysql.connector.connect(\n",
    "  host     = \"localhost\",\n",
    "  user     = \"root\",\n",
    "  password = \"1234\"\n",
    ")"
   ]
  },
  {
   "cell_type": "markdown",
   "id": "4b0fd950-5d68-4c84-a574-2daa42d36e98",
   "metadata": {
    "tags": []
   },
   "source": [
    "**Step 3**: Borramos la tabla de items para cargar la nueva version de items desde el dataframe de items."
   ]
  },
  {
   "cell_type": "code",
   "execution_count": 10,
   "id": "e93b2dea-2635-4fd1-a957-aa6c5d06eb42",
   "metadata": {},
   "outputs": [],
   "source": [
    "execute(connection, 'ALTER TABLE recsys.recsysweb_item MODIFY id int(11) NOT NULL')\n",
    "execute(connection, 'DELETE FROM recsys.recsysweb_item')"
   ]
  },
  {
   "cell_type": "markdown",
   "id": "7864429e-e47e-4dbd-b956-95afb94aea45",
   "metadata": {},
   "source": [
    "**Step 4**: Se insertan los nuevos items en la tabla `recsys.recsysweb_item`."
   ]
  },
  {
   "cell_type": "code",
   "execution_count": 11,
   "id": "1e0bcc3d-e347-4bf5-accf-bf9ab261b1e9",
   "metadata": {},
   "outputs": [],
   "source": [
    "for _, row in movies.iterrows(): insert_item(connection, row)    "
   ]
  },
  {
   "cell_type": "markdown",
   "id": "14786649-93ae-41d5-88cc-4b2c09a18350",
   "metadata": {},
   "source": [
    "**Step 5**: Se realiza el mismo procedimiento con la tabla de interacciones (`recsys.recsysweb_interaction`). Se borra la tabla y se vuelve a insertar todas las interacciones."
   ]
  },
  {
   "cell_type": "code",
   "execution_count": 12,
   "id": "ffbe6e93-4e56-401d-a7f5-a59be3000189",
   "metadata": {},
   "outputs": [],
   "source": [
    "execute(connection, 'DELETE FROM recsys.recsysweb_interaction')"
   ]
  },
  {
   "cell_type": "code",
   "execution_count": 13,
   "id": "ad29a4f8-9a68-44c7-96e0-402890b27c72",
   "metadata": {},
   "outputs": [],
   "source": [
    "for _, row in interactions.iterrows(): insert_interaction(connection, row)"
   ]
  },
  {
   "cell_type": "markdown",
   "id": "65aa8bf9-e486-452d-af7f-d8f7dddfc307",
   "metadata": {},
   "source": [
    "**Step 6**: Se cierra la conexión con la base de datos."
   ]
  },
  {
   "cell_type": "code",
   "execution_count": 14,
   "id": "dac78301-39d2-48c4-bbde-f53a50a59eaa",
   "metadata": {},
   "outputs": [],
   "source": [
    "connection.close()"
   ]
  },
  {
   "cell_type": "markdown",
   "id": "cb17b656-9555-4ab2-9342-d434b58ecb9e",
   "metadata": {
    "tags": []
   },
   "source": [
    "**Step 7**: Se consulta la cantidad de usuario en el dataset de interacciones. "
   ]
  },
  {
   "cell_type": "code",
   "execution_count": 15,
   "id": "061c30b6-1d94-454c-8584-2a11e56bf439",
   "metadata": {},
   "outputs": [
    {
     "data": {
      "text/html": [
       "<pre style=\"white-space:pre;overflow-x:auto;line-height:normal;font-family:Menlo,'DejaVu Sans Mono',consolas,'Courier New',monospace\"><span style=\"color: #008080; text-decoration-color: #008080; font-weight: bold\">610</span>\n",
       "</pre>\n"
      ],
      "text/plain": [
       "\u001b[1;36m610\u001b[0m\n"
      ]
     },
     "metadata": {},
     "output_type": "display_data"
    }
   ],
   "source": [
    "interactions.user_id.max()"
   ]
  }
 ],
 "metadata": {
  "kernelspec": {
   "display_name": "Python 3 (ipykernel)",
   "language": "python",
   "name": "python3"
  },
  "language_info": {
   "codemirror_mode": {
    "name": "ipython",
    "version": 3
   },
   "file_extension": ".py",
   "mimetype": "text/x-python",
   "name": "python",
   "nbconvert_exporter": "python",
   "pygments_lexer": "ipython3",
   "version": "3.10.8"
  },
  "widgets": {
   "application/vnd.jupyter.widget-state+json": {
    "state": {},
    "version_major": 2,
    "version_minor": 0
   }
  }
 },
 "nbformat": 4,
 "nbformat_minor": 5
}
