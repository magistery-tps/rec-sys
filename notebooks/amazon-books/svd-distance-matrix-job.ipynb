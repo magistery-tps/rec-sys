{
 "cells": [
  {
   "cell_type": "markdown",
   "id": "0417277b-47df-4113-a7b3-8f960db06f1d",
   "metadata": {
    "tags": []
   },
   "source": [
    "# Models: Neural Network Matrix Factorization"
   ]
  },
  {
   "cell_type": "code",
   "execution_count": 1,
   "id": "8dde5e70-5b86-460f-8791-20fcb554c378",
   "metadata": {},
   "outputs": [],
   "source": [
    "%load_ext autoreload\n",
    "%autoreload 2"
   ]
  },
  {
   "cell_type": "code",
   "execution_count": 4,
   "id": "f98e7bf4-f41a-43f6-b7b7-a991d00f82de",
   "metadata": {},
   "outputs": [],
   "source": [
    "import sys\n",
    "sys.path.append('../../src')\n",
    "\n",
    "import numpy as np\n",
    "import pandas as pd\n",
    "\n",
    "import logging\n",
    "import random\n",
    "\n",
    "import api\n",
    "\n",
    "from surprise import BaselineOnly, Dataset, Reader\n",
    "from surprise.model_selection import cross_validate\n",
    "from surprise import SVD\n",
    "from surprise import Dataset\n",
    "from surprise.model_selection import cross_validate"
   ]
  },
  {
   "cell_type": "code",
   "execution_count": 5,
   "id": "a29d4df2-6727-423d-936d-b1b40fb188ce",
   "metadata": {},
   "outputs": [],
   "source": [
    "import warnings\n",
    "warnings.filterwarnings('ignore')"
   ]
  },
  {
   "cell_type": "code",
   "execution_count": null,
   "id": "c7853d0e-0e7a-48ac-9b25-50c659a30c38",
   "metadata": {},
   "outputs": [],
   "source": [
    "TEMP_PATH                   = '../temp'\n",
    "INTERACTIONS_PATH           = f'{TEMP_PATH}/interations.csv'\n",
    "COMPLETED_INTERACTIONS_PATH = f'{TEMP_PATH}/completed_interations.csv'\n",
    "\n",
    "!mkdir  {TEMP_PATH}"
   ]
  },
  {
   "cell_type": "markdown",
   "id": "3b17de78-c722-47bd-accb-dbd6d811c954",
   "metadata": {},
   "source": [
    "### Functions & Clases"
   ]
  },
  {
   "cell_type": "code",
   "execution_count": 7,
   "id": "016ccf57-c087-4787-9f02-76b8f6794d71",
   "metadata": {},
   "outputs": [],
   "source": [
    "def substring_after(s, delim): return s.partition(delim)[2]\n",
    "\n",
    "def to_interaction_row(e):\n",
    "    e['user']   = int(e['user'])\n",
    "    e['item']   = int(substring_after(e['item'], 'items/').replace('/', ''))\n",
    "    e['rating'] = float(e['rating'])\n",
    "    return e"
   ]
  },
  {
   "cell_type": "code",
   "execution_count": 8,
   "id": "8b13ec7e-14f3-4892-93f5-18707d5eab3b",
   "metadata": {},
   "outputs": [],
   "source": [
    "class InteractionsService:\n",
    "    def __init__(self, df): self.df = df\n",
    "\n",
    "    def rated_items_by_user(self):\n",
    "        result = {}\n",
    "        for _, row in self.df.iterrows():\n",
    "            if row['rating'] != None and row['rating'] > 0:\n",
    "                if row['user'] in result:\n",
    "                    result[row['user']].add(row['item'])\n",
    "                else:\n",
    "                    result[row['user']] = set([row['item']])\n",
    "        return result\n",
    "\n",
    "\n",
    "    def unrated_items_by_user(self):\n",
    "        all_items           = set(np.unique(self.df.item.values))\n",
    "        rated_items_by_user = self.rated_items_by_user()\n",
    "\n",
    "        return {user: list(all_items-user_rated_items) for user, user_rated_items in rated_items_by_user.items() }"
   ]
  },
  {
   "cell_type": "markdown",
   "id": "40c1da33-a8da-47c9-b174-0b0885b05b50",
   "metadata": {},
   "source": [
    "### Get interactions"
   ]
  },
  {
   "cell_type": "code",
   "execution_count": 9,
   "id": "4196b5fb-c25a-4fcf-805a-0ce5bbf28ad9",
   "metadata": {},
   "outputs": [
    {
     "name": "stdout",
     "output_type": "stream",
     "text": [
      "Page 1 downloaded. Items: 100000/1205418.\n",
      "Page 2 downloaded. Items: 200000/1205418.\n",
      "Page 3 downloaded. Items: 300000/1205418.\n",
      "Page 4 downloaded. Items: 400000/1205418.\n",
      "Page 5 downloaded. Items: 500000/1205418.\n",
      "Page 6 downloaded. Items: 600000/1205418.\n",
      "Page 7 downloaded. Items: 700000/1205418.\n",
      "Page 8 downloaded. Items: 800000/1205418.\n",
      "Page 9 downloaded. Items: 900000/1205418.\n",
      "Page 10 downloaded. Items: 1000000/1205418.\n",
      "Page 11 downloaded. Items: 1100000/1205418.\n",
      "Page 12 downloaded. Items: 1200000/1205418.\n",
      "Page 13 downloaded. Items: 1300000/1205418.\n"
     ]
    }
   ],
   "source": [
    "recsys = api.RecSysApi(\n",
    "    host  = 'http://nonosoft.ddns.net:8888',\n",
    "    token = 'e3ff025094fe0ee474501bbeda0a2a44e80230c1'\n",
    ")\n",
    "\n",
    "interactions_iterator = api.ResourceIterator(recsys, 'interactions', page_size = 100000)\n",
    "\n",
    "interactions = api.to_dataframe(interactions_iterator, to_interaction_row)\n",
    "\n",
    "# interactions.info()"
   ]
  },
  {
   "cell_type": "code",
   "execution_count": 10,
   "id": "af8fed8b-a045-4549-bd0c-2301a06c39b7",
   "metadata": {},
   "outputs": [],
   "source": [
    "# interactions.shape"
   ]
  },
  {
   "cell_type": "code",
   "execution_count": 11,
   "id": "a2d9349f-033b-4d34-b706-2e3aa0e312a7",
   "metadata": {},
   "outputs": [],
   "source": [
    "interactions.to_csv(INTERACTIONS_PATH, encoding='utf-8', index=False, header=False)"
   ]
  },
  {
   "cell_type": "markdown",
   "id": "2b9a2536-e3a1-4502-966d-fe66c3e95718",
   "metadata": {},
   "source": [
    "### Train Model"
   ]
  },
  {
   "cell_type": "code",
   "execution_count": 12,
   "id": "50284fcc-5eef-481a-9750-f5973b7d0854",
   "metadata": {},
   "outputs": [],
   "source": [
    "reader = Reader(line_format=\"user item rating\", sep=\",\")\n",
    "data   = Dataset.load_from_file(INTERACTIONS_PATH, reader=reader)"
   ]
  },
  {
   "cell_type": "code",
   "execution_count": 13,
   "id": "88281788-843f-41e8-b3d0-a9f31aa732ec",
   "metadata": {},
   "outputs": [
    {
     "name": "stdout",
     "output_type": "stream",
     "text": [
      "Evaluating RMSE, MAE of algorithm SVD on 5 split(s).\n",
      "\n",
      "                  Fold 1  Fold 2  Fold 3  Fold 4  Fold 5  Mean    Std     \n",
      "RMSE (testset)    0.7704  0.7707  0.7705  0.7680  0.7722  0.7703  0.0013  \n",
      "MAE (testset)     0.5802  0.5792  0.5794  0.5780  0.5802  0.5794  0.0008  \n",
      "Fit time          14.77   17.06   16.28   15.98   16.18   16.06   0.74    \n",
      "Test time         1.84    1.72    1.93    1.63    1.60    1.74    0.13    \n"
     ]
    },
    {
     "data": {
      "text/html": [
       "<pre style=\"white-space:pre;overflow-x:auto;line-height:normal;font-family:Menlo,'DejaVu Sans Mono',consolas,'Courier New',monospace\">\n",
       "<span style=\"font-weight: bold\">{</span>\n",
       "    <span style=\"color: #008000; text-decoration-color: #008000\">'test_rmse'</span>: <span style=\"color: #800080; text-decoration-color: #800080; font-weight: bold\">array</span><span style=\"font-weight: bold\">([</span><span style=\"color: #008080; text-decoration-color: #008080; font-weight: bold\">0.77041679</span>, <span style=\"color: #008080; text-decoration-color: #008080; font-weight: bold\">0.77071885</span>, <span style=\"color: #008080; text-decoration-color: #008080; font-weight: bold\">0.77046344</span>, <span style=\"color: #008080; text-decoration-color: #008080; font-weight: bold\">0.76799109</span>, <span style=\"color: #008080; text-decoration-color: #008080; font-weight: bold\">0.77215584</span><span style=\"font-weight: bold\">])</span>,\n",
       "    <span style=\"color: #008000; text-decoration-color: #008000\">'test_mae'</span>: <span style=\"color: #800080; text-decoration-color: #800080; font-weight: bold\">array</span><span style=\"font-weight: bold\">([</span><span style=\"color: #008080; text-decoration-color: #008080; font-weight: bold\">0.5801926</span> , <span style=\"color: #008080; text-decoration-color: #008080; font-weight: bold\">0.57917139</span>, <span style=\"color: #008080; text-decoration-color: #008080; font-weight: bold\">0.57944432</span>, <span style=\"color: #008080; text-decoration-color: #008080; font-weight: bold\">0.57801425</span>, <span style=\"color: #008080; text-decoration-color: #008080; font-weight: bold\">0.58022117</span><span style=\"font-weight: bold\">])</span>,\n",
       "    <span style=\"color: #008000; text-decoration-color: #008000\">'fit_time'</span>: <span style=\"font-weight: bold\">(</span>\n",
       "        <span style=\"color: #008080; text-decoration-color: #008080; font-weight: bold\">14.770689010620117</span>,\n",
       "        <span style=\"color: #008080; text-decoration-color: #008080; font-weight: bold\">17.064317226409912</span>,\n",
       "        <span style=\"color: #008080; text-decoration-color: #008080; font-weight: bold\">16.281023502349854</span>,\n",
       "        <span style=\"color: #008080; text-decoration-color: #008080; font-weight: bold\">15.981337308883667</span>,\n",
       "        <span style=\"color: #008080; text-decoration-color: #008080; font-weight: bold\">16.179815530776978</span>\n",
       "    <span style=\"font-weight: bold\">)</span>,\n",
       "    <span style=\"color: #008000; text-decoration-color: #008000\">'test_time'</span>: <span style=\"font-weight: bold\">(</span>\n",
       "        <span style=\"color: #008080; text-decoration-color: #008080; font-weight: bold\">1.8388035297393799</span>,\n",
       "        <span style=\"color: #008080; text-decoration-color: #008080; font-weight: bold\">1.7151846885681152</span>,\n",
       "        <span style=\"color: #008080; text-decoration-color: #008080; font-weight: bold\">1.9333086013793945</span>,\n",
       "        <span style=\"color: #008080; text-decoration-color: #008080; font-weight: bold\">1.6269195079803467</span>,\n",
       "        <span style=\"color: #008080; text-decoration-color: #008080; font-weight: bold\">1.5980150699615479</span>\n",
       "    <span style=\"font-weight: bold\">)</span>\n",
       "<span style=\"font-weight: bold\">}</span>\n",
       "</pre>\n"
      ],
      "text/plain": [
       "\n",
       "\u001b[1m{\u001b[0m\n",
       "    \u001b[32m'test_rmse'\u001b[0m: \u001b[1;35marray\u001b[0m\u001b[1m(\u001b[0m\u001b[1m[\u001b[0m\u001b[1;36m0.77041679\u001b[0m, \u001b[1;36m0.77071885\u001b[0m, \u001b[1;36m0.77046344\u001b[0m, \u001b[1;36m0.76799109\u001b[0m, \u001b[1;36m0.77215584\u001b[0m\u001b[1m]\u001b[0m\u001b[1m)\u001b[0m,\n",
       "    \u001b[32m'test_mae'\u001b[0m: \u001b[1;35marray\u001b[0m\u001b[1m(\u001b[0m\u001b[1m[\u001b[0m\u001b[1;36m0.5801926\u001b[0m , \u001b[1;36m0.57917139\u001b[0m, \u001b[1;36m0.57944432\u001b[0m, \u001b[1;36m0.57801425\u001b[0m, \u001b[1;36m0.58022117\u001b[0m\u001b[1m]\u001b[0m\u001b[1m)\u001b[0m,\n",
       "    \u001b[32m'fit_time'\u001b[0m: \u001b[1m(\u001b[0m\n",
       "        \u001b[1;36m14.770689010620117\u001b[0m,\n",
       "        \u001b[1;36m17.064317226409912\u001b[0m,\n",
       "        \u001b[1;36m16.281023502349854\u001b[0m,\n",
       "        \u001b[1;36m15.981337308883667\u001b[0m,\n",
       "        \u001b[1;36m16.179815530776978\u001b[0m\n",
       "    \u001b[1m)\u001b[0m,\n",
       "    \u001b[32m'test_time'\u001b[0m: \u001b[1m(\u001b[0m\n",
       "        \u001b[1;36m1.8388035297393799\u001b[0m,\n",
       "        \u001b[1;36m1.7151846885681152\u001b[0m,\n",
       "        \u001b[1;36m1.9333086013793945\u001b[0m,\n",
       "        \u001b[1;36m1.6269195079803467\u001b[0m,\n",
       "        \u001b[1;36m1.5980150699615479\u001b[0m\n",
       "    \u001b[1m)\u001b[0m\n",
       "\u001b[1m}\u001b[0m\n"
      ]
     },
     "metadata": {},
     "output_type": "display_data"
    }
   ],
   "source": [
    "model = SVD()\n",
    "cross_validate(model, data, verbose=True)"
   ]
  },
  {
   "cell_type": "code",
   "execution_count": 14,
   "id": "e6ff55b3-9456-4e16-978e-a73dc87d90be",
   "metadata": {},
   "outputs": [],
   "source": [
    "trainset = data.build_full_trainset()"
   ]
  },
  {
   "cell_type": "code",
   "execution_count": 15,
   "id": "0546cec7-3a0a-4936-9f11-d59484c751b4",
   "metadata": {},
   "outputs": [
    {
     "data": {
      "text/html": [
       "<pre style=\"white-space:pre;overflow-x:auto;line-height:normal;font-family:Menlo,'DejaVu Sans Mono',consolas,'Courier New',monospace\"><span style=\"font-weight: bold\">&lt;</span><span style=\"color: #ff00ff; text-decoration-color: #ff00ff; font-weight: bold\">surprise.prediction_algorithms.matrix_factorization.SVD</span><span style=\"color: #000000; text-decoration-color: #000000\"> object at </span><span style=\"color: #008080; text-decoration-color: #008080; font-weight: bold\">0x7f39d2e102e0</span><span style=\"font-weight: bold\">&gt;</span>\n",
       "</pre>\n"
      ],
      "text/plain": [
       "\u001b[1m<\u001b[0m\u001b[1;95msurprise.prediction_algorithms.matrix_factorization.SVD\u001b[0m\u001b[39m object at \u001b[0m\u001b[1;36m0x7f39d2e102e0\u001b[0m\u001b[1m>\u001b[0m\n"
      ]
     },
     "metadata": {},
     "output_type": "display_data"
    }
   ],
   "source": [
    "model = SVD()\n",
    "model.fit(trainset)"
   ]
  },
  {
   "cell_type": "code",
   "execution_count": 16,
   "id": "f621a2b8-34b3-4c2f-b7c1-9fcdafdadb3d",
   "metadata": {},
   "outputs": [],
   "source": [
    "unrated_items_by_user = InteractionsService(interactions).unrated_items_by_user()"
   ]
  },
  {
   "cell_type": "code",
   "execution_count": null,
   "id": "605a3555-2411-4738-927f-9080121337c2",
   "metadata": {},
   "outputs": [],
   "source": [
    "for user, items in unrated_items_by_user.items():    \n",
    "    for item in items:\n",
    "        interactions.append(\n",
    "            {\n",
    "                'user'  : user, \n",
    "                'item'  : item, \n",
    "                'rating': model.predict(str(user), str(item)).est\n",
    "            }, \n",
    "            ignore_index=True\n",
    "        )"
   ]
  },
  {
   "cell_type": "code",
   "execution_count": null,
   "id": "554e17a6-073d-40f9-a7f2-09593fb07081",
   "metadata": {},
   "outputs": [],
   "source": [
    "interactions.to_csv(COMPLETED_INTERACTIONS_PATH, encoding='utf-8', index=False, header=False)"
   ]
  }
 ],
 "metadata": {
  "kernelspec": {
   "display_name": "Python 3 (ipykernel)",
   "language": "python",
   "name": "python3"
  },
  "language_info": {
   "codemirror_mode": {
    "name": "ipython",
    "version": 3
   },
   "file_extension": ".py",
   "mimetype": "text/x-python",
   "name": "python",
   "nbconvert_exporter": "python",
   "pygments_lexer": "ipython3",
   "version": "3.10.6"
  },
  "widgets": {
   "application/vnd.jupyter.widget-state+json": {
    "state": {},
    "version_major": 2,
    "version_minor": 0
   }
  }
 },
 "nbformat": 4,
 "nbformat_minor": 5
}
