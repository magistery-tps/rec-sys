{
 "cells": [
  {
   "cell_type": "markdown",
   "id": "0417277b-47df-4113-a7b3-8f960db06f1d",
   "metadata": {
    "tags": []
   },
   "source": [
    "# SVD: Distance Matrix Job"
   ]
  },
  {
   "cell_type": "code",
   "execution_count": 1,
   "id": "8dde5e70-5b86-460f-8791-20fcb554c378",
   "metadata": {},
   "outputs": [],
   "source": [
    "%load_ext autoreload\n",
    "%autoreload 2"
   ]
  },
  {
   "cell_type": "code",
   "execution_count": 2,
   "id": "f98e7bf4-f41a-43f6-b7b7-a991d00f82de",
   "metadata": {},
   "outputs": [],
   "source": [
    "import sys\n",
    "sys.path.append('../../src')\n",
    "\n",
    "import seaborn as sns\n",
    "\n",
    "import numpy as np\n",
    "import pandas as pd\n",
    "\n",
    "import logging\n",
    "import multiprocessing as mp\n",
    "\n",
    "from surprise import SVD\n",
    "\n",
    "import api\n",
    "import model as ml\n",
    "import util as ut\n",
    "from logger import LoggerBuilder\n",
    "from domain_context import DomainContext "
   ]
  },
  {
   "cell_type": "code",
   "execution_count": 3,
   "id": "a29d4df2-6727-423d-936d-b1b40fb188ce",
   "metadata": {},
   "outputs": [],
   "source": [
    "import warnings\n",
    "warnings.filterwarnings('ignore')"
   ]
  },
  {
   "cell_type": "code",
   "execution_count": 4,
   "id": "01a2bd6d-6e74-47ae-940c-a0724258ec2d",
   "metadata": {},
   "outputs": [],
   "source": [
    "LoggerBuilder.build()"
   ]
  },
  {
   "cell_type": "code",
   "execution_count": 5,
   "id": "c7853d0e-0e7a-48ac-9b25-50c659a30c38",
   "metadata": {},
   "outputs": [],
   "source": [
    "TEMP_PATH                         = '../../temp'\n",
    "INPUT_INTERACTIONS_PATH           = f'{TEMP_PATH}/input_interations.csv'\n",
    "INTERACTIONS_PATH                 = f'{TEMP_PATH}/interations.csv'\n",
    "COMPLETED_INTERACTIONS_PATH       = f'{TEMP_PATH}/completed_interations.csv'\n",
    "UNRATED_USER_ITEMS_PATH           = f'{TEMP_PATH}/unrated_user_items.csv'\n",
    "UNRATED_USER_ITEMS_COMPLETRD_PATH = f'{TEMP_PATH}/unrated_user_items_completed.csv'\n",
    "\n",
    "!mkdir -p {TEMP_PATH}"
   ]
  },
  {
   "cell_type": "code",
   "execution_count": 6,
   "id": "aa81c9ee-ee60-48ab-93ba-989caba95172",
   "metadata": {},
   "outputs": [],
   "source": [
    "# HOST      = 'http://nonosoft.ddns.net:8888'\n",
    "HOST      = 'http://localhost:8000'\n",
    "API_TOKEN = 'e3ff025094fe0ee474501bbeda0a2a44e80230c1'"
   ]
  },
  {
   "cell_type": "code",
   "execution_count": 7,
   "id": "023272a8-6d28-4aec-9fd3-8b6773a9029a",
   "metadata": {},
   "outputs": [],
   "source": [
    "DOWNLOAD               = False\n",
    "UNRATED_USER_ITEMS     = False\n",
    "COMPLETE_RATING_MATRIX = False"
   ]
  },
  {
   "cell_type": "markdown",
   "id": "3b17de78-c722-47bd-accb-dbd6d811c954",
   "metadata": {},
   "source": [
    "### Functions & Clases"
   ]
  },
  {
   "cell_type": "code",
   "execution_count": 8,
   "id": "f70ade00-ca90-4eac-939b-776b46c33ab7",
   "metadata": {},
   "outputs": [],
   "source": [
    "def user_items_to_df(params):\n",
    "    user = params[0]\n",
    "    items = params[1]\n",
    "    return pd.DataFrame([{'user_id': user, 'item_id': item} for item in items])\n",
    "\n",
    "def user_items_to_pairs(user_items, processes=20):\n",
    "    inputs = [(user, items) for user, items in user_items.items()]\n",
    "    \n",
    "    with mp.Pool(processes=processes) as pool:\n",
    "        results = pool.map(user_items_to_df, inputs)\n",
    "\n",
    "    return pd.concat(results)\n",
    "\n",
    "def plot_n_users_by_item(df):\n",
    "    item_users = df \\\n",
    "        .groupby('item_id', as_index=False)['user_id']  \\\n",
    "        .count() \\\n",
    "        .rename(columns={'user_id': 'n_users'}) \\\n",
    "        .sort_values(by='n_users', ascending=False) \\\n",
    "        .reset_index(drop=True)\n",
    "\n",
    "    item_users.reset_index(inplace=True)\n",
    "\n",
    "    item_users = item_users.rename(columns={'index': 'Items'}) \\\n",
    "\n",
    "    sns.set_theme(style=\"ticks\")\n",
    "    sns.lineplot(\n",
    "        x     = 'Items', \n",
    "        y     = 'n_users',\n",
    "        data  = item_users\n",
    "    )"
   ]
  },
  {
   "cell_type": "code",
   "execution_count": 9,
   "id": "c70a9b41-9bcb-49f4-b796-69c658a7a9e5",
   "metadata": {},
   "outputs": [],
   "source": [
    "ctx = DomainContext(API_TOKEN, HOST)"
   ]
  },
  {
   "cell_type": "markdown",
   "id": "40c1da33-a8da-47c9-b174-0b0885b05b50",
   "metadata": {},
   "source": [
    "### Get interactions"
   ]
  },
  {
   "cell_type": "code",
   "execution_count": 10,
   "id": "a2d9349f-033b-4d34-b706-2e3aa0e312a7",
   "metadata": {},
   "outputs": [],
   "source": [
    "if DOWNLOAD:\n",
    "    interactions = pd.DataFrame.from_records(ctx.interaction_repository.find())\n",
    "    interactions.to_csv(INPUT_INTERACTIONS_PATH, encoding='utf-8', index=False, header=False)\n",
    "    interactions.to_csv(INTERACTIONS_PATH,       encoding='utf-8', index=False, header=True)\n",
    "else:\n",
    "    interactions = pd.read_csv(INTERACTIONS_PATH)"
   ]
  },
  {
   "cell_type": "code",
   "execution_count": 11,
   "id": "c2a7f42c-ab2d-462c-b22c-f3ae29ba5bde",
   "metadata": {},
   "outputs": [
    {
     "data": {
      "text/html": [
       "<pre style=\"white-space:pre;overflow-x:auto;line-height:normal;font-family:Menlo,'DejaVu Sans Mono',consolas,'Courier New',monospace\"><span style=\"font-weight: bold\">&lt;</span><span style=\"color: #ff00ff; text-decoration-color: #ff00ff; font-weight: bold\">Figure</span><span style=\"color: #000000; text-decoration-color: #000000\"> size 64</span><span style=\"color: #008080; text-decoration-color: #008080; font-weight: bold\">0x480</span><span style=\"color: #000000; text-decoration-color: #000000\"> with </span><span style=\"color: #008080; text-decoration-color: #008080; font-weight: bold\">1</span><span style=\"color: #000000; text-decoration-color: #000000\"> Axes</span><span style=\"font-weight: bold\">&gt;</span>\n",
       "</pre>\n"
      ],
      "text/plain": [
       "\u001b[1m<\u001b[0m\u001b[1;95mFigure\u001b[0m\u001b[39m size 64\u001b[0m\u001b[1;36m0x480\u001b[0m\u001b[39m with \u001b[0m\u001b[1;36m1\u001b[0m\u001b[39m Axes\u001b[0m\u001b[1m>\u001b[0m\n"
      ]
     },
     "metadata": {},
     "output_type": "display_data"
    },
    {
     "data": {
      "image/png": "[encoded data removed]"
     },
     "metadata": {},
     "output_type": "display_data"
    }
   ],
   "source": [
    "plot_n_users_by_item(interactions)"
   ]
  },
  {
   "cell_type": "markdown",
   "id": "a7f9abd0-5922-4d80-b784-f6da9c4c17e8",
   "metadata": {},
   "source": [
    "### Resolve unrated user items"
   ]
  },
  {
   "cell_type": "code",
   "execution_count": 12,
   "id": "2ba5f191-a69d-46ab-96a2-8134ef649bb0",
   "metadata": {},
   "outputs": [],
   "source": [
    "if UNRATED_USER_ITEMS:\n",
    "    unrated_items_by_user = ctx.interaction_service.unrated_items_by_users(interactions)\n",
    "    user_item = user_items_to_pairs(unrated_items_by_user)\n",
    "    del unrated_items_by_user\n",
    "    user_item.to_csv(UNRATED_USER_ITEMS_PATH, encoding='utf-8', index=False, header=True)\n",
    "else:\n",
    "    user_item = pd.read_csv(UNRATED_USER_ITEMS_PATH)"
   ]
  },
  {
   "cell_type": "code",
   "execution_count": 13,
   "id": "130afb27-b550-4bae-a3c2-0c5749af0a9d",
   "metadata": {},
   "outputs": [
    {
     "name": "stdout",
     "output_type": "stream",
     "text": [
      "80M\t../../temp/unrated_user_items.csv\n"
     ]
    }
   ],
   "source": [
    "!du -h {UNRATED_USER_ITEMS_PATH}"
   ]
  },
  {
   "cell_type": "code",
   "execution_count": 14,
   "id": "5ff1f086-441e-4f80-954b-ba89a637bf0e",
   "metadata": {},
   "outputs": [
    {
     "data": {
      "text/html": [
       "<pre style=\"white-space:pre;overflow-x:auto;line-height:normal;font-family:Menlo,'DejaVu Sans Mono',consolas,'Courier New',monospace\"><span style=\"color: #008080; text-decoration-color: #008080; font-weight: bold\">6509225</span>\n",
       "</pre>\n"
      ],
      "text/plain": [
       "\u001b[1;36m6509225\u001b[0m\n"
      ]
     },
     "metadata": {},
     "output_type": "display_data"
    }
   ],
   "source": [
    "len(user_item)"
   ]
  },
  {
   "cell_type": "markdown",
   "id": "2b9a2536-e3a1-4502-966d-fe66c3e95718",
   "metadata": {},
   "source": [
    "### Train Model"
   ]
  },
  {
   "cell_type": "code",
   "execution_count": 15,
   "id": "a5e0c586-90d6-4931-8604-d194f1c50414",
   "metadata": {},
   "outputs": [],
   "source": [
    "if COMPLETE_RATING_MATRIX:\n",
    "    model_manager  = ml.ModelManager(\n",
    "        file_path  = INPUT_INTERACTIONS_PATH,\n",
    "        model      = SVD()\n",
    "    )\n",
    "    model_manager.train()\n",
    "\n",
    "    user_item['rating'] = model_manager.predict(user_item)            \n",
    "    user_item.to_csv(UNRATED_USER_ITEMS_COMPLETRD_PATH, encoding='utf-8', index=False, header=True)"
   ]
  },
  {
   "cell_type": "code",
   "execution_count": 16,
   "id": "7f68301a-34ec-4fe8-97b2-e811ee2280d6",
   "metadata": {},
   "outputs": [],
   "source": [
    "if COMPLETE_RATING_MATRIX:\n",
    "    complete_interactions = pd.concat([interactions, user_item], axis=0)\n",
    "    complete_interactions.to_csv(COMPLETED_INTERACTIONS_PATH, encoding='utf-8', index=False, header=True)\n",
    "else:\n",
    "    complete_interactions = pd.read_csv(COMPLETED_INTERACTIONS_PATH)"
   ]
  },
  {
   "cell_type": "code",
   "execution_count": 17,
   "id": "f8883100-260a-4369-9a76-fd58b356327c",
   "metadata": {},
   "outputs": [
    {
     "data": {
      "text/html": [
       "<pre style=\"white-space:pre;overflow-x:auto;line-height:normal;font-family:Menlo,'DejaVu Sans Mono',consolas,'Courier New',monospace\"><span style=\"font-weight: bold\">(</span><span style=\"color: #008080; text-decoration-color: #008080; font-weight: bold\">6656877</span>, <span style=\"color: #008080; text-decoration-color: #008080; font-weight: bold\">3</span><span style=\"font-weight: bold\">)</span>\n",
       "</pre>\n"
      ],
      "text/plain": [
       "\u001b[1m(\u001b[0m\u001b[1;36m6656877\u001b[0m, \u001b[1;36m3\u001b[0m\u001b[1m)\u001b[0m\n"
      ]
     },
     "metadata": {},
     "output_type": "display_data"
    }
   ],
   "source": [
    "complete_interactions.shape"
   ]
  },
  {
   "cell_type": "code",
   "execution_count": 18,
   "id": "219d32f4-438b-4ec7-aadd-754905b4bb1b",
   "metadata": {},
   "outputs": [
    {
     "data": {
      "text/html": [
       "<div>\n",
       "<style scoped>\n",
       "    .dataframe tbody tr th:only-of-type {\n",
       "        vertical-align: middle;\n",
       "    }\n",
       "\n",
       "    .dataframe tbody tr th {\n",
       "        vertical-align: top;\n",
       "    }\n",
       "\n",
       "    .dataframe thead th {\n",
       "        text-align: right;\n",
       "    }\n",
       "</style>\n",
       "<table border=\"1\" class=\"dataframe\">\n",
       "  <thead>\n",
       "    <tr style=\"text-align: right;\">\n",
       "      <th></th>\n",
       "      <th>user_id</th>\n",
       "      <th>item_id</th>\n",
       "      <th>rating</th>\n",
       "    </tr>\n",
       "  </thead>\n",
       "  <tbody>\n",
       "    <tr>\n",
       "      <th>0</th>\n",
       "      <td>98.0</td>\n",
       "      <td>35</td>\n",
       "      <td>2.0</td>\n",
       "    </tr>\n",
       "    <tr>\n",
       "      <th>1</th>\n",
       "      <td>90.0</td>\n",
       "      <td>35</td>\n",
       "      <td>5.0</td>\n",
       "    </tr>\n",
       "    <tr>\n",
       "      <th>2</th>\n",
       "      <td>99.0</td>\n",
       "      <td>35</td>\n",
       "      <td>4.0</td>\n",
       "    </tr>\n",
       "  </tbody>\n",
       "</table>\n",
       "</div>"
      ]
     },
     "execution_count": 18,
     "metadata": {},
     "output_type": "execute_result"
    }
   ],
   "source": [
    "complete_interactions.head(3)"
   ]
  },
  {
   "cell_type": "code",
   "execution_count": 19,
   "id": "0ee41aa6-7d54-4a61-9b32-ce2bc2081c24",
   "metadata": {},
   "outputs": [
    {
     "data": {
      "text/html": [
       "<div>\n",
       "<style scoped>\n",
       "    .dataframe tbody tr th:only-of-type {\n",
       "        vertical-align: middle;\n",
       "    }\n",
       "\n",
       "    .dataframe tbody tr th {\n",
       "        vertical-align: top;\n",
       "    }\n",
       "\n",
       "    .dataframe thead th {\n",
       "        text-align: right;\n",
       "    }\n",
       "</style>\n",
       "<table border=\"1\" class=\"dataframe\">\n",
       "  <thead>\n",
       "    <tr style=\"text-align: right;\">\n",
       "      <th></th>\n",
       "      <th>user_id</th>\n",
       "      <th>item_id</th>\n",
       "      <th>rating</th>\n",
       "    </tr>\n",
       "  </thead>\n",
       "  <tbody>\n",
       "    <tr>\n",
       "      <th>6656874</th>\n",
       "      <td>5000.0</td>\n",
       "      <td>147453</td>\n",
       "      <td>4.396798</td>\n",
       "    </tr>\n",
       "    <tr>\n",
       "      <th>6656875</th>\n",
       "      <td>5000.0</td>\n",
       "      <td>32766</td>\n",
       "      <td>4.396798</td>\n",
       "    </tr>\n",
       "    <tr>\n",
       "      <th>6656876</th>\n",
       "      <td>5000.0</td>\n",
       "      <td>131071</td>\n",
       "      <td>4.396798</td>\n",
       "    </tr>\n",
       "  </tbody>\n",
       "</table>\n",
       "</div>"
      ]
     },
     "execution_count": 19,
     "metadata": {},
     "output_type": "execute_result"
    }
   ],
   "source": [
    "complete_interactions.tail(3)"
   ]
  },
  {
   "cell_type": "code",
   "execution_count": 20,
   "id": "eef17f07-f3de-4061-b6cb-9e2d17201311",
   "metadata": {},
   "outputs": [],
   "source": [
    "if COMPLETE_RATING_MATRIX:\n",
    "    rating_matrix = ut.df_to_matrix(\n",
    "        complete_interactions,\n",
    "        x_col     = 'user_id',\n",
    "        y_col     = 'item_id',\n",
    "        value_col = 'rating'\n",
    "    )\n",
    "\n",
    "    ut.Picket.save(f'{TEMP_PATH}/rating_matrix', rating_matrix)\n",
    "else:\n",
    "    rating_matrix = ut.Picket.load(f'{TEMP_PATH}/rating_matrix')"
   ]
  },
  {
   "cell_type": "code",
   "execution_count": null,
   "id": "33d38b49-d827-4844-a630-3c3f4876e750",
   "metadata": {},
   "outputs": [],
   "source": [
    "sns.heatmap(rating_matrix.toarray())"
   ]
  }
 ],
 "metadata": {
  "kernelspec": {
   "display_name": "Python 3 (ipykernel)",
   "language": "python",
   "name": "python3"
  },
  "language_info": {
   "codemirror_mode": {
    "name": "ipython",
    "version": 3
   },
   "file_extension": ".py",
   "mimetype": "text/x-python",
   "name": "python",
   "nbconvert_exporter": "python",
   "pygments_lexer": "ipython3",
   "version": "3.10.6"
  },
  "widgets": {
   "application/vnd.jupyter.widget-state+json": {
    "state": {},
    "version_major": 2,
    "version_minor": 0
   }
  }
 },
 "nbformat": 4,
 "nbformat_minor": 5
}
