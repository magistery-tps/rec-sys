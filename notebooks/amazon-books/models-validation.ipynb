{
 "cells": [
  {
   "cell_type": "markdown",
   "id": "0417277b-47df-4113-a7b3-8f960db06f1d",
   "metadata": {
    "tags": []
   },
   "source": [
    "# Models Validation"
   ]
  },
  {
   "cell_type": "code",
   "execution_count": 6,
   "id": "8dde5e70-5b86-460f-8791-20fcb554c378",
   "metadata": {},
   "outputs": [
    {
     "name": "stdout",
     "output_type": "stream",
     "text": [
      "The autoreload extension is already loaded. To reload it, use:\n",
      "  %reload_ext autoreload\n"
     ]
    }
   ],
   "source": [
    "%load_ext autoreload\n",
    "%autoreload 2"
   ]
  },
  {
   "cell_type": "code",
   "execution_count": 7,
   "id": "f98e7bf4-f41a-43f6-b7b7-a991d00f82de",
   "metadata": {},
   "outputs": [],
   "source": [
    "import sys\n",
    "sys.path.append('../../src')\n",
    "\n",
    "from domain_context import DomainContext"
   ]
  },
  {
   "cell_type": "markdown",
   "id": "3b17de78-c722-47bd-accb-dbd6d811c954",
   "metadata": {
    "tags": []
   },
   "source": [
    "### Setup"
   ]
  },
  {
   "cell_type": "code",
   "execution_count": 8,
   "id": "c70a9b41-9bcb-49f4-b796-69c658a7a9e5",
   "metadata": {},
   "outputs": [],
   "source": [
    "ctx = DomainContext(host='http://recsys.sytes.net')"
   ]
  },
  {
   "cell_type": "markdown",
   "id": "40c1da33-a8da-47c9-b174-0b0885b05b50",
   "metadata": {
    "tags": []
   },
   "source": [
    "### Execute jobs"
   ]
  },
  {
   "cell_type": "code",
   "execution_count": 9,
   "id": "11081fe2-c7df-422c-a75b-52ea77e6c7c8",
   "metadata": {},
   "outputs": [
    {
     "name": "stderr",
     "output_type": "stream",
     "text": [
      "2023-01-28 16:03:09,213 :: INFO :: InteractionRepository :: Page 1/12 - Interactions 5000/56191\n",
      "2023-01-28 16:03:10,725 :: INFO :: InteractionRepository :: Page 2/12 - Interactions 10000/56191\n",
      "2023-01-28 16:03:12,652 :: INFO :: InteractionRepository :: Page 3/12 - Interactions 15000/56191\n",
      "2023-01-28 16:03:14,363 :: INFO :: InteractionRepository :: Page 4/12 - Interactions 20000/56191\n",
      "2023-01-28 16:03:15,791 :: INFO :: InteractionRepository :: Page 5/12 - Interactions 25000/56191\n",
      "2023-01-28 16:03:17,219 :: INFO :: InteractionRepository :: Page 6/12 - Interactions 30000/56191\n",
      "2023-01-28 16:03:18,650 :: INFO :: InteractionRepository :: Page 7/12 - Interactions 35000/56191\n",
      "2023-01-28 16:03:19,764 :: INFO :: InteractionRepository :: Page 8/12 - Interactions 40000/56191\n",
      "2023-01-28 16:03:20,865 :: INFO :: InteractionRepository :: Page 9/12 - Interactions 45000/56191\n",
      "2023-01-28 16:03:22,205 :: INFO :: InteractionRepository :: Page 10/12 - Interactions 50000/56191\n",
      "2023-01-28 16:03:23,439 :: INFO :: InteractionRepository :: Page 11/12 - Interactions 55000/56191\n",
      "2023-01-28 16:03:23,875 :: INFO :: InteractionRepository :: Page 12/12 - Interactions 56191/56191\n",
      "2023-01-28 16:03:23,875 :: INFO :: InteractionRepository :: 56191 Total Interactions \n"
     ]
    }
   ],
   "source": [
    "# Get user-item interacitons from RecSys API...\n",
    "interactions = ctx.interaction_service.find_all()"
   ]
  },
  {
   "cell_type": "code",
   "execution_count": 10,
   "id": "88c480d2-eaa7-4e3f-afc2-9ca99afdce1c",
   "metadata": {},
   "outputs": [
    {
     "data": {
      "text/html": [
       "<div>\n",
       "<style scoped>\n",
       "    .dataframe tbody tr th:only-of-type {\n",
       "        vertical-align: middle;\n",
       "    }\n",
       "\n",
       "    .dataframe tbody tr th {\n",
       "        vertical-align: top;\n",
       "    }\n",
       "\n",
       "    .dataframe thead th {\n",
       "        text-align: right;\n",
       "    }\n",
       "</style>\n",
       "<table border=\"1\" class=\"dataframe\">\n",
       "  <thead>\n",
       "    <tr style=\"text-align: right;\">\n",
       "      <th></th>\n",
       "      <th>user_id</th>\n",
       "      <th>item_id</th>\n",
       "      <th>rating</th>\n",
       "      <th>suitable_to_train</th>\n",
       "    </tr>\n",
       "  </thead>\n",
       "  <tbody>\n",
       "    <tr>\n",
       "      <th>0</th>\n",
       "      <td>98</td>\n",
       "      <td>35</td>\n",
       "      <td>2.0</td>\n",
       "      <td>True</td>\n",
       "    </tr>\n",
       "    <tr>\n",
       "      <th>1</th>\n",
       "      <td>90</td>\n",
       "      <td>35</td>\n",
       "      <td>5.0</td>\n",
       "      <td>True</td>\n",
       "    </tr>\n",
       "    <tr>\n",
       "      <th>2</th>\n",
       "      <td>99</td>\n",
       "      <td>35</td>\n",
       "      <td>4.0</td>\n",
       "      <td>True</td>\n",
       "    </tr>\n",
       "    <tr>\n",
       "      <th>3</th>\n",
       "      <td>99</td>\n",
       "      <td>35</td>\n",
       "      <td>4.0</td>\n",
       "      <td>True</td>\n",
       "    </tr>\n",
       "    <tr>\n",
       "      <th>4</th>\n",
       "      <td>100</td>\n",
       "      <td>35</td>\n",
       "      <td>5.0</td>\n",
       "      <td>True</td>\n",
       "    </tr>\n",
       "  </tbody>\n",
       "</table>\n",
       "</div>"
      ]
     },
     "execution_count": 10,
     "metadata": {},
     "output_type": "execute_result"
    }
   ],
   "source": [
    "interactions.head()"
   ]
  }
 ],
 "metadata": {
  "kernelspec": {
   "display_name": "Python 3 (ipykernel)",
   "language": "python",
   "name": "python3"
  },
  "language_info": {
   "codemirror_mode": {
    "name": "ipython",
    "version": 3
   },
   "file_extension": ".py",
   "mimetype": "text/x-python",
   "name": "python",
   "nbconvert_exporter": "python",
   "pygments_lexer": "ipython3",
   "version": "3.10.8"
  },
  "widgets": {
   "application/vnd.jupyter.widget-state+json": {
    "state": {},
    "version_major": 2,
    "version_minor": 0
   }
  }
 },
 "nbformat": 4,
 "nbformat_minor": 5
}
