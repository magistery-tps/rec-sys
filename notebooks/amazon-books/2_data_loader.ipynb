{
 "cells": [
  {
   "cell_type": "markdown",
   "id": "017b7edd-067f-4313-9d12-4f031293896f",
   "metadata": {},
   "source": [
    "# Data loading: Carga de datos en la base de datos."
   ]
  },
  {
   "cell_type": "code",
   "execution_count": 1,
   "id": "94f881df-4e34-4baa-bb19-bd38a2542192",
   "metadata": {},
   "outputs": [],
   "source": [
    "%load_ext autoreload\n",
    "%autoreload 2"
   ]
  },
  {
   "cell_type": "code",
   "execution_count": 2,
   "id": "f8259342-bd48-49ce-a235-d7febaeabe33",
   "metadata": {},
   "outputs": [],
   "source": [
    "import sys\n",
    "sys.path.append('../../src')"
   ]
  },
  {
   "cell_type": "code",
   "execution_count": 3,
   "id": "72fe1c26-d376-424b-9fce-17b67596e8ed",
   "metadata": {},
   "outputs": [],
   "source": [
    "import numpy    as np\n",
    "import pandas   as pd\n",
    "import logging\n",
    "\n",
    "import util     as ut\n",
    "import database as db\n",
    "from domain_context import DomainContext"
   ]
  },
  {
   "cell_type": "markdown",
   "id": "55cd015a-8bfb-4225-9893-894da1286c37",
   "metadata": {},
   "source": [
    "### Setup"
   ]
  },
  {
   "cell_type": "code",
   "execution_count": 4,
   "id": "79655577-629a-4f96-83ae-dd88a019cad5",
   "metadata": {},
   "outputs": [],
   "source": [
    "DATASET_PATH = '../../datasets/amazon-books'\n",
    "DB_CONFIG = {\n",
    "  'host'     : 'localhost',\n",
    "  'user'     : 'root',\n",
    "  'password' : '1234'\n",
    "}\n",
    "API_HOST = 'http://localhost:8000'"
   ]
  },
  {
   "cell_type": "code",
   "execution_count": 11,
   "id": "80db828a-01a4-4fd7-a1d0-0164bb07566c",
   "metadata": {},
   "outputs": [],
   "source": [
    "database                = db.Database(DB_CONFIG)\n",
    "items_repository        = db.ItemRepository(database)\n",
    "interactions_repository = db.InteractionRepository(database)"
   ]
  },
  {
   "cell_type": "code",
   "execution_count": 6,
   "id": "f164455b-b849-4887-b2b1-1824f3ca7900",
   "metadata": {},
   "outputs": [],
   "source": [
    "ctx = DomainContext(host=API_HOST)"
   ]
  },
  {
   "cell_type": "code",
   "execution_count": 7,
   "id": "28344fce-605c-4a36-968c-4b2d1dc6cb38",
   "metadata": {},
   "outputs": [],
   "source": [
    "items        = pd.read_json(f'{DATASET_PATH}/db_items.json')\n",
    "interactions = pd.read_json(f'{DATASET_PATH}/db_interactions.json')"
   ]
  },
  {
   "cell_type": "markdown",
   "id": "a905a319-090d-4980-9b95-19bf41fb85d4",
   "metadata": {},
   "source": [
    "### Pre-procesamiento y filtrado de items mas populares"
   ]
  },
  {
   "cell_type": "code",
   "execution_count": 10,
   "id": "055589cc-2208-40df-8954-2cadcbaab17e",
   "metadata": {},
   "outputs": [
    {
     "name": "stderr",
     "output_type": "stream",
     "text": [
      "2022-12-23 19:59:45,971 :: INFO :: root :: Repeated rows by ['id', 'name'] -> Count: 294, Percent: 0.07%\n"
     ]
    }
   ],
   "source": [
    "items = items \\\n",
    "    .pipe(ut.clean_html_format, 'description') \\\n",
    "    .pipe(ut.distinct_by, ['id', 'name'])"
   ]
  },
  {
   "cell_type": "code",
   "execution_count": 9,
   "id": "56667130-eceb-4ed7-bf49-ac4c44834e0a",
   "metadata": {},
   "outputs": [
    {
     "data": {
      "text/html": [
       "<div>\n",
       "<style scoped>\n",
       "    .dataframe tbody tr th:only-of-type {\n",
       "        vertical-align: middle;\n",
       "    }\n",
       "\n",
       "    .dataframe tbody tr th {\n",
       "        vertical-align: top;\n",
       "    }\n",
       "\n",
       "    .dataframe thead th {\n",
       "        text-align: right;\n",
       "    }\n",
       "</style>\n",
       "<table border=\"1\" class=\"dataframe\">\n",
       "  <thead>\n",
       "    <tr style=\"text-align: right;\">\n",
       "      <th></th>\n",
       "      <th>id</th>\n",
       "      <th>name</th>\n",
       "      <th>count</th>\n",
       "    </tr>\n",
       "  </thead>\n",
       "  <tbody>\n",
       "    <tr>\n",
       "      <th>385489</th>\n",
       "      <td>385504</td>\n",
       "      <td>1913. The Defiant Swan Song</td>\n",
       "      <td>2</td>\n",
       "    </tr>\n",
       "    <tr>\n",
       "      <th>384907</th>\n",
       "      <td>384922</td>\n",
       "      <td>The life of Christ</td>\n",
       "      <td>2</td>\n",
       "    </tr>\n",
       "    <tr>\n",
       "      <th>384935</th>\n",
       "      <td>384950</td>\n",
       "      <td>The United States in World War I; the story of...</td>\n",
       "      <td>2</td>\n",
       "    </tr>\n",
       "  </tbody>\n",
       "</table>\n",
       "</div>"
      ]
     },
     "execution_count": 9,
     "metadata": {},
     "output_type": "execute_result"
    }
   ],
   "source": [
    "repeaded_items = items \\\n",
    "    .groupby(['id', 'name']) \\\n",
    "    .size() \\\n",
    "    .reset_index(name='count') \\\n",
    "    .sort_values(by=['count'], ascending=False)\n",
    "\n",
    "repeaded_items = repeaded_items[repeaded_items['count'] > 1]\n",
    "\n",
    "repeaded_items.head(3)"
   ]
  },
  {
   "cell_type": "code",
   "execution_count": 11,
   "id": "c8352259-75c5-4522-af52-fa8ed62fd128",
   "metadata": {},
   "outputs": [],
   "source": [
    "def compute_item_popuparity(df):\n",
    "    return interactions \\\n",
    "        .groupby(['item_id'],as_index=False) \\\n",
    "        .agg({'rating': 'mean', 'user_id': 'count'}) \\\n",
    "        .rename(columns={'rating': 'rating_mean', 'user_id': 'interactions'}) \\\n",
    "        .sort_values(['interactions'], ascending=False) \\\n",
    "        .pipe(ut.min_max_scale_column, 'interactions', 'interactions_norm') \\\n",
    "        .pipe(ut.apply_fn_to_column, 'popularity', lambda df: df['rating_mean'] * df['interactions_norm']) \\\n",
    "        .pipe(ut.min_max_scale_column, 'popularity')"
   ]
  },
  {
   "cell_type": "code",
   "execution_count": 12,
   "id": "2d752a10-f70c-4f03-8ee8-8cd69dc49095",
   "metadata": {},
   "outputs": [
    {
     "data": {
      "text/html": [
       "<div>\n",
       "<style scoped>\n",
       "    .dataframe tbody tr th:only-of-type {\n",
       "        vertical-align: middle;\n",
       "    }\n",
       "\n",
       "    .dataframe tbody tr th {\n",
       "        vertical-align: top;\n",
       "    }\n",
       "\n",
       "    .dataframe thead th {\n",
       "        text-align: right;\n",
       "    }\n",
       "</style>\n",
       "<table border=\"1\" class=\"dataframe\">\n",
       "  <thead>\n",
       "    <tr style=\"text-align: right;\">\n",
       "      <th></th>\n",
       "      <th>item_id</th>\n",
       "      <th>rating_mean</th>\n",
       "      <th>interactions</th>\n",
       "      <th>interactions_norm</th>\n",
       "      <th>popularity</th>\n",
       "    </tr>\n",
       "  </thead>\n",
       "  <tbody>\n",
       "    <tr>\n",
       "      <th>1170</th>\n",
       "      <td>1171</td>\n",
       "      <td>4.127072</td>\n",
       "      <td>181</td>\n",
       "      <td>1.000000</td>\n",
       "      <td>0.888228</td>\n",
       "    </tr>\n",
       "    <tr>\n",
       "      <th>215478</th>\n",
       "      <td>215479</td>\n",
       "      <td>4.646409</td>\n",
       "      <td>181</td>\n",
       "      <td>1.000000</td>\n",
       "      <td>1.000000</td>\n",
       "    </tr>\n",
       "    <tr>\n",
       "      <th>217936</th>\n",
       "      <td>217937</td>\n",
       "      <td>4.655556</td>\n",
       "      <td>180</td>\n",
       "      <td>0.994444</td>\n",
       "      <td>0.996402</td>\n",
       "    </tr>\n",
       "    <tr>\n",
       "      <th>214451</th>\n",
       "      <td>214452</td>\n",
       "      <td>4.648045</td>\n",
       "      <td>179</td>\n",
       "      <td>0.988889</td>\n",
       "      <td>0.989237</td>\n",
       "    </tr>\n",
       "    <tr>\n",
       "      <th>215081</th>\n",
       "      <td>215082</td>\n",
       "      <td>4.648045</td>\n",
       "      <td>179</td>\n",
       "      <td>0.988889</td>\n",
       "      <td>0.989237</td>\n",
       "    </tr>\n",
       "  </tbody>\n",
       "</table>\n",
       "</div>"
      ]
     },
     "execution_count": 12,
     "metadata": {},
     "output_type": "execute_result"
    }
   ],
   "source": [
    "item_popuparity = compute_item_popuparity(interactions)\n",
    "item_popuparity.head(5)"
   ]
  },
  {
   "cell_type": "code",
   "execution_count": 13,
   "id": "38ac92d1-3e7e-4a3c-9119-bfa51081b776",
   "metadata": {},
   "outputs": [
    {
     "data": {
      "text/html": [
       "<pre style=\"white-space:pre;overflow-x:auto;line-height:normal;font-family:Menlo,'DejaVu Sans Mono',consolas,'Courier New',monospace\"><span style=\"font-weight: bold\">(</span><span style=\"color: #008080; text-decoration-color: #008080; font-weight: bold\">406269</span>, <span style=\"color: #008080; text-decoration-color: #008080; font-weight: bold\">5</span><span style=\"font-weight: bold\">)</span>\n",
       "</pre>\n"
      ],
      "text/plain": [
       "\u001b[1m(\u001b[0m\u001b[1;36m406269\u001b[0m, \u001b[1;36m5\u001b[0m\u001b[1m)\u001b[0m\n"
      ]
     },
     "metadata": {},
     "output_type": "display_data"
    }
   ],
   "source": [
    "item_popuparity.shape"
   ]
  },
  {
   "cell_type": "code",
   "execution_count": 18,
   "id": "e648cc79-c73d-451e-a4d9-010db129a740",
   "metadata": {},
   "outputs": [
    {
     "data": {
      "text/html": [
       "<pre style=\"white-space:pre;overflow-x:auto;line-height:normal;font-family:Menlo,'DejaVu Sans Mono',consolas,'Courier New',monospace\"><span style=\"font-weight: bold\">(</span><span style=\"color: #008080; text-decoration-color: #008080; font-weight: bold\">36</span>, <span style=\"color: #008080; text-decoration-color: #008080; font-weight: bold\">181</span>, <span style=\"font-weight: bold\">(</span><span style=\"color: #008080; text-decoration-color: #008080; font-weight: bold\">1029</span>, <span style=\"color: #008080; text-decoration-color: #008080; font-weight: bold\">5</span><span style=\"font-weight: bold\">))</span>\n",
       "</pre>\n"
      ],
      "text/plain": [
       "\u001b[1m(\u001b[0m\u001b[1;36m36\u001b[0m, \u001b[1;36m181\u001b[0m, \u001b[1m(\u001b[0m\u001b[1;36m1029\u001b[0m, \u001b[1;36m5\u001b[0m\u001b[1m)\u001b[0m\u001b[1m)\u001b[0m\n"
      ]
     },
     "metadata": {},
     "output_type": "display_data"
    },
    {
     "data": {
      "image/png": "[encoded data removed]"
     },
     "metadata": {},
     "output_type": "display_data"
    }
   ],
   "source": [
    "filtered_item_popuparity = item_popuparity[item_popuparity['popularity'] > 0.2]\n",
    "filtered_item_popuparity.popularity.hist(bins=200)\n",
    "\n",
    "filtered_item_popuparity.interactions.min(), filtered_item_popuparity.interactions.max(), filtered_item_popuparity.shape"
   ]
  },
  {
   "cell_type": "code",
   "execution_count": 19,
   "id": "6b098570-7f4a-4819-9a98-df5a56ff106c",
   "metadata": {},
   "outputs": [
    {
     "data": {
      "text/html": [
       "<pre style=\"white-space:pre;overflow-x:auto;line-height:normal;font-family:Menlo,'DejaVu Sans Mono',consolas,'Courier New',monospace\"><span style=\"font-weight: bold\">(</span><span style=\"color: #008080; text-decoration-color: #008080; font-weight: bold\">1029</span>,<span style=\"font-weight: bold\">)</span>\n",
       "</pre>\n"
      ],
      "text/plain": [
       "\u001b[1m(\u001b[0m\u001b[1;36m1029\u001b[0m,\u001b[1m)\u001b[0m\n"
      ]
     },
     "metadata": {},
     "output_type": "display_data"
    }
   ],
   "source": [
    "item_ids = filtered_item_popuparity.item_id.unique()\n",
    "item_ids.shape"
   ]
  },
  {
   "cell_type": "code",
   "execution_count": 20,
   "id": "130d89a7-16b9-4f2d-bb6e-3d6c8f5ebb8b",
   "metadata": {},
   "outputs": [],
   "source": [
    "filtered_items        = items[items.id.isin(item_ids)]\n",
    "filtered_interactions = interactions[interactions.item_id.isin(item_ids)]"
   ]
  },
  {
   "cell_type": "code",
   "execution_count": 21,
   "id": "1ea7422d-b8b9-4173-bee5-497680bdf1c7",
   "metadata": {},
   "outputs": [
    {
     "data": {
      "text/html": [
       "<pre style=\"white-space:pre;overflow-x:auto;line-height:normal;font-family:Menlo,'DejaVu Sans Mono',consolas,'Courier New',monospace\"><span style=\"font-weight: bold\">((</span><span style=\"color: #008080; text-decoration-color: #008080; font-weight: bold\">1029</span>, <span style=\"color: #008080; text-decoration-color: #008080; font-weight: bold\">4</span><span style=\"font-weight: bold\">)</span>, <span style=\"font-weight: bold\">(</span><span style=\"color: #008080; text-decoration-color: #008080; font-weight: bold\">55369</span>, <span style=\"color: #008080; text-decoration-color: #008080; font-weight: bold\">3</span><span style=\"font-weight: bold\">))</span>\n",
       "</pre>\n"
      ],
      "text/plain": [
       "\u001b[1m(\u001b[0m\u001b[1m(\u001b[0m\u001b[1;36m1029\u001b[0m, \u001b[1;36m4\u001b[0m\u001b[1m)\u001b[0m, \u001b[1m(\u001b[0m\u001b[1;36m55369\u001b[0m, \u001b[1;36m3\u001b[0m\u001b[1m)\u001b[0m\u001b[1m)\u001b[0m\n"
      ]
     },
     "metadata": {},
     "output_type": "display_data"
    }
   ],
   "source": [
    "filtered_items.shape, filtered_interactions.shape"
   ]
  },
  {
   "cell_type": "markdown",
   "id": "00617230-a994-4124-a6c2-36d06c4782c1",
   "metadata": {},
   "source": [
    "### Insertar items e interacciones en la base de datos"
   ]
  },
  {
   "cell_type": "code",
   "execution_count": null,
   "id": "2da00e0d-d9e2-41a3-a1d6-3cf2aaeedecc",
   "metadata": {},
   "outputs": [],
   "source": [
    "database.reset()"
   ]
  },
  {
   "cell_type": "code",
   "execution_count": 22,
   "id": "27f91ee7-6212-4f2b-af47-4fb5560faabf",
   "metadata": {},
   "outputs": [],
   "source": [
    "items_repository.save_all(filtered_items)"
   ]
  },
  {
   "cell_type": "code",
   "execution_count": 23,
   "id": "ee4669fb-563d-409d-b715-7c9de64f3d61",
   "metadata": {},
   "outputs": [],
   "source": [
    "interactions_repository.save_all(filtered_interactions)"
   ]
  },
  {
   "cell_type": "code",
   "execution_count": 1,
   "id": "603a0188-8230-4e45-b972-19d1d33baa26",
   "metadata": {},
   "outputs": [],
   "source": [
    "# result = database.execute(\"SELECT ... FROM ...\", select=True)\n",
    "# pd.DataFrame(result, columns=[...])"
   ]
  },
  {
   "cell_type": "code",
   "execution_count": null,
   "id": "d6b85c86-df8b-4936-8746-300a46fed32f",
   "metadata": {},
   "outputs": [],
   "source": []
  }
 ],
 "metadata": {
  "kernelspec": {
   "display_name": "Python 3 (ipykernel)",
   "language": "python",
   "name": "python3"
  },
  "language_info": {
   "codemirror_mode": {
    "name": "ipython",
    "version": 3
   },
   "file_extension": ".py",
   "mimetype": "text/x-python",
   "name": "python",
   "nbconvert_exporter": "python",
   "pygments_lexer": "ipython3",
   "version": "3.10.11"
  },
  "widgets": {
   "application/vnd.jupyter.widget-state+json": {
    "state": {},
    "version_major": 2,
    "version_minor": 0
   }
  }
 },
 "nbformat": 4,
 "nbformat_minor": 5
}
