{
 "cells": [
  {
   "cell_type": "markdown",
   "id": "0417277b-47df-4113-a7b3-8f960db06f1d",
   "metadata": {
    "tags": []
   },
   "source": [
    "# Add Fun Users Interactions"
   ]
  },
  {
   "cell_type": "code",
   "execution_count": 30,
   "id": "8dde5e70-5b86-460f-8791-20fcb554c378",
   "metadata": {},
   "outputs": [
    {
     "name": "stdout",
     "output_type": "stream",
     "text": [
      "The autoreload extension is already loaded. To reload it, use:\n",
      "  %reload_ext autoreload\n"
     ]
    }
   ],
   "source": [
    "%load_ext autoreload\n",
    "%autoreload 2"
   ]
  },
  {
   "cell_type": "code",
   "execution_count": 31,
   "id": "f98e7bf4-f41a-43f6-b7b7-a991d00f82de",
   "metadata": {},
   "outputs": [],
   "source": [
    "import sys\n",
    "sys.path.append('../../src')\n",
    "\n",
    "from domain_context import DomainContext\n",
    "\n",
    "import time\n",
    "import util as ut\n",
    "import logging\n",
    "import numpy as np"
   ]
  },
  {
   "cell_type": "code",
   "execution_count": 32,
   "id": "104286aa-e0e5-4630-b2d7-08e4194d5bf8",
   "metadata": {},
   "outputs": [],
   "source": [
    "def create_fun_user_interactions(user_id, item_collection, rating=5):\n",
    "    item_collection['user_id']           = user_id\n",
    "    item_collection['item_id']           = item_collection['id'].astype(int)\n",
    "    item_collection['rating']            = rating\n",
    "    item_collection['suitable_to_train'] = False\n",
    "    return item_collection[['user_id', 'item_id', 'rating', 'suitable_to_train']]"
   ]
  },
  {
   "cell_type": "code",
   "execution_count": 33,
   "id": "b0b0beb5-d410-46be-9514-05d186de0707",
   "metadata": {},
   "outputs": [],
   "source": [
    "def show(df):\n",
    "    return df[['id', 'name', 'tags', 'popularity']] \\\n",
    "        .sort_values(['popularity'], ascending=False).reset_index(drop=False) \\\n",
    "        .head()"
   ]
  },
  {
   "cell_type": "markdown",
   "id": "0e9ce6ca-b6af-4acf-9389-fbb0395a70b7",
   "metadata": {},
   "source": [
    "### Setup"
   ]
  },
  {
   "cell_type": "code",
   "execution_count": 34,
   "id": "74fbf986-bbf7-4938-8e40-82abb7c4455d",
   "metadata": {},
   "outputs": [],
   "source": [
    "ctx = DomainContext(host='http://localhost:8000')"
   ]
  },
  {
   "cell_type": "code",
   "execution_count": 35,
   "id": "d9d543df-f3d4-4f87-9b28-ad2f15e74460",
   "metadata": {},
   "outputs": [],
   "source": [
    "logging.getLogger().setLevel(logging.INFO)"
   ]
  },
  {
   "cell_type": "code",
   "execution_count": 36,
   "id": "1acdbd76-8ce4-4701-b124-071795fd10c1",
   "metadata": {},
   "outputs": [
    {
     "name": "stderr",
     "output_type": "stream",
     "text": [
      "2023-01-13 19:39:53,463 :: INFO :: ItemRepository :: Page 2/1 - Items 22/22\n",
      "2023-01-13 19:39:53,463 :: INFO :: ItemRepository :: 22 Total Items \n"
     ]
    },
    {
     "data": {
      "text/html": [
       "<div>\n",
       "<style scoped>\n",
       "    .dataframe tbody tr th:only-of-type {\n",
       "        vertical-align: middle;\n",
       "    }\n",
       "\n",
       "    .dataframe tbody tr th {\n",
       "        vertical-align: top;\n",
       "    }\n",
       "\n",
       "    .dataframe thead th {\n",
       "        text-align: right;\n",
       "    }\n",
       "</style>\n",
       "<table border=\"1\" class=\"dataframe\">\n",
       "  <thead>\n",
       "    <tr style=\"text-align: right;\">\n",
       "      <th></th>\n",
       "      <th>index</th>\n",
       "      <th>id</th>\n",
       "      <th>name</th>\n",
       "      <th>tags</th>\n",
       "      <th>popularity</th>\n",
       "    </tr>\n",
       "  </thead>\n",
       "  <tbody>\n",
       "    <tr>\n",
       "      <th>0</th>\n",
       "      <td>15</td>\n",
       "      <td>215479</td>\n",
       "      <td>Hobbit and Lord of the Rings Trilogy - Boxed S...</td>\n",
       "      <td>[Adventure, Young Adult, Fiction, Classics, Fa...</td>\n",
       "      <td>1.000000</td>\n",
       "    </tr>\n",
       "    <tr>\n",
       "      <th>1</th>\n",
       "      <td>18</td>\n",
       "      <td>217937</td>\n",
       "      <td>Fellowship of the Ring (Lord of the Rings Part 1)</td>\n",
       "      <td>[Lord of the rings, J.R.R. Tolkien’s, Adventur...</td>\n",
       "      <td>0.988183</td>\n",
       "    </tr>\n",
       "    <tr>\n",
       "      <th>2</th>\n",
       "      <td>14</td>\n",
       "      <td>215082</td>\n",
       "      <td>The Lord of The Rings Trilogy</td>\n",
       "      <td>[Adventure, Fiction, Classics, Fantasy, High F...</td>\n",
       "      <td>0.986706</td>\n",
       "    </tr>\n",
       "    <tr>\n",
       "      <th>3</th>\n",
       "      <td>20</td>\n",
       "      <td>214452</td>\n",
       "      <td>The Hobbit</td>\n",
       "      <td>[Adventure, Young Adult, Fiction, Classics, Fa...</td>\n",
       "      <td>0.986706</td>\n",
       "    </tr>\n",
       "    <tr>\n",
       "      <th>4</th>\n",
       "      <td>1</td>\n",
       "      <td>499</td>\n",
       "      <td>The Hobbit</td>\n",
       "      <td>[Lord of the rings, J.R.R. Tolkien’s, Adventur...</td>\n",
       "      <td>0.986706</td>\n",
       "    </tr>\n",
       "  </tbody>\n",
       "</table>\n",
       "</div>"
      ]
     },
     "execution_count": 36,
     "metadata": {},
     "output_type": "execute_result"
    }
   ],
   "source": [
    "show(ctx.item_service.find_by(query={'tags': ['adventure', '-romance', '-adult', 'fantasy', '-horror']}))"
   ]
  },
  {
   "cell_type": "markdown",
   "id": "83f0a78e-3b63-4b30-8c55-a6f191cfe6c8",
   "metadata": {},
   "source": [
    "### Get available user ids"
   ]
  },
  {
   "cell_type": "code",
   "execution_count": 37,
   "id": "a138b041-bbb2-497d-afac-b73c301102c6",
   "metadata": {},
   "outputs": [
    {
     "name": "stderr",
     "output_type": "stream",
     "text": [
      "2023-01-13 19:39:56,376 :: INFO :: UserRepository :: Page 2/1 - Users 3/3\n",
      "2023-01-13 19:39:56,376 :: INFO :: UserRepository :: 3 Total Users \n"
     ]
    },
    {
     "data": {
      "text/html": [
       "<pre style=\"white-space:pre;overflow-x:auto;line-height:normal;font-family:Menlo,'DejaVu Sans Mono',consolas,'Courier New',monospace\">\n",
       "<span style=\"font-weight: bold\">[</span>\n",
       "    <span style=\"font-weight: bold\">{</span>\n",
       "    <span style=\"color: #008000; text-decoration-color: #008000\">\"id\"</span>: <span style=\"color: #008080; text-decoration-color: #008080; font-weight: bold\">1</span>,\n",
       "    <span style=\"color: #008000; text-decoration-color: #008000\">\"username\"</span>: <span style=\"color: #008000; text-decoration-color: #008000\">\"adrian\"</span>,\n",
       "    <span style=\"color: #008000; text-decoration-color: #008000\">\"email\"</span>: <span style=\"color: #008000; text-decoration-color: #008000\">\"adrianmarino@gmail.com\"</span>\n",
       "<span style=\"font-weight: bold\">}</span>,\n",
       "    <span style=\"font-weight: bold\">{</span>\n",
       "    <span style=\"color: #008000; text-decoration-color: #008000\">\"id\"</span>: <span style=\"color: #008080; text-decoration-color: #008080; font-weight: bold\">5000</span>,\n",
       "    <span style=\"color: #008000; text-decoration-color: #008000\">\"username\"</span>: <span style=\"color: #008000; text-decoration-color: #008000\">\"adrian.marino\"</span>,\n",
       "    <span style=\"color: #008000; text-decoration-color: #008000\">\"email\"</span>: <span style=\"color: #008000; text-decoration-color: #008000\">\"adrian.marino@pedidosya.com\"</span>\n",
       "<span style=\"font-weight: bold\">}</span>,\n",
       "    <span style=\"font-weight: bold\">{</span>\n",
       "    <span style=\"color: #008000; text-decoration-color: #008000\">\"id\"</span>: <span style=\"color: #008080; text-decoration-color: #008080; font-weight: bold\">5001</span>,\n",
       "    <span style=\"color: #008000; text-decoration-color: #008000\">\"username\"</span>: <span style=\"color: #008000; text-decoration-color: #008000\">\"Lionel5000\"</span>,\n",
       "    <span style=\"color: #008000; text-decoration-color: #008000\">\"email\"</span>: <span style=\"color: #008000; text-decoration-color: #008000\">\"leonardogrosso@gmail.com\"</span>\n",
       "<span style=\"font-weight: bold\">}</span>\n",
       "<span style=\"font-weight: bold\">]</span>\n",
       "</pre>\n"
      ],
      "text/plain": [
       "\n",
       "\u001b[1m[\u001b[0m\n",
       "    \u001b[1m{\u001b[0m\n",
       "    \u001b[32m\"id\"\u001b[0m: \u001b[1;36m1\u001b[0m,\n",
       "    \u001b[32m\"username\"\u001b[0m: \u001b[32m\"adrian\"\u001b[0m,\n",
       "    \u001b[32m\"email\"\u001b[0m: \u001b[32m\"adrianmarino@gmail.com\"\u001b[0m\n",
       "\u001b[1m}\u001b[0m,\n",
       "    \u001b[1m{\u001b[0m\n",
       "    \u001b[32m\"id\"\u001b[0m: \u001b[1;36m5000\u001b[0m,\n",
       "    \u001b[32m\"username\"\u001b[0m: \u001b[32m\"adrian.marino\"\u001b[0m,\n",
       "    \u001b[32m\"email\"\u001b[0m: \u001b[32m\"adrian.marino@pedidosya.com\"\u001b[0m\n",
       "\u001b[1m}\u001b[0m,\n",
       "    \u001b[1m{\u001b[0m\n",
       "    \u001b[32m\"id\"\u001b[0m: \u001b[1;36m5001\u001b[0m,\n",
       "    \u001b[32m\"username\"\u001b[0m: \u001b[32m\"Lionel5000\"\u001b[0m,\n",
       "    \u001b[32m\"email\"\u001b[0m: \u001b[32m\"leonardogrosso@gmail.com\"\u001b[0m\n",
       "\u001b[1m}\u001b[0m\n",
       "\u001b[1m]\u001b[0m\n"
      ]
     },
     "metadata": {},
     "output_type": "display_data"
    }
   ],
   "source": [
    "real_users = ctx.user_repository.find()\n",
    "real_users"
   ]
  },
  {
   "cell_type": "code",
   "execution_count": 38,
   "id": "c7144665-59f0-485b-a81a-b6f929700d16",
   "metadata": {},
   "outputs": [
    {
     "data": {
      "text/html": [
       "<pre style=\"white-space:pre;overflow-x:auto;line-height:normal;font-family:Menlo,'DejaVu Sans Mono',consolas,'Courier New',monospace\"><span style=\"font-weight: bold\">{</span><span style=\"color: #008080; text-decoration-color: #008080; font-weight: bold\">5000</span>, <span style=\"color: #008080; text-decoration-color: #008080; font-weight: bold\">1</span>, <span style=\"color: #008080; text-decoration-color: #008080; font-weight: bold\">5001</span><span style=\"font-weight: bold\">}</span>\n",
       "</pre>\n"
      ],
      "text/plain": [
       "\u001b[1m{\u001b[0m\u001b[1;36m5000\u001b[0m, \u001b[1;36m1\u001b[0m, \u001b[1;36m5001\u001b[0m\u001b[1m}\u001b[0m\n"
      ]
     },
     "metadata": {},
     "output_type": "display_data"
    }
   ],
   "source": [
    "real_user_ids = set([u.id for u in real_users])\n",
    "real_user_ids"
   ]
  },
  {
   "cell_type": "code",
   "execution_count": 39,
   "id": "2b1e3b73-a92f-4142-8b9c-ffae6a207ccb",
   "metadata": {},
   "outputs": [
    {
     "name": "stderr",
     "output_type": "stream",
     "text": [
      "2023-01-13 19:40:03,520 :: INFO :: InteractionRepository :: Page 1/2 - Interactions 50000/55362\n",
      "2023-01-13 19:40:03,845 :: INFO :: InteractionRepository :: Page 2/2 - Interactions 55362/55362\n",
      "2023-01-13 19:40:03,845 :: INFO :: InteractionRepository :: 55362 Total Interactions \n"
     ]
    }
   ],
   "source": [
    "interactions = ctx.interaction_service.find_all()\n",
    "user_ids = set(interactions['user_id'].unique())"
   ]
  },
  {
   "cell_type": "code",
   "execution_count": 40,
   "id": "fcf41406-39a8-4629-ab68-dcd4bdf8889b",
   "metadata": {},
   "outputs": [
    {
     "data": {
      "text/html": [
       "<pre style=\"white-space:pre;overflow-x:auto;line-height:normal;font-family:Menlo,'DejaVu Sans Mono',consolas,'Courier New',monospace\"><span style=\"font-weight: bold\">(</span><span style=\"color: #008080; text-decoration-color: #008080; font-weight: bold\">0</span>, <span style=\"color: #008080; text-decoration-color: #008080; font-weight: bold\">3</span><span style=\"font-weight: bold\">)</span>\n",
       "</pre>\n"
      ],
      "text/plain": [
       "\u001b[1m(\u001b[0m\u001b[1;36m0\u001b[0m, \u001b[1;36m3\u001b[0m\u001b[1m)\u001b[0m\n"
      ]
     },
     "metadata": {},
     "output_type": "display_data"
    }
   ],
   "source": [
    "interactions[interactions['user_id'] == 5000].shape"
   ]
  },
  {
   "cell_type": "code",
   "execution_count": 41,
   "id": "2b54a80d-6cfb-4430-baa1-50f29c0ba280",
   "metadata": {},
   "outputs": [
    {
     "data": {
      "text/html": [
       "<pre style=\"white-space:pre;overflow-x:auto;line-height:normal;font-family:Menlo,'DejaVu Sans Mono',consolas,'Courier New',monospace\"><span style=\"color: #008080; text-decoration-color: #008080; font-weight: bold\">1617</span>\n",
       "</pre>\n"
      ],
      "text/plain": [
       "\u001b[1;36m1617\u001b[0m\n"
      ]
     },
     "metadata": {},
     "output_type": "display_data"
    }
   ],
   "source": [
    "available_ids = list(user_ids - real_user_ids)\n",
    "max(available_ids)"
   ]
  },
  {
   "cell_type": "markdown",
   "id": "b1bf83b7-4737-401c-aae0-5fe20e383265",
   "metadata": {},
   "source": [
    "### Create fun users"
   ]
  },
  {
   "cell_type": "markdown",
   "id": "f70b4905-4db5-4331-a0fe-e54f5f6e65f8",
   "metadata": {},
   "source": [
    "#### Romantic fun user"
   ]
  },
  {
   "cell_type": "code",
   "execution_count": 42,
   "id": "20f67eee-1965-4c9d-ab56-a9c93b0208f9",
   "metadata": {},
   "outputs": [
    {
     "name": "stderr",
     "output_type": "stream",
     "text": [
      "2023-01-13 19:40:14,493 :: INFO :: ItemRepository :: Page 2/1 - Items 226/226\n",
      "2023-01-13 19:40:14,493 :: INFO :: ItemRepository :: 226 Total Items \n"
     ]
    },
    {
     "data": {
      "text/html": [
       "<div>\n",
       "<style scoped>\n",
       "    .dataframe tbody tr th:only-of-type {\n",
       "        vertical-align: middle;\n",
       "    }\n",
       "\n",
       "    .dataframe tbody tr th {\n",
       "        vertical-align: top;\n",
       "    }\n",
       "\n",
       "    .dataframe thead th {\n",
       "        text-align: right;\n",
       "    }\n",
       "</style>\n",
       "<table border=\"1\" class=\"dataframe\">\n",
       "  <thead>\n",
       "    <tr style=\"text-align: right;\">\n",
       "      <th></th>\n",
       "      <th>index</th>\n",
       "      <th>id</th>\n",
       "      <th>name</th>\n",
       "      <th>tags</th>\n",
       "      <th>popularity</th>\n",
       "    </tr>\n",
       "  </thead>\n",
       "  <tbody>\n",
       "    <tr>\n",
       "      <th>0</th>\n",
       "      <td>51</td>\n",
       "      <td>141031</td>\n",
       "      <td>Wild Man (Dream Man)</td>\n",
       "      <td>[Romance, Adult, Contemporary, Suspense, Roman...</td>\n",
       "      <td>0.627769</td>\n",
       "    </tr>\n",
       "    <tr>\n",
       "      <th>1</th>\n",
       "      <td>47</td>\n",
       "      <td>140465</td>\n",
       "      <td>Fire Inside: A Chaos Novel</td>\n",
       "      <td>[Romance, Adult, Contemporary, Chick Lit, Roma...</td>\n",
       "      <td>0.485967</td>\n",
       "    </tr>\n",
       "    <tr>\n",
       "      <th>2</th>\n",
       "      <td>7</td>\n",
       "      <td>55293</td>\n",
       "      <td>Bared to You / Reflected in You / Entwined wit...</td>\n",
       "      <td>[Romance, Adult, Contemporary Romance, Erotica...</td>\n",
       "      <td>0.382570</td>\n",
       "    </tr>\n",
       "    <tr>\n",
       "      <th>3</th>\n",
       "      <td>219</td>\n",
       "      <td>125159</td>\n",
       "      <td>Dirty: A Dive Bar Novel</td>\n",
       "      <td>[Romance, Humor, Audiobook, Adult, Contemporar...</td>\n",
       "      <td>0.351551</td>\n",
       "    </tr>\n",
       "    <tr>\n",
       "      <th>4</th>\n",
       "      <td>220</td>\n",
       "      <td>117784</td>\n",
       "      <td>Driven (The Driven Trilogy)</td>\n",
       "      <td>[Romance, Contemporary, Adult Fiction, Contemp...</td>\n",
       "      <td>0.350074</td>\n",
       "    </tr>\n",
       "  </tbody>\n",
       "</table>\n",
       "</div>"
      ]
     },
     "execution_count": 42,
     "metadata": {},
     "output_type": "execute_result"
    }
   ],
   "source": [
    "item_collection = ctx.item_service.find_by(query={'tags': ['romance', 'erotica']})\n",
    "show(item_collection)"
   ]
  },
  {
   "cell_type": "code",
   "execution_count": 43,
   "id": "ea2ae7b0-91c1-4e7f-93ce-47b9ad96a052",
   "metadata": {},
   "outputs": [
    {
     "data": {
      "text/html": [
       "<div>\n",
       "<style scoped>\n",
       "    .dataframe tbody tr th:only-of-type {\n",
       "        vertical-align: middle;\n",
       "    }\n",
       "\n",
       "    .dataframe tbody tr th {\n",
       "        vertical-align: top;\n",
       "    }\n",
       "\n",
       "    .dataframe thead th {\n",
       "        text-align: right;\n",
       "    }\n",
       "</style>\n",
       "<table border=\"1\" class=\"dataframe\">\n",
       "  <thead>\n",
       "    <tr style=\"text-align: right;\">\n",
       "      <th></th>\n",
       "      <th>user_id</th>\n",
       "      <th>item_id</th>\n",
       "      <th>rating</th>\n",
       "      <th>suitable_to_train</th>\n",
       "    </tr>\n",
       "  </thead>\n",
       "  <tbody>\n",
       "    <tr>\n",
       "      <th>0</th>\n",
       "      <td>1618</td>\n",
       "      <td>10446</td>\n",
       "      <td>5</td>\n",
       "      <td>False</td>\n",
       "    </tr>\n",
       "    <tr>\n",
       "      <th>1</th>\n",
       "      <td>1618</td>\n",
       "      <td>23134</td>\n",
       "      <td>5</td>\n",
       "      <td>False</td>\n",
       "    </tr>\n",
       "    <tr>\n",
       "      <th>2</th>\n",
       "      <td>1618</td>\n",
       "      <td>39001</td>\n",
       "      <td>5</td>\n",
       "      <td>False</td>\n",
       "    </tr>\n",
       "    <tr>\n",
       "      <th>3</th>\n",
       "      <td>1618</td>\n",
       "      <td>39012</td>\n",
       "      <td>5</td>\n",
       "      <td>False</td>\n",
       "    </tr>\n",
       "    <tr>\n",
       "      <th>4</th>\n",
       "      <td>1618</td>\n",
       "      <td>49571</td>\n",
       "      <td>5</td>\n",
       "      <td>False</td>\n",
       "    </tr>\n",
       "  </tbody>\n",
       "</table>\n",
       "</div>"
      ]
     },
     "execution_count": 43,
     "metadata": {},
     "output_type": "execute_result"
    }
   ],
   "source": [
    "fun_user_id     = max(available_ids) + 1\n",
    "fun_user_rating = 5\n",
    "    \n",
    "fun_user_interactions = create_fun_user_interactions(\n",
    "    fun_user_id, \n",
    "    item_collection, \n",
    "    fun_user_rating\n",
    ")\n",
    "\n",
    "fun_user_interactions.head()"
   ]
  },
  {
   "cell_type": "code",
   "execution_count": 44,
   "id": "ec602883-b878-4c2e-bb68-7726432fd86a",
   "metadata": {},
   "outputs": [
    {
     "name": "stderr",
     "output_type": "stream",
     "text": [
      "2023-01-13 19:40:29,352 :: INFO :: DataFramePaginationIterator :: Page 1/23 - Items 10/226\n",
      "2023-01-13 19:40:29,509 :: INFO :: DataFramePaginationIterator :: Page 2/23 - Items 20/226\n",
      "2023-01-13 19:40:29,695 :: INFO :: DataFramePaginationIterator :: Page 3/23 - Items 30/226\n",
      "2023-01-13 19:40:29,841 :: INFO :: DataFramePaginationIterator :: Page 4/23 - Items 40/226\n",
      "2023-01-13 19:40:29,995 :: INFO :: DataFramePaginationIterator :: Page 5/23 - Items 50/226\n",
      "2023-01-13 19:40:30,248 :: INFO :: DataFramePaginationIterator :: Page 6/23 - Items 60/226\n",
      "2023-01-13 19:40:30,351 :: INFO :: DataFramePaginationIterator :: Page 7/23 - Items 70/226\n",
      "2023-01-13 19:40:30,491 :: INFO :: DataFramePaginationIterator :: Page 8/23 - Items 80/226\n",
      "2023-01-13 19:40:30,598 :: INFO :: DataFramePaginationIterator :: Page 9/23 - Items 90/226\n",
      "2023-01-13 19:40:30,675 :: INFO :: DataFramePaginationIterator :: Page 10/23 - Items 100/226\n",
      "2023-01-13 19:40:30,791 :: INFO :: DataFramePaginationIterator :: Page 11/23 - Items 110/226\n",
      "2023-01-13 19:40:30,898 :: INFO :: DataFramePaginationIterator :: Page 12/23 - Items 120/226\n",
      "2023-01-13 19:40:31,035 :: INFO :: DataFramePaginationIterator :: Page 13/23 - Items 130/226\n",
      "2023-01-13 19:40:31,191 :: INFO :: DataFramePaginationIterator :: Page 14/23 - Items 140/226\n",
      "2023-01-13 19:40:31,365 :: INFO :: DataFramePaginationIterator :: Page 15/23 - Items 150/226\n",
      "2023-01-13 19:40:31,471 :: INFO :: DataFramePaginationIterator :: Page 16/23 - Items 160/226\n",
      "2023-01-13 19:40:31,945 :: INFO :: DataFramePaginationIterator :: Page 17/23 - Items 170/226\n",
      "2023-01-13 19:40:32,448 :: INFO :: DataFramePaginationIterator :: Page 18/23 - Items 180/226\n",
      "2023-01-13 19:40:32,525 :: INFO :: DataFramePaginationIterator :: Page 19/23 - Items 190/226\n",
      "2023-01-13 19:40:32,631 :: INFO :: DataFramePaginationIterator :: Page 20/23 - Items 200/226\n",
      "2023-01-13 19:40:32,908 :: INFO :: DataFramePaginationIterator :: Page 21/23 - Items 210/226\n",
      "2023-01-13 19:40:33,278 :: INFO :: DataFramePaginationIterator :: Page 22/23 - Items 220/226\n",
      "2023-01-13 19:40:33,371 :: INFO :: DataFramePaginationIterator :: Page 23/23 - Items 226/226\n",
      "2023-01-13 19:40:33,438 :: INFO :: DataFramePaginationIterator :: Totals - Pages 23 - Items 226\n"
     ]
    }
   ],
   "source": [
    "ctx.interaction_service.add_many(fun_user_interactions)"
   ]
  },
  {
   "cell_type": "code",
   "execution_count": 45,
   "id": "3f4db496-6912-4f77-8e67-ae2d2303f97a",
   "metadata": {},
   "outputs": [
    {
     "name": "stderr",
     "output_type": "stream",
     "text": [
      "2023-01-13 19:40:44,745 :: INFO :: InteractionRepository :: Page 1/2 - Interactions 50000/55588\n",
      "2023-01-13 19:40:45,819 :: INFO :: InteractionRepository :: Page 2/2 - Interactions 55588/55588\n",
      "2023-01-13 19:40:45,820 :: INFO :: InteractionRepository :: 55588 Total Interactions \n"
     ]
    },
    {
     "data": {
      "text/html": [
       "<div>\n",
       "<style scoped>\n",
       "    .dataframe tbody tr th:only-of-type {\n",
       "        vertical-align: middle;\n",
       "    }\n",
       "\n",
       "    .dataframe tbody tr th {\n",
       "        vertical-align: top;\n",
       "    }\n",
       "\n",
       "    .dataframe thead th {\n",
       "        text-align: right;\n",
       "    }\n",
       "</style>\n",
       "<table border=\"1\" class=\"dataframe\">\n",
       "  <thead>\n",
       "    <tr style=\"text-align: right;\">\n",
       "      <th></th>\n",
       "      <th>user_id</th>\n",
       "      <th>item_id</th>\n",
       "      <th>rating</th>\n",
       "    </tr>\n",
       "  </thead>\n",
       "  <tbody>\n",
       "    <tr>\n",
       "      <th>0</th>\n",
       "      <td>98</td>\n",
       "      <td>35</td>\n",
       "      <td>2.0</td>\n",
       "    </tr>\n",
       "    <tr>\n",
       "      <th>1</th>\n",
       "      <td>90</td>\n",
       "      <td>35</td>\n",
       "      <td>5.0</td>\n",
       "    </tr>\n",
       "    <tr>\n",
       "      <th>2</th>\n",
       "      <td>99</td>\n",
       "      <td>35</td>\n",
       "      <td>4.0</td>\n",
       "    </tr>\n",
       "    <tr>\n",
       "      <th>3</th>\n",
       "      <td>99</td>\n",
       "      <td>35</td>\n",
       "      <td>4.0</td>\n",
       "    </tr>\n",
       "    <tr>\n",
       "      <th>4</th>\n",
       "      <td>100</td>\n",
       "      <td>35</td>\n",
       "      <td>5.0</td>\n",
       "    </tr>\n",
       "  </tbody>\n",
       "</table>\n",
       "</div>"
      ]
     },
     "execution_count": 45,
     "metadata": {},
     "output_type": "execute_result"
    }
   ],
   "source": [
    "interactions = ctx.interaction_service.find_all()\n",
    "interactions.head()"
   ]
  },
  {
   "cell_type": "code",
   "execution_count": 46,
   "id": "8791f917-d280-47fb-a188-d9fb0e065694",
   "metadata": {},
   "outputs": [
    {
     "data": {
      "text/html": [
       "<div>\n",
       "<style scoped>\n",
       "    .dataframe tbody tr th:only-of-type {\n",
       "        vertical-align: middle;\n",
       "    }\n",
       "\n",
       "    .dataframe tbody tr th {\n",
       "        vertical-align: top;\n",
       "    }\n",
       "\n",
       "    .dataframe thead th {\n",
       "        text-align: right;\n",
       "    }\n",
       "</style>\n",
       "<table border=\"1\" class=\"dataframe\">\n",
       "  <thead>\n",
       "    <tr style=\"text-align: right;\">\n",
       "      <th></th>\n",
       "      <th>user_id</th>\n",
       "      <th>item_id</th>\n",
       "      <th>rating</th>\n",
       "    </tr>\n",
       "  </thead>\n",
       "  <tbody>\n",
       "    <tr>\n",
       "      <th>55362</th>\n",
       "      <td>1618</td>\n",
       "      <td>10446</td>\n",
       "      <td>5.0</td>\n",
       "    </tr>\n",
       "    <tr>\n",
       "      <th>55363</th>\n",
       "      <td>1618</td>\n",
       "      <td>23134</td>\n",
       "      <td>5.0</td>\n",
       "    </tr>\n",
       "    <tr>\n",
       "      <th>55364</th>\n",
       "      <td>1618</td>\n",
       "      <td>39001</td>\n",
       "      <td>5.0</td>\n",
       "    </tr>\n",
       "    <tr>\n",
       "      <th>55365</th>\n",
       "      <td>1618</td>\n",
       "      <td>39012</td>\n",
       "      <td>5.0</td>\n",
       "    </tr>\n",
       "    <tr>\n",
       "      <th>55366</th>\n",
       "      <td>1618</td>\n",
       "      <td>49571</td>\n",
       "      <td>5.0</td>\n",
       "    </tr>\n",
       "    <tr>\n",
       "      <th>...</th>\n",
       "      <td>...</td>\n",
       "      <td>...</td>\n",
       "      <td>...</td>\n",
       "    </tr>\n",
       "    <tr>\n",
       "      <th>55583</th>\n",
       "      <td>1618</td>\n",
       "      <td>144873</td>\n",
       "      <td>5.0</td>\n",
       "    </tr>\n",
       "    <tr>\n",
       "      <th>55584</th>\n",
       "      <td>1618</td>\n",
       "      <td>125369</td>\n",
       "      <td>5.0</td>\n",
       "    </tr>\n",
       "    <tr>\n",
       "      <th>55585</th>\n",
       "      <td>1618</td>\n",
       "      <td>169815</td>\n",
       "      <td>5.0</td>\n",
       "    </tr>\n",
       "    <tr>\n",
       "      <th>55586</th>\n",
       "      <td>1618</td>\n",
       "      <td>216729</td>\n",
       "      <td>5.0</td>\n",
       "    </tr>\n",
       "    <tr>\n",
       "      <th>55587</th>\n",
       "      <td>1618</td>\n",
       "      <td>161823</td>\n",
       "      <td>5.0</td>\n",
       "    </tr>\n",
       "  </tbody>\n",
       "</table>\n",
       "<p>226 rows × 3 columns</p>\n",
       "</div>"
      ]
     },
     "execution_count": 46,
     "metadata": {},
     "output_type": "execute_result"
    }
   ],
   "source": [
    "interactions[interactions['user_id'] == fun_user_id]"
   ]
  },
  {
   "cell_type": "code",
   "execution_count": 47,
   "id": "b2e1505f-3edd-42b5-a78e-df3ff82121b3",
   "metadata": {},
   "outputs": [
    {
     "data": {
      "text/html": [
       "<div>\n",
       "<style scoped>\n",
       "    .dataframe tbody tr th:only-of-type {\n",
       "        vertical-align: middle;\n",
       "    }\n",
       "\n",
       "    .dataframe tbody tr th {\n",
       "        vertical-align: top;\n",
       "    }\n",
       "\n",
       "    .dataframe thead th {\n",
       "        text-align: right;\n",
       "    }\n",
       "</style>\n",
       "<table border=\"1\" class=\"dataframe\">\n",
       "  <thead>\n",
       "    <tr style=\"text-align: right;\">\n",
       "      <th></th>\n",
       "      <th>user_id</th>\n",
       "      <th>item_id</th>\n",
       "      <th>rating</th>\n",
       "      <th>suitable_to_train</th>\n",
       "    </tr>\n",
       "  </thead>\n",
       "  <tbody>\n",
       "    <tr>\n",
       "      <th>0</th>\n",
       "      <td>1619</td>\n",
       "      <td>10446</td>\n",
       "      <td>4</td>\n",
       "      <td>False</td>\n",
       "    </tr>\n",
       "    <tr>\n",
       "      <th>1</th>\n",
       "      <td>1619</td>\n",
       "      <td>23134</td>\n",
       "      <td>4</td>\n",
       "      <td>False</td>\n",
       "    </tr>\n",
       "    <tr>\n",
       "      <th>2</th>\n",
       "      <td>1619</td>\n",
       "      <td>39001</td>\n",
       "      <td>4</td>\n",
       "      <td>False</td>\n",
       "    </tr>\n",
       "    <tr>\n",
       "      <th>3</th>\n",
       "      <td>1619</td>\n",
       "      <td>39012</td>\n",
       "      <td>4</td>\n",
       "      <td>False</td>\n",
       "    </tr>\n",
       "    <tr>\n",
       "      <th>4</th>\n",
       "      <td>1619</td>\n",
       "      <td>49571</td>\n",
       "      <td>4</td>\n",
       "      <td>False</td>\n",
       "    </tr>\n",
       "  </tbody>\n",
       "</table>\n",
       "</div>"
      ]
     },
     "execution_count": 47,
     "metadata": {},
     "output_type": "execute_result"
    }
   ],
   "source": [
    "fun_user_id     = fun_user_id + 1\n",
    "fun_user_rating = 4\n",
    "    \n",
    "fun_user_interactions = create_fun_user_interactions(\n",
    "    fun_user_id, \n",
    "    item_collection, \n",
    "    fun_user_rating\n",
    ")\n",
    "\n",
    "fun_user_interactions.head()"
   ]
  },
  {
   "cell_type": "code",
   "execution_count": 48,
   "id": "e7965530-a428-4a9d-90c5-fa80f7c4eaa1",
   "metadata": {},
   "outputs": [
    {
     "name": "stderr",
     "output_type": "stream",
     "text": [
      "2023-01-13 19:40:55,351 :: INFO :: DataFramePaginationIterator :: Page 1/23 - Items 10/226\n",
      "2023-01-13 19:40:55,430 :: INFO :: DataFramePaginationIterator :: Page 2/23 - Items 20/226\n",
      "2023-01-13 19:40:55,548 :: INFO :: DataFramePaginationIterator :: Page 3/23 - Items 30/226\n",
      "2023-01-13 19:40:55,658 :: INFO :: DataFramePaginationIterator :: Page 4/23 - Items 40/226\n",
      "2023-01-13 19:40:55,774 :: INFO :: DataFramePaginationIterator :: Page 5/23 - Items 50/226\n",
      "2023-01-13 19:40:55,908 :: INFO :: DataFramePaginationIterator :: Page 6/23 - Items 60/226\n",
      "2023-01-13 19:40:56,044 :: INFO :: DataFramePaginationIterator :: Page 7/23 - Items 70/226\n",
      "2023-01-13 19:40:56,191 :: INFO :: DataFramePaginationIterator :: Page 8/23 - Items 80/226\n",
      "2023-01-13 19:40:56,324 :: INFO :: DataFramePaginationIterator :: Page 9/23 - Items 90/226\n",
      "2023-01-13 19:40:56,454 :: INFO :: DataFramePaginationIterator :: Page 10/23 - Items 100/226\n",
      "2023-01-13 19:40:56,564 :: INFO :: DataFramePaginationIterator :: Page 11/23 - Items 110/226\n",
      "2023-01-13 19:40:56,708 :: INFO :: DataFramePaginationIterator :: Page 12/23 - Items 120/226\n",
      "2023-01-13 19:40:56,871 :: INFO :: DataFramePaginationIterator :: Page 13/23 - Items 130/226\n",
      "2023-01-13 19:40:57,004 :: INFO :: DataFramePaginationIterator :: Page 14/23 - Items 140/226\n",
      "2023-01-13 19:40:57,111 :: INFO :: DataFramePaginationIterator :: Page 15/23 - Items 150/226\n",
      "2023-01-13 19:40:57,241 :: INFO :: DataFramePaginationIterator :: Page 16/23 - Items 160/226\n",
      "2023-01-13 19:40:57,361 :: INFO :: DataFramePaginationIterator :: Page 17/23 - Items 170/226\n",
      "2023-01-13 19:40:57,484 :: INFO :: DataFramePaginationIterator :: Page 18/23 - Items 180/226\n",
      "2023-01-13 19:40:57,628 :: INFO :: DataFramePaginationIterator :: Page 19/23 - Items 190/226\n",
      "2023-01-13 19:40:58,235 :: INFO :: DataFramePaginationIterator :: Page 20/23 - Items 200/226\n",
      "2023-01-13 19:40:58,358 :: INFO :: DataFramePaginationIterator :: Page 21/23 - Items 210/226\n",
      "2023-01-13 19:40:58,625 :: INFO :: DataFramePaginationIterator :: Page 22/23 - Items 220/226\n",
      "2023-01-13 19:40:58,881 :: INFO :: DataFramePaginationIterator :: Page 23/23 - Items 226/226\n",
      "2023-01-13 19:40:58,978 :: INFO :: DataFramePaginationIterator :: Totals - Pages 23 - Items 226\n"
     ]
    }
   ],
   "source": [
    "ctx.interaction_service.add_many(fun_user_interactions)"
   ]
  },
  {
   "cell_type": "markdown",
   "id": "22cf97e9-e250-417a-a167-87fdd5da1331",
   "metadata": {},
   "source": [
    "#### Suspense/Thriller fun user"
   ]
  },
  {
   "cell_type": "code",
   "execution_count": 49,
   "id": "3f434e87-99c8-4b76-9444-f3c34a60043f",
   "metadata": {},
   "outputs": [
    {
     "name": "stderr",
     "output_type": "stream",
     "text": [
      "2023-01-13 19:41:01,114 :: INFO :: ItemRepository :: Page 2/1 - Items 44/44\n",
      "2023-01-13 19:41:01,114 :: INFO :: ItemRepository :: 44 Total Items \n"
     ]
    },
    {
     "data": {
      "text/html": [
       "<div>\n",
       "<style scoped>\n",
       "    .dataframe tbody tr th:only-of-type {\n",
       "        vertical-align: middle;\n",
       "    }\n",
       "\n",
       "    .dataframe tbody tr th {\n",
       "        vertical-align: top;\n",
       "    }\n",
       "\n",
       "    .dataframe thead th {\n",
       "        text-align: right;\n",
       "    }\n",
       "</style>\n",
       "<table border=\"1\" class=\"dataframe\">\n",
       "  <thead>\n",
       "    <tr style=\"text-align: right;\">\n",
       "      <th></th>\n",
       "      <th>index</th>\n",
       "      <th>id</th>\n",
       "      <th>name</th>\n",
       "      <th>tags</th>\n",
       "      <th>popularity</th>\n",
       "    </tr>\n",
       "  </thead>\n",
       "  <tbody>\n",
       "    <tr>\n",
       "      <th>0</th>\n",
       "      <td>10</td>\n",
       "      <td>23427</td>\n",
       "      <td>Gone Girl</td>\n",
       "      <td>[Fiction, Contemporary, Thriller, Mystery, Sus...</td>\n",
       "      <td>0.630953</td>\n",
       "    </tr>\n",
       "    <tr>\n",
       "      <th>1</th>\n",
       "      <td>29</td>\n",
       "      <td>48509</td>\n",
       "      <td>The Girl on the Train</td>\n",
       "      <td>[Fiction, Contemporary, Thriller, Mystery, Sus...</td>\n",
       "      <td>0.583333</td>\n",
       "    </tr>\n",
       "    <tr>\n",
       "      <th>2</th>\n",
       "      <td>7</td>\n",
       "      <td>19342</td>\n",
       "      <td>The Girl with the Dragon Tattoo</td>\n",
       "      <td>[Fiction, Contemporary, Thriller, Mystery, Sus...</td>\n",
       "      <td>0.529762</td>\n",
       "    </tr>\n",
       "    <tr>\n",
       "      <th>3</th>\n",
       "      <td>11</td>\n",
       "      <td>24681</td>\n",
       "      <td>The Da Vinci Code (Robert Langdon)</td>\n",
       "      <td>[Adventure, Fiction, Historical Fiction, Thril...</td>\n",
       "      <td>0.354167</td>\n",
       "    </tr>\n",
       "    <tr>\n",
       "      <th>4</th>\n",
       "      <td>19</td>\n",
       "      <td>32558</td>\n",
       "      <td>The Last Coyote (Harry Bosch)</td>\n",
       "      <td>[Fiction, Thriller, Mystery, Suspense, Mystery...</td>\n",
       "      <td>0.248512</td>\n",
       "    </tr>\n",
       "  </tbody>\n",
       "</table>\n",
       "</div>"
      ]
     },
     "execution_count": 49,
     "metadata": {},
     "output_type": "execute_result"
    }
   ],
   "source": [
    "suspense_collection = ctx.item_service.find_by(query={'tags': ['suspense', '-romance', '-erotica', 'thriller', 'mystery', '-horror']})\n",
    "show(suspense_collection)"
   ]
  },
  {
   "cell_type": "code",
   "execution_count": 50,
   "id": "c50c32ad-20f1-4acf-8dbb-cb8eb229a345",
   "metadata": {},
   "outputs": [
    {
     "data": {
      "text/html": [
       "<div>\n",
       "<style scoped>\n",
       "    .dataframe tbody tr th:only-of-type {\n",
       "        vertical-align: middle;\n",
       "    }\n",
       "\n",
       "    .dataframe tbody tr th {\n",
       "        vertical-align: top;\n",
       "    }\n",
       "\n",
       "    .dataframe thead th {\n",
       "        text-align: right;\n",
       "    }\n",
       "</style>\n",
       "<table border=\"1\" class=\"dataframe\">\n",
       "  <thead>\n",
       "    <tr style=\"text-align: right;\">\n",
       "      <th></th>\n",
       "      <th>user_id</th>\n",
       "      <th>item_id</th>\n",
       "      <th>rating</th>\n",
       "      <th>suitable_to_train</th>\n",
       "    </tr>\n",
       "  </thead>\n",
       "  <tbody>\n",
       "    <tr>\n",
       "      <th>0</th>\n",
       "      <td>1620</td>\n",
       "      <td>744</td>\n",
       "      <td>5</td>\n",
       "      <td>False</td>\n",
       "    </tr>\n",
       "    <tr>\n",
       "      <th>1</th>\n",
       "      <td>1620</td>\n",
       "      <td>1173</td>\n",
       "      <td>5</td>\n",
       "      <td>False</td>\n",
       "    </tr>\n",
       "    <tr>\n",
       "      <th>2</th>\n",
       "      <td>1620</td>\n",
       "      <td>1571</td>\n",
       "      <td>5</td>\n",
       "      <td>False</td>\n",
       "    </tr>\n",
       "    <tr>\n",
       "      <th>3</th>\n",
       "      <td>1620</td>\n",
       "      <td>4269</td>\n",
       "      <td>5</td>\n",
       "      <td>False</td>\n",
       "    </tr>\n",
       "    <tr>\n",
       "      <th>4</th>\n",
       "      <td>1620</td>\n",
       "      <td>8858</td>\n",
       "      <td>5</td>\n",
       "      <td>False</td>\n",
       "    </tr>\n",
       "  </tbody>\n",
       "</table>\n",
       "</div>"
      ]
     },
     "execution_count": 50,
     "metadata": {},
     "output_type": "execute_result"
    }
   ],
   "source": [
    "fun_user_id     = fun_user_id + 1\n",
    "fun_user_rating = 5\n",
    "    \n",
    "fun_user_interactions = create_fun_user_interactions(\n",
    "    fun_user_id, \n",
    "    suspense_collection, \n",
    "    fun_user_rating\n",
    ")\n",
    "\n",
    "fun_user_interactions.head()"
   ]
  },
  {
   "cell_type": "code",
   "execution_count": 51,
   "id": "eee6fa5d-3066-453b-95f3-eea2d5e45b3f",
   "metadata": {},
   "outputs": [
    {
     "name": "stderr",
     "output_type": "stream",
     "text": [
      "2023-01-13 19:41:08,880 :: INFO :: DataFramePaginationIterator :: Page 1/5 - Items 10/44\n",
      "2023-01-13 19:41:08,940 :: INFO :: DataFramePaginationIterator :: Page 2/5 - Items 20/44\n",
      "2023-01-13 19:41:09,028 :: INFO :: DataFramePaginationIterator :: Page 3/5 - Items 30/44\n",
      "2023-01-13 19:41:09,141 :: INFO :: DataFramePaginationIterator :: Page 4/5 - Items 40/44\n",
      "2023-01-13 19:41:09,264 :: INFO :: DataFramePaginationIterator :: Page 5/5 - Items 44/44\n",
      "2023-01-13 19:41:09,334 :: INFO :: DataFramePaginationIterator :: Totals - Pages 5 - Items 44\n"
     ]
    }
   ],
   "source": [
    "ctx.interaction_service.add_many(fun_user_interactions)"
   ]
  },
  {
   "cell_type": "code",
   "execution_count": 52,
   "id": "2702e41e-a58a-469e-9f6d-a23af0da7b1d",
   "metadata": {},
   "outputs": [
    {
     "data": {
      "text/html": [
       "<div>\n",
       "<style scoped>\n",
       "    .dataframe tbody tr th:only-of-type {\n",
       "        vertical-align: middle;\n",
       "    }\n",
       "\n",
       "    .dataframe tbody tr th {\n",
       "        vertical-align: top;\n",
       "    }\n",
       "\n",
       "    .dataframe thead th {\n",
       "        text-align: right;\n",
       "    }\n",
       "</style>\n",
       "<table border=\"1\" class=\"dataframe\">\n",
       "  <thead>\n",
       "    <tr style=\"text-align: right;\">\n",
       "      <th></th>\n",
       "      <th>user_id</th>\n",
       "      <th>item_id</th>\n",
       "      <th>rating</th>\n",
       "      <th>suitable_to_train</th>\n",
       "    </tr>\n",
       "  </thead>\n",
       "  <tbody>\n",
       "    <tr>\n",
       "      <th>0</th>\n",
       "      <td>1621</td>\n",
       "      <td>744</td>\n",
       "      <td>4</td>\n",
       "      <td>False</td>\n",
       "    </tr>\n",
       "    <tr>\n",
       "      <th>1</th>\n",
       "      <td>1621</td>\n",
       "      <td>1173</td>\n",
       "      <td>4</td>\n",
       "      <td>False</td>\n",
       "    </tr>\n",
       "    <tr>\n",
       "      <th>2</th>\n",
       "      <td>1621</td>\n",
       "      <td>1571</td>\n",
       "      <td>4</td>\n",
       "      <td>False</td>\n",
       "    </tr>\n",
       "    <tr>\n",
       "      <th>3</th>\n",
       "      <td>1621</td>\n",
       "      <td>4269</td>\n",
       "      <td>4</td>\n",
       "      <td>False</td>\n",
       "    </tr>\n",
       "    <tr>\n",
       "      <th>4</th>\n",
       "      <td>1621</td>\n",
       "      <td>8858</td>\n",
       "      <td>4</td>\n",
       "      <td>False</td>\n",
       "    </tr>\n",
       "  </tbody>\n",
       "</table>\n",
       "</div>"
      ]
     },
     "execution_count": 52,
     "metadata": {},
     "output_type": "execute_result"
    }
   ],
   "source": [
    "fun_user_id     = fun_user_id + 1\n",
    "fun_user_rating = 4\n",
    "    \n",
    "fun_user_interactions = create_fun_user_interactions(\n",
    "    fun_user_id, \n",
    "    suspense_collection, \n",
    "    fun_user_rating\n",
    ")\n",
    "\n",
    "fun_user_interactions.head()"
   ]
  },
  {
   "cell_type": "code",
   "execution_count": 53,
   "id": "43698ae0-947a-4e01-aeec-14965ad29fbb",
   "metadata": {},
   "outputs": [
    {
     "name": "stderr",
     "output_type": "stream",
     "text": [
      "2023-01-13 19:41:10,891 :: INFO :: DataFramePaginationIterator :: Page 1/5 - Items 10/44\n",
      "2023-01-13 19:41:10,980 :: INFO :: DataFramePaginationIterator :: Page 2/5 - Items 20/44\n",
      "2023-01-13 19:41:11,071 :: INFO :: DataFramePaginationIterator :: Page 3/5 - Items 30/44\n",
      "2023-01-13 19:41:11,168 :: INFO :: DataFramePaginationIterator :: Page 4/5 - Items 40/44\n",
      "2023-01-13 19:41:11,268 :: INFO :: DataFramePaginationIterator :: Page 5/5 - Items 44/44\n",
      "2023-01-13 19:41:11,381 :: INFO :: DataFramePaginationIterator :: Totals - Pages 5 - Items 44\n"
     ]
    }
   ],
   "source": [
    "ctx.interaction_service.add_many(fun_user_interactions)"
   ]
  },
  {
   "cell_type": "markdown",
   "id": "51b8d167-5636-4c4f-b44b-043185809218",
   "metadata": {},
   "source": [
    "#### Science Fiction fun user"
   ]
  },
  {
   "cell_type": "code",
   "execution_count": 54,
   "id": "876a8ae4-a55a-4940-947a-36c32ab76cf8",
   "metadata": {},
   "outputs": [
    {
     "name": "stderr",
     "output_type": "stream",
     "text": [
      "2023-01-13 19:41:13,675 :: INFO :: ItemRepository :: Page 2/1 - Items 29/29\n",
      "2023-01-13 19:41:13,675 :: INFO :: ItemRepository :: 29 Total Items \n"
     ]
    },
    {
     "data": {
      "text/html": [
       "<div>\n",
       "<style scoped>\n",
       "    .dataframe tbody tr th:only-of-type {\n",
       "        vertical-align: middle;\n",
       "    }\n",
       "\n",
       "    .dataframe tbody tr th {\n",
       "        vertical-align: top;\n",
       "    }\n",
       "\n",
       "    .dataframe thead th {\n",
       "        text-align: right;\n",
       "    }\n",
       "</style>\n",
       "<table border=\"1\" class=\"dataframe\">\n",
       "  <thead>\n",
       "    <tr style=\"text-align: right;\">\n",
       "      <th></th>\n",
       "      <th>index</th>\n",
       "      <th>id</th>\n",
       "      <th>name</th>\n",
       "      <th>tags</th>\n",
       "      <th>popularity</th>\n",
       "    </tr>\n",
       "  </thead>\n",
       "  <tbody>\n",
       "    <tr>\n",
       "      <th>0</th>\n",
       "      <td>25</td>\n",
       "      <td>214452</td>\n",
       "      <td>The Hobbit</td>\n",
       "      <td>[Adventure, Young Adult, Fiction, Classics, Fa...</td>\n",
       "      <td>0.986607</td>\n",
       "    </tr>\n",
       "    <tr>\n",
       "      <th>1</th>\n",
       "      <td>18</td>\n",
       "      <td>71022</td>\n",
       "      <td>The Martian</td>\n",
       "      <td>[Andy Weir, Adventure, Fiction, Science Fictio...</td>\n",
       "      <td>0.653274</td>\n",
       "    </tr>\n",
       "    <tr>\n",
       "      <th>2</th>\n",
       "      <td>26</td>\n",
       "      <td>215298</td>\n",
       "      <td>Brave New World</td>\n",
       "      <td>[Fiction, Classics, Fantasy, School, Literatur...</td>\n",
       "      <td>0.440476</td>\n",
       "    </tr>\n",
       "    <tr>\n",
       "      <th>3</th>\n",
       "      <td>11</td>\n",
       "      <td>23459</td>\n",
       "      <td>The Illustrated Hitch-hiker's Guide to the Galaxy</td>\n",
       "      <td>[Fiction, Classics, Fantasy, Science Fiction, ...</td>\n",
       "      <td>0.358631</td>\n",
       "    </tr>\n",
       "    <tr>\n",
       "      <th>4</th>\n",
       "      <td>21</td>\n",
       "      <td>215346</td>\n",
       "      <td>Dune</td>\n",
       "      <td>[Fiction, Classics, Fantasy, Science Fiction, ...</td>\n",
       "      <td>0.309524</td>\n",
       "    </tr>\n",
       "  </tbody>\n",
       "</table>\n",
       "</div>"
      ]
     },
     "execution_count": 54,
     "metadata": {},
     "output_type": "execute_result"
    }
   ],
   "source": [
    "science_fiction_collection = ctx.item_service.find_by(query={'tags': ['science fiction', '-romance', '-erotica', '-horror']})\n",
    "\n",
    "show(science_fiction_collection)"
   ]
  },
  {
   "cell_type": "code",
   "execution_count": 55,
   "id": "89e94952-8cec-4ae8-9d04-85ff1c4001a3",
   "metadata": {},
   "outputs": [
    {
     "data": {
      "text/html": [
       "<div>\n",
       "<style scoped>\n",
       "    .dataframe tbody tr th:only-of-type {\n",
       "        vertical-align: middle;\n",
       "    }\n",
       "\n",
       "    .dataframe tbody tr th {\n",
       "        vertical-align: top;\n",
       "    }\n",
       "\n",
       "    .dataframe thead th {\n",
       "        text-align: right;\n",
       "    }\n",
       "</style>\n",
       "<table border=\"1\" class=\"dataframe\">\n",
       "  <thead>\n",
       "    <tr style=\"text-align: right;\">\n",
       "      <th></th>\n",
       "      <th>user_id</th>\n",
       "      <th>item_id</th>\n",
       "      <th>rating</th>\n",
       "      <th>suitable_to_train</th>\n",
       "    </tr>\n",
       "  </thead>\n",
       "  <tbody>\n",
       "    <tr>\n",
       "      <th>0</th>\n",
       "      <td>1622</td>\n",
       "      <td>436</td>\n",
       "      <td>4</td>\n",
       "      <td>False</td>\n",
       "    </tr>\n",
       "    <tr>\n",
       "      <th>1</th>\n",
       "      <td>1622</td>\n",
       "      <td>1141</td>\n",
       "      <td>4</td>\n",
       "      <td>False</td>\n",
       "    </tr>\n",
       "    <tr>\n",
       "      <th>2</th>\n",
       "      <td>1622</td>\n",
       "      <td>744</td>\n",
       "      <td>4</td>\n",
       "      <td>False</td>\n",
       "    </tr>\n",
       "    <tr>\n",
       "      <th>3</th>\n",
       "      <td>1622</td>\n",
       "      <td>757</td>\n",
       "      <td>4</td>\n",
       "      <td>False</td>\n",
       "    </tr>\n",
       "    <tr>\n",
       "      <th>4</th>\n",
       "      <td>1622</td>\n",
       "      <td>1626</td>\n",
       "      <td>4</td>\n",
       "      <td>False</td>\n",
       "    </tr>\n",
       "  </tbody>\n",
       "</table>\n",
       "</div>"
      ]
     },
     "execution_count": 55,
     "metadata": {},
     "output_type": "execute_result"
    }
   ],
   "source": [
    "fun_user_id     = fun_user_id + 1\n",
    "fun_user_rating = 4\n",
    "    \n",
    "fun_user_interactions = create_fun_user_interactions(\n",
    "    fun_user_id, \n",
    "    science_fiction_collection, \n",
    "    fun_user_rating\n",
    ")\n",
    "\n",
    "fun_user_interactions.head()"
   ]
  },
  {
   "cell_type": "code",
   "execution_count": 56,
   "id": "71fbbd77-0b9f-41cc-86d0-c36739d6dc6b",
   "metadata": {},
   "outputs": [
    {
     "name": "stderr",
     "output_type": "stream",
     "text": [
      "2023-01-13 19:41:14,706 :: INFO :: DataFramePaginationIterator :: Page 1/3 - Items 10/29\n",
      "2023-01-13 19:41:15,229 :: INFO :: DataFramePaginationIterator :: Page 2/3 - Items 20/29\n",
      "2023-01-13 19:41:15,328 :: INFO :: DataFramePaginationIterator :: Page 3/3 - Items 29/29\n",
      "2023-01-13 19:41:15,638 :: INFO :: DataFramePaginationIterator :: Totals - Pages 3 - Items 29\n"
     ]
    }
   ],
   "source": [
    "ctx.interaction_service.add_many(fun_user_interactions)"
   ]
  },
  {
   "cell_type": "code",
   "execution_count": 57,
   "id": "e2d133b8-0fdd-4d63-b660-77a1b6124266",
   "metadata": {},
   "outputs": [
    {
     "data": {
      "text/html": [
       "<div>\n",
       "<style scoped>\n",
       "    .dataframe tbody tr th:only-of-type {\n",
       "        vertical-align: middle;\n",
       "    }\n",
       "\n",
       "    .dataframe tbody tr th {\n",
       "        vertical-align: top;\n",
       "    }\n",
       "\n",
       "    .dataframe thead th {\n",
       "        text-align: right;\n",
       "    }\n",
       "</style>\n",
       "<table border=\"1\" class=\"dataframe\">\n",
       "  <thead>\n",
       "    <tr style=\"text-align: right;\">\n",
       "      <th></th>\n",
       "      <th>user_id</th>\n",
       "      <th>item_id</th>\n",
       "      <th>rating</th>\n",
       "      <th>suitable_to_train</th>\n",
       "    </tr>\n",
       "  </thead>\n",
       "  <tbody>\n",
       "    <tr>\n",
       "      <th>0</th>\n",
       "      <td>1623</td>\n",
       "      <td>436</td>\n",
       "      <td>5</td>\n",
       "      <td>False</td>\n",
       "    </tr>\n",
       "    <tr>\n",
       "      <th>1</th>\n",
       "      <td>1623</td>\n",
       "      <td>1141</td>\n",
       "      <td>5</td>\n",
       "      <td>False</td>\n",
       "    </tr>\n",
       "    <tr>\n",
       "      <th>2</th>\n",
       "      <td>1623</td>\n",
       "      <td>744</td>\n",
       "      <td>5</td>\n",
       "      <td>False</td>\n",
       "    </tr>\n",
       "    <tr>\n",
       "      <th>3</th>\n",
       "      <td>1623</td>\n",
       "      <td>757</td>\n",
       "      <td>5</td>\n",
       "      <td>False</td>\n",
       "    </tr>\n",
       "    <tr>\n",
       "      <th>4</th>\n",
       "      <td>1623</td>\n",
       "      <td>1626</td>\n",
       "      <td>5</td>\n",
       "      <td>False</td>\n",
       "    </tr>\n",
       "  </tbody>\n",
       "</table>\n",
       "</div>"
      ]
     },
     "execution_count": 57,
     "metadata": {},
     "output_type": "execute_result"
    }
   ],
   "source": [
    "fun_user_id     = fun_user_id + 1\n",
    "fun_user_rating = 5\n",
    "    \n",
    "fun_user_interactions = create_fun_user_interactions(\n",
    "    fun_user_id, \n",
    "    science_fiction_collection, \n",
    "    fun_user_rating\n",
    ")\n",
    "\n",
    "fun_user_interactions.head()"
   ]
  },
  {
   "cell_type": "code",
   "execution_count": 58,
   "id": "0ee1cf8f-a98f-44a2-8e4e-ed1315e7ec2c",
   "metadata": {},
   "outputs": [
    {
     "name": "stderr",
     "output_type": "stream",
     "text": [
      "2023-01-13 19:41:17,371 :: INFO :: DataFramePaginationIterator :: Page 1/3 - Items 10/29\n",
      "2023-01-13 19:41:17,444 :: INFO :: DataFramePaginationIterator :: Page 2/3 - Items 20/29\n",
      "2023-01-13 19:41:17,561 :: INFO :: DataFramePaginationIterator :: Page 3/3 - Items 29/29\n",
      "2023-01-13 19:41:17,684 :: INFO :: DataFramePaginationIterator :: Totals - Pages 3 - Items 29\n"
     ]
    }
   ],
   "source": [
    "ctx.interaction_service.add_many(fun_user_interactions)"
   ]
  },
  {
   "cell_type": "markdown",
   "id": "18b0033b-cf59-4e20-ada7-053adc699447",
   "metadata": {},
   "source": [
    "#### Fantasy & Adventure fun user"
   ]
  },
  {
   "cell_type": "code",
   "execution_count": 59,
   "id": "e454d164-c8fc-4186-86d1-4895e2c6143d",
   "metadata": {},
   "outputs": [
    {
     "name": "stderr",
     "output_type": "stream",
     "text": [
      "2023-01-13 19:41:17,983 :: INFO :: ItemRepository :: Page 2/1 - Items 27/27\n",
      "2023-01-13 19:41:17,984 :: INFO :: ItemRepository :: 27 Total Items \n"
     ]
    },
    {
     "data": {
      "text/html": [
       "<div>\n",
       "<style scoped>\n",
       "    .dataframe tbody tr th:only-of-type {\n",
       "        vertical-align: middle;\n",
       "    }\n",
       "\n",
       "    .dataframe tbody tr th {\n",
       "        vertical-align: top;\n",
       "    }\n",
       "\n",
       "    .dataframe thead th {\n",
       "        text-align: right;\n",
       "    }\n",
       "</style>\n",
       "<table border=\"1\" class=\"dataframe\">\n",
       "  <thead>\n",
       "    <tr style=\"text-align: right;\">\n",
       "      <th></th>\n",
       "      <th>index</th>\n",
       "      <th>id</th>\n",
       "      <th>name</th>\n",
       "      <th>tags</th>\n",
       "      <th>popularity</th>\n",
       "    </tr>\n",
       "  </thead>\n",
       "  <tbody>\n",
       "    <tr>\n",
       "      <th>0</th>\n",
       "      <td>19</td>\n",
       "      <td>215479</td>\n",
       "      <td>Hobbit and Lord of the Rings Trilogy - Boxed S...</td>\n",
       "      <td>[Adventure, Young Adult, Fiction, Classics, Fa...</td>\n",
       "      <td>1.000000</td>\n",
       "    </tr>\n",
       "    <tr>\n",
       "      <th>1</th>\n",
       "      <td>22</td>\n",
       "      <td>217937</td>\n",
       "      <td>Fellowship of the Ring (Lord of the Rings Part 1)</td>\n",
       "      <td>[Lord of the rings, J.R.R. Tolkien’s, Adventur...</td>\n",
       "      <td>0.995536</td>\n",
       "    </tr>\n",
       "    <tr>\n",
       "      <th>2</th>\n",
       "      <td>1</td>\n",
       "      <td>499</td>\n",
       "      <td>The Hobbit</td>\n",
       "      <td>[Lord of the rings, J.R.R. Tolkien’s, Adventur...</td>\n",
       "      <td>0.986607</td>\n",
       "    </tr>\n",
       "    <tr>\n",
       "      <th>3</th>\n",
       "      <td>24</td>\n",
       "      <td>214452</td>\n",
       "      <td>The Hobbit</td>\n",
       "      <td>[Adventure, Young Adult, Fiction, Classics, Fa...</td>\n",
       "      <td>0.986607</td>\n",
       "    </tr>\n",
       "    <tr>\n",
       "      <th>4</th>\n",
       "      <td>18</td>\n",
       "      <td>215082</td>\n",
       "      <td>The Lord of The Rings Trilogy</td>\n",
       "      <td>[Adventure, Fiction, Classics, Fantasy, High F...</td>\n",
       "      <td>0.986607</td>\n",
       "    </tr>\n",
       "  </tbody>\n",
       "</table>\n",
       "</div>"
      ]
     },
     "execution_count": 59,
     "metadata": {},
     "output_type": "execute_result"
    }
   ],
   "source": [
    "fantasy_adventure_collection = ctx.item_service.find_by(query={'tags': ['fantasy', 'adventure', '-romance', '-erotica']})\n",
    "\n",
    "show(fantasy_adventure_collection)"
   ]
  },
  {
   "cell_type": "code",
   "execution_count": 60,
   "id": "b9cab431-4f70-4d07-a238-4960e416d07a",
   "metadata": {},
   "outputs": [
    {
     "data": {
      "text/html": [
       "<div>\n",
       "<style scoped>\n",
       "    .dataframe tbody tr th:only-of-type {\n",
       "        vertical-align: middle;\n",
       "    }\n",
       "\n",
       "    .dataframe tbody tr th {\n",
       "        vertical-align: top;\n",
       "    }\n",
       "\n",
       "    .dataframe thead th {\n",
       "        text-align: right;\n",
       "    }\n",
       "</style>\n",
       "<table border=\"1\" class=\"dataframe\">\n",
       "  <thead>\n",
       "    <tr style=\"text-align: right;\">\n",
       "      <th></th>\n",
       "      <th>user_id</th>\n",
       "      <th>item_id</th>\n",
       "      <th>rating</th>\n",
       "      <th>suitable_to_train</th>\n",
       "    </tr>\n",
       "  </thead>\n",
       "  <tbody>\n",
       "    <tr>\n",
       "      <th>0</th>\n",
       "      <td>1624</td>\n",
       "      <td>35</td>\n",
       "      <td>5</td>\n",
       "      <td>False</td>\n",
       "    </tr>\n",
       "    <tr>\n",
       "      <th>1</th>\n",
       "      <td>1624</td>\n",
       "      <td>499</td>\n",
       "      <td>5</td>\n",
       "      <td>False</td>\n",
       "    </tr>\n",
       "    <tr>\n",
       "      <th>2</th>\n",
       "      <td>1624</td>\n",
       "      <td>2105</td>\n",
       "      <td>5</td>\n",
       "      <td>False</td>\n",
       "    </tr>\n",
       "    <tr>\n",
       "      <th>3</th>\n",
       "      <td>1624</td>\n",
       "      <td>14030</td>\n",
       "      <td>5</td>\n",
       "      <td>False</td>\n",
       "    </tr>\n",
       "    <tr>\n",
       "      <th>4</th>\n",
       "      <td>1624</td>\n",
       "      <td>17869</td>\n",
       "      <td>5</td>\n",
       "      <td>False</td>\n",
       "    </tr>\n",
       "  </tbody>\n",
       "</table>\n",
       "</div>"
      ]
     },
     "execution_count": 60,
     "metadata": {},
     "output_type": "execute_result"
    }
   ],
   "source": [
    "fun_user_id     = fun_user_id + 1\n",
    "fun_user_rating = 5\n",
    "    \n",
    "fun_user_interactions = create_fun_user_interactions(\n",
    "    fun_user_id, \n",
    "    fantasy_adventure_collection, \n",
    "    fun_user_rating\n",
    ")\n",
    "\n",
    "fun_user_interactions.head()"
   ]
  },
  {
   "cell_type": "code",
   "execution_count": 61,
   "id": "60143554-e9c7-4d98-977e-b7ca54ac94ee",
   "metadata": {},
   "outputs": [
    {
     "name": "stderr",
     "output_type": "stream",
     "text": [
      "2023-01-13 19:41:20,220 :: INFO :: DataFramePaginationIterator :: Page 1/3 - Items 10/27\n",
      "2023-01-13 19:41:20,296 :: INFO :: DataFramePaginationIterator :: Page 2/3 - Items 20/27\n",
      "2023-01-13 19:41:20,421 :: INFO :: DataFramePaginationIterator :: Page 3/3 - Items 27/27\n",
      "2023-01-13 19:41:20,538 :: INFO :: DataFramePaginationIterator :: Totals - Pages 3 - Items 27\n"
     ]
    }
   ],
   "source": [
    "ctx.interaction_service.add_many(fun_user_interactions)"
   ]
  },
  {
   "cell_type": "code",
   "execution_count": 62,
   "id": "e871871b-e6a9-40ef-818c-113ddd0d0c4f",
   "metadata": {},
   "outputs": [
    {
     "data": {
      "text/html": [
       "<div>\n",
       "<style scoped>\n",
       "    .dataframe tbody tr th:only-of-type {\n",
       "        vertical-align: middle;\n",
       "    }\n",
       "\n",
       "    .dataframe tbody tr th {\n",
       "        vertical-align: top;\n",
       "    }\n",
       "\n",
       "    .dataframe thead th {\n",
       "        text-align: right;\n",
       "    }\n",
       "</style>\n",
       "<table border=\"1\" class=\"dataframe\">\n",
       "  <thead>\n",
       "    <tr style=\"text-align: right;\">\n",
       "      <th></th>\n",
       "      <th>user_id</th>\n",
       "      <th>item_id</th>\n",
       "      <th>rating</th>\n",
       "      <th>suitable_to_train</th>\n",
       "    </tr>\n",
       "  </thead>\n",
       "  <tbody>\n",
       "    <tr>\n",
       "      <th>0</th>\n",
       "      <td>1625</td>\n",
       "      <td>35</td>\n",
       "      <td>4</td>\n",
       "      <td>False</td>\n",
       "    </tr>\n",
       "    <tr>\n",
       "      <th>1</th>\n",
       "      <td>1625</td>\n",
       "      <td>499</td>\n",
       "      <td>4</td>\n",
       "      <td>False</td>\n",
       "    </tr>\n",
       "    <tr>\n",
       "      <th>2</th>\n",
       "      <td>1625</td>\n",
       "      <td>2105</td>\n",
       "      <td>4</td>\n",
       "      <td>False</td>\n",
       "    </tr>\n",
       "    <tr>\n",
       "      <th>3</th>\n",
       "      <td>1625</td>\n",
       "      <td>14030</td>\n",
       "      <td>4</td>\n",
       "      <td>False</td>\n",
       "    </tr>\n",
       "    <tr>\n",
       "      <th>4</th>\n",
       "      <td>1625</td>\n",
       "      <td>17869</td>\n",
       "      <td>4</td>\n",
       "      <td>False</td>\n",
       "    </tr>\n",
       "  </tbody>\n",
       "</table>\n",
       "</div>"
      ]
     },
     "execution_count": 62,
     "metadata": {},
     "output_type": "execute_result"
    }
   ],
   "source": [
    "fun_user_id     = fun_user_id + 1\n",
    "fun_user_rating = 4\n",
    "    \n",
    "fun_user_interactions = create_fun_user_interactions(\n",
    "    fun_user_id, \n",
    "    fantasy_adventure_collection, \n",
    "    fun_user_rating\n",
    ")\n",
    "\n",
    "fun_user_interactions.head()"
   ]
  },
  {
   "cell_type": "code",
   "execution_count": 63,
   "id": "f94fea43-64bd-44ba-a2c6-169b3a1c146d",
   "metadata": {},
   "outputs": [
    {
     "name": "stderr",
     "output_type": "stream",
     "text": [
      "2023-01-13 19:41:20,789 :: INFO :: DataFramePaginationIterator :: Page 1/3 - Items 10/27\n",
      "2023-01-13 19:41:20,853 :: INFO :: DataFramePaginationIterator :: Page 2/3 - Items 20/27\n",
      "2023-01-13 19:41:20,974 :: INFO :: DataFramePaginationIterator :: Page 3/3 - Items 27/27\n",
      "2023-01-13 19:41:21,061 :: INFO :: DataFramePaginationIterator :: Totals - Pages 3 - Items 27\n"
     ]
    }
   ],
   "source": [
    "ctx.interaction_service.add_many(fun_user_interactions)"
   ]
  },
  {
   "cell_type": "markdown",
   "id": "f33c7397-dc8d-479b-a513-8724ae6532e9",
   "metadata": {},
   "source": [
    "#### Adventure fun user"
   ]
  },
  {
   "cell_type": "code",
   "execution_count": 64,
   "id": "4b225a86-580d-4c92-9c26-325be5857d35",
   "metadata": {},
   "outputs": [
    {
     "name": "stderr",
     "output_type": "stream",
     "text": [
      "2023-01-13 19:41:21,420 :: INFO :: ItemRepository :: Page 2/1 - Items 44/44\n",
      "2023-01-13 19:41:21,421 :: INFO :: ItemRepository :: 44 Total Items \n"
     ]
    },
    {
     "data": {
      "text/html": [
       "<div>\n",
       "<style scoped>\n",
       "    .dataframe tbody tr th:only-of-type {\n",
       "        vertical-align: middle;\n",
       "    }\n",
       "\n",
       "    .dataframe tbody tr th {\n",
       "        vertical-align: top;\n",
       "    }\n",
       "\n",
       "    .dataframe thead th {\n",
       "        text-align: right;\n",
       "    }\n",
       "</style>\n",
       "<table border=\"1\" class=\"dataframe\">\n",
       "  <thead>\n",
       "    <tr style=\"text-align: right;\">\n",
       "      <th></th>\n",
       "      <th>index</th>\n",
       "      <th>id</th>\n",
       "      <th>name</th>\n",
       "      <th>tags</th>\n",
       "      <th>popularity</th>\n",
       "    </tr>\n",
       "  </thead>\n",
       "  <tbody>\n",
       "    <tr>\n",
       "      <th>0</th>\n",
       "      <td>33</td>\n",
       "      <td>215479</td>\n",
       "      <td>Hobbit and Lord of the Rings Trilogy - Boxed S...</td>\n",
       "      <td>[Adventure, Young Adult, Fiction, Classics, Fa...</td>\n",
       "      <td>1.000000</td>\n",
       "    </tr>\n",
       "    <tr>\n",
       "      <th>1</th>\n",
       "      <td>37</td>\n",
       "      <td>217937</td>\n",
       "      <td>Fellowship of the Ring (Lord of the Rings Part 1)</td>\n",
       "      <td>[Lord of the rings, J.R.R. Tolkien’s, Adventur...</td>\n",
       "      <td>0.995536</td>\n",
       "    </tr>\n",
       "    <tr>\n",
       "      <th>2</th>\n",
       "      <td>39</td>\n",
       "      <td>214452</td>\n",
       "      <td>The Hobbit</td>\n",
       "      <td>[Adventure, Young Adult, Fiction, Classics, Fa...</td>\n",
       "      <td>0.986607</td>\n",
       "    </tr>\n",
       "    <tr>\n",
       "      <th>3</th>\n",
       "      <td>32</td>\n",
       "      <td>215082</td>\n",
       "      <td>The Lord of The Rings Trilogy</td>\n",
       "      <td>[Adventure, Fiction, Classics, Fantasy, High F...</td>\n",
       "      <td>0.986607</td>\n",
       "    </tr>\n",
       "    <tr>\n",
       "      <th>4</th>\n",
       "      <td>1</td>\n",
       "      <td>499</td>\n",
       "      <td>The Hobbit</td>\n",
       "      <td>[Lord of the rings, J.R.R. Tolkien’s, Adventur...</td>\n",
       "      <td>0.986607</td>\n",
       "    </tr>\n",
       "  </tbody>\n",
       "</table>\n",
       "</div>"
      ]
     },
     "execution_count": 64,
     "metadata": {},
     "output_type": "execute_result"
    }
   ],
   "source": [
    "adventure_collection = ctx.item_service.find_by(query={'tags': ['adventure', '-romance', '-erotica']})\n",
    "\n",
    "show(adventure_collection)"
   ]
  },
  {
   "cell_type": "code",
   "execution_count": 65,
   "id": "7032c853-2eb5-4cc3-96b7-f60243492697",
   "metadata": {},
   "outputs": [
    {
     "data": {
      "text/html": [
       "<div>\n",
       "<style scoped>\n",
       "    .dataframe tbody tr th:only-of-type {\n",
       "        vertical-align: middle;\n",
       "    }\n",
       "\n",
       "    .dataframe tbody tr th {\n",
       "        vertical-align: top;\n",
       "    }\n",
       "\n",
       "    .dataframe thead th {\n",
       "        text-align: right;\n",
       "    }\n",
       "</style>\n",
       "<table border=\"1\" class=\"dataframe\">\n",
       "  <thead>\n",
       "    <tr style=\"text-align: right;\">\n",
       "      <th></th>\n",
       "      <th>user_id</th>\n",
       "      <th>item_id</th>\n",
       "      <th>rating</th>\n",
       "      <th>suitable_to_train</th>\n",
       "    </tr>\n",
       "  </thead>\n",
       "  <tbody>\n",
       "    <tr>\n",
       "      <th>0</th>\n",
       "      <td>1626</td>\n",
       "      <td>35</td>\n",
       "      <td>5</td>\n",
       "      <td>False</td>\n",
       "    </tr>\n",
       "    <tr>\n",
       "      <th>1</th>\n",
       "      <td>1626</td>\n",
       "      <td>499</td>\n",
       "      <td>5</td>\n",
       "      <td>False</td>\n",
       "    </tr>\n",
       "    <tr>\n",
       "      <th>2</th>\n",
       "      <td>1626</td>\n",
       "      <td>744</td>\n",
       "      <td>5</td>\n",
       "      <td>False</td>\n",
       "    </tr>\n",
       "    <tr>\n",
       "      <th>3</th>\n",
       "      <td>1626</td>\n",
       "      <td>1533</td>\n",
       "      <td>5</td>\n",
       "      <td>False</td>\n",
       "    </tr>\n",
       "    <tr>\n",
       "      <th>4</th>\n",
       "      <td>1626</td>\n",
       "      <td>1911</td>\n",
       "      <td>5</td>\n",
       "      <td>False</td>\n",
       "    </tr>\n",
       "  </tbody>\n",
       "</table>\n",
       "</div>"
      ]
     },
     "execution_count": 65,
     "metadata": {},
     "output_type": "execute_result"
    }
   ],
   "source": [
    "fun_user_id     = fun_user_id + 1\n",
    "fun_user_rating = 5\n",
    "    \n",
    "fun_user_interactions = create_fun_user_interactions(\n",
    "    fun_user_id, \n",
    "    adventure_collection, \n",
    "    fun_user_rating\n",
    ")\n",
    "\n",
    "fun_user_interactions.head()"
   ]
  },
  {
   "cell_type": "code",
   "execution_count": 66,
   "id": "55f78a33-f223-4a67-b461-7f1a72f81b7c",
   "metadata": {},
   "outputs": [
    {
     "name": "stderr",
     "output_type": "stream",
     "text": [
      "2023-01-13 19:41:21,721 :: INFO :: DataFramePaginationIterator :: Page 1/5 - Items 10/44\n",
      "2023-01-13 19:41:21,792 :: INFO :: DataFramePaginationIterator :: Page 2/5 - Items 20/44\n",
      "2023-01-13 19:41:21,894 :: INFO :: DataFramePaginationIterator :: Page 3/5 - Items 30/44\n",
      "2023-01-13 19:41:22,014 :: INFO :: DataFramePaginationIterator :: Page 4/5 - Items 40/44\n",
      "2023-01-13 19:41:22,131 :: INFO :: DataFramePaginationIterator :: Page 5/5 - Items 44/44\n",
      "2023-01-13 19:41:22,228 :: INFO :: DataFramePaginationIterator :: Totals - Pages 5 - Items 44\n"
     ]
    }
   ],
   "source": [
    "ctx.interaction_service.add_many(fun_user_interactions)"
   ]
  },
  {
   "cell_type": "code",
   "execution_count": 67,
   "id": "30950390-584f-4e92-b1a9-84a85208fa92",
   "metadata": {},
   "outputs": [
    {
     "data": {
      "text/html": [
       "<div>\n",
       "<style scoped>\n",
       "    .dataframe tbody tr th:only-of-type {\n",
       "        vertical-align: middle;\n",
       "    }\n",
       "\n",
       "    .dataframe tbody tr th {\n",
       "        vertical-align: top;\n",
       "    }\n",
       "\n",
       "    .dataframe thead th {\n",
       "        text-align: right;\n",
       "    }\n",
       "</style>\n",
       "<table border=\"1\" class=\"dataframe\">\n",
       "  <thead>\n",
       "    <tr style=\"text-align: right;\">\n",
       "      <th></th>\n",
       "      <th>user_id</th>\n",
       "      <th>item_id</th>\n",
       "      <th>rating</th>\n",
       "      <th>suitable_to_train</th>\n",
       "    </tr>\n",
       "  </thead>\n",
       "  <tbody>\n",
       "    <tr>\n",
       "      <th>0</th>\n",
       "      <td>1627</td>\n",
       "      <td>35</td>\n",
       "      <td>4</td>\n",
       "      <td>False</td>\n",
       "    </tr>\n",
       "    <tr>\n",
       "      <th>1</th>\n",
       "      <td>1627</td>\n",
       "      <td>499</td>\n",
       "      <td>4</td>\n",
       "      <td>False</td>\n",
       "    </tr>\n",
       "    <tr>\n",
       "      <th>2</th>\n",
       "      <td>1627</td>\n",
       "      <td>744</td>\n",
       "      <td>4</td>\n",
       "      <td>False</td>\n",
       "    </tr>\n",
       "    <tr>\n",
       "      <th>3</th>\n",
       "      <td>1627</td>\n",
       "      <td>1533</td>\n",
       "      <td>4</td>\n",
       "      <td>False</td>\n",
       "    </tr>\n",
       "    <tr>\n",
       "      <th>4</th>\n",
       "      <td>1627</td>\n",
       "      <td>1911</td>\n",
       "      <td>4</td>\n",
       "      <td>False</td>\n",
       "    </tr>\n",
       "  </tbody>\n",
       "</table>\n",
       "</div>"
      ]
     },
     "execution_count": 67,
     "metadata": {},
     "output_type": "execute_result"
    }
   ],
   "source": [
    "fun_user_id     = fun_user_id + 1\n",
    "fun_user_rating = 4\n",
    "    \n",
    "fun_user_interactions = create_fun_user_interactions(\n",
    "    fun_user_id, \n",
    "    adventure_collection, \n",
    "    fun_user_rating\n",
    ")\n",
    "\n",
    "fun_user_interactions.head()"
   ]
  },
  {
   "cell_type": "code",
   "execution_count": 68,
   "id": "95dbfa60-2329-4d3f-9be3-b87b35e602b3",
   "metadata": {},
   "outputs": [
    {
     "name": "stderr",
     "output_type": "stream",
     "text": [
      "2023-01-13 19:41:24,362 :: INFO :: DataFramePaginationIterator :: Page 1/5 - Items 10/44\n",
      "2023-01-13 19:41:24,542 :: INFO :: DataFramePaginationIterator :: Page 2/5 - Items 20/44\n",
      "2023-01-13 19:41:24,648 :: INFO :: DataFramePaginationIterator :: Page 3/5 - Items 30/44\n",
      "2023-01-13 19:41:24,741 :: INFO :: DataFramePaginationIterator :: Page 4/5 - Items 40/44\n",
      "2023-01-13 19:41:24,928 :: INFO :: DataFramePaginationIterator :: Page 5/5 - Items 44/44\n",
      "2023-01-13 19:41:25,038 :: INFO :: DataFramePaginationIterator :: Totals - Pages 5 - Items 44\n"
     ]
    }
   ],
   "source": [
    "ctx.interaction_service.add_many(fun_user_interactions)"
   ]
  },
  {
   "cell_type": "code",
   "execution_count": null,
   "id": "281f2ace-a559-4041-8199-47ed8eaa3df5",
   "metadata": {},
   "outputs": [],
   "source": []
  }
 ],
 "metadata": {
  "kernelspec": {
   "display_name": "Python 3 (ipykernel)",
   "language": "python",
   "name": "python3"
  },
  "language_info": {
   "codemirror_mode": {
    "name": "ipython",
    "version": 3
   },
   "file_extension": ".py",
   "mimetype": "text/x-python",
   "name": "python",
   "nbconvert_exporter": "python",
   "pygments_lexer": "ipython3",
   "version": "3.10.8"
  },
  "widgets": {
   "application/vnd.jupyter.widget-state+json": {
    "state": {},
    "version_major": 2,
    "version_minor": 0
   }
  }
 },
 "nbformat": 4,
 "nbformat_minor": 5
}
