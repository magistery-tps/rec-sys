{
 "cells": [
  {
   "cell_type": "markdown",
   "id": "0417277b-47df-4113-a7b3-8f960db06f1d",
   "metadata": {
    "tags": []
   },
   "source": [
    "# Models Validation"
   ]
  },
  {
   "cell_type": "code",
   "execution_count": 1,
   "id": "8dde5e70-5b86-460f-8791-20fcb554c378",
   "metadata": {},
   "outputs": [],
   "source": [
    "%load_ext autoreload\n",
    "%autoreload 2"
   ]
  },
  {
   "cell_type": "code",
   "execution_count": 30,
   "id": "f98e7bf4-f41a-43f6-b7b7-a991d00f82de",
   "metadata": {},
   "outputs": [],
   "source": [
    "import sys\n",
    "sys.path.append('../../src')\n",
    "\n",
    "from domain_context import DomainContext\n",
    "\n",
    "import data as dt\n",
    "import util as ut\n",
    "from sklearn.model_selection import train_test_split\n",
    "from surprise import SVD, NMF"
   ]
  },
  {
   "cell_type": "markdown",
   "id": "3b17de78-c722-47bd-accb-dbd6d811c954",
   "metadata": {
    "tags": []
   },
   "source": [
    "### Setup"
   ]
  },
  {
   "cell_type": "code",
   "execution_count": 3,
   "id": "c70a9b41-9bcb-49f4-b796-69c658a7a9e5",
   "metadata": {},
   "outputs": [
    {
     "name": "stderr",
     "output_type": "stream",
     "text": [
      "2023-02-01 20:09:52,514 :: INFO :: sentence_transformers.SentenceTransformer :: Load pretrained SentenceTransformer: all-MiniLM-L6-v2\n",
      "2023-02-01 20:09:52,684 :: INFO :: sentence_transformers.SentenceTransformer :: Use pytorch device: cuda\n",
      "2023-02-01 20:09:52,684 :: INFO :: sentence_transformers.SentenceTransformer :: Load pretrained SentenceTransformer: all-MiniLM-L12-v2\n",
      "2023-02-01 20:09:52,870 :: INFO :: sentence_transformers.SentenceTransformer :: Use pytorch device: cuda\n",
      "2023-02-01 20:09:52,870 :: INFO :: sentence_transformers.SentenceTransformer :: Load pretrained SentenceTransformer: multi-qa-mpnet-base-dot-v1\n",
      "2023-02-01 20:09:53,390 :: INFO :: sentence_transformers.SentenceTransformer :: Use pytorch device: cuda\n",
      "2023-02-01 20:09:53,391 :: INFO :: sentence_transformers.SentenceTransformer :: Load pretrained SentenceTransformer: all-mpnet-base-v2\n",
      "2023-02-01 20:09:53,898 :: INFO :: sentence_transformers.SentenceTransformer :: Use pytorch device: cuda\n"
     ]
    }
   ],
   "source": [
    "ctx = DomainContext(host='http://nonosoft.ddns.net:8000')"
   ]
  },
  {
   "cell_type": "markdown",
   "id": "40c1da33-a8da-47c9-b174-0b0885b05b50",
   "metadata": {
    "tags": []
   },
   "source": [
    "### Execute jobs"
   ]
  },
  {
   "cell_type": "code",
   "execution_count": 4,
   "id": "11081fe2-c7df-422c-a75b-52ea77e6c7c8",
   "metadata": {},
   "outputs": [
    {
     "name": "stderr",
     "output_type": "stream",
     "text": [
      "2023-02-01 20:09:54,260 :: INFO :: InteractionRepository :: Page 1/12 - Interactions 5000/56092\n",
      "2023-02-01 20:09:54,518 :: INFO :: InteractionRepository :: Page 2/12 - Interactions 10000/56092\n",
      "2023-02-01 20:09:54,849 :: INFO :: InteractionRepository :: Page 3/12 - Interactions 15000/56092\n",
      "2023-02-01 20:09:55,107 :: INFO :: InteractionRepository :: Page 4/12 - Interactions 20000/56092\n",
      "2023-02-01 20:09:55,424 :: INFO :: InteractionRepository :: Page 5/12 - Interactions 25000/56092\n",
      "2023-02-01 20:09:55,827 :: INFO :: InteractionRepository :: Page 6/12 - Interactions 30000/56092\n",
      "2023-02-01 20:09:56,101 :: INFO :: InteractionRepository :: Page 7/12 - Interactions 35000/56092\n",
      "2023-02-01 20:09:56,431 :: INFO :: InteractionRepository :: Page 8/12 - Interactions 40000/56092\n",
      "2023-02-01 20:09:56,688 :: INFO :: InteractionRepository :: Page 9/12 - Interactions 45000/56092\n",
      "2023-02-01 20:09:57,010 :: INFO :: InteractionRepository :: Page 10/12 - Interactions 50000/56092\n",
      "2023-02-01 20:09:57,271 :: INFO :: InteractionRepository :: Page 11/12 - Interactions 55000/56092\n",
      "2023-02-01 20:09:57,350 :: INFO :: InteractionRepository :: Page 12/12 - Interactions 56092/56092\n",
      "2023-02-01 20:09:57,351 :: INFO :: InteractionRepository :: 56092 Total Interactions \n"
     ]
    }
   ],
   "source": [
    "# Get user-item interacitons from RecSys API...\n",
    "interactions = ctx.interaction_service.find_all()"
   ]
  },
  {
   "cell_type": "code",
   "execution_count": 7,
   "id": "88c480d2-eaa7-4e3f-afc2-9ca99afdce1c",
   "metadata": {},
   "outputs": [
    {
     "data": {
      "text/html": [
       "<div>\n",
       "<style scoped>\n",
       "    .dataframe tbody tr th:only-of-type {\n",
       "        vertical-align: middle;\n",
       "    }\n",
       "\n",
       "    .dataframe tbody tr th {\n",
       "        vertical-align: top;\n",
       "    }\n",
       "\n",
       "    .dataframe thead th {\n",
       "        text-align: right;\n",
       "    }\n",
       "</style>\n",
       "<table border=\"1\" class=\"dataframe\">\n",
       "  <thead>\n",
       "    <tr style=\"text-align: right;\">\n",
       "      <th></th>\n",
       "      <th>user_id</th>\n",
       "      <th>item_id</th>\n",
       "      <th>rating</th>\n",
       "      <th>suitable_to_train</th>\n",
       "    </tr>\n",
       "  </thead>\n",
       "  <tbody>\n",
       "    <tr>\n",
       "      <th>0</th>\n",
       "      <td>98</td>\n",
       "      <td>35</td>\n",
       "      <td>2.0</td>\n",
       "      <td>True</td>\n",
       "    </tr>\n",
       "    <tr>\n",
       "      <th>1</th>\n",
       "      <td>90</td>\n",
       "      <td>35</td>\n",
       "      <td>5.0</td>\n",
       "      <td>True</td>\n",
       "    </tr>\n",
       "    <tr>\n",
       "      <th>2</th>\n",
       "      <td>99</td>\n",
       "      <td>35</td>\n",
       "      <td>4.0</td>\n",
       "      <td>True</td>\n",
       "    </tr>\n",
       "    <tr>\n",
       "      <th>3</th>\n",
       "      <td>99</td>\n",
       "      <td>35</td>\n",
       "      <td>4.0</td>\n",
       "      <td>True</td>\n",
       "    </tr>\n",
       "    <tr>\n",
       "      <th>4</th>\n",
       "      <td>100</td>\n",
       "      <td>35</td>\n",
       "      <td>5.0</td>\n",
       "      <td>True</td>\n",
       "    </tr>\n",
       "  </tbody>\n",
       "</table>\n",
       "</div>"
      ]
     },
     "execution_count": 7,
     "metadata": {},
     "output_type": "execute_result"
    }
   ],
   "source": [
    "interactions.head()"
   ]
  },
  {
   "cell_type": "code",
   "execution_count": 8,
   "id": "4e7523dc-1294-4f2b-8c94-8c43568fd87c",
   "metadata": {},
   "outputs": [
    {
     "data": {
      "text/html": [
       "<pre style=\"white-space:pre;overflow-x:auto;line-height:normal;font-family:Menlo,'DejaVu Sans Mono',consolas,'Courier New',monospace\"><span style=\"font-weight: bold\">(</span><span style=\"color: #008080; text-decoration-color: #008080; font-weight: bold\">56092</span>, <span style=\"color: #008080; text-decoration-color: #008080; font-weight: bold\">4</span><span style=\"font-weight: bold\">)</span>\n",
       "</pre>\n"
      ],
      "text/plain": [
       "\u001b[1m(\u001b[0m\u001b[1;36m56092\u001b[0m, \u001b[1;36m4\u001b[0m\u001b[1m)\u001b[0m\n"
      ]
     },
     "metadata": {},
     "output_type": "display_data"
    }
   ],
   "source": [
    "interactions.shape"
   ]
  },
  {
   "cell_type": "code",
   "execution_count": 12,
   "id": "99865099-9882-4cc6-8989-7cccf0669179",
   "metadata": {},
   "outputs": [
    {
     "data": {
      "text/html": [
       "<pre style=\"white-space:pre;overflow-x:auto;line-height:normal;font-family:Menlo,'DejaVu Sans Mono',consolas,'Courier New',monospace\"><span style=\"font-weight: bold\">(</span><span style=\"color: #008080; text-decoration-color: #008080; font-weight: bold\">55352</span>, <span style=\"color: #008080; text-decoration-color: #008080; font-weight: bold\">4</span><span style=\"font-weight: bold\">)</span>\n",
       "</pre>\n"
      ],
      "text/plain": [
       "\u001b[1m(\u001b[0m\u001b[1;36m55352\u001b[0m, \u001b[1;36m4\u001b[0m\u001b[1m)\u001b[0m\n"
      ]
     },
     "metadata": {},
     "output_type": "display_data"
    }
   ],
   "source": [
    "dev_interactions = interactions.query('suitable_to_train == True')\n",
    "dev_interactions.shape"
   ]
  },
  {
   "cell_type": "code",
   "execution_count": 13,
   "id": "f246fc60-594b-43ac-89ce-9adca14794c0",
   "metadata": {},
   "outputs": [
    {
     "data": {
      "text/html": [
       "<pre style=\"white-space:pre;overflow-x:auto;line-height:normal;font-family:Menlo,'DejaVu Sans Mono',consolas,'Courier New',monospace\"><span style=\"color: #008080; text-decoration-color: #008080; font-weight: bold\">98.68073878627969</span>\n",
       "</pre>\n"
      ],
      "text/plain": [
       "\u001b[1;36m98.68073878627969\u001b[0m\n"
      ]
     },
     "metadata": {},
     "output_type": "display_data"
    }
   ],
   "source": [
    "(dev_interactions.shape[0] / interactions.shape[0]) * 100"
   ]
  },
  {
   "cell_type": "code",
   "execution_count": 17,
   "id": "edf0eb39-e5e4-4396-850e-a64fa1ba80f7",
   "metadata": {},
   "outputs": [],
   "source": [
    "dev_interactions.drop(columns=['suitable_to_train'], inplace=True)"
   ]
  },
  {
   "cell_type": "code",
   "execution_count": 18,
   "id": "d9099383-7422-4670-a0b5-8decb5d30793",
   "metadata": {},
   "outputs": [
    {
     "data": {
      "text/html": [
       "<div>\n",
       "<style scoped>\n",
       "    .dataframe tbody tr th:only-of-type {\n",
       "        vertical-align: middle;\n",
       "    }\n",
       "\n",
       "    .dataframe tbody tr th {\n",
       "        vertical-align: top;\n",
       "    }\n",
       "\n",
       "    .dataframe thead th {\n",
       "        text-align: right;\n",
       "    }\n",
       "</style>\n",
       "<table border=\"1\" class=\"dataframe\">\n",
       "  <thead>\n",
       "    <tr style=\"text-align: right;\">\n",
       "      <th></th>\n",
       "      <th>user_id</th>\n",
       "      <th>item_id</th>\n",
       "      <th>rating</th>\n",
       "    </tr>\n",
       "  </thead>\n",
       "  <tbody>\n",
       "    <tr>\n",
       "      <th>0</th>\n",
       "      <td>98</td>\n",
       "      <td>35</td>\n",
       "      <td>2.0</td>\n",
       "    </tr>\n",
       "    <tr>\n",
       "      <th>1</th>\n",
       "      <td>90</td>\n",
       "      <td>35</td>\n",
       "      <td>5.0</td>\n",
       "    </tr>\n",
       "    <tr>\n",
       "      <th>2</th>\n",
       "      <td>99</td>\n",
       "      <td>35</td>\n",
       "      <td>4.0</td>\n",
       "    </tr>\n",
       "    <tr>\n",
       "      <th>3</th>\n",
       "      <td>99</td>\n",
       "      <td>35</td>\n",
       "      <td>4.0</td>\n",
       "    </tr>\n",
       "    <tr>\n",
       "      <th>4</th>\n",
       "      <td>100</td>\n",
       "      <td>35</td>\n",
       "      <td>5.0</td>\n",
       "    </tr>\n",
       "  </tbody>\n",
       "</table>\n",
       "</div>"
      ]
     },
     "execution_count": 18,
     "metadata": {},
     "output_type": "execute_result"
    }
   ],
   "source": [
    "dev_interactions.head()"
   ]
  },
  {
   "cell_type": "code",
   "execution_count": 22,
   "id": "407f4a1b-62e2-4221-9e80-8946644c6ce3",
   "metadata": {},
   "outputs": [],
   "source": [
    "# Add user/item numeric sequences...\n",
    "dev_interactions = dt.Sequencer(column='user_id', seq_col_name='user_seq').perform(dev_interactions)\n",
    "dev_interactions = dt.Sequencer(column='item_id', seq_col_name='item_seq').perform(dev_interactions)"
   ]
  },
  {
   "cell_type": "code",
   "execution_count": 23,
   "id": "b1cc3328-2955-4294-9365-47abbefc1a52",
   "metadata": {},
   "outputs": [
    {
     "data": {
      "text/html": [
       "<div>\n",
       "<style scoped>\n",
       "    .dataframe tbody tr th:only-of-type {\n",
       "        vertical-align: middle;\n",
       "    }\n",
       "\n",
       "    .dataframe tbody tr th {\n",
       "        vertical-align: top;\n",
       "    }\n",
       "\n",
       "    .dataframe thead th {\n",
       "        text-align: right;\n",
       "    }\n",
       "</style>\n",
       "<table border=\"1\" class=\"dataframe\">\n",
       "  <thead>\n",
       "    <tr style=\"text-align: right;\">\n",
       "      <th></th>\n",
       "      <th>user_id</th>\n",
       "      <th>item_id</th>\n",
       "      <th>rating</th>\n",
       "      <th>user_seq</th>\n",
       "      <th>item_seq</th>\n",
       "    </tr>\n",
       "  </thead>\n",
       "  <tbody>\n",
       "    <tr>\n",
       "      <th>0</th>\n",
       "      <td>98</td>\n",
       "      <td>35</td>\n",
       "      <td>2.0</td>\n",
       "      <td>0</td>\n",
       "      <td>0</td>\n",
       "    </tr>\n",
       "    <tr>\n",
       "      <th>1</th>\n",
       "      <td>90</td>\n",
       "      <td>35</td>\n",
       "      <td>5.0</td>\n",
       "      <td>1</td>\n",
       "      <td>0</td>\n",
       "    </tr>\n",
       "    <tr>\n",
       "      <th>2</th>\n",
       "      <td>99</td>\n",
       "      <td>35</td>\n",
       "      <td>4.0</td>\n",
       "      <td>2</td>\n",
       "      <td>0</td>\n",
       "    </tr>\n",
       "    <tr>\n",
       "      <th>3</th>\n",
       "      <td>99</td>\n",
       "      <td>35</td>\n",
       "      <td>4.0</td>\n",
       "      <td>2</td>\n",
       "      <td>0</td>\n",
       "    </tr>\n",
       "    <tr>\n",
       "      <th>4</th>\n",
       "      <td>100</td>\n",
       "      <td>35</td>\n",
       "      <td>5.0</td>\n",
       "      <td>3</td>\n",
       "      <td>0</td>\n",
       "    </tr>\n",
       "  </tbody>\n",
       "</table>\n",
       "</div>"
      ]
     },
     "execution_count": 23,
     "metadata": {},
     "output_type": "execute_result"
    }
   ],
   "source": [
    "dev_interactions.head()"
   ]
  },
  {
   "cell_type": "code",
   "execution_count": 29,
   "id": "4ea7a144-f7ee-49e6-9f73-54e3dc594f38",
   "metadata": {},
   "outputs": [],
   "source": [
    "dev_set, test_set = train_test_split(dev_interactions, test_size=0.2, random_state=42, shuffle=True)"
   ]
  },
  {
   "cell_type": "code",
   "execution_count": 32,
   "id": "f5e928c8-1fc1-4cfd-8b90-1b10e495d38d",
   "metadata": {},
   "outputs": [
    {
     "name": "stderr",
     "output_type": "stream",
     "text": [
      "2023-02-01 20:21:30,958 :: INFO :: InteractionService :: Filter by rating scale: [1, 2, 3, 4, 5]\n",
      "2023-02-01 20:21:30,961 :: INFO :: InteractionService :: Filtered: 0.0%\n",
      "2023-02-01 20:21:30,961 :: INFO :: InteractionService :: Filter interactions by user_n_interactions >= 20\n",
      "2023-02-01 20:21:30,964 :: INFO :: InteractionService :: Filtered interactions: 15.7%\n",
      "2023-02-01 20:21:30,965 :: INFO :: InteractionService :: Excluded interactions: 6958\n",
      "2023-02-01 20:21:30,983 :: INFO :: RatingMatrixService :: Check user_seq: True\n",
      "2023-02-01 20:21:30,983 :: INFO :: RatingMatrixService :: Check item_seq: True\n",
      "2023-02-01 20:21:33,022 :: INFO :: InteractionService :: Unrated interactions: 95.0%\n",
      "2023-02-01 20:21:33,040 :: INFO :: RatingMatrixService :: Train interactions: 37323 - Users: 680, Items: 1027\n",
      "2023-02-01 20:21:33,046 :: INFO :: RatingMatrixService :: Future interactions: 663140 - Users: 680, Items: 1027\n",
      "2023-02-01 20:21:33,047 :: INFO :: DatasetFactory :: Rating Scale: (1, 5)\n",
      "2023-02-01 20:21:33,060 :: INFO :: ModelManager :: SVD Training...\n",
      "2023-02-01 20:21:34,751 :: INFO :: ModelManager :: SVD Rating Prediction... 10%\n",
      "2023-02-01 20:21:36,342 :: INFO :: ModelManager :: SVD Rating Prediction... 20%\n",
      "2023-02-01 20:21:37,942 :: INFO :: ModelManager :: SVD Rating Prediction... 30%\n",
      "2023-02-01 20:21:39,474 :: INFO :: ModelManager :: SVD Rating Prediction... 40%\n",
      "2023-02-01 20:21:41,006 :: INFO :: ModelManager :: SVD Rating Prediction... 50%\n",
      "2023-02-01 20:21:42,531 :: INFO :: ModelManager :: SVD Rating Prediction... 60%\n",
      "2023-02-01 20:21:44,023 :: INFO :: ModelManager :: SVD Rating Prediction... 70%\n",
      "2023-02-01 20:21:45,500 :: INFO :: ModelManager :: SVD Rating Prediction... 80%\n",
      "2023-02-01 20:21:46,966 :: INFO :: ModelManager :: SVD Rating Prediction... 90%\n",
      "2023-02-01 20:21:48,507 :: INFO :: RatingMatrixService :: Train + Predited interactions: 700463 - Users: 680, Items: 1027\n",
      "2023-02-01 20:21:48,507 :: INFO :: RatingMatrixService :: Compute interactions sparse RatingMatrixType.USER_ITEM matrix...\n",
      "2023-02-01 20:21:48,507 :: INFO :: root :: Building matrix(user_seq, item_seq)\n",
      "2023-02-01 20:21:50,792 :: INFO :: root :: Building matrix(680, 1027)... 10%\n",
      "2023-02-01 20:21:53,067 :: INFO :: root :: Building matrix(680, 1027)... 20%\n",
      "2023-02-01 20:21:55,327 :: INFO :: root :: Building matrix(680, 1027)... 30%\n",
      "2023-02-01 20:21:57,473 :: INFO :: root :: Building matrix(680, 1027)... 40%\n",
      "2023-02-01 20:21:59,670 :: INFO :: root :: Building matrix(680, 1027)... 50%\n",
      "2023-02-01 20:22:01,916 :: INFO :: root :: Building matrix(680, 1027)... 60%\n",
      "2023-02-01 20:22:04,181 :: INFO :: root :: Building matrix(680, 1027)... 70%\n",
      "2023-02-01 20:22:06,433 :: INFO :: root :: Building matrix(680, 1027)... 80%\n",
      "2023-02-01 20:22:08,702 :: INFO :: root :: Building matrix(680, 1027)... 90%\n",
      "2023-02-01 20:22:10,994 :: INFO :: root :: Building matrix(680, 1027)... 100%\n"
     ]
    }
   ],
   "source": [
    "# Build ratings matrix from user-item interactions..\n",
    "rating_matrix, _ = ctx.rating_matrix_service.create(\n",
    "    dev_set,\n",
    "    columns = ('user_seq', 'item_seq', 'rating'),\n",
    "    model   = SVD()\n",
    ")"
   ]
  },
  {
   "cell_type": "code",
   "execution_count": 35,
   "id": "c1512b7a-0f99-472d-9caa-613514e5cd04",
   "metadata": {},
   "outputs": [],
   "source": [
    "def build_similatrity_matrix(rating_matrix):\n",
    "    # Build similarity matrix from rating matrix...\n",
    "    user_similarities = ctx.similarity_service.similarities(\n",
    "        rating_matrix,\n",
    "        entity = 'user'\n",
    "    )\n",
    "    item_similarities = ctx.similarity_service.similarities(\n",
    "        rating_matrix.transpose(),\n",
    "        entity = 'item'\n",
    "    )\n",
    "\n",
    "    return user_similarities, item_similarities"
   ]
  },
  {
   "cell_type": "code",
   "execution_count": 36,
   "id": "28241b56-4dad-42c2-abdb-5a28d28ead71",
   "metadata": {},
   "outputs": [
    {
     "name": "stderr",
     "output_type": "stream",
     "text": [
      "2023-02-01 20:23:16,620 :: INFO :: SimilarityService :: Compute user_seq combinations...\n",
      "2023-02-01 20:23:16,633 :: INFO :: SimilarityService :: user_id combinations...230860 (680)\n",
      "2023-02-01 20:23:16,633 :: INFO :: SimilarityService :: Compute user_seq embeddings(size: 1027)...\n",
      "2023-02-01 20:23:16,726 :: INFO :: SimilarityService :: Compute user_id similarities...\n",
      "\n",
      "100%|███████████████████████████████████████████████████████████████████████████████████████████████████████████████████████████████████████████████████████████████████████████████████████████████████████████████████████████████████████████████████████████████████████████████| 230860/230860 [00:02<00:00, 105896.37it/s]\n",
      "2023-02-01 20:23:19,304 :: INFO :: SimilarityService :: Compute item_seq combinations...\n",
      "2023-02-01 20:23:19,318 :: INFO :: SimilarityService :: item_id combinations...526851 (1027)\n",
      "2023-02-01 20:23:19,319 :: INFO :: SimilarityService :: Compute item_seq embeddings(size: 680)...\n",
      "2023-02-01 20:23:20,335 :: INFO :: SimilarityService :: Compute item_id similarities...\n",
      "\n",
      "100%|████████████████████████████████████████████████████████████████████████████████████████████████████████████████████████████████████████████████████████████████████████████████████████████████████████████████████████████████████████████████████████████████████████████████| 526851/526851 [00:05<00:00, 97760.20it/s]\n"
     ]
    }
   ],
   "source": [
    "user_similarities, item_similarities = build_similatrity_matrix(rating_matrix)"
   ]
  },
  {
   "cell_type": "code",
   "execution_count": 48,
   "id": "4255915a-ac76-47e3-a52b-adb037a9acef",
   "metadata": {},
   "outputs": [
    {
     "data": {
      "text/html": [
       "<div>\n",
       "<style scoped>\n",
       "    .dataframe tbody tr th:only-of-type {\n",
       "        vertical-align: middle;\n",
       "    }\n",
       "\n",
       "    .dataframe tbody tr th {\n",
       "        vertical-align: top;\n",
       "    }\n",
       "\n",
       "    .dataframe thead th {\n",
       "        text-align: right;\n",
       "    }\n",
       "</style>\n",
       "<table border=\"1\" class=\"dataframe\">\n",
       "  <thead>\n",
       "    <tr style=\"text-align: right;\">\n",
       "      <th></th>\n",
       "      <th>user_a</th>\n",
       "      <th>user_b</th>\n",
       "      <th>value</th>\n",
       "    </tr>\n",
       "  </thead>\n",
       "  <tbody>\n",
       "    <tr>\n",
       "      <th>0</th>\n",
       "      <td>638</td>\n",
       "      <td>640</td>\n",
       "      <td>0.997688</td>\n",
       "    </tr>\n",
       "    <tr>\n",
       "      <th>1</th>\n",
       "      <td>638</td>\n",
       "      <td>641</td>\n",
       "      <td>0.999276</td>\n",
       "    </tr>\n",
       "    <tr>\n",
       "      <th>2</th>\n",
       "      <td>638</td>\n",
       "      <td>642</td>\n",
       "      <td>0.999503</td>\n",
       "    </tr>\n",
       "    <tr>\n",
       "      <th>3</th>\n",
       "      <td>638</td>\n",
       "      <td>643</td>\n",
       "      <td>0.999676</td>\n",
       "    </tr>\n",
       "    <tr>\n",
       "      <th>4</th>\n",
       "      <td>638</td>\n",
       "      <td>644</td>\n",
       "      <td>0.999139</td>\n",
       "    </tr>\n",
       "    <tr>\n",
       "      <th>...</th>\n",
       "      <td>...</td>\n",
       "      <td>...</td>\n",
       "      <td>...</td>\n",
       "    </tr>\n",
       "    <tr>\n",
       "      <th>230855</th>\n",
       "      <td>637</td>\n",
       "      <td>676</td>\n",
       "      <td>0.998730</td>\n",
       "    </tr>\n",
       "    <tr>\n",
       "      <th>230856</th>\n",
       "      <td>637</td>\n",
       "      <td>677</td>\n",
       "      <td>0.998445</td>\n",
       "    </tr>\n",
       "    <tr>\n",
       "      <th>230857</th>\n",
       "      <td>637</td>\n",
       "      <td>678</td>\n",
       "      <td>0.998099</td>\n",
       "    </tr>\n",
       "    <tr>\n",
       "      <th>230858</th>\n",
       "      <td>637</td>\n",
       "      <td>679</td>\n",
       "      <td>0.997961</td>\n",
       "    </tr>\n",
       "    <tr>\n",
       "      <th>230859</th>\n",
       "      <td>638</td>\n",
       "      <td>639</td>\n",
       "      <td>0.999489</td>\n",
       "    </tr>\n",
       "  </tbody>\n",
       "</table>\n",
       "<p>230860 rows × 3 columns</p>\n",
       "</div>"
      ]
     },
     "execution_count": 48,
     "metadata": {},
     "output_type": "execute_result"
    }
   ],
   "source": [
    "user_similarities"
   ]
  },
  {
   "cell_type": "code",
   "execution_count": 117,
   "id": "93e7a3bc-0c2b-4726-8797-7958fdb110e7",
   "metadata": {},
   "outputs": [
    {
     "data": {
      "text/html": [
       "<div>\n",
       "<style scoped>\n",
       "    .dataframe tbody tr th:only-of-type {\n",
       "        vertical-align: middle;\n",
       "    }\n",
       "\n",
       "    .dataframe tbody tr th {\n",
       "        vertical-align: top;\n",
       "    }\n",
       "\n",
       "    .dataframe thead th {\n",
       "        text-align: right;\n",
       "    }\n",
       "</style>\n",
       "<table border=\"1\" class=\"dataframe\">\n",
       "  <thead>\n",
       "    <tr style=\"text-align: right;\">\n",
       "      <th></th>\n",
       "      <th>user_id</th>\n",
       "      <th>item_id</th>\n",
       "      <th>rating</th>\n",
       "      <th>user_seq</th>\n",
       "      <th>item_seq</th>\n",
       "    </tr>\n",
       "  </thead>\n",
       "  <tbody>\n",
       "    <tr>\n",
       "      <th>27647</th>\n",
       "      <td>1009</td>\n",
       "      <td>137213</td>\n",
       "      <td>5.0</td>\n",
       "      <td>534</td>\n",
       "      <td>496</td>\n",
       "    </tr>\n",
       "    <tr>\n",
       "      <th>30256</th>\n",
       "      <td>1127</td>\n",
       "      <td>144909</td>\n",
       "      <td>5.0</td>\n",
       "      <td>980</td>\n",
       "      <td>543</td>\n",
       "    </tr>\n",
       "    <tr>\n",
       "      <th>26692</th>\n",
       "      <td>1060</td>\n",
       "      <td>129952</td>\n",
       "      <td>5.0</td>\n",
       "      <td>589</td>\n",
       "      <td>480</td>\n",
       "    </tr>\n",
       "    <tr>\n",
       "      <th>51993</th>\n",
       "      <td>147</td>\n",
       "      <td>215307</td>\n",
       "      <td>4.0</td>\n",
       "      <td>168</td>\n",
       "      <td>992</td>\n",
       "    </tr>\n",
       "    <tr>\n",
       "      <th>9060</th>\n",
       "      <td>68</td>\n",
       "      <td>19226</td>\n",
       "      <td>5.0</td>\n",
       "      <td>226</td>\n",
       "      <td>151</td>\n",
       "    </tr>\n",
       "    <tr>\n",
       "      <th>...</th>\n",
       "      <td>...</td>\n",
       "      <td>...</td>\n",
       "      <td>...</td>\n",
       "      <td>...</td>\n",
       "      <td>...</td>\n",
       "    </tr>\n",
       "    <tr>\n",
       "      <th>44732</th>\n",
       "      <td>1122</td>\n",
       "      <td>194628</td>\n",
       "      <td>5.0</td>\n",
       "      <td>865</td>\n",
       "      <td>842</td>\n",
       "    </tr>\n",
       "    <tr>\n",
       "      <th>54343</th>\n",
       "      <td>812</td>\n",
       "      <td>223343</td>\n",
       "      <td>5.0</td>\n",
       "      <td>292</td>\n",
       "      <td>1021</td>\n",
       "    </tr>\n",
       "    <tr>\n",
       "      <th>38158</th>\n",
       "      <td>1456</td>\n",
       "      <td>162479</td>\n",
       "      <td>5.0</td>\n",
       "      <td>1013</td>\n",
       "      <td>698</td>\n",
       "    </tr>\n",
       "    <tr>\n",
       "      <th>860</th>\n",
       "      <td>180</td>\n",
       "      <td>1074</td>\n",
       "      <td>3.0</td>\n",
       "      <td>360</td>\n",
       "      <td>11</td>\n",
       "    </tr>\n",
       "    <tr>\n",
       "      <th>15795</th>\n",
       "      <td>74</td>\n",
       "      <td>44365</td>\n",
       "      <td>3.0</td>\n",
       "      <td>187</td>\n",
       "      <td>279</td>\n",
       "    </tr>\n",
       "  </tbody>\n",
       "</table>\n",
       "<p>44281 rows × 5 columns</p>\n",
       "</div>"
      ]
     },
     "execution_count": 117,
     "metadata": {},
     "output_type": "execute_result"
    }
   ],
   "source": [
    "dev_set"
   ]
  },
  {
   "cell_type": "code",
   "execution_count": 115,
   "id": "581e3ea6-5101-46a3-9424-c828189d83b5",
   "metadata": {},
   "outputs": [
    {
     "name": "stderr",
     "output_type": "stream",
     "text": [
      "2023-02-01 21:10:22,835 :: INFO :: ItemRepository :: Page 1/3 - Items 500/1029\n",
      "2023-02-01 21:10:23,181 :: INFO :: ItemRepository :: Page 2/3 - Items 1000/1029\n",
      "2023-02-01 21:10:23,213 :: INFO :: ItemRepository :: Page 3/3 - Items 1029/1029\n",
      "2023-02-01 21:10:23,213 :: INFO :: ItemRepository :: 1029 Total Items \n"
     ]
    }
   ],
   "source": [
    "items = ctx.item_service.find_all()"
   ]
  },
  {
   "cell_type": "code",
   "execution_count": 172,
   "id": "d35dc6bc-7dc6-4a67-8f0c-59d37ae541bd",
   "metadata": {},
   "outputs": [],
   "source": [
    "from collections import OrderedDict\n",
    "import pandas as pd\n",
    "\n",
    "def cols_to_dict(df, key_col, value_col):\n",
    "    return pd.Series(df[value_col].values,index=df[key_col]).to_dict()\n",
    "\n",
    "def find_similar_element_ids(\n",
    "    matrix_df,\n",
    "    left_col, \n",
    "    right_col,\n",
    "    element_id, \n",
    "    value_col  = 'value', \n",
    "    limit      = 10\n",
    "):\n",
    "    right_similars  = matrix_df[\n",
    "        (matrix_df[left_col].isin([element_id])) &\n",
    "        (matrix_df[value_col] > 0)\n",
    "    ]\n",
    "    right_sim_by_id = { row[right_col]: row[value_col] for _, row in right_similars.iterrows() }\n",
    "    \n",
    "    left_similars  = matrix_df[\n",
    "        (matrix_df[right_col].isin([element_id])) &\n",
    "        (matrix_df[value_col] > 0)\n",
    "    ]\n",
    "    left_sim_by_id = { row[left_col]: row[value_col] for _, row in left_similars.iterrows() }\n",
    "\n",
    "    sim_by_id = right_sim_by_id.copy()\n",
    "    for left_id, left_value in left_sim_by_id.items():\n",
    "        if left_id in sim_by_id:\n",
    "            if left_value >= sim_by_id[left_id]:\n",
    "                sim_by_id[left_id] = left_value\n",
    "        else:\n",
    "            sim_by_id[left_id] = left_value\n",
    "\n",
    "\n",
    "    id_sim_list = list(sim_by_id.items())\n",
    "    id_sim_list.sort(key=lambda id_sim: id_sim[1], reverse=True)\n",
    "    id_sim_list = id_sim_list[:limit]\n",
    "\n",
    "    orderd_dict = OrderedDict()\n",
    "    for id_sim in id_sim_list:\n",
    "        if id_sim[0] != element_id:\n",
    "            orderd_dict[id_sim[0]] = id_sim[1]\n",
    "\n",
    "    return orderd_dict\n",
    "\n",
    "\n",
    "class ItemRecommender:\n",
    "    def __init__(\n",
    "        self,\n",
    "        items,\n",
    "        dev_set,\n",
    "        user_similarities,\n",
    "        max_similar_users         = 50, \n",
    "        max_items_by_similar_user = 50,\n",
    "        max_similar_items         = 10\n",
    "    ):\n",
    "        self.items                     = items\n",
    "        self.train_set                 = train_set\n",
    "        self.user_similarities         = user_similarities\n",
    "        self.item_similarities         = item_similarities             \n",
    "        self.max_similar_users         = max_similar_users\n",
    "        self.max_items_by_similar_user = max_items_by_similar_user\n",
    "        self.user_id_to_seq            = cols_to_dict(train_set, 'user_id', 'user_seq')\n",
    "        \n",
    "\n",
    "    def predict(self, user_id, limit=5):\n",
    "        user_seq =  self.user_id_to_seq[user_id]\n",
    "        \n",
    "        most_similar_users = find_similar_element_ids(\n",
    "            self.user_similarities, \n",
    "            left_col   = 'user_a', \n",
    "            right_col  = 'user_b',\n",
    "            element_id = user_seq, \n",
    "            limit      = self.max_similar_users\n",
    "        )\n",
    "    \n",
    "    \n",
    "        user_seen_items = self.train_set[self.train_set['user_seq'].isin([user_seq])].\n",
    "        \n",
    "    \n",
    "        most_similar_user_seqs = [seq for seq, _ in most_similar_users.items()]\n",
    "        \n",
    "        sim_users_top_interactions = []\n",
    "        for sim_user_seq in most_similar_user_seqs:\n",
    "            interactions = self.train_set[\n",
    "                self.train_set['user_seq'].isin([sim_user_seq]) ]\n",
    "            \n",
    "            interactions = interactions.sort_values(['rating'], ascending=False)\n",
    "            top_interactions = interactions.head(self.max_items_by_similar_user)\n",
    "            top_interactions = top_interactions[['item_id',\t'item_seq', 'rating']] \n",
    "            sim_users_top_interactions.append(top_interactions)\n",
    "    \n",
    "        if sim_users_top_interactions:\n",
    "            sim_users_top_interactions = pd.concat(sim_users_top_interactions) \\\n",
    "            .drop_duplicates()\n",
    "            return sim_users_top_interactions.head(limit)\n",
    "        else:\n",
    "            return None"
   ]
  },
  {
   "cell_type": "code",
   "execution_count": 170,
   "id": "0dd1c788-210b-469d-a6b4-3771b19ecaa2",
   "metadata": {},
   "outputs": [],
   "source": [
    "recommender = ItemRecommender(items, dev_set, user_similarities)"
   ]
  },
  {
   "cell_type": "code",
   "execution_count": 171,
   "id": "1003b841-b1ac-43bc-9f1d-f2ff1be266d1",
   "metadata": {},
   "outputs": [
    {
     "data": {
      "text/html": [
       "<div>\n",
       "<style scoped>\n",
       "    .dataframe tbody tr th:only-of-type {\n",
       "        vertical-align: middle;\n",
       "    }\n",
       "\n",
       "    .dataframe tbody tr th {\n",
       "        vertical-align: top;\n",
       "    }\n",
       "\n",
       "    .dataframe thead th {\n",
       "        text-align: right;\n",
       "    }\n",
       "</style>\n",
       "<table border=\"1\" class=\"dataframe\">\n",
       "  <thead>\n",
       "    <tr style=\"text-align: right;\">\n",
       "      <th></th>\n",
       "      <th>item_id</th>\n",
       "      <th>item_seq</th>\n",
       "      <th>rating</th>\n",
       "    </tr>\n",
       "  </thead>\n",
       "  <tbody>\n",
       "    <tr>\n",
       "      <th>20629</th>\n",
       "      <td>75546</td>\n",
       "      <td>361</td>\n",
       "      <td>5.0</td>\n",
       "    </tr>\n",
       "    <tr>\n",
       "      <th>53056</th>\n",
       "      <td>215877</td>\n",
       "      <td>1005</td>\n",
       "      <td>5.0</td>\n",
       "    </tr>\n",
       "    <tr>\n",
       "      <th>14877</th>\n",
       "      <td>39121</td>\n",
       "      <td>261</td>\n",
       "      <td>5.0</td>\n",
       "    </tr>\n",
       "    <tr>\n",
       "      <th>19727</th>\n",
       "      <td>70442</td>\n",
       "      <td>345</td>\n",
       "      <td>5.0</td>\n",
       "    </tr>\n",
       "    <tr>\n",
       "      <th>21637</th>\n",
       "      <td>90681</td>\n",
       "      <td>380</td>\n",
       "      <td>5.0</td>\n",
       "    </tr>\n",
       "  </tbody>\n",
       "</table>\n",
       "</div>"
      ]
     },
     "execution_count": 174,
     "metadata": {},
     "output_type": "execute_result"
    }
   ],
   "source": [
    "recommender.predict(1060)"
   ]
  },
  {
   "cell_type": "code",
   "execution_count": null,
   "id": "f4306547-4ef4-4a5f-ae6e-8e28413104fe",
   "metadata": {},
   "outputs": [],
   "source": []
  },
  {
   "cell_type": "code",
   "execution_count": null,
   "id": "af1a3c95-6cf8-4a18-a1e2-6c2e26cacd3d",
   "metadata": {},
   "outputs": [],
   "source": []
  }
 ],
 "metadata": {
  "kernelspec": {
   "display_name": "Python 3 (ipykernel)",
   "language": "python",
   "name": "python3"
  },
  "language_info": {
   "codemirror_mode": {
    "name": "ipython",
    "version": 3
   },
   "file_extension": ".py",
   "mimetype": "text/x-python",
   "name": "python",
   "nbconvert_exporter": "python",
   "pygments_lexer": "ipython3",
   "version": "3.10.8"
  },
  "widgets": {
   "application/vnd.jupyter.widget-state+json": {
    "state": {},
    "version_major": 2,
    "version_minor": 0
   }
  }
 },
 "nbformat": 4,
 "nbformat_minor": 5
}
