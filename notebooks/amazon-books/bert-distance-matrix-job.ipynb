{
 "cells": [
  {
   "cell_type": "markdown",
   "id": "0417277b-47df-4113-a7b3-8f960db06f1d",
   "metadata": {
    "tags": []
   },
   "source": [
    "# Bert Distance Matrix Job"
   ]
  },
  {
   "cell_type": "code",
   "execution_count": 1,
   "id": "8dde5e70-5b86-460f-8791-20fcb554c378",
   "metadata": {},
   "outputs": [],
   "source": [
    "%load_ext autoreload\n",
    "%autoreload 2"
   ]
  },
  {
   "cell_type": "code",
   "execution_count": 2,
   "id": "f98e7bf4-f41a-43f6-b7b7-a991d00f82de",
   "metadata": {},
   "outputs": [],
   "source": [
    "import sys\n",
    "sys.path.append('../../src')\n",
    "\n",
    "from domain_context import DomainContext"
   ]
  },
  {
   "cell_type": "markdown",
   "id": "3b17de78-c722-47bd-accb-dbd6d811c954",
   "metadata": {
    "tags": []
   },
   "source": [
    "### Setup"
   ]
  },
  {
   "cell_type": "code",
   "execution_count": 3,
   "id": "c70a9b41-9bcb-49f4-b796-69c658a7a9e5",
   "metadata": {},
   "outputs": [
    {
     "name": "stderr",
     "output_type": "stream",
     "text": [
      "2022-12-30 19:14:40,814 :: INFO :: sentence_transformers.SentenceTransformer :: Load pretrained SentenceTransformer: all-MiniLM-L6-v2\n",
      "2022-12-30 19:14:41,042 :: INFO :: sentence_transformers.SentenceTransformer :: Use pytorch device: cuda\n",
      "2022-12-30 19:14:41,042 :: INFO :: sentence_transformers.SentenceTransformer :: Load pretrained SentenceTransformer: all-MiniLM-L12-v2\n",
      "2022-12-30 19:14:41,229 :: INFO :: sentence_transformers.SentenceTransformer :: Use pytorch device: cuda\n",
      "2022-12-30 19:14:41,230 :: INFO :: sentence_transformers.SentenceTransformer :: Load pretrained SentenceTransformer: multi-qa-mpnet-base-dot-v1\n",
      "2022-12-30 19:14:41,755 :: INFO :: sentence_transformers.SentenceTransformer :: Use pytorch device: cuda\n",
      "2022-12-30 19:14:41,755 :: INFO :: sentence_transformers.SentenceTransformer :: Load pretrained SentenceTransformer: all-mpnet-base-v2\n",
      "2022-12-30 19:14:42,276 :: INFO :: sentence_transformers.SentenceTransformer :: Use pytorch device: cuda\n"
     ]
    }
   ],
   "source": [
    "ctx = DomainContext(host='http://localhost:8000')"
   ]
  },
  {
   "cell_type": "markdown",
   "id": "40c1da33-a8da-47c9-b174-0b0885b05b50",
   "metadata": {
    "tags": []
   },
   "source": [
    "### Execute jobs"
   ]
  },
  {
   "cell_type": "code",
   "execution_count": 4,
   "id": "1cc0cadb-1bf9-4bc2-9971-8f42868167ad",
   "metadata": {},
   "outputs": [
    {
     "name": "stderr",
     "output_type": "stream",
     "text": [
      "2022-12-30 19:14:42,292 :: INFO :: BertItemDistanceMatrixJob :: Start\n",
      "2022-12-30 19:14:42,317 :: INFO :: ItemRepository :: Page 1/3 - Items 500/1029\n",
      "2022-12-30 19:14:42,338 :: INFO :: ItemRepository :: Page 2/3 - Items 1000/1029\n",
      "2022-12-30 19:14:42,386 :: INFO :: ItemRepository :: Page 3/3 - Items 1029/1029\n",
      "2022-12-30 19:14:42,386 :: INFO :: ItemRepository :: 1029 Total Items \n",
      "2022-12-30 19:14:42,390 :: INFO :: BertItemDistanceMatrixJob :: Not found items size change.\n",
      "2022-12-30 19:14:42,390 :: INFO :: BertItemDistanceMatrixJob :: Finish. Elapsed time: 0:00:00.10\n"
     ]
    }
   ],
   "source": [
    "ctx.bert_item_distance_matrix_job('all-MiniLM-L6-v2').execute()"
   ]
  },
  {
   "cell_type": "code",
   "execution_count": 5,
   "id": "43c5579e-6f27-4e23-aab8-d5ccb40d1e10",
   "metadata": {},
   "outputs": [
    {
     "name": "stderr",
     "output_type": "stream",
     "text": [
      "2022-12-30 19:14:42,407 :: INFO :: BertItemDistanceMatrixJob :: Start\n",
      "2022-12-30 19:14:42,430 :: INFO :: ItemRepository :: Page 1/3 - Items 500/1029\n",
      "2022-12-30 19:14:42,453 :: INFO :: ItemRepository :: Page 2/3 - Items 1000/1029\n",
      "2022-12-30 19:14:42,499 :: INFO :: ItemRepository :: Page 3/3 - Items 1029/1029\n",
      "2022-12-30 19:14:42,500 :: INFO :: ItemRepository :: 1029 Total Items \n"
     ]
    },
    {
     "data": {
      "application/vnd.jupyter.widget-view+json": {
       "model_id": "bf42d64d829040399a3b66e002b479a9",
       "version_major": 2,
       "version_minor": 0
      },
      "text/plain": [
       "Batches:   0%|          | 0/33 [00:00<?, ?it/s]"
      ]
     },
     "metadata": {},
     "output_type": "display_data"
    },
    {
     "name": "stderr",
     "output_type": "stream",
     "text": [
      "2022-12-30 19:14:44,440 :: INFO :: SimilarityService :: Compute item_seq combinations...\n",
      "2022-12-30 19:14:44,458 :: INFO :: SimilarityService :: item_id combinations...528906 (1029)\n",
      "2022-12-30 19:14:44,458 :: INFO :: SimilarityService :: Compute item_seq embeddings(size: 384)...\n",
      "2022-12-30 19:14:44,620 :: INFO :: SimilarityService :: Compute item_id similarities...\n",
      "\n",
      "100%|███████████████████████████████████████████████████████████████████████████████████████████████████████████████████████████████████████████████████████████████████████████████████████████████████████████████████████████████████████████████████████████████████████████████| 528906/528906 [00:04<00:00, 119202.89it/s]\n",
      "2022-12-30 19:14:49,890 :: INFO :: SimilarityMatrixRepository :: Page 2/0 - Similarity_matrix 0/0\n",
      "2022-12-30 19:14:49,891 :: INFO :: SimilarityMatrixRepository :: 0 Total Similarity_matrix \n",
      "2022-12-30 19:14:49,891 :: INFO :: SimilarityMatrixService :: Insert all-MiniLM-L12-v2-item-to-item SimilarityMatrixType.ITEM_TO_ITEM matrix.\n",
      "2022-12-30 19:14:49,983 :: INFO :: SimilarityService :: Filter 10 most similars\n",
      "2022-12-30 19:14:50,397 :: INFO :: SimilarityService :: Filtered: 10245/528906 (98.1%)\n",
      "2022-12-30 19:14:50,403 :: INFO :: DataFramePaginationIterator :: Page 1/2 - Items 10000/10245\n",
      "2022-12-30 19:14:55,169 :: INFO :: DataFramePaginationIterator :: Page 2/2 - Items 10245/10245\n",
      "2022-12-30 19:14:55,336 :: INFO :: DataFramePaginationIterator :: Totals - Pages 2 - Items 10245\n",
      "2022-12-30 19:14:55,404 :: INFO :: BertItemDistanceMatrixJob :: Finish. Elapsed time: 0:00:13.00\n"
     ]
    }
   ],
   "source": [
    "ctx.bert_item_distance_matrix_job('all-MiniLM-L12-v2').execute()"
   ]
  },
  {
   "cell_type": "code",
   "execution_count": 6,
   "id": "f5819647-f25a-4dd1-85c9-6cbe97b63152",
   "metadata": {},
   "outputs": [
    {
     "name": "stderr",
     "output_type": "stream",
     "text": [
      "2022-12-30 19:14:55,423 :: INFO :: BertItemDistanceMatrixJob :: Start\n",
      "2022-12-30 19:14:55,446 :: INFO :: ItemRepository :: Page 1/3 - Items 500/1029\n",
      "2022-12-30 19:14:55,467 :: INFO :: ItemRepository :: Page 2/3 - Items 1000/1029\n",
      "2022-12-30 19:14:55,516 :: INFO :: ItemRepository :: Page 3/3 - Items 1029/1029\n",
      "2022-12-30 19:14:55,516 :: INFO :: ItemRepository :: 1029 Total Items \n"
     ]
    },
    {
     "data": {
      "application/vnd.jupyter.widget-view+json": {
       "model_id": "6afd3a0d55364f928c62d931e96041f4",
       "version_major": 2,
       "version_minor": 0
      },
      "text/plain": [
       "Batches:   0%|          | 0/33 [00:00<?, ?it/s]"
      ]
     },
     "metadata": {},
     "output_type": "display_data"
    },
    {
     "name": "stderr",
     "output_type": "stream",
     "text": [
      "2022-12-30 19:15:04,923 :: INFO :: SimilarityService :: Compute item_seq combinations...\n",
      "2022-12-30 19:15:04,938 :: INFO :: SimilarityService :: item_id combinations...528906 (1029)\n",
      "2022-12-30 19:15:04,939 :: INFO :: SimilarityService :: Compute item_seq embeddings(size: 768)...\n",
      "2022-12-30 19:15:05,103 :: INFO :: SimilarityService :: Compute item_id similarities...\n",
      "\n",
      "100%|███████████████████████████████████████████████████████████████████████████████████████████████████████████████████████████████████████████████████████████████████████████████████████████████████████████████████████████████████████████████████████████████████████████████| 528906/528906 [00:04<00:00, 109650.80it/s]\n",
      "2022-12-30 19:15:10,760 :: INFO :: SimilarityMatrixRepository :: Page 2/0 - Similarity_matrix 0/0\n",
      "2022-12-30 19:15:10,761 :: INFO :: SimilarityMatrixRepository :: 0 Total Similarity_matrix \n",
      "2022-12-30 19:15:10,761 :: INFO :: SimilarityMatrixService :: Insert multi-qa-mpnet-base-dot-v1-item-to-item SimilarityMatrixType.ITEM_TO_ITEM matrix.\n",
      "2022-12-30 19:15:10,856 :: INFO :: SimilarityService :: Filter 10 most similars\n",
      "2022-12-30 19:15:11,346 :: INFO :: SimilarityService :: Filtered: 10245/528906 (98.1%)\n",
      "2022-12-30 19:15:11,354 :: INFO :: DataFramePaginationIterator :: Page 1/2 - Items 10000/10245\n",
      "2022-12-30 19:15:17,222 :: INFO :: DataFramePaginationIterator :: Page 2/2 - Items 10245/10245\n",
      "2022-12-30 19:15:17,386 :: INFO :: DataFramePaginationIterator :: Totals - Pages 2 - Items 10245\n",
      "2022-12-30 19:15:17,460 :: INFO :: BertItemDistanceMatrixJob :: Finish. Elapsed time: 0:00:22.04\n"
     ]
    }
   ],
   "source": [
    "ctx.bert_item_distance_matrix_job('multi-qa-mpnet-base-dot-v1').execute()"
   ]
  },
  {
   "cell_type": "code",
   "execution_count": null,
   "id": "3815cfba-222e-4001-b6ee-76159aab4d9d",
   "metadata": {},
   "outputs": [
    {
     "name": "stderr",
     "output_type": "stream",
     "text": [
      "2022-12-30 19:15:17,476 :: INFO :: BertItemDistanceMatrixJob :: Start\n",
      "2022-12-30 19:15:17,500 :: INFO :: ItemRepository :: Page 1/3 - Items 500/1029\n",
      "2022-12-30 19:15:17,523 :: INFO :: ItemRepository :: Page 2/3 - Items 1000/1029\n",
      "2022-12-30 19:15:17,573 :: INFO :: ItemRepository :: Page 3/3 - Items 1029/1029\n",
      "2022-12-30 19:15:17,573 :: INFO :: ItemRepository :: 1029 Total Items \n"
     ]
    },
    {
     "data": {
      "application/vnd.jupyter.widget-view+json": {
       "model_id": "235c5e779ab643339844bffb9fe3a531",
       "version_major": 2,
       "version_minor": 0
      },
      "text/plain": [
       "Batches:   0%|          | 0/33 [00:00<?, ?it/s]"
      ]
     },
     "metadata": {},
     "output_type": "display_data"
    },
    {
     "name": "stderr",
     "output_type": "stream",
     "text": [
      "2022-12-30 19:15:24,420 :: INFO :: SimilarityService :: Compute item_seq combinations...\n",
      "2022-12-30 19:15:24,434 :: INFO :: SimilarityService :: item_id combinations...528906 (1029)\n",
      "2022-12-30 19:15:24,435 :: INFO :: SimilarityService :: Compute item_seq embeddings(size: 768)...\n",
      "2022-12-30 19:15:24,602 :: INFO :: SimilarityService :: Compute item_id similarities...\n",
      "\n",
      "100%|███████████████████████████████████████████████████████████████████████████████████████████████████████████████████████████████████████████████████████████████████████████████████████████████████████████████████████████████████████████████████████████████████████████████| 528906/528906 [00:04<00:00, 115498.75it/s]\n",
      "2022-12-30 19:15:29,988 :: INFO :: SimilarityMatrixRepository :: Page 2/0 - Similarity_matrix 0/0\n",
      "2022-12-30 19:15:29,988 :: INFO :: SimilarityMatrixRepository :: 0 Total Similarity_matrix \n",
      "2022-12-30 19:15:29,988 :: INFO :: SimilarityMatrixService :: Insert all-mpnet-base-v2-item-to-item SimilarityMatrixType.ITEM_TO_ITEM matrix.\n",
      "2022-12-30 19:15:30,083 :: INFO :: SimilarityService :: Filter 10 most similars\n",
      "2022-12-30 19:15:30,493 :: INFO :: SimilarityService :: Filtered: 10245/528906 (98.1%)\n",
      "2022-12-30 19:15:30,500 :: INFO :: DataFramePaginationIterator :: Page 1/2 - Items 10000/10245\n",
      "2022-12-30 19:15:35,369 :: INFO :: DataFramePaginationIterator :: Page 2/2 - Items 10245/10245\n",
      "2022-12-30 19:15:35,533 :: INFO :: DataFramePaginationIterator :: Totals - Pages 2 - Items 10245\n",
      "2022-12-30 19:15:35,603 :: INFO :: BertItemDistanceMatrixJob :: Finish. Elapsed time: 0:00:18.13\n"
     ]
    }
   ],
   "source": [
    "ctx.bert_item_distance_matrix_job('g').execute()"
   ]
  }
 ],
 "metadata": {
  "kernelspec": {
   "display_name": "Python 3 (ipykernel)",
   "language": "python",
   "name": "python3"
  },
  "language_info": {
   "codemirror_mode": {
    "name": "ipython",
    "version": 3
   },
   "file_extension": ".py",
   "mimetype": "text/x-python",
   "name": "python",
   "nbconvert_exporter": "python",
   "pygments_lexer": "ipython3",
   "version": "3.10.8"
  },
  "widgets": {
   "application/vnd.jupyter.widget-state+json": {
    "state": {},
    "version_major": 2,
    "version_minor": 0
   }
  }
 },
 "nbformat": 4,
 "nbformat_minor": 5
}
