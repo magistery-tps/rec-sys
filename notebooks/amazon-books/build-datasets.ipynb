{
 "cells": [
  {
   "cell_type": "code",
   "execution_count": 1,
   "id": "94f881df-4e34-4baa-bb19-bd38a2542192",
   "metadata": {},
   "outputs": [],
   "source": [
    "%load_ext autoreload\n",
    "%autoreload 2"
   ]
  },
  {
   "cell_type": "code",
   "execution_count": 2,
   "id": "f8259342-bd48-49ce-a235-d7febaeabe33",
   "metadata": {},
   "outputs": [],
   "source": [
    "import sys\n",
    "sys.path.append('../../src')"
   ]
  },
  {
   "cell_type": "code",
   "execution_count": 3,
   "id": "72fe1c26-d376-424b-9fce-17b67596e8ed",
   "metadata": {},
   "outputs": [],
   "source": [
    "import numpy as np\n",
    "import pandas as pd\n",
    "import glob\n",
    "import json\n",
    "import logging"
   ]
  },
  {
   "cell_type": "code",
   "execution_count": 4,
   "id": "17df9139-6b61-45bb-bb9c-2d3a523d2bb1",
   "metadata": {},
   "outputs": [],
   "source": [
    "def columns_to_dict(df, key_col, value_col):\n",
    "    return pd.Series(df[value_col].values,index=df[key_col]).to_dict()"
   ]
  },
  {
   "cell_type": "code",
   "execution_count": 5,
   "id": "79655577-629a-4f96-83ae-dd88a019cad5",
   "metadata": {},
   "outputs": [],
   "source": [
    "DATASET_PATH = '../../datasets/amazon-books'"
   ]
  },
  {
   "cell_type": "code",
   "execution_count": 6,
   "id": "d9c7735e-42ca-4da1-a4a1-fcb5976e3a02",
   "metadata": {},
   "outputs": [],
   "source": [
    "books = pd.read_json(f'{DATASET_PATH}/user_500_1500_books.json')"
   ]
  },
  {
   "cell_type": "code",
   "execution_count": 7,
   "id": "a5e36f66-0fd0-4794-9fd1-6bcca9ac5543",
   "metadata": {},
   "outputs": [
    {
     "data": {
      "text/html": [
       "<pre style=\"white-space:pre;overflow-x:auto;line-height:normal;font-family:Menlo,'DejaVu Sans Mono',consolas,'Courier New',monospace\">\n",
       "<span style=\"color: #800080; text-decoration-color: #800080; font-weight: bold\">Index</span><span style=\"font-weight: bold\">([</span><span style=\"color: #008000; text-decoration-color: #008000\">'_id'</span>, <span style=\"color: #008000; text-decoration-color: #008000\">'also_buy'</span>, <span style=\"color: #008000; text-decoration-color: #008000\">'also_view'</span>, <span style=\"color: #008000; text-decoration-color: #008000\">'brand'</span>, <span style=\"color: #008000; text-decoration-color: #008000\">'category'</span>, <span style=\"color: #008000; text-decoration-color: #008000\">'description'</span>,\n",
       "       <span style=\"color: #008000; text-decoration-color: #008000\">'imageURL'</span>, <span style=\"color: #008000; text-decoration-color: #008000\">'item_id'</span>, <span style=\"color: #008000; text-decoration-color: #008000\">'main_category'</span>, <span style=\"color: #008000; text-decoration-color: #008000\">'price'</span>, <span style=\"color: #008000; text-decoration-color: #008000\">'rank'</span>, <span style=\"color: #008000; text-decoration-color: #008000\">'title'</span><span style=\"font-weight: bold\">]</span>,\n",
       "      <span style=\"color: #808000; text-decoration-color: #808000\">dtype</span>=<span style=\"color: #008000; text-decoration-color: #008000\">'object'</span><span style=\"font-weight: bold\">)</span>\n",
       "</pre>\n"
      ],
      "text/plain": [
       "\n",
       "\u001b[1;35mIndex\u001b[0m\u001b[1m(\u001b[0m\u001b[1m[\u001b[0m\u001b[32m'_id'\u001b[0m, \u001b[32m'also_buy'\u001b[0m, \u001b[32m'also_view'\u001b[0m, \u001b[32m'brand'\u001b[0m, \u001b[32m'category'\u001b[0m, \u001b[32m'description'\u001b[0m,\n",
       "       \u001b[32m'imageURL'\u001b[0m, \u001b[32m'item_id'\u001b[0m, \u001b[32m'main_category'\u001b[0m, \u001b[32m'price'\u001b[0m, \u001b[32m'rank'\u001b[0m, \u001b[32m'title'\u001b[0m\u001b[1m]\u001b[0m,\n",
       "      \u001b[33mdtype\u001b[0m=\u001b[32m'object'\u001b[0m\u001b[1m)\u001b[0m\n"
      ]
     },
     "metadata": {},
     "output_type": "display_data"
    }
   ],
   "source": [
    "books.columns"
   ]
  },
  {
   "cell_type": "code",
   "execution_count": 8,
   "id": "5c31c23e-d20d-4638-b52b-f9490b774e39",
   "metadata": {},
   "outputs": [],
   "source": [
    "books['description'] = books['description'] + books['main_category'].apply(lambda x: f' Category: {x}' if x else '')"
   ]
  },
  {
   "cell_type": "code",
   "execution_count": 9,
   "id": "045bd771-f1c5-4927-9b6b-b339b92e5ad2",
   "metadata": {},
   "outputs": [],
   "source": [
    "books_columns = ['item_id', 'title', 'description']\n",
    "books = books[books_columns]"
   ]
  },
  {
   "cell_type": "code",
   "execution_count": 10,
   "id": "6b2cfec4-da1b-4c12-8935-063145487b87",
   "metadata": {},
   "outputs": [
    {
     "data": {
      "text/html": [
       "<div>\n",
       "<style scoped>\n",
       "    .dataframe tbody tr th:only-of-type {\n",
       "        vertical-align: middle;\n",
       "    }\n",
       "\n",
       "    .dataframe tbody tr th {\n",
       "        vertical-align: top;\n",
       "    }\n",
       "\n",
       "    .dataframe thead th {\n",
       "        text-align: right;\n",
       "    }\n",
       "</style>\n",
       "<table border=\"1\" class=\"dataframe\">\n",
       "  <thead>\n",
       "    <tr style=\"text-align: right;\">\n",
       "      <th></th>\n",
       "      <th>item_id</th>\n",
       "      <th>title</th>\n",
       "      <th>description</th>\n",
       "    </tr>\n",
       "  </thead>\n",
       "  <tbody>\n",
       "    <tr>\n",
       "      <th>0</th>\n",
       "      <td>000105001X</td>\n",
       "      <td>Lady of Hay</td>\n",
       "      <td>Jo Clifford, a successful journalist, is all s...</td>\n",
       "    </tr>\n",
       "    <tr>\n",
       "      <th>1</th>\n",
       "      <td>0001050230</td>\n",
       "      <td>Love's Labour's Lost: Performed by Derek Jacob...</td>\n",
       "      <td>William Shakespeare is widely regarded as the ...</td>\n",
       "    </tr>\n",
       "    <tr>\n",
       "      <th>2</th>\n",
       "      <td>0001052292</td>\n",
       "      <td>Microserfs</td>\n",
       "      <td>NaN</td>\n",
       "    </tr>\n",
       "    <tr>\n",
       "      <th>3</th>\n",
       "      <td>0000230022</td>\n",
       "      <td>The Simple Truths of Service: Inspired by John...</td>\n",
       "      <td>Simple Truths of Service: Inspired by Jonny th...</td>\n",
       "    </tr>\n",
       "    <tr>\n",
       "      <th>4</th>\n",
       "      <td>0001047868</td>\n",
       "      <td>Kidnapped (HarperCollinsAudioBooks)</td>\n",
       "      <td>Grade 6 Up-Kidnapped by Robert Louis Stevenson...</td>\n",
       "    </tr>\n",
       "  </tbody>\n",
       "</table>\n",
       "</div>"
      ]
     },
     "execution_count": 10,
     "metadata": {},
     "output_type": "execute_result"
    }
   ],
   "source": [
    "books.head(5)"
   ]
  },
  {
   "cell_type": "code",
   "execution_count": 11,
   "id": "4f75c25b-0652-4148-b90e-33dde0a7b1bd",
   "metadata": {},
   "outputs": [],
   "source": [
    "books.to_json(f'{DATASET_PATH}/items.json', orient=\"records\")"
   ]
  },
  {
   "cell_type": "code",
   "execution_count": 12,
   "id": "fd6e931d-ae2d-4047-a2af-8daaa3053159",
   "metadata": {},
   "outputs": [],
   "source": [
    "interations = pd.read_json(f'{DATASET_PATH}/user_500_1500_interactions.json')"
   ]
  },
  {
   "cell_type": "code",
   "execution_count": 13,
   "id": "eac1a619-0207-4b88-9b50-efa7c91b6894",
   "metadata": {},
   "outputs": [
    {
     "data": {
      "text/html": [
       "<div>\n",
       "<style scoped>\n",
       "    .dataframe tbody tr th:only-of-type {\n",
       "        vertical-align: middle;\n",
       "    }\n",
       "\n",
       "    .dataframe tbody tr th {\n",
       "        vertical-align: top;\n",
       "    }\n",
       "\n",
       "    .dataframe thead th {\n",
       "        text-align: right;\n",
       "    }\n",
       "</style>\n",
       "<table border=\"1\" class=\"dataframe\">\n",
       "  <thead>\n",
       "    <tr style=\"text-align: right;\">\n",
       "      <th></th>\n",
       "      <th>item_id</th>\n",
       "      <th>user_id</th>\n",
       "      <th>rating</th>\n",
       "    </tr>\n",
       "  </thead>\n",
       "  <tbody>\n",
       "    <tr>\n",
       "      <th>0</th>\n",
       "      <td>0002006448</td>\n",
       "      <td>A2B1GZIRD6W646</td>\n",
       "      <td>4</td>\n",
       "    </tr>\n",
       "    <tr>\n",
       "      <th>1</th>\n",
       "      <td>0002006448</td>\n",
       "      <td>A1DK5AZMXS1QA3</td>\n",
       "      <td>4</td>\n",
       "    </tr>\n",
       "    <tr>\n",
       "      <th>2</th>\n",
       "      <td>0001712799</td>\n",
       "      <td>A1BNWEJ7RVPLQ1</td>\n",
       "      <td>5</td>\n",
       "    </tr>\n",
       "    <tr>\n",
       "      <th>3</th>\n",
       "      <td>0002005263</td>\n",
       "      <td>ARVOX5K5ZJOJR</td>\n",
       "      <td>3</td>\n",
       "    </tr>\n",
       "    <tr>\n",
       "      <th>4</th>\n",
       "      <td>0002005263</td>\n",
       "      <td>A1XQ1JB4A3UWIK</td>\n",
       "      <td>5</td>\n",
       "    </tr>\n",
       "  </tbody>\n",
       "</table>\n",
       "</div>"
      ]
     },
     "execution_count": 13,
     "metadata": {},
     "output_type": "execute_result"
    }
   ],
   "source": [
    "interations = interations[['item_id', 'user_id', 'rating']]\n",
    "interations.head(5)"
   ]
  },
  {
   "cell_type": "code",
   "execution_count": 14,
   "id": "73f6abbc-735c-4e79-87d8-f5402ed5c05d",
   "metadata": {},
   "outputs": [],
   "source": [
    "interations.to_json(f'{DATASET_PATH}/interactions.json', orient=\"records\")"
   ]
  },
  {
   "cell_type": "markdown",
   "id": "7806bc52-65a2-476d-97c0-10fc119d48cf",
   "metadata": {},
   "source": [
    "# Database prepare"
   ]
  },
  {
   "cell_type": "code",
   "execution_count": 15,
   "id": "bffd8912-c909-4bc9-acf5-8003eba55ded",
   "metadata": {},
   "outputs": [],
   "source": [
    "items        = pd.read_json(f'{DATASET_PATH}/items.json')\n",
    "interactions = pd.read_json(f'{DATASET_PATH}/interactions.json')"
   ]
  },
  {
   "cell_type": "code",
   "execution_count": 16,
   "id": "dd6da7ff-4580-412b-965a-785851ebee1d",
   "metadata": {},
   "outputs": [],
   "source": [
    "def sequence_from(df, source, target):\n",
    "    df[target] = pd.factorize(df[source])[0] + 1\n",
    "    return df\n",
    "\n",
    "select = lambda df, columns: df[columns]\n",
    "rename = lambda df, columns: df.rename(columns=columns)"
   ]
  },
  {
   "cell_type": "code",
   "execution_count": 17,
   "id": "f71e192b-a2f5-444d-a376-6fe6bc6190ce",
   "metadata": {},
   "outputs": [
    {
     "data": {
      "text/html": [
       "<div>\n",
       "<style scoped>\n",
       "    .dataframe tbody tr th:only-of-type {\n",
       "        vertical-align: middle;\n",
       "    }\n",
       "\n",
       "    .dataframe tbody tr th {\n",
       "        vertical-align: top;\n",
       "    }\n",
       "\n",
       "    .dataframe thead th {\n",
       "        text-align: right;\n",
       "    }\n",
       "</style>\n",
       "<table border=\"1\" class=\"dataframe\">\n",
       "  <thead>\n",
       "    <tr style=\"text-align: right;\">\n",
       "      <th></th>\n",
       "      <th>item_id</th>\n",
       "      <th>user_id</th>\n",
       "      <th>rating</th>\n",
       "      <th>user_seq</th>\n",
       "      <th>item_seq</th>\n",
       "    </tr>\n",
       "  </thead>\n",
       "  <tbody>\n",
       "    <tr>\n",
       "      <th>0</th>\n",
       "      <td>0002006448</td>\n",
       "      <td>A2B1GZIRD6W646</td>\n",
       "      <td>4</td>\n",
       "      <td>1</td>\n",
       "      <td>1</td>\n",
       "    </tr>\n",
       "    <tr>\n",
       "      <th>1</th>\n",
       "      <td>0002006448</td>\n",
       "      <td>A1DK5AZMXS1QA3</td>\n",
       "      <td>4</td>\n",
       "      <td>2</td>\n",
       "      <td>1</td>\n",
       "    </tr>\n",
       "    <tr>\n",
       "      <th>2</th>\n",
       "      <td>0001712799</td>\n",
       "      <td>A1BNWEJ7RVPLQ1</td>\n",
       "      <td>5</td>\n",
       "      <td>3</td>\n",
       "      <td>2</td>\n",
       "    </tr>\n",
       "    <tr>\n",
       "      <th>3</th>\n",
       "      <td>0002005263</td>\n",
       "      <td>ARVOX5K5ZJOJR</td>\n",
       "      <td>3</td>\n",
       "      <td>4</td>\n",
       "      <td>3</td>\n",
       "    </tr>\n",
       "    <tr>\n",
       "      <th>4</th>\n",
       "      <td>0002005263</td>\n",
       "      <td>A1XQ1JB4A3UWIK</td>\n",
       "      <td>5</td>\n",
       "      <td>5</td>\n",
       "      <td>3</td>\n",
       "    </tr>\n",
       "  </tbody>\n",
       "</table>\n",
       "</div>"
      ]
     },
     "execution_count": 17,
     "metadata": {},
     "output_type": "execute_result"
    }
   ],
   "source": [
    "interactions = interactions \\\n",
    "    .pipe(sequence_from, source='user_id', target='user_seq') \\\n",
    "    .pipe(sequence_from, source='item_id', target='item_seq')\n",
    "\n",
    "interactions.head(5)"
   ]
  },
  {
   "cell_type": "code",
   "execution_count": 18,
   "id": "e088a1d9-62f5-4a7a-aa5e-c91afd31716d",
   "metadata": {},
   "outputs": [
    {
     "data": {
      "text/html": [
       "<div>\n",
       "<style scoped>\n",
       "    .dataframe tbody tr th:only-of-type {\n",
       "        vertical-align: middle;\n",
       "    }\n",
       "\n",
       "    .dataframe tbody tr th {\n",
       "        vertical-align: top;\n",
       "    }\n",
       "\n",
       "    .dataframe thead th {\n",
       "        text-align: right;\n",
       "    }\n",
       "</style>\n",
       "<table border=\"1\" class=\"dataframe\">\n",
       "  <thead>\n",
       "    <tr style=\"text-align: right;\">\n",
       "      <th></th>\n",
       "      <th>item_id</th>\n",
       "      <th>item_seq</th>\n",
       "    </tr>\n",
       "  </thead>\n",
       "  <tbody>\n",
       "    <tr>\n",
       "      <th>0</th>\n",
       "      <td>0002006448</td>\n",
       "      <td>1</td>\n",
       "    </tr>\n",
       "    <tr>\n",
       "      <th>1</th>\n",
       "      <td>0002006448</td>\n",
       "      <td>1</td>\n",
       "    </tr>\n",
       "    <tr>\n",
       "      <th>2</th>\n",
       "      <td>0001712799</td>\n",
       "      <td>2</td>\n",
       "    </tr>\n",
       "    <tr>\n",
       "      <th>3</th>\n",
       "      <td>0002005263</td>\n",
       "      <td>3</td>\n",
       "    </tr>\n",
       "    <tr>\n",
       "      <th>4</th>\n",
       "      <td>0002005263</td>\n",
       "      <td>3</td>\n",
       "    </tr>\n",
       "  </tbody>\n",
       "</table>\n",
       "</div>"
      ]
     },
     "execution_count": 18,
     "metadata": {},
     "output_type": "execute_result"
    }
   ],
   "source": [
    "asin_seq = interactions[['item_id', 'item_seq']].dropna()\n",
    "\n",
    "asin_seq.head(5)"
   ]
  },
  {
   "cell_type": "code",
   "execution_count": 19,
   "id": "f3291b3f-4238-40a1-baea-dd3d5888d9c1",
   "metadata": {},
   "outputs": [
    {
     "data": {
      "text/html": [
       "<pre style=\"white-space:pre;overflow-x:auto;line-height:normal;font-family:Menlo,'DejaVu Sans Mono',consolas,'Courier New',monospace\"><span style=\"font-weight: bold\">((</span><span style=\"color: #008080; text-decoration-color: #008080; font-weight: bold\">406526</span>, <span style=\"color: #008080; text-decoration-color: #008080; font-weight: bold\">3</span><span style=\"font-weight: bold\">)</span>, <span style=\"font-weight: bold\">(</span><span style=\"color: #008080; text-decoration-color: #008080; font-weight: bold\">406526</span>, <span style=\"color: #008080; text-decoration-color: #008080; font-weight: bold\">3</span><span style=\"font-weight: bold\">))</span>\n",
       "</pre>\n"
      ],
      "text/plain": [
       "\u001b[1m(\u001b[0m\u001b[1m(\u001b[0m\u001b[1;36m406526\u001b[0m, \u001b[1;36m3\u001b[0m\u001b[1m)\u001b[0m, \u001b[1m(\u001b[0m\u001b[1;36m406526\u001b[0m, \u001b[1;36m3\u001b[0m\u001b[1m)\u001b[0m\u001b[1m)\u001b[0m\n"
      ]
     },
     "metadata": {},
     "output_type": "display_data"
    }
   ],
   "source": [
    "filtered_items = items[items['item_id'].isin(asin_seq['item_id'].unique())]\n",
    "filtered_items.shape, items.shape"
   ]
  },
  {
   "cell_type": "code",
   "execution_count": 20,
   "id": "2a57d710-8a17-469e-9f5f-e2983b693ef4",
   "metadata": {},
   "outputs": [],
   "source": [
    "asin_seq_dic = columns_to_dict(asin_seq, key_col='item_id', value_col='item_seq')"
   ]
  },
  {
   "cell_type": "code",
   "execution_count": 21,
   "id": "56b6976a-c4e9-48f0-82a9-a26ac904234b",
   "metadata": {},
   "outputs": [
    {
     "data": {
      "text/html": [
       "<div>\n",
       "<style scoped>\n",
       "    .dataframe tbody tr th:only-of-type {\n",
       "        vertical-align: middle;\n",
       "    }\n",
       "\n",
       "    .dataframe tbody tr th {\n",
       "        vertical-align: top;\n",
       "    }\n",
       "\n",
       "    .dataframe thead th {\n",
       "        text-align: right;\n",
       "    }\n",
       "</style>\n",
       "<table border=\"1\" class=\"dataframe\">\n",
       "  <thead>\n",
       "    <tr style=\"text-align: right;\">\n",
       "      <th></th>\n",
       "      <th>item_id</th>\n",
       "      <th>title</th>\n",
       "      <th>description</th>\n",
       "      <th>image</th>\n",
       "    </tr>\n",
       "  </thead>\n",
       "  <tbody>\n",
       "    <tr>\n",
       "      <th>0</th>\n",
       "      <td>000105001X</td>\n",
       "      <td>Lady of Hay</td>\n",
       "      <td>Jo Clifford, a successful journalist, is all s...</td>\n",
       "      <td>http://images.amazon.com/images/P/000105001X.0...</td>\n",
       "    </tr>\n",
       "    <tr>\n",
       "      <th>1</th>\n",
       "      <td>0001050230</td>\n",
       "      <td>Love's Labour's Lost: Performed by Derek Jacob...</td>\n",
       "      <td>William Shakespeare is widely regarded as the ...</td>\n",
       "      <td>http://images.amazon.com/images/P/0001050230.0...</td>\n",
       "    </tr>\n",
       "    <tr>\n",
       "      <th>2</th>\n",
       "      <td>0001052292</td>\n",
       "      <td>Microserfs</td>\n",
       "      <td>None</td>\n",
       "      <td>http://images.amazon.com/images/P/0001052292.0...</td>\n",
       "    </tr>\n",
       "    <tr>\n",
       "      <th>3</th>\n",
       "      <td>0000230022</td>\n",
       "      <td>The Simple Truths of Service: Inspired by John...</td>\n",
       "      <td>Simple Truths of Service: Inspired by Jonny th...</td>\n",
       "      <td>http://images.amazon.com/images/P/0000230022.0...</td>\n",
       "    </tr>\n",
       "    <tr>\n",
       "      <th>4</th>\n",
       "      <td>0001047868</td>\n",
       "      <td>Kidnapped (HarperCollinsAudioBooks)</td>\n",
       "      <td>Grade 6 Up-Kidnapped by Robert Louis Stevenson...</td>\n",
       "      <td>http://images.amazon.com/images/P/0001047868.0...</td>\n",
       "    </tr>\n",
       "  </tbody>\n",
       "</table>\n",
       "</div>"
      ]
     },
     "execution_count": 21,
     "metadata": {},
     "output_type": "execute_result"
    }
   ],
   "source": [
    "items['image'] = items['item_id'].apply(lambda id: f'http://images.amazon.com/images/P/{id}.01._SCLZZZZZZZ_.jpg')\n",
    "items.head(5)"
   ]
  },
  {
   "cell_type": "code",
   "execution_count": 22,
   "id": "dd3c3f0a-f203-4317-b72d-a3bd91e9f45a",
   "metadata": {},
   "outputs": [],
   "source": [
    "items['item_id'] = items['item_id'].apply(lambda item_id: asin_seq_dic[str(item_id)])\n",
    "items = items.rename(columns={'item_id': 'id', 'title': 'name'})"
   ]
  },
  {
   "cell_type": "code",
   "execution_count": 33,
   "id": "22847d77-4288-4d93-8b8c-1ab8f728a31b",
   "metadata": {},
   "outputs": [],
   "source": [
    "items['name']        = items['name'].str.replace('\"', '')\n",
    "items['description'] = items['description'].str.replace('\"', '')\n",
    "items['name']        = items['name'].str.replace(\"\\\\\", '', regex=False)\n",
    "items['description'] = items['description'].str.replace(\"\\\\\", '', regex=False)"
   ]
  },
  {
   "cell_type": "code",
   "execution_count": 34,
   "id": "37a98124-8dfe-469c-8c2e-0e3564ed5fd7",
   "metadata": {},
   "outputs": [
    {
     "data": {
      "text/html": [
       "<div>\n",
       "<style scoped>\n",
       "    .dataframe tbody tr th:only-of-type {\n",
       "        vertical-align: middle;\n",
       "    }\n",
       "\n",
       "    .dataframe tbody tr th {\n",
       "        vertical-align: top;\n",
       "    }\n",
       "\n",
       "    .dataframe thead th {\n",
       "        text-align: right;\n",
       "    }\n",
       "</style>\n",
       "<table border=\"1\" class=\"dataframe\">\n",
       "  <thead>\n",
       "    <tr style=\"text-align: right;\">\n",
       "      <th></th>\n",
       "      <th>id</th>\n",
       "      <th>name</th>\n",
       "      <th>description</th>\n",
       "      <th>image</th>\n",
       "    </tr>\n",
       "  </thead>\n",
       "  <tbody>\n",
       "    <tr>\n",
       "      <th>0</th>\n",
       "      <td>25</td>\n",
       "      <td>Lady of Hay</td>\n",
       "      <td>Jo Clifford, a successful journalist, is all s...</td>\n",
       "      <td>http://images.amazon.com/images/P/000105001X.0...</td>\n",
       "    </tr>\n",
       "    <tr>\n",
       "      <th>1</th>\n",
       "      <td>92</td>\n",
       "      <td>Love's Labour's Lost: Performed by Derek Jacob...</td>\n",
       "      <td>William Shakespeare is widely regarded as the ...</td>\n",
       "      <td>http://images.amazon.com/images/P/0001050230.0...</td>\n",
       "    </tr>\n",
       "    <tr>\n",
       "      <th>2</th>\n",
       "      <td>22</td>\n",
       "      <td>Microserfs</td>\n",
       "      <td>None</td>\n",
       "      <td>http://images.amazon.com/images/P/0001052292.0...</td>\n",
       "    </tr>\n",
       "    <tr>\n",
       "      <th>3</th>\n",
       "      <td>7</td>\n",
       "      <td>The Simple Truths of Service: Inspired by John...</td>\n",
       "      <td>Simple Truths of Service: Inspired by Jonny th...</td>\n",
       "      <td>http://images.amazon.com/images/P/0000230022.0...</td>\n",
       "    </tr>\n",
       "    <tr>\n",
       "      <th>4</th>\n",
       "      <td>188</td>\n",
       "      <td>Kidnapped (HarperCollinsAudioBooks)</td>\n",
       "      <td>Grade 6 Up-Kidnapped by Robert Louis Stevenson...</td>\n",
       "      <td>http://images.amazon.com/images/P/0001047868.0...</td>\n",
       "    </tr>\n",
       "  </tbody>\n",
       "</table>\n",
       "</div>"
      ]
     },
     "execution_count": 34,
     "metadata": {},
     "output_type": "execute_result"
    }
   ],
   "source": [
    "items.head(5)"
   ]
  },
  {
   "cell_type": "code",
   "execution_count": 35,
   "id": "05691f1a-6a0f-48ac-b60d-70e30b8dc5c1",
   "metadata": {},
   "outputs": [
    {
     "data": {
      "text/html": [
       "<div>\n",
       "<style scoped>\n",
       "    .dataframe tbody tr th:only-of-type {\n",
       "        vertical-align: middle;\n",
       "    }\n",
       "\n",
       "    .dataframe tbody tr th {\n",
       "        vertical-align: top;\n",
       "    }\n",
       "\n",
       "    .dataframe thead th {\n",
       "        text-align: right;\n",
       "    }\n",
       "</style>\n",
       "<table border=\"1\" class=\"dataframe\">\n",
       "  <thead>\n",
       "    <tr style=\"text-align: right;\">\n",
       "      <th></th>\n",
       "      <th>user_id</th>\n",
       "      <th>item_id</th>\n",
       "      <th>rating</th>\n",
       "    </tr>\n",
       "  </thead>\n",
       "  <tbody>\n",
       "    <tr>\n",
       "      <th>0</th>\n",
       "      <td>1</td>\n",
       "      <td>1</td>\n",
       "      <td>4</td>\n",
       "    </tr>\n",
       "    <tr>\n",
       "      <th>1</th>\n",
       "      <td>2</td>\n",
       "      <td>1</td>\n",
       "      <td>4</td>\n",
       "    </tr>\n",
       "    <tr>\n",
       "      <th>2</th>\n",
       "      <td>3</td>\n",
       "      <td>2</td>\n",
       "      <td>5</td>\n",
       "    </tr>\n",
       "    <tr>\n",
       "      <th>3</th>\n",
       "      <td>4</td>\n",
       "      <td>3</td>\n",
       "      <td>3</td>\n",
       "    </tr>\n",
       "    <tr>\n",
       "      <th>4</th>\n",
       "      <td>5</td>\n",
       "      <td>3</td>\n",
       "      <td>5</td>\n",
       "    </tr>\n",
       "  </tbody>\n",
       "</table>\n",
       "</div>"
      ]
     },
     "execution_count": 35,
     "metadata": {},
     "output_type": "execute_result"
    }
   ],
   "source": [
    "interactions['user_id'] = interactions['user_seq']\n",
    "interactions['item_id'] = interactions['item_seq']\n",
    "\n",
    "interactions = interactions[['user_id', 'item_id', 'rating']]\n",
    "interactions.head(5)"
   ]
  },
  {
   "cell_type": "code",
   "execution_count": 36,
   "id": "f1d45248-cf67-4441-8cdc-400f6a63169c",
   "metadata": {},
   "outputs": [],
   "source": [
    "interactions.to_json(f'{DATASET_PATH}/db_interactions.json', orient=\"records\")"
   ]
  },
  {
   "cell_type": "code",
   "execution_count": 37,
   "id": "f860980c-cb88-4caf-aa2b-678a65be3200",
   "metadata": {},
   "outputs": [],
   "source": [
    "items.to_json(f'{DATASET_PATH}/db_items.json', orient=\"records\")"
   ]
  }
 ],
 "metadata": {
  "kernelspec": {
   "display_name": "Python 3 (ipykernel)",
   "language": "python",
   "name": "python3"
  },
  "language_info": {
   "codemirror_mode": {
    "name": "ipython",
    "version": 3
   },
   "file_extension": ".py",
   "mimetype": "text/x-python",
   "name": "python",
   "nbconvert_exporter": "python",
   "pygments_lexer": "ipython3",
   "version": "3.10.6"
  },
  "widgets": {
   "application/vnd.jupyter.widget-state+json": {
    "state": {},
    "version_major": 2,
    "version_minor": 0
   }
  }
 },
 "nbformat": 4,
 "nbformat_minor": 5
}
