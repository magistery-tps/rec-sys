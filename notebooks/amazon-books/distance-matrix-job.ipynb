{
 "cells": [
  {
   "cell_type": "markdown",
   "id": "0417277b-47df-4113-a7b3-8f960db06f1d",
   "metadata": {
    "tags": []
   },
   "source": [
    "# Distance Matrix Job"
   ]
  },
  {
   "cell_type": "code",
   "execution_count": 1,
   "id": "8dde5e70-5b86-460f-8791-20fcb554c378",
   "metadata": {},
   "outputs": [],
   "source": [
    "%load_ext autoreload\n",
    "%autoreload 2"
   ]
  },
  {
   "cell_type": "code",
   "execution_count": 2,
   "id": "f98e7bf4-f41a-43f6-b7b7-a991d00f82de",
   "metadata": {},
   "outputs": [],
   "source": [
    "import sys\n",
    "sys.path.append('../../src')\n",
    "\n",
    "import numpy as np\n",
    "import pandas as pd\n",
    "from surprise import SVD\n",
    "\n",
    "import util as ut\n",
    "from domain_context import DomainContext\n",
    "\n",
    "import api"
   ]
  },
  {
   "cell_type": "code",
   "execution_count": 3,
   "id": "c7853d0e-0e7a-48ac-9b25-50c659a30c38",
   "metadata": {},
   "outputs": [],
   "source": [
    "TEMP_PATH                    = '../../temp'\n",
    "USER_ITEM_RATING_MATRIX_PATH = f'{TEMP_PATH}/user_item_rating_matrix'\n",
    "USER_SIMILARITIES_PATH       = f'{TEMP_PATH}/user_similarities.csv'\n",
    "ITEM_SIMILARITIES_PATH       = f'{TEMP_PATH}/item_similarities.csv'\n",
    "\n",
    "HOST                         = 'http://localhost:8000'\n",
    "API_TOKEN                    = 'e3ff025094fe0ee474501bbeda0a2a44e80230c1'\n",
    "\n",
    "GENERATE_RATING_MATRIX       = True\n",
    "GENERATE_USER_SIMILARITIES   = True\n",
    "GENERATE_ITEM_SIMILARITIES   = True"
   ]
  },
  {
   "cell_type": "markdown",
   "id": "3b17de78-c722-47bd-accb-dbd6d811c954",
   "metadata": {
    "tags": []
   },
   "source": [
    "### Setup"
   ]
  },
  {
   "cell_type": "code",
   "execution_count": 4,
   "id": "c350e8e2-c246-4680-9230-c3f3275f74de",
   "metadata": {},
   "outputs": [],
   "source": [
    "!mkdir -p {TEMP_PATH}"
   ]
  },
  {
   "cell_type": "code",
   "execution_count": 5,
   "id": "c70a9b41-9bcb-49f4-b796-69c658a7a9e5",
   "metadata": {},
   "outputs": [],
   "source": [
    "ctx = DomainContext(API_TOKEN, HOST)"
   ]
  },
  {
   "cell_type": "markdown",
   "id": "40c1da33-a8da-47c9-b174-0b0885b05b50",
   "metadata": {},
   "source": [
    "### Get interactions"
   ]
  },
  {
   "cell_type": "code",
   "execution_count": 6,
   "id": "7c811f1f-02ef-4ef1-9513-cf5a7ca87e14",
   "metadata": {},
   "outputs": [
    {
     "name": "stderr",
     "output_type": "stream",
     "text": [
      "2022-12-10 16:38:40,950 [INFO] - Page 1/2 - Interactions 50000/96605\n",
      "2022-12-10 16:38:43,124 [INFO] - Page 2/2 - Interactions 96605/96605\n",
      "2022-12-10 16:38:43,125 [INFO] - 96605 Total Interactions \n"
     ]
    },
    {
     "data": {
      "image/png": "[encoded data removed]"
     },
     "metadata": {},
     "output_type": "display_data"
    }
   ],
   "source": [
    "interactions = ctx.interaction_service.find_all()\n",
    "ctx.interaction_service.plot_n_users_by_item(interactions)"
   ]
  },
  {
   "cell_type": "markdown",
   "id": "2b9a2536-e3a1-4502-966d-fe66c3e95718",
   "metadata": {},
   "source": [
    "### Compute Rating Matrix"
   ]
  },
  {
   "cell_type": "code",
   "execution_count": 7,
   "id": "eef17f07-f3de-4061-b6cb-9e2d17201311",
   "metadata": {},
   "outputs": [
    {
     "name": "stderr",
     "output_type": "stream",
     "text": [
      "2022-12-10 16:38:43,303 [INFO] Filter by ratings scale: [1, 2, 3, 4, 5]\n",
      "2022-12-10 16:38:43,309 [INFO] Filtered: 100.0%\n",
      "2022-12-10 16:38:43,309 [INFO] Filter by user_n_interactions >= 20\n",
      "2022-12-10 16:38:43,314 [INFO] Filtered: 95.2%\n",
      "2022-12-10 16:38:57,458 [INFO] Unrated interactions: 97.4%\n",
      "2022-12-10 16:38:57,573 [INFO] Rating Scale: (1, 5)\n",
      "2022-12-10 16:38:57,608 [INFO] SVD Training...\n",
      "2022-12-10 16:39:03,097 [INFO] SVD Ratings Prediction... 5%\n",
      "2022-12-10 16:39:08,134 [INFO] SVD Ratings Prediction... 10%\n",
      "2022-12-10 16:39:13,145 [INFO] SVD Ratings Prediction... 15%\n",
      "2022-12-10 16:39:18,168 [INFO] SVD Ratings Prediction... 20%\n",
      "2022-12-10 16:39:22,819 [INFO] SVD Ratings Prediction... 25%\n",
      "2022-12-10 16:39:27,753 [INFO] SVD Ratings Prediction... 30%\n",
      "2022-12-10 16:39:32,472 [INFO] SVD Ratings Prediction... 35%\n",
      "2022-12-10 16:39:37,110 [INFO] SVD Ratings Prediction... 40%\n",
      "2022-12-10 16:39:41,753 [INFO] SVD Ratings Prediction... 45%\n",
      "2022-12-10 16:39:46,391 [INFO] SVD Ratings Prediction... 50%\n",
      "2022-12-10 16:39:50,891 [INFO] SVD Ratings Prediction... 55%\n",
      "2022-12-10 16:39:55,277 [INFO] SVD Ratings Prediction... 60%\n",
      "2022-12-10 16:39:59,743 [INFO] SVD Ratings Prediction... 65%\n",
      "2022-12-10 16:40:04,155 [INFO] SVD Ratings Prediction... 70%\n",
      "2022-12-10 16:40:08,529 [INFO] SVD Ratings Prediction... 75%\n",
      "2022-12-10 16:40:12,987 [INFO] SVD Ratings Prediction... 80%\n",
      "2022-12-10 16:40:17,409 [INFO] SVD Ratings Prediction... 85%\n",
      "2022-12-10 16:40:21,856 [INFO] SVD Ratings Prediction... 90%\n",
      "2022-12-10 16:40:26,327 [INFO] SVD Ratings Prediction... 95%\n",
      "2022-12-10 16:40:31,041 [INFO] SVD Ratings Prediction... 100%\n",
      "2022-12-10 16:40:31,410 [INFO] Compute interactions sparse RatingMatrixType.USER_ITEM matrix...\n",
      "2022-12-10 16:40:36,976 [INFO] Compute matrix... 5%\n",
      "2022-12-10 16:40:42,416 [INFO] Compute matrix... 10%\n",
      "2022-12-10 16:40:48,068 [INFO] Compute matrix... 15%\n",
      "2022-12-10 16:40:53,723 [INFO] Compute matrix... 20%\n",
      "2022-12-10 16:40:59,553 [INFO] Compute matrix... 25%\n",
      "2022-12-10 16:41:05,156 [INFO] Compute matrix... 30%\n",
      "2022-12-10 16:41:10,801 [INFO] Compute matrix... 35%\n",
      "2022-12-10 16:41:16,426 [INFO] Compute matrix... 40%\n",
      "2022-12-10 16:41:21,980 [INFO] Compute matrix... 45%\n",
      "2022-12-10 16:41:27,764 [INFO] Compute matrix... 50%\n",
      "2022-12-10 16:41:33,473 [INFO] Compute matrix... 55%\n",
      "2022-12-10 16:41:39,149 [INFO] Compute matrix... 60%\n",
      "2022-12-10 16:41:44,923 [INFO] Compute matrix... 65%\n",
      "2022-12-10 16:41:50,668 [INFO] Compute matrix... 70%\n",
      "2022-12-10 16:41:56,404 [INFO] Compute matrix... 75%\n",
      "2022-12-10 16:42:02,282 [INFO] Compute matrix... 80%\n",
      "2022-12-10 16:42:08,126 [INFO] Compute matrix... 85%\n",
      "2022-12-10 16:42:13,891 [INFO] Compute matrix... 90%\n",
      "2022-12-10 16:42:19,577 [INFO] Compute matrix... 95%\n",
      "2022-12-10 16:42:25,311 [INFO] Compute matrix... 100%\n"
     ]
    }
   ],
   "source": [
    "if GENERATE_RATING_MATRIX:\n",
    "    rating_matrix = ctx.rating_matrix_service.compute(\n",
    "        interactions, \n",
    "        model = SVD()\n",
    "    )\n",
    "    ut.Picket.save(USER_ITEM_RATING_MATRIX_PATH, rating_matrix)\n",
    "else:\n",
    "    rating_matrix = ut.Picket.load(USER_ITEM_RATING_MATRIX_PATH)"
   ]
  },
  {
   "cell_type": "code",
   "execution_count": 8,
   "id": "7612f38d-ed92-42fc-94ce-07045326bb5e",
   "metadata": {},
   "outputs": [
    {
     "name": "stdout",
     "output_type": "stream",
     "text": [
      "40M\t../../temp/user_item_rating_matrix.pickle\n"
     ]
    }
   ],
   "source": [
    "!du -h {USER_ITEM_RATING_MATRIX_PATH}.pickle"
   ]
  },
  {
   "cell_type": "markdown",
   "id": "2cd14557-3e48-4bd6-a007-e4d0ea083edc",
   "metadata": {},
   "source": [
    "Check matrix data:"
   ]
  },
  {
   "cell_type": "code",
   "execution_count": 9,
   "id": "3c90d55b-87fb-407a-bbee-b3a19eb3fb7a",
   "metadata": {},
   "outputs": [],
   "source": [
    "# interactions.head(3)"
   ]
  },
  {
   "cell_type": "code",
   "execution_count": 10,
   "id": "06bd55c9-f458-4c04-acde-cf5c548ab532",
   "metadata": {},
   "outputs": [],
   "source": [
    "# rating_matrix[98-1, 115-1], rating_matrix[320-1, 115-1], rating_matrix[90-1, 115-1]"
   ]
  },
  {
   "cell_type": "code",
   "execution_count": 11,
   "id": "96ee2c78-4dcf-4e4a-93f7-6e192af204c5",
   "metadata": {},
   "outputs": [],
   "source": [
    "# interactions.tail(3)"
   ]
  },
  {
   "cell_type": "code",
   "execution_count": 12,
   "id": "b3ae3fcb-2d0a-464e-adf0-e6d19144a3ef",
   "metadata": {},
   "outputs": [],
   "source": [
    "# rating_matrix[1-1, 16759-1], rating_matrix[1-1, 137181-1], rating_matrix[1-1, 210831-1]"
   ]
  },
  {
   "cell_type": "code",
   "execution_count": 13,
   "id": "21a51908-e50a-4cc1-affb-b09ef10f1ac1",
   "metadata": {},
   "outputs": [],
   "source": [
    "# rating_matrix[98-1].toarray()[0].shape"
   ]
  },
  {
   "cell_type": "markdown",
   "id": "732660f5-6230-41c7-a971-68bc61331af3",
   "metadata": {},
   "source": [
    "### Compute User-User and Item-Item similarity matrix"
   ]
  },
  {
   "cell_type": "code",
   "execution_count": 14,
   "id": "66233890-aa0f-46a5-afaf-35e39b104d60",
   "metadata": {
    "tags": []
   },
   "outputs": [
    {
     "name": "stderr",
     "output_type": "stream",
     "text": [
      "2022-12-10 16:42:25,969 [INFO] Compute user_id combinations...\n",
      "2022-12-10 16:42:26,016 [INFO] user_id combinations...1253736\n",
      "2022-12-10 16:42:26,017 [INFO] Compute user_id embeddings(size: 224950)...\n",
      "2022-12-10 16:42:26,831 [INFO] Compute user_id similarities...\n",
      "\n",
      "100%|████████████████████████████████████████████████████████████████████████████████████████████████████████████████████████████████████████████████| 1253736/1253736 [27:22<00:00, 763.21it/s]\n"
     ]
    }
   ],
   "source": [
    "if GENERATE_USER_SIMILARITIES:\n",
    "    user_similarities = ctx.similarity_service.similarities(\n",
    "        rating_matrix,\n",
    "        row_ids   = interactions.user_id.unique(),\n",
    "        entity    = 'user',\n",
    "        n_workers = 10,\n",
    "        chunks    = 10_000\n",
    "    )\n",
    "    ut.save(user_similarities, USER_SIMILARITIES_PATH)\n",
    "else:\n",
    "    user_similarities = ut.load(USER_SIMILARITIES_PATH) "
   ]
  },
  {
   "cell_type": "code",
   "execution_count": 15,
   "id": "fdfa3ce7-5ac0-4e19-b90b-d683989777de",
   "metadata": {},
   "outputs": [
    {
     "name": "stdout",
     "output_type": "stream",
     "text": [
      "24M\t../../temp/user_similarities.csv\n"
     ]
    }
   ],
   "source": [
    "!du -h {USER_SIMILARITIES_PATH}"
   ]
  },
  {
   "cell_type": "code",
   "execution_count": 16,
   "id": "4a889f41-422c-4c10-9740-d26a584ecee5",
   "metadata": {},
   "outputs": [
    {
     "name": "stderr",
     "output_type": "stream",
     "text": [
      "2022-12-10 17:09:56,402 [INFO] Compute item_id combinations...\n",
      "2022-12-10 17:09:56,574 [INFO] item_id combinations...4925091\n",
      "2022-12-10 17:09:56,575 [INFO] Compute item_id embeddings(size: 1617)...\n",
      "2022-12-10 17:10:08,861 [INFO] Compute item_id similarities...\n",
      "\n",
      "100%|██████████████████████████████████████████████████████████████████████████████████████████████████████████████████████████████████████████████| 4925091/4925091 [00:53<00:00, 92663.61it/s]\n"
     ]
    }
   ],
   "source": [
    "if GENERATE_ITEM_SIMILARITIES:\n",
    "    item_similarities = ctx.similarity_service.similarities(\n",
    "        rating_matrix.transpose(),\n",
    "        row_ids   = interactions.item_id.unique(),\n",
    "        entity    = 'item',\n",
    "        n_workers = 10,\n",
    "        chunks    = 10_000\n",
    "    )\n",
    "    ut.save(item_similarities, ITEM_SIMILARITIES_PATH)\n",
    "else:\n",
    "    item_similarities = ut.load(ITEM_SIMILARITIES_PATH)"
   ]
  },
  {
   "cell_type": "code",
   "execution_count": 17,
   "id": "c2158b18-b501-4d7b-9f13-9155b9dfe023",
   "metadata": {},
   "outputs": [
    {
     "name": "stdout",
     "output_type": "stream",
     "text": [
      "151M\t../../temp/item_similarities.csv\n"
     ]
    }
   ],
   "source": [
    "!du -h {ITEM_SIMILARITIES_PATH}"
   ]
  },
  {
   "cell_type": "markdown",
   "id": "22fc66c9-6190-45e5-bf04-b2b3b034ff5c",
   "metadata": {},
   "source": [
    "Filter N most similarity users fofr each user (Same for items):"
   ]
  },
  {
   "cell_type": "code",
   "execution_count": 18,
   "id": "eef6e18a-b03e-4eec-8526-354958680d02",
   "metadata": {},
   "outputs": [
    {
     "name": "stderr",
     "output_type": "stream",
     "text": [
      "2022-12-10 17:11:26,880 [INFO] Filtered: 77925/1253736 (93.8%)\n"
     ]
    }
   ],
   "source": [
    "user_most_similarities = ctx.similarity_service.filter_most_similars(\n",
    "    user_similarities, \n",
    "    column = 'user_a', \n",
    "    n      = 50\n",
    ")"
   ]
  },
  {
   "cell_type": "code",
   "execution_count": 19,
   "id": "46a15862-dccb-43ae-bb30-e03b7a90491b",
   "metadata": {},
   "outputs": [
    {
     "name": "stderr",
     "output_type": "stream",
     "text": [
      "2022-12-10 17:11:31,687 [INFO] Filtered: 155675/4925091 (96.8%)\n"
     ]
    }
   ],
   "source": [
    "item_most_similarities = ctx.similarity_service.filter_most_similars(\n",
    "    item_similarities, \n",
    "    column = 'item_a', \n",
    "    n      = 50\n",
    ")"
   ]
  },
  {
   "cell_type": "code",
   "execution_count": 20,
   "id": "84f6fd7c-dd20-476a-bc74-712a9774552f",
   "metadata": {},
   "outputs": [
    {
     "name": "stderr",
     "output_type": "stream",
     "text": [
      "2022-12-10 17:11:31,717 [INFO] SVD of type SimilarityMatrixType.USER_TO_USER already exists!\n",
      "2022-12-10 17:11:31,719 [INFO] Page 1/8 - Items 10000/77925\n",
      "2022-12-10 17:11:36,466 [INFO] Page 2/8 - Items 20000/77925\n",
      "2022-12-10 17:11:41,236 [INFO] Page 3/8 - Items 30000/77925\n",
      "2022-12-10 17:11:46,062 [INFO] Page 4/8 - Items 40000/77925\n",
      "2022-12-10 17:11:50,608 [INFO] Page 5/8 - Items 50000/77925\n",
      "2022-12-10 17:11:55,257 [INFO] Page 6/8 - Items 60000/77925\n",
      "2022-12-10 17:11:59,887 [INFO] Page 7/8 - Items 70000/77925\n",
      "2022-12-10 17:12:04,506 [INFO] Page 8/8 - Items 7925/77925\n",
      "2022-12-10 17:12:08,297 [INFO] Totals - Pages 8 - Items 77925\n"
     ]
    }
   ],
   "source": [
    "user_similarity_matrix = ctx.api.add_or_get_similarity_matrix(\n",
    "    'SVD', \n",
    "    api.SimilarityMatrixType.USER_TO_USER, \n",
    "    'SVD user to user similarity matrix'\n",
    ")\n",
    "\n",
    "user_most_similarities = user_most_similarities.rename(columns={'user_a': 'row', 'user_b': 'column'})\n",
    "user_most_similarities['matrix'] = user_similarity_matrix.id\n",
    "\n",
    "iterator = ut.DataFramPaginationIterator(\n",
    "    user_most_similarities,\n",
    "    page_size=10_000\n",
    ")\n",
    "\n",
    "for page in iterator:\n",
    "    ctx.api.add_similarity_cells(page) "
   ]
  },
  {
   "cell_type": "code",
   "execution_count": 21,
   "id": "b346d404-fa7a-4490-a63e-ed31576ac126",
   "metadata": {},
   "outputs": [
    {
     "name": "stderr",
     "output_type": "stream",
     "text": [
      "2022-12-10 17:12:08,317 [INFO] SVD of type SimilarityMatrixType.ITEM_TO_ITEM already exists!\n",
      "2022-12-10 17:12:08,319 [INFO] Page 1/16 - Items 10000/155675\n",
      "2022-12-10 17:12:12,901 [INFO] Page 2/16 - Items 20000/155675\n",
      "2022-12-10 17:12:18,023 [INFO] Page 3/16 - Items 30000/155675\n",
      "2022-12-10 17:12:22,683 [INFO] Page 4/16 - Items 40000/155675\n",
      "2022-12-10 17:12:27,190 [INFO] Page 5/16 - Items 50000/155675\n",
      "2022-12-10 17:12:31,730 [INFO] Page 6/16 - Items 60000/155675\n",
      "2022-12-10 17:12:36,308 [INFO] Page 7/16 - Items 70000/155675\n",
      "2022-12-10 17:12:40,901 [INFO] Page 8/16 - Items 80000/155675\n",
      "2022-12-10 17:12:45,363 [INFO] Page 9/16 - Items 90000/155675\n",
      "2022-12-10 17:12:50,216 [INFO] Page 10/16 - Items 100000/155675\n",
      "2022-12-10 17:12:54,902 [INFO] Page 11/16 - Items 110000/155675\n",
      "2022-12-10 17:12:59,689 [INFO] Page 12/16 - Items 120000/155675\n",
      "2022-12-10 17:13:04,470 [INFO] Page 13/16 - Items 130000/155675\n",
      "2022-12-10 17:13:09,177 [INFO] Page 14/16 - Items 140000/155675\n",
      "2022-12-10 17:13:13,952 [INFO] Page 15/16 - Items 150000/155675\n",
      "2022-12-10 17:13:18,688 [INFO] Page 16/16 - Items 5675/155675\n",
      "2022-12-10 17:13:21,357 [INFO] Totals - Pages 16 - Items 155675\n"
     ]
    }
   ],
   "source": [
    "item_similarity_matrix = ctx.api.add_or_get_similarity_matrix(\n",
    "    'SVD', \n",
    "    api.SimilarityMatrixType.ITEM_TO_ITEM,\n",
    "    'SVD item to item similarity matrix'\n",
    ")\n",
    "\n",
    "item_most_similarities = item_most_similarities.rename(columns={'item_a': 'row', 'item_b': 'column'})\n",
    "item_most_similarities['matrix'] = item_similarity_matrix.id\n",
    "\n",
    "iterator = ut.DataFramPaginationIterator(\n",
    "    item_most_similarities,\n",
    "    page_size=10_000\n",
    ")\n",
    "\n",
    "for page in iterator:\n",
    "    ctx.api.add_similarity_cells(page) "
   ]
  }
 ],
 "metadata": {
  "kernelspec": {
   "display_name": "Python 3 (ipykernel)",
   "language": "python",
   "name": "python3"
  },
  "language_info": {
   "codemirror_mode": {
    "name": "ipython",
    "version": 3
   },
   "file_extension": ".py",
   "mimetype": "text/x-python",
   "name": "python",
   "nbconvert_exporter": "python",
   "pygments_lexer": "ipython3",
   "version": "3.10.6"
  },
  "widgets": {
   "application/vnd.jupyter.widget-state+json": {
    "state": {},
    "version_major": 2,
    "version_minor": 0
   }
  }
 },
 "nbformat": 4,
 "nbformat_minor": 5
}
