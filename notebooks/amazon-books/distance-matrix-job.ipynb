{
 "cells": [
  {
   "cell_type": "markdown",
   "id": "0417277b-47df-4113-a7b3-8f960db06f1d",
   "metadata": {
    "tags": []
   },
   "source": [
    "# Distance Matrix Job"
   ]
  },
  {
   "cell_type": "code",
   "execution_count": 1,
   "id": "8dde5e70-5b86-460f-8791-20fcb554c378",
   "metadata": {},
   "outputs": [],
   "source": [
    "%load_ext autoreload\n",
    "%autoreload 2"
   ]
  },
  {
   "cell_type": "code",
   "execution_count": 2,
   "id": "f98e7bf4-f41a-43f6-b7b7-a991d00f82de",
   "metadata": {},
   "outputs": [],
   "source": [
    "import sys\n",
    "sys.path.append('../../src')\n",
    "\n",
    "from domain_context import DomainContext"
   ]
  },
  {
   "cell_type": "markdown",
   "id": "3b17de78-c722-47bd-accb-dbd6d811c954",
   "metadata": {
    "tags": []
   },
   "source": [
    "### Setup"
   ]
  },
  {
   "cell_type": "code",
   "execution_count": 3,
   "id": "c70a9b41-9bcb-49f4-b796-69c658a7a9e5",
   "metadata": {},
   "outputs": [],
   "source": [
    "TEMP_PATH = '../../temp'\n",
    "HOST      = 'http://localhost:8000'\n",
    "API_TOKEN = 'e3ff025094fe0ee474501bbeda0a2a44e80230c1'\n",
    "\n",
    "ctx = DomainContext(API_TOKEN, HOST, TEMP_PATH)"
   ]
  },
  {
   "cell_type": "code",
   "execution_count": 4,
   "id": "3fe1b4d5-3be3-410d-b523-806401d2b3aa",
   "metadata": {},
   "outputs": [],
   "source": [
    "# ctx.api.similarity_cells_versions()\n",
    "# ctx.api.remove_similarity_cells_by_version(18)"
   ]
  },
  {
   "cell_type": "markdown",
   "id": "40c1da33-a8da-47c9-b174-0b0885b05b50",
   "metadata": {
    "tags": []
   },
   "source": [
    "### Execute jobs"
   ]
  },
  {
   "cell_type": "code",
   "execution_count": 5,
   "id": "11081fe2-c7df-422c-a75b-52ea77e6c7c8",
   "metadata": {},
   "outputs": [
    {
     "name": "stderr",
     "output_type": "stream",
     "text": [
      "2022-12-21 20:32:28,728 :: INFO :: SurpriseDistanceMatrixJob :: Start\n",
      "2022-12-21 20:32:30,975 :: INFO :: InteractionRepository :: Page 1/2 - Interactions 50000/96605\n",
      "2022-12-21 20:32:33,184 :: INFO :: InteractionRepository :: Page 2/2 - Interactions 96605/96605\n",
      "2022-12-21 20:32:33,184 :: INFO :: InteractionRepository :: 96605 Total Interactions \n",
      "2022-12-21 20:32:33,363 :: INFO :: InteractionService :: Filter by rating scale: [1, 2, 3, 4, 5]\n",
      "2022-12-21 20:32:33,370 :: INFO :: InteractionService :: Filtered: 100.0%\n",
      "2022-12-21 20:32:33,370 :: INFO :: InteractionService :: Filter interactions by user_n_interactions >= 20\n",
      "2022-12-21 20:32:33,375 :: INFO :: InteractionService :: Filtered interactions: 95.2%\n",
      "2022-12-21 20:32:33,375 :: INFO :: InteractionService :: Excluded interactions: 4682\n",
      "2022-12-21 20:32:46,403 :: INFO :: InteractionService :: Unrated interactions: 97.4%\n",
      "2022-12-21 20:32:46,491 :: INFO :: RatingMatrixService :: Train interactions: 91923 - Users: 1098, Items: 3139\n",
      "2022-12-21 20:32:46,511 :: INFO :: RatingMatrixService :: Future interactions: 3355886 - Users: 1098, Items: 3139\n",
      "2022-12-21 20:32:46,513 :: INFO :: DatasetFactory :: Rating Scale: (1, 5)\n",
      "2022-12-21 20:32:46,547 :: INFO :: ModelManager :: SVD Training...\n",
      "2022-12-21 20:32:55,367 :: INFO :: ModelManager :: SVD Rating Prediction... 10%\n",
      "2022-12-21 20:33:03,613 :: INFO :: ModelManager :: SVD Rating Prediction... 20%\n",
      "2022-12-21 20:33:12,070 :: INFO :: ModelManager :: SVD Rating Prediction... 30%\n",
      "2022-12-21 20:33:20,588 :: INFO :: ModelManager :: SVD Rating Prediction... 40%\n",
      "2022-12-21 20:33:29,016 :: INFO :: ModelManager :: SVD Rating Prediction... 50%\n",
      "2022-12-21 20:33:37,410 :: INFO :: ModelManager :: SVD Rating Prediction... 60%\n",
      "2022-12-21 20:33:45,801 :: INFO :: ModelManager :: SVD Rating Prediction... 70%\n",
      "2022-12-21 20:33:54,393 :: INFO :: ModelManager :: SVD Rating Prediction... 80%\n",
      "2022-12-21 20:34:02,741 :: INFO :: ModelManager :: SVD Rating Prediction... 90%\n",
      "2022-12-21 20:34:11,199 :: INFO :: ModelManager :: SVD Rating Prediction... 100%\n",
      "2022-12-21 20:34:11,605 :: INFO :: RatingMatrixService :: Train + Predited interactions: 3447809 - Users: 1098, Items: 3139\n",
      "2022-12-21 20:34:11,606 :: INFO :: RatingMatrixService :: Compute interactions sparse RatingMatrixType.USER_ITEM matrix...\n",
      "2022-12-21 20:34:23,398 :: INFO :: root :: Buiding matrix(1572, 3138)... 10%\n",
      "2022-12-21 20:34:35,069 :: INFO :: root :: Buiding matrix(1572, 3138)... 20%\n",
      "2022-12-21 20:34:46,624 :: INFO :: root :: Buiding matrix(1572, 3138)... 30%\n",
      "2022-12-21 20:34:58,326 :: INFO :: root :: Buiding matrix(1572, 3138)... 40%\n",
      "2022-12-21 20:35:09,860 :: INFO :: root :: Buiding matrix(1572, 3138)... 50%\n",
      "2022-12-21 20:35:21,536 :: INFO :: root :: Buiding matrix(1572, 3138)... 60%\n",
      "2022-12-21 20:35:33,133 :: INFO :: root :: Buiding matrix(1572, 3138)... 70%\n",
      "2022-12-21 20:35:44,723 :: INFO :: root :: Buiding matrix(1572, 3138)... 80%\n",
      "2022-12-21 20:35:56,441 :: INFO :: root :: Buiding matrix(1572, 3138)... 90%\n",
      "2022-12-21 20:36:08,127 :: INFO :: root :: Buiding matrix(1572, 3138)... 100%\n",
      "2022-12-21 20:36:08,518 :: INFO :: SimilarityService :: Compute user_seq combinations...\n",
      "2022-12-21 20:36:08,564 :: INFO :: SimilarityService :: user_id combinations...1236378\n",
      "2022-12-21 20:36:08,565 :: INFO :: SimilarityService :: Compute user_seq embeddings(size: 3138)...\n",
      "2022-12-21 20:36:08,931 :: INFO :: SimilarityService :: Compute user_id similarities...\n",
      "\n",
      "100%|███████████████████████████████████████████████████████████████████████████████████████████████████████████████████████████████████████████████████████████████████████████| 1236378/1236378 [00:10<00:00, 113819.72it/s]\n",
      "2022-12-21 20:36:20,759 :: INFO :: SimilarityService :: Compute item_seq combinations...\n",
      "2022-12-21 20:36:20,925 :: INFO :: SimilarityService :: item_id combinations...4925091\n",
      "2022-12-21 20:36:20,926 :: INFO :: SimilarityService :: Compute item_seq embeddings(size: 1572)...\n",
      "2022-12-21 20:36:28,692 :: INFO :: SimilarityService :: Compute item_id similarities...\n",
      "\n",
      "100%|███████████████████████████████████████████████████████████████████████████████████████████████████████████████████████████████████████████████████████████████████████████| 4925091/4925091 [00:39<00:00, 125029.47it/s]\n",
      "2022-12-21 20:37:12,488 :: INFO :: SimilarityMatrixService :: Query: {query}\n",
      "2022-12-21 20:37:12,495 :: INFO :: SimilarityMatrixRepository :: Page 2/0 - Similarity_matrix 0/0\n",
      "2022-12-21 20:37:12,496 :: INFO :: SimilarityMatrixRepository :: 0 Total Similarity_matrix \n",
      "2022-12-21 20:37:12,496 :: INFO :: SimilarityMatrixService :: Results: {models}\n",
      "2022-12-21 20:37:12,497 :: INFO :: SimilarityMatrixService :: Insert SVD-user-to-user SimilarityMatrixType.USER_TO_USER matrix.\n",
      "2022-12-21 20:37:13,479 :: INFO :: SimilarityService :: Filtered: 77375/1236378 (93.7%)\n",
      "2022-12-21 20:37:13,511 :: INFO :: DataFramPaginationIterator :: Page 1/8 - Items 10000/77375\n",
      "2022-12-21 20:37:18,528 :: INFO :: DataFramPaginationIterator :: Page 2/8 - Items 20000/77375\n",
      "2022-12-21 20:37:24,070 :: INFO :: DataFramPaginationIterator :: Page 3/8 - Items 30000/77375\n",
      "2022-12-21 20:37:29,045 :: INFO :: DataFramPaginationIterator :: Page 4/8 - Items 40000/77375\n",
      "2022-12-21 20:37:34,127 :: INFO :: DataFramPaginationIterator :: Page 5/8 - Items 50000/77375\n",
      "2022-12-21 20:37:39,106 :: INFO :: DataFramPaginationIterator :: Page 6/8 - Items 60000/77375\n",
      "2022-12-21 20:37:44,102 :: INFO :: DataFramPaginationIterator :: Page 7/8 - Items 70000/77375\n",
      "2022-12-21 20:37:49,128 :: INFO :: DataFramPaginationIterator :: Page 8/8 - Items 7375/77375\n",
      "2022-12-21 20:37:52,857 :: INFO :: DataFramPaginationIterator :: Totals - Pages 8 - Items 77375\n",
      "2022-12-21 20:37:52,872 :: INFO :: SimilarityMatrixService :: Query: {query}\n",
      "2022-12-21 20:37:52,918 :: INFO :: SimilarityMatrixRepository :: Page 2/1 - Similarity_matrix 1/1\n",
      "2022-12-21 20:37:52,918 :: INFO :: SimilarityMatrixRepository :: 1 Total Similarity_matrix \n",
      "2022-12-21 20:37:52,919 :: INFO :: SimilarityMatrixService :: Results: {models}\n",
      "2022-12-21 20:37:52,919 :: INFO :: SimilarityMatrixService :: Insert SVD-item-to-item SimilarityMatrixType.ITEM_TO_ITEM matrix.\n",
      "2022-12-21 20:37:57,317 :: INFO :: SimilarityService :: Filtered: 155675/4925091 (96.8%)\n",
      "2022-12-21 20:37:57,379 :: INFO :: DataFramPaginationIterator :: Page 1/16 - Items 10000/155675\n",
      "2022-12-21 20:38:02,381 :: INFO :: DataFramPaginationIterator :: Page 2/16 - Items 20000/155675\n",
      "2022-12-21 20:38:07,369 :: INFO :: DataFramPaginationIterator :: Page 3/16 - Items 30000/155675\n",
      "2022-12-21 20:38:12,409 :: INFO :: DataFramPaginationIterator :: Page 4/16 - Items 40000/155675\n",
      "2022-12-21 20:38:17,472 :: INFO :: DataFramPaginationIterator :: Page 5/16 - Items 50000/155675\n",
      "2022-12-21 20:38:23,260 :: INFO :: DataFramPaginationIterator :: Page 6/16 - Items 60000/155675\n",
      "2022-12-21 20:38:28,498 :: INFO :: DataFramPaginationIterator :: Page 7/16 - Items 70000/155675\n",
      "2022-12-21 20:38:33,559 :: INFO :: DataFramPaginationIterator :: Page 8/16 - Items 80000/155675\n",
      "2022-12-21 20:38:38,599 :: INFO :: DataFramPaginationIterator :: Page 9/16 - Items 90000/155675\n",
      "2022-12-21 20:38:43,485 :: INFO :: DataFramPaginationIterator :: Page 10/16 - Items 100000/155675\n",
      "2022-12-21 20:38:48,517 :: INFO :: DataFramPaginationIterator :: Page 11/16 - Items 110000/155675\n",
      "2022-12-21 20:38:53,684 :: INFO :: DataFramPaginationIterator :: Page 12/16 - Items 120000/155675\n",
      "2022-12-21 20:38:58,861 :: INFO :: DataFramPaginationIterator :: Page 13/16 - Items 130000/155675\n",
      "2022-12-21 20:39:03,892 :: INFO :: DataFramPaginationIterator :: Page 14/16 - Items 140000/155675\n",
      "2022-12-21 20:39:08,970 :: INFO :: DataFramPaginationIterator :: Page 15/16 - Items 150000/155675\n",
      "2022-12-21 20:39:13,974 :: INFO :: DataFramPaginationIterator :: Page 16/16 - Items 5675/155675\n",
      "2022-12-21 20:39:16,933 :: INFO :: DataFramPaginationIterator :: Totals - Pages 16 - Items 155675\n",
      "2022-12-21 20:39:16,959 :: INFO :: RecommenderRepository :: Page 2/0 - Recommenders 0/0\n",
      "2022-12-21 20:39:16,960 :: INFO :: RecommenderRepository :: 0 Total Recommenders \n",
      "2022-12-21 20:39:16,960 :: INFO :: RecommenderService :: Insert SVD recommender.\n",
      "2022-12-21 20:39:17,049 :: INFO :: SurpriseDistanceMatrixJob :: Finish. Elapsed time: 0:06:48.32\n"
     ]
    }
   ],
   "source": [
    "ctx.svd_distance_matrix_job.execute()"
   ]
  },
  {
   "cell_type": "code",
   "execution_count": 6,
   "id": "301b85cf-e134-4d5f-ad87-29cbf58bbdcc",
   "metadata": {},
   "outputs": [
    {
     "name": "stderr",
     "output_type": "stream",
     "text": [
      "2022-12-21 20:39:17,069 :: INFO :: SurpriseDistanceMatrixJob :: Start\n",
      "2022-12-21 20:39:19,447 :: INFO :: InteractionRepository :: Page 1/2 - Interactions 50000/96605\n",
      "2022-12-21 20:39:21,785 :: INFO :: InteractionRepository :: Page 2/2 - Interactions 96605/96605\n",
      "2022-12-21 20:39:21,786 :: INFO :: InteractionRepository :: 96605 Total Interactions \n",
      "2022-12-21 20:39:21,990 :: INFO :: InteractionService :: Filter by rating scale: [1, 2, 3, 4, 5]\n",
      "2022-12-21 20:39:21,995 :: INFO :: InteractionService :: Filtered: 100.0%\n",
      "2022-12-21 20:39:21,996 :: INFO :: InteractionService :: Filter interactions by user_n_interactions >= 20\n",
      "2022-12-21 20:39:22,001 :: INFO :: InteractionService :: Filtered interactions: 95.2%\n",
      "2022-12-21 20:39:22,001 :: INFO :: InteractionService :: Excluded interactions: 4682\n",
      "2022-12-21 20:39:35,396 :: INFO :: InteractionService :: Unrated interactions: 97.4%\n",
      "2022-12-21 20:39:35,491 :: INFO :: RatingMatrixService :: Train interactions: 91923 - Users: 1098, Items: 3139\n",
      "2022-12-21 20:39:35,512 :: INFO :: RatingMatrixService :: Future interactions: 3355886 - Users: 1098, Items: 3139\n",
      "2022-12-21 20:39:35,514 :: INFO :: DatasetFactory :: Rating Scale: (1, 5)\n",
      "2022-12-21 20:39:35,551 :: INFO :: ModelManager :: NMF Training...\n",
      "2022-12-21 20:39:44,858 :: INFO :: ModelManager :: NMF Rating Prediction... 10%\n",
      "2022-12-21 20:39:53,409 :: INFO :: ModelManager :: NMF Rating Prediction... 20%\n",
      "2022-12-21 20:40:02,125 :: INFO :: ModelManager :: NMF Rating Prediction... 30%\n",
      "2022-12-21 20:40:10,874 :: INFO :: ModelManager :: NMF Rating Prediction... 40%\n",
      "2022-12-21 20:40:19,270 :: INFO :: ModelManager :: NMF Rating Prediction... 50%\n",
      "2022-12-21 20:40:28,153 :: INFO :: ModelManager :: NMF Rating Prediction... 60%\n",
      "2022-12-21 20:40:36,895 :: INFO :: ModelManager :: NMF Rating Prediction... 70%\n",
      "2022-12-21 20:40:45,474 :: INFO :: ModelManager :: NMF Rating Prediction... 80%\n",
      "2022-12-21 20:40:54,390 :: INFO :: ModelManager :: NMF Rating Prediction... 90%\n",
      "2022-12-21 20:41:03,197 :: INFO :: ModelManager :: NMF Rating Prediction... 100%\n",
      "2022-12-21 20:41:03,595 :: INFO :: RatingMatrixService :: Train + Predited interactions: 3447809 - Users: 1098, Items: 3139\n",
      "2022-12-21 20:41:03,596 :: INFO :: RatingMatrixService :: Compute interactions sparse RatingMatrixType.USER_ITEM matrix...\n",
      "2022-12-21 20:41:15,425 :: INFO :: root :: Buiding matrix(1572, 3138)... 10%\n",
      "2022-12-21 20:41:26,830 :: INFO :: root :: Buiding matrix(1572, 3138)... 20%\n",
      "2022-12-21 20:41:38,529 :: INFO :: root :: Buiding matrix(1572, 3138)... 30%\n",
      "2022-12-21 20:41:50,184 :: INFO :: root :: Buiding matrix(1572, 3138)... 40%\n",
      "2022-12-21 20:42:01,531 :: INFO :: root :: Buiding matrix(1572, 3138)... 50%\n",
      "2022-12-21 20:42:12,657 :: INFO :: root :: Buiding matrix(1572, 3138)... 60%\n",
      "2022-12-21 20:42:24,104 :: INFO :: root :: Buiding matrix(1572, 3138)... 70%\n",
      "2022-12-21 20:42:35,587 :: INFO :: root :: Buiding matrix(1572, 3138)... 80%\n",
      "2022-12-21 20:42:47,309 :: INFO :: root :: Buiding matrix(1572, 3138)... 90%\n",
      "2022-12-21 20:42:59,035 :: INFO :: root :: Buiding matrix(1572, 3138)... 100%\n",
      "2022-12-21 20:42:59,402 :: INFO :: SimilarityService :: Compute user_seq combinations...\n",
      "2022-12-21 20:42:59,441 :: INFO :: SimilarityService :: user_id combinations...1236378\n",
      "2022-12-21 20:42:59,442 :: INFO :: SimilarityService :: Compute user_seq embeddings(size: 3138)...\n",
      "2022-12-21 20:42:59,791 :: INFO :: SimilarityService :: Compute user_id similarities...\n",
      "\n",
      "100%|███████████████████████████████████████████████████████████████████████████████████████████████████████████████████████████████████████████████████████████████████████████| 1236378/1236378 [00:10<00:00, 114004.69it/s]\n",
      "2022-12-21 20:43:11,681 :: INFO :: SimilarityService :: Compute item_seq combinations...\n",
      "2022-12-21 20:43:11,829 :: INFO :: SimilarityService :: item_id combinations...4925091\n",
      "2022-12-21 20:43:11,830 :: INFO :: SimilarityService :: Compute item_seq embeddings(size: 1572)...\n",
      "2022-12-21 20:43:19,544 :: INFO :: SimilarityService :: Compute item_id similarities...\n",
      "\n",
      "100%|███████████████████████████████████████████████████████████████████████████████████████████████████████████████████████████████████████████████████████████████████████████| 4925091/4925091 [00:39<00:00, 124053.10it/s]\n",
      "2022-12-21 20:44:03,870 :: INFO :: SimilarityMatrixService :: Query: {query}\n",
      "2022-12-21 20:44:03,878 :: INFO :: SimilarityMatrixRepository :: Page 2/1 - Similarity_matrix 2/2\n",
      "2022-12-21 20:44:03,878 :: INFO :: SimilarityMatrixRepository :: 2 Total Similarity_matrix \n",
      "2022-12-21 20:44:03,878 :: INFO :: SimilarityMatrixService :: Results: {models}\n",
      "2022-12-21 20:44:03,879 :: INFO :: SimilarityMatrixService :: Insert NMF-user-to-user SimilarityMatrixType.USER_TO_USER matrix.\n",
      "2022-12-21 20:44:04,877 :: INFO :: SimilarityService :: Filtered: 77375/1236378 (93.7%)\n",
      "2022-12-21 20:44:04,909 :: INFO :: DataFramPaginationIterator :: Page 1/8 - Items 10000/77375\n",
      "2022-12-21 20:44:09,946 :: INFO :: DataFramPaginationIterator :: Page 2/8 - Items 20000/77375\n",
      "2022-12-21 20:44:14,945 :: INFO :: DataFramPaginationIterator :: Page 3/8 - Items 30000/77375\n",
      "2022-12-21 20:44:20,032 :: INFO :: DataFramPaginationIterator :: Page 4/8 - Items 40000/77375\n",
      "2022-12-21 20:44:25,312 :: INFO :: DataFramPaginationIterator :: Page 5/8 - Items 50000/77375\n",
      "2022-12-21 20:44:30,353 :: INFO :: DataFramPaginationIterator :: Page 6/8 - Items 60000/77375\n",
      "2022-12-21 20:44:35,424 :: INFO :: DataFramPaginationIterator :: Page 7/8 - Items 70000/77375\n",
      "2022-12-21 20:44:40,335 :: INFO :: DataFramPaginationIterator :: Page 8/8 - Items 7375/77375\n",
      "2022-12-21 20:44:44,102 :: INFO :: DataFramPaginationIterator :: Totals - Pages 8 - Items 77375\n",
      "2022-12-21 20:44:44,118 :: INFO :: SimilarityMatrixService :: Query: {query}\n",
      "2022-12-21 20:44:44,165 :: INFO :: SimilarityMatrixRepository :: Page 2/1 - Similarity_matrix 3/3\n",
      "2022-12-21 20:44:44,165 :: INFO :: SimilarityMatrixRepository :: 3 Total Similarity_matrix \n",
      "2022-12-21 20:44:44,165 :: INFO :: SimilarityMatrixService :: Results: {models}\n",
      "2022-12-21 20:44:44,165 :: INFO :: SimilarityMatrixService :: Insert NMF-item-to-item SimilarityMatrixType.ITEM_TO_ITEM matrix.\n",
      "2022-12-21 20:44:48,637 :: INFO :: SimilarityService :: Filtered: 155675/4925091 (96.8%)\n",
      "2022-12-21 20:44:48,702 :: INFO :: DataFramPaginationIterator :: Page 1/16 - Items 10000/155675\n",
      "2022-12-21 20:44:53,787 :: INFO :: DataFramPaginationIterator :: Page 2/16 - Items 20000/155675\n",
      "2022-12-21 20:44:58,849 :: INFO :: DataFramPaginationIterator :: Page 3/16 - Items 30000/155675\n",
      "2022-12-21 20:45:04,062 :: INFO :: DataFramPaginationIterator :: Page 4/16 - Items 40000/155675\n",
      "2022-12-21 20:45:09,030 :: INFO :: DataFramPaginationIterator :: Page 5/16 - Items 50000/155675\n",
      "2022-12-21 20:45:14,098 :: INFO :: DataFramPaginationIterator :: Page 6/16 - Items 60000/155675\n",
      "2022-12-21 20:45:19,552 :: INFO :: DataFramPaginationIterator :: Page 7/16 - Items 70000/155675\n",
      "2022-12-21 20:45:24,584 :: INFO :: DataFramPaginationIterator :: Page 8/16 - Items 80000/155675\n",
      "2022-12-21 20:45:29,516 :: INFO :: DataFramPaginationIterator :: Page 9/16 - Items 90000/155675\n",
      "2022-12-21 20:45:34,650 :: INFO :: DataFramPaginationIterator :: Page 10/16 - Items 100000/155675\n",
      "2022-12-21 20:45:39,558 :: INFO :: DataFramPaginationIterator :: Page 11/16 - Items 110000/155675\n",
      "2022-12-21 20:45:44,666 :: INFO :: DataFramPaginationIterator :: Page 12/16 - Items 120000/155675\n",
      "2022-12-21 20:45:49,600 :: INFO :: DataFramPaginationIterator :: Page 13/16 - Items 130000/155675\n",
      "2022-12-21 20:45:54,686 :: INFO :: DataFramPaginationIterator :: Page 14/16 - Items 140000/155675\n",
      "2022-12-21 20:45:59,888 :: INFO :: DataFramPaginationIterator :: Page 15/16 - Items 150000/155675\n",
      "2022-12-21 20:46:05,229 :: INFO :: DataFramPaginationIterator :: Page 16/16 - Items 5675/155675\n",
      "2022-12-21 20:46:08,049 :: INFO :: DataFramPaginationIterator :: Totals - Pages 16 - Items 155675\n",
      "2022-12-21 20:46:08,076 :: INFO :: RecommenderRepository :: Page 2/0 - Recommenders 0/0\n",
      "2022-12-21 20:46:08,077 :: INFO :: RecommenderRepository :: 0 Total Recommenders \n",
      "2022-12-21 20:46:08,077 :: INFO :: RecommenderService :: Insert NMF recommender.\n",
      "2022-12-21 20:46:08,166 :: INFO :: SurpriseDistanceMatrixJob :: Finish. Elapsed time: 0:06:51.10\n"
     ]
    }
   ],
   "source": [
    "ctx.nmf_distance_matrix_job.execute()"
   ]
  }
 ],
 "metadata": {
  "kernelspec": {
   "display_name": "Python 3 (ipykernel)",
   "language": "python",
   "name": "python3"
  },
  "language_info": {
   "codemirror_mode": {
    "name": "ipython",
    "version": 3
   },
   "file_extension": ".py",
   "mimetype": "text/x-python",
   "name": "python",
   "nbconvert_exporter": "python",
   "pygments_lexer": "ipython3",
   "version": "3.10.6"
  },
  "widgets": {
   "application/vnd.jupyter.widget-state+json": {
    "state": {},
    "version_major": 2,
    "version_minor": 0
   }
  }
 },
 "nbformat": 4,
 "nbformat_minor": 5
}
