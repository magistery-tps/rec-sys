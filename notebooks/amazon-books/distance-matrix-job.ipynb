{
 "cells": [
  {
   "cell_type": "markdown",
   "id": "0417277b-47df-4113-a7b3-8f960db06f1d",
   "metadata": {
    "tags": []
   },
   "source": [
    "# SVD: Distance Matrix Job"
   ]
  },
  {
   "cell_type": "code",
   "execution_count": 1,
   "id": "8dde5e70-5b86-460f-8791-20fcb554c378",
   "metadata": {},
   "outputs": [],
   "source": [
    "%load_ext autoreload\n",
    "%autoreload 2"
   ]
  },
  {
   "cell_type": "code",
   "execution_count": 2,
   "id": "f98e7bf4-f41a-43f6-b7b7-a991d00f82de",
   "metadata": {},
   "outputs": [],
   "source": [
    "import sys\n",
    "sys.path.append('../../src')\n",
    "\n",
    "import numpy as np\n",
    "import pandas as pd\n",
    "\n",
    "import logging\n",
    "import warnings\n",
    "\n",
    "from surprise import SVD\n",
    "\n",
    "import util as ut\n",
    "from logger import LoggerBuilder\n",
    "from domain_context import DomainContext "
   ]
  },
  {
   "cell_type": "code",
   "execution_count": 3,
   "id": "c7853d0e-0e7a-48ac-9b25-50c659a30c38",
   "metadata": {},
   "outputs": [],
   "source": [
    "TEMP_PATH               = '../../temp'\n",
    "RATING_MATRIX_PATH      = f'{TEMP_PATH}/rating_matrix'\n",
    "\n",
    "HOST                    = 'http://localhost:8000'\n",
    "API_TOKEN               = 'e3ff025094fe0ee474501bbeda0a2a44e80230c1'\n",
    "\n",
    "GENERATE_RATING_MATRIX  = True"
   ]
  },
  {
   "cell_type": "markdown",
   "id": "3b17de78-c722-47bd-accb-dbd6d811c954",
   "metadata": {
    "tags": []
   },
   "source": [
    "### Setup"
   ]
  },
  {
   "cell_type": "code",
   "execution_count": 4,
   "id": "c350e8e2-c246-4680-9230-c3f3275f74de",
   "metadata": {},
   "outputs": [],
   "source": [
    "!mkdir -p {TEMP_PATH}"
   ]
  },
  {
   "cell_type": "code",
   "execution_count": 5,
   "id": "1c898841-e3e0-4fe9-a0d4-2734c9cf5fa2",
   "metadata": {},
   "outputs": [],
   "source": [
    "LoggerBuilder.build()"
   ]
  },
  {
   "cell_type": "code",
   "execution_count": 6,
   "id": "d0c534bc-6dc7-42a9-adb3-bdada339d82c",
   "metadata": {},
   "outputs": [],
   "source": [
    "warnings.filterwarnings('ignore')"
   ]
  },
  {
   "cell_type": "code",
   "execution_count": 7,
   "id": "c70a9b41-9bcb-49f4-b796-69c658a7a9e5",
   "metadata": {},
   "outputs": [],
   "source": [
    "ctx = DomainContext(API_TOKEN, HOST)"
   ]
  },
  {
   "cell_type": "markdown",
   "id": "40c1da33-a8da-47c9-b174-0b0885b05b50",
   "metadata": {},
   "source": [
    "### Get interactions"
   ]
  },
  {
   "cell_type": "code",
   "execution_count": 10,
   "id": "7c811f1f-02ef-4ef1-9513-cf5a7ca87e14",
   "metadata": {},
   "outputs": [
    {
     "name": "stderr",
     "output_type": "stream",
     "text": [
      "2022-12-06 20:07:04,520 [INFO] - Page 1/3 - Interactions 50000/147681\n",
      "2022-12-06 20:07:06,865 [INFO] - Page 2/3 - Interactions 100000/147681\n",
      "2022-12-06 20:07:09,095 [INFO] - Page 3/3 - Interactions 147681/147681\n",
      "2022-12-06 20:07:09,096 [INFO] - 147681 Total Interactions \n"
     ]
    },
    {
     "data": {
      "text/html": [
       "<pre style=\"white-space:pre;overflow-x:auto;line-height:normal;font-family:Menlo,'DejaVu Sans Mono',consolas,'Courier New',monospace\"><span style=\"font-weight: bold\">&lt;</span><span style=\"color: #ff00ff; text-decoration-color: #ff00ff; font-weight: bold\">Figure</span><span style=\"color: #000000; text-decoration-color: #000000\"> size 64</span><span style=\"color: #008080; text-decoration-color: #008080; font-weight: bold\">0x480</span><span style=\"color: #000000; text-decoration-color: #000000\"> with </span><span style=\"color: #008080; text-decoration-color: #008080; font-weight: bold\">1</span><span style=\"color: #000000; text-decoration-color: #000000\"> Axes</span><span style=\"font-weight: bold\">&gt;</span>\n",
       "</pre>\n"
      ],
      "text/plain": [
       "\u001b[1m<\u001b[0m\u001b[1;95mFigure\u001b[0m\u001b[39m size 64\u001b[0m\u001b[1;36m0x480\u001b[0m\u001b[39m with \u001b[0m\u001b[1;36m1\u001b[0m\u001b[39m Axes\u001b[0m\u001b[1m>\u001b[0m\n"
      ]
     },
     "metadata": {},
     "output_type": "display_data"
    },
    {
     "data": {
      "image/png": "[encoded data removed]"
     },
     "metadata": {},
     "output_type": "display_data"
    }
   ],
   "source": [
    "if GENERATE_RATING_MATRIX:\n",
    "    interactions = ctx.interaction_service.find_all()\n",
    "    ctx.interaction_service.plot_n_users_by_item(interactions)"
   ]
  },
  {
   "cell_type": "markdown",
   "id": "2b9a2536-e3a1-4502-966d-fe66c3e95718",
   "metadata": {},
   "source": [
    "### Compute Rating Matrix"
   ]
  },
  {
   "cell_type": "code",
   "execution_count": 13,
   "id": "eef17f07-f3de-4061-b6cb-9e2d17201311",
   "metadata": {},
   "outputs": [
    {
     "name": "stderr",
     "output_type": "stream",
     "text": [
      "2022-12-06 20:14:27,919 [INFO] Compute matrix: 99%\n"
     ]
    }
   ],
   "source": [
    "if GENERATE_RATING_MATRIX:\n",
    "    rating_matrix = ctx.rating_matrix_service.compute(interactions, model=SVD())\n",
    "    ut.Picket.save(RATING_MATRIX_PATH, rating_matrix)\n",
    "else:\n",
    "    rating_matrix = ut.Picket.save(RATING_MATRIX_PATH)"
   ]
  },
  {
   "cell_type": "code",
   "execution_count": null,
   "id": "3bcdbf8d-6475-4425-9ea9-e15149e48e22",
   "metadata": {},
   "outputs": [],
   "source": []
  }
 ],
 "metadata": {
  "kernelspec": {
   "display_name": "Python 3 (ipykernel)",
   "language": "python",
   "name": "python3"
  },
  "language_info": {
   "codemirror_mode": {
    "name": "ipython",
    "version": 3
   },
   "file_extension": ".py",
   "mimetype": "text/x-python",
   "name": "python",
   "nbconvert_exporter": "python",
   "pygments_lexer": "ipython3",
   "version": "3.10.6"
  },
  "widgets": {
   "application/vnd.jupyter.widget-state+json": {
    "state": {},
    "version_major": 2,
    "version_minor": 0
   }
  }
 },
 "nbformat": 4,
 "nbformat_minor": 5
}
