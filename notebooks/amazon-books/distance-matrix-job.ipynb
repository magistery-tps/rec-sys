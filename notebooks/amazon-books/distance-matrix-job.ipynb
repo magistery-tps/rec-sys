{
 "cells": [
  {
   "cell_type": "markdown",
   "id": "0417277b-47df-4113-a7b3-8f960db06f1d",
   "metadata": {
    "tags": []
   },
   "source": [
    "# Distance Matrix Job"
   ]
  },
  {
   "cell_type": "code",
   "execution_count": 6,
   "id": "8dde5e70-5b86-460f-8791-20fcb554c378",
   "metadata": {},
   "outputs": [
    {
     "name": "stdout",
     "output_type": "stream",
     "text": [
      "The autoreload extension is already loaded. To reload it, use:\n",
      "  %reload_ext autoreload\n"
     ]
    }
   ],
   "source": [
    "%load_ext autoreload\n",
    "%autoreload 2"
   ]
  },
  {
   "cell_type": "code",
   "execution_count": 7,
   "id": "f98e7bf4-f41a-43f6-b7b7-a991d00f82de",
   "metadata": {},
   "outputs": [],
   "source": [
    "import sys\n",
    "sys.path.append('../../src')\n",
    "\n",
    "from domain_context import DomainContext"
   ]
  },
  {
   "cell_type": "markdown",
   "id": "3b17de78-c722-47bd-accb-dbd6d811c954",
   "metadata": {
    "tags": []
   },
   "source": [
    "### Setup"
   ]
  },
  {
   "cell_type": "code",
   "execution_count": 8,
   "id": "c70a9b41-9bcb-49f4-b796-69c658a7a9e5",
   "metadata": {},
   "outputs": [],
   "source": [
    "ctx = DomainContext(host='http://localhost:8000')"
   ]
  },
  {
   "cell_type": "markdown",
   "id": "40c1da33-a8da-47c9-b174-0b0885b05b50",
   "metadata": {
    "tags": []
   },
   "source": [
    "### Execute jobs"
   ]
  },
  {
   "cell_type": "code",
   "execution_count": 9,
   "id": "11081fe2-c7df-422c-a75b-52ea77e6c7c8",
   "metadata": {},
   "outputs": [
    {
     "name": "stderr",
     "output_type": "stream",
     "text": [
      "2022-12-22 19:27:07,738 :: INFO :: SurpriseDistanceMatrixJob :: Start\n",
      "2022-12-22 19:27:10,092 :: INFO :: InteractionRepository :: Page 1/2 - Interactions 50000/96605\n",
      "2022-12-22 19:27:12,359 :: INFO :: InteractionRepository :: Page 2/2 - Interactions 96605/96605\n",
      "2022-12-22 19:27:12,360 :: INFO :: InteractionRepository :: 96605 Total Interactions \n",
      "2022-12-22 19:27:12,558 :: INFO :: InteractionService :: Filter by rating scale: [1, 2, 3, 4, 5]\n",
      "2022-12-22 19:27:12,564 :: INFO :: InteractionService :: Filtered: 100.0%\n",
      "2022-12-22 19:27:12,565 :: INFO :: InteractionService :: Filter interactions by user_n_interactions >= 20\n",
      "2022-12-22 19:27:12,571 :: INFO :: InteractionService :: Filtered interactions: 95.2%\n",
      "2022-12-22 19:27:12,571 :: INFO :: InteractionService :: Excluded interactions: 4682\n",
      "2022-12-22 19:27:26,095 :: INFO :: InteractionService :: Unrated interactions: 97.4%\n",
      "2022-12-22 19:27:26,205 :: INFO :: RatingMatrixService :: Train interactions: 91923 - Users: 1098, Items: 3139\n",
      "2022-12-22 19:27:26,227 :: INFO :: RatingMatrixService :: Future interactions: 3355886 - Users: 1098, Items: 3139\n",
      "2022-12-22 19:27:26,229 :: INFO :: DatasetFactory :: Rating Scale: (1, 5)\n",
      "2022-12-22 19:27:26,265 :: INFO :: ModelManager :: SVD Training...\n",
      "2022-12-22 19:27:35,327 :: INFO :: ModelManager :: SVD Rating Prediction... 10%\n",
      "2022-12-22 19:27:43,869 :: INFO :: ModelManager :: SVD Rating Prediction... 20%\n",
      "2022-12-22 19:27:52,371 :: INFO :: ModelManager :: SVD Rating Prediction... 30%\n",
      "2022-12-22 19:28:01,145 :: INFO :: ModelManager :: SVD Rating Prediction... 40%\n",
      "2022-12-22 19:28:09,609 :: INFO :: ModelManager :: SVD Rating Prediction... 50%\n",
      "2022-12-22 19:28:17,813 :: INFO :: ModelManager :: SVD Rating Prediction... 60%\n",
      "2022-12-22 19:28:26,052 :: INFO :: ModelManager :: SVD Rating Prediction... 70%\n",
      "2022-12-22 19:28:34,302 :: INFO :: ModelManager :: SVD Rating Prediction... 80%\n",
      "2022-12-22 19:28:42,620 :: INFO :: ModelManager :: SVD Rating Prediction... 90%\n",
      "2022-12-22 19:28:50,903 :: INFO :: ModelManager :: SVD Rating Prediction... 100%\n",
      "2022-12-22 19:28:51,294 :: INFO :: RatingMatrixService :: Train + Predited interactions: 3447809 - Users: 1098, Items: 3139\n",
      "2022-12-22 19:28:51,295 :: INFO :: RatingMatrixService :: Compute interactions sparse RatingMatrixType.USER_ITEM matrix...\n",
      "2022-12-22 19:29:02,567 :: INFO :: root :: Buiding matrix(1572, 3138)... 10%\n",
      "2022-12-22 19:29:13,879 :: INFO :: root :: Buiding matrix(1572, 3138)... 20%\n",
      "2022-12-22 19:29:25,261 :: INFO :: root :: Buiding matrix(1572, 3138)... 30%\n",
      "2022-12-22 19:29:36,875 :: INFO :: root :: Buiding matrix(1572, 3138)... 40%\n",
      "2022-12-22 19:29:48,045 :: INFO :: root :: Buiding matrix(1572, 3138)... 50%\n",
      "2022-12-22 19:29:59,347 :: INFO :: root :: Buiding matrix(1572, 3138)... 60%\n",
      "2022-12-22 19:30:10,798 :: INFO :: root :: Buiding matrix(1572, 3138)... 70%\n",
      "2022-12-22 19:30:22,062 :: INFO :: root :: Buiding matrix(1572, 3138)... 80%\n",
      "2022-12-22 19:30:33,273 :: INFO :: root :: Buiding matrix(1572, 3138)... 90%\n",
      "2022-12-22 19:30:44,562 :: INFO :: root :: Buiding matrix(1572, 3138)... 100%\n",
      "2022-12-22 19:30:44,941 :: INFO :: SimilarityService :: Compute user_seq combinations...\n",
      "2022-12-22 19:30:44,983 :: INFO :: SimilarityService :: user_id combinations...1236378\n",
      "2022-12-22 19:30:44,984 :: INFO :: SimilarityService :: Compute user_seq embeddings(size: 3138)...\n",
      "2022-12-22 19:30:45,339 :: INFO :: SimilarityService :: Compute user_id similarities...\n",
      "\n",
      "100%|█████████████████████████████████████████████████████████████████████████████████████████████████████████████████████████████████████████████████████████████████████████████████████████████████████████████████████████████████████████████████████████████████████████████| 1236378/1236378 [00:10<00:00, 113219.88it/s]\n",
      "2022-12-22 19:30:57,305 :: INFO :: SimilarityService :: Compute item_seq combinations...\n",
      "2022-12-22 19:30:57,468 :: INFO :: SimilarityService :: item_id combinations...4925091\n",
      "2022-12-22 19:30:57,469 :: INFO :: SimilarityService :: Compute item_seq embeddings(size: 1572)...\n",
      "2022-12-22 19:31:05,545 :: INFO :: SimilarityService :: Compute item_id similarities...\n",
      "\n",
      "100%|█████████████████████████████████████████████████████████████████████████████████████████████████████████████████████████████████████████████████████████████████████████████████████████████████████████████████████████████████████████████████████████████████████████████| 4925091/4925091 [00:39<00:00, 125867.11it/s]\n",
      "2022-12-22 19:31:49,211 :: INFO :: SimilarityMatrixRepository :: Page 2/1 - Similarity_matrix 1/1\n",
      "2022-12-22 19:31:49,212 :: INFO :: SimilarityMatrixRepository :: 1 Total Similarity_matrix \n",
      "2022-12-22 19:31:49,212 :: INFO :: SimilarityMatrixService :: Already exists SVD-user-to-user SimilarityMatrixType.USER_TO_USER matrix.\n",
      "2022-12-22 19:31:50,098 :: INFO :: SimilarityService :: Filtered: 77375/1236378 (93.7%)\n",
      "2022-12-22 19:31:50,133 :: INFO :: DataFramPaginationIterator :: Page 1/8 - Items 10000/77375\n",
      "2022-12-22 19:31:54,974 :: INFO :: DataFramPaginationIterator :: Page 2/8 - Items 20000/77375\n",
      "2022-12-22 19:31:59,856 :: INFO :: DataFramPaginationIterator :: Page 3/8 - Items 30000/77375\n",
      "2022-12-22 19:32:04,761 :: INFO :: DataFramPaginationIterator :: Page 4/8 - Items 40000/77375\n",
      "2022-12-22 19:32:09,840 :: INFO :: DataFramPaginationIterator :: Page 5/8 - Items 50000/77375\n",
      "2022-12-22 19:32:14,867 :: INFO :: DataFramPaginationIterator :: Page 6/8 - Items 60000/77375\n",
      "2022-12-22 19:32:19,886 :: INFO :: DataFramPaginationIterator :: Page 7/8 - Items 70000/77375\n",
      "2022-12-22 19:32:24,919 :: INFO :: DataFramPaginationIterator :: Page 8/8 - Items 7375/77375\n",
      "2022-12-22 19:32:28,558 :: INFO :: DataFramPaginationIterator :: Totals - Pages 8 - Items 77375\n",
      "2022-12-22 19:32:30,507 :: INFO :: SimilarityMatrixRepository :: Page 2/1 - Similarity_matrix 1/1\n",
      "2022-12-22 19:32:30,507 :: INFO :: SimilarityMatrixRepository :: 1 Total Similarity_matrix \n",
      "2022-12-22 19:32:30,508 :: INFO :: SimilarityMatrixService :: Already exists SVD-item-to-item SimilarityMatrixType.ITEM_TO_ITEM matrix.\n",
      "2022-12-22 19:32:34,997 :: INFO :: SimilarityService :: Filtered: 155675/4925091 (96.8%)\n",
      "2022-12-22 19:32:35,063 :: INFO :: DataFramPaginationIterator :: Page 1/16 - Items 10000/155675\n",
      "2022-12-22 19:32:40,080 :: INFO :: DataFramPaginationIterator :: Page 2/16 - Items 20000/155675\n",
      "2022-12-22 19:32:45,047 :: INFO :: DataFramPaginationIterator :: Page 3/16 - Items 30000/155675\n",
      "2022-12-22 19:32:50,003 :: INFO :: DataFramPaginationIterator :: Page 4/16 - Items 40000/155675\n",
      "2022-12-22 19:32:54,966 :: INFO :: DataFramPaginationIterator :: Page 5/16 - Items 50000/155675\n",
      "2022-12-22 19:33:00,024 :: INFO :: DataFramPaginationIterator :: Page 6/16 - Items 60000/155675\n",
      "2022-12-22 19:33:05,102 :: INFO :: DataFramPaginationIterator :: Page 7/16 - Items 70000/155675\n",
      "2022-12-22 19:33:10,566 :: INFO :: DataFramPaginationIterator :: Page 8/16 - Items 80000/155675\n",
      "2022-12-22 19:33:15,757 :: INFO :: DataFramPaginationIterator :: Page 9/16 - Items 90000/155675\n",
      "2022-12-22 19:33:20,642 :: INFO :: DataFramPaginationIterator :: Page 10/16 - Items 100000/155675\n",
      "2022-12-22 19:33:25,591 :: INFO :: DataFramPaginationIterator :: Page 11/16 - Items 110000/155675\n",
      "2022-12-22 19:33:30,420 :: INFO :: DataFramPaginationIterator :: Page 12/16 - Items 120000/155675\n",
      "2022-12-22 19:33:35,342 :: INFO :: DataFramPaginationIterator :: Page 13/16 - Items 130000/155675\n",
      "2022-12-22 19:33:40,315 :: INFO :: DataFramPaginationIterator :: Page 14/16 - Items 140000/155675\n",
      "2022-12-22 19:33:45,252 :: INFO :: DataFramPaginationIterator :: Page 15/16 - Items 150000/155675\n",
      "2022-12-22 19:33:50,172 :: INFO :: DataFramPaginationIterator :: Page 16/16 - Items 5675/155675\n",
      "2022-12-22 19:33:52,908 :: INFO :: DataFramPaginationIterator :: Totals - Pages 16 - Items 155675\n",
      "2022-12-22 19:33:56,057 :: INFO :: RecommenderRepository :: Page 2/1 - Recommenders 1/1\n",
      "2022-12-22 19:33:56,057 :: INFO :: RecommenderRepository :: 1 Total Recommenders \n",
      "2022-12-22 19:33:56,058 :: INFO :: RecommenderService :: Already exists SVD recommender.\n",
      "2022-12-22 19:33:56,144 :: INFO :: SurpriseDistanceMatrixJob :: Finish. Elapsed time: 0:06:48.41\n"
     ]
    }
   ],
   "source": [
    "ctx.svd_distance_matrix_job.execute()"
   ]
  },
  {
   "cell_type": "code",
   "execution_count": 10,
   "id": "f38b645a-304f-4842-a0ba-5cc75d1d772b",
   "metadata": {},
   "outputs": [
    {
     "name": "stderr",
     "output_type": "stream",
     "text": [
      "2022-12-22 19:33:56,159 :: INFO :: SurpriseDistanceMatrixJob :: Start\n",
      "2022-12-22 19:33:58,425 :: INFO :: InteractionRepository :: Page 1/2 - Interactions 50000/96605\n",
      "2022-12-22 19:34:00,664 :: INFO :: InteractionRepository :: Page 2/2 - Interactions 96605/96605\n",
      "2022-12-22 19:34:00,665 :: INFO :: InteractionRepository :: 96605 Total Interactions \n",
      "2022-12-22 19:34:00,882 :: INFO :: InteractionService :: Filter by rating scale: [1, 2, 3, 4, 5]\n",
      "2022-12-22 19:34:00,888 :: INFO :: InteractionService :: Filtered: 100.0%\n",
      "2022-12-22 19:34:00,888 :: INFO :: InteractionService :: Filter interactions by user_n_interactions >= 20\n",
      "2022-12-22 19:34:00,893 :: INFO :: InteractionService :: Filtered interactions: 95.2%\n",
      "2022-12-22 19:34:00,893 :: INFO :: InteractionService :: Excluded interactions: 4682\n",
      "2022-12-22 19:34:14,546 :: INFO :: InteractionService :: Unrated interactions: 97.4%\n",
      "2022-12-22 19:34:14,652 :: INFO :: RatingMatrixService :: Train interactions: 91923 - Users: 1098, Items: 3139\n",
      "2022-12-22 19:34:14,673 :: INFO :: RatingMatrixService :: Future interactions: 3355886 - Users: 1098, Items: 3139\n",
      "2022-12-22 19:34:14,675 :: INFO :: DatasetFactory :: Rating Scale: (1, 5)\n",
      "2022-12-22 19:34:14,712 :: INFO :: ModelManager :: NMF Training...\n",
      "2022-12-22 19:34:24,184 :: INFO :: ModelManager :: NMF Rating Prediction... 10%\n",
      "2022-12-22 19:34:32,909 :: INFO :: ModelManager :: NMF Rating Prediction... 20%\n",
      "2022-12-22 19:34:41,674 :: INFO :: ModelManager :: NMF Rating Prediction... 30%\n",
      "2022-12-22 19:34:50,381 :: INFO :: ModelManager :: NMF Rating Prediction... 40%\n",
      "2022-12-22 19:34:59,032 :: INFO :: ModelManager :: NMF Rating Prediction... 50%\n",
      "2022-12-22 19:35:07,795 :: INFO :: ModelManager :: NMF Rating Prediction... 60%\n",
      "2022-12-22 19:35:16,323 :: INFO :: ModelManager :: NMF Rating Prediction... 70%\n",
      "2022-12-22 19:35:24,764 :: INFO :: ModelManager :: NMF Rating Prediction... 80%\n",
      "2022-12-22 19:35:33,162 :: INFO :: ModelManager :: NMF Rating Prediction... 90%\n",
      "2022-12-22 19:35:41,756 :: INFO :: ModelManager :: NMF Rating Prediction... 100%\n",
      "2022-12-22 19:35:42,136 :: INFO :: RatingMatrixService :: Train + Predited interactions: 3447809 - Users: 1098, Items: 3139\n",
      "2022-12-22 19:35:42,137 :: INFO :: RatingMatrixService :: Compute interactions sparse RatingMatrixType.USER_ITEM matrix...\n",
      "2022-12-22 19:35:53,654 :: INFO :: root :: Buiding matrix(1572, 3138)... 10%\n",
      "2022-12-22 19:36:05,249 :: INFO :: root :: Buiding matrix(1572, 3138)... 20%\n",
      "2022-12-22 19:36:16,839 :: INFO :: root :: Buiding matrix(1572, 3138)... 30%\n",
      "2022-12-22 19:36:28,383 :: INFO :: root :: Buiding matrix(1572, 3138)... 40%\n",
      "2022-12-22 19:36:39,939 :: INFO :: root :: Buiding matrix(1572, 3138)... 50%\n",
      "2022-12-22 19:36:51,285 :: INFO :: root :: Buiding matrix(1572, 3138)... 60%\n",
      "2022-12-22 19:37:02,539 :: INFO :: root :: Buiding matrix(1572, 3138)... 70%\n",
      "2022-12-22 19:37:13,825 :: INFO :: root :: Buiding matrix(1572, 3138)... 80%\n",
      "2022-12-22 19:37:24,989 :: INFO :: root :: Buiding matrix(1572, 3138)... 90%\n",
      "2022-12-22 19:37:36,151 :: INFO :: root :: Buiding matrix(1572, 3138)... 100%\n",
      "2022-12-22 19:37:36,527 :: INFO :: SimilarityService :: Compute user_seq combinations...\n",
      "2022-12-22 19:37:36,562 :: INFO :: SimilarityService :: user_id combinations...1236378\n",
      "2022-12-22 19:37:36,563 :: INFO :: SimilarityService :: Compute user_seq embeddings(size: 3138)...\n",
      "2022-12-22 19:37:36,904 :: INFO :: SimilarityService :: Compute user_id similarities...\n",
      "\n",
      "100%|█████████████████████████████████████████████████████████████████████████████████████████████████████████████████████████████████████████████████████████████████████████████████████████████████████████████████████████████████████████████████████████████████████████████| 1236378/1236378 [00:11<00:00, 111523.95it/s]\n",
      "2022-12-22 19:37:49,067 :: INFO :: SimilarityService :: Compute item_seq combinations...\n",
      "2022-12-22 19:37:49,207 :: INFO :: SimilarityService :: item_id combinations...4925091\n",
      "2022-12-22 19:37:49,207 :: INFO :: SimilarityService :: Compute item_seq embeddings(size: 1572)...\n",
      "2022-12-22 19:37:56,998 :: INFO :: SimilarityService :: Compute item_id similarities...\n",
      "\n",
      "100%|█████████████████████████████████████████████████████████████████████████████████████████████████████████████████████████████████████████████████████████████████████████████████████████████████████████████████████████████████████████████████████████████████████████████| 4925091/4925091 [00:39<00:00, 123737.68it/s]\n",
      "2022-12-22 19:38:41,373 :: INFO :: SimilarityMatrixRepository :: Page 2/1 - Similarity_matrix 1/1\n",
      "2022-12-22 19:38:41,374 :: INFO :: SimilarityMatrixRepository :: 1 Total Similarity_matrix \n",
      "2022-12-22 19:38:41,374 :: INFO :: SimilarityMatrixService :: Already exists NMF-user-to-user SimilarityMatrixType.USER_TO_USER matrix.\n",
      "2022-12-22 19:38:42,264 :: INFO :: SimilarityService :: Filtered: 77375/1236378 (93.7%)\n",
      "2022-12-22 19:38:42,302 :: INFO :: DataFramPaginationIterator :: Page 1/8 - Items 10000/77375\n",
      "2022-12-22 19:38:47,410 :: INFO :: DataFramPaginationIterator :: Page 2/8 - Items 20000/77375\n",
      "2022-12-22 19:38:52,307 :: INFO :: DataFramPaginationIterator :: Page 3/8 - Items 30000/77375\n",
      "2022-12-22 19:38:57,500 :: INFO :: DataFramPaginationIterator :: Page 4/8 - Items 40000/77375\n",
      "2022-12-22 19:39:02,413 :: INFO :: DataFramPaginationIterator :: Page 5/8 - Items 50000/77375\n",
      "2022-12-22 19:39:07,750 :: INFO :: DataFramPaginationIterator :: Page 6/8 - Items 60000/77375\n",
      "2022-12-22 19:39:12,527 :: INFO :: DataFramPaginationIterator :: Page 7/8 - Items 70000/77375\n",
      "2022-12-22 19:39:17,552 :: INFO :: DataFramPaginationIterator :: Page 8/8 - Items 7375/77375\n",
      "2022-12-22 19:39:21,141 :: INFO :: DataFramPaginationIterator :: Totals - Pages 8 - Items 77375\n",
      "2022-12-22 19:39:23,010 :: INFO :: SimilarityMatrixRepository :: Page 2/1 - Similarity_matrix 1/1\n",
      "2022-12-22 19:39:23,011 :: INFO :: SimilarityMatrixRepository :: 1 Total Similarity_matrix \n",
      "2022-12-22 19:39:23,011 :: INFO :: SimilarityMatrixService :: Already exists NMF-item-to-item SimilarityMatrixType.ITEM_TO_ITEM matrix.\n",
      "2022-12-22 19:39:27,548 :: INFO :: SimilarityService :: Filtered: 155675/4925091 (96.8%)\n",
      "2022-12-22 19:39:27,615 :: INFO :: DataFramPaginationIterator :: Page 1/16 - Items 10000/155675\n",
      "2022-12-22 19:39:32,543 :: INFO :: DataFramPaginationIterator :: Page 2/16 - Items 20000/155675\n",
      "2022-12-22 19:39:37,556 :: INFO :: DataFramPaginationIterator :: Page 3/16 - Items 30000/155675\n",
      "2022-12-22 19:39:42,368 :: INFO :: DataFramPaginationIterator :: Page 4/16 - Items 40000/155675\n",
      "2022-12-22 19:39:47,524 :: INFO :: DataFramPaginationIterator :: Page 5/16 - Items 50000/155675\n",
      "2022-12-22 19:39:52,417 :: INFO :: DataFramPaginationIterator :: Page 6/16 - Items 60000/155675\n",
      "2022-12-22 19:39:57,400 :: INFO :: DataFramPaginationIterator :: Page 7/16 - Items 70000/155675\n",
      "2022-12-22 19:40:02,274 :: INFO :: DataFramPaginationIterator :: Page 8/16 - Items 80000/155675\n",
      "2022-12-22 19:40:07,344 :: INFO :: DataFramPaginationIterator :: Page 9/16 - Items 90000/155675\n",
      "2022-12-22 19:40:12,232 :: INFO :: DataFramPaginationIterator :: Page 10/16 - Items 100000/155675\n",
      "2022-12-22 19:40:17,253 :: INFO :: DataFramPaginationIterator :: Page 11/16 - Items 110000/155675\n",
      "2022-12-22 19:40:22,411 :: INFO :: DataFramPaginationIterator :: Page 12/16 - Items 120000/155675\n",
      "2022-12-22 19:40:27,409 :: INFO :: DataFramPaginationIterator :: Page 13/16 - Items 130000/155675\n",
      "2022-12-22 19:40:32,691 :: INFO :: DataFramPaginationIterator :: Page 14/16 - Items 140000/155675\n",
      "2022-12-22 19:40:37,810 :: INFO :: DataFramPaginationIterator :: Page 15/16 - Items 150000/155675\n",
      "2022-12-22 19:40:42,776 :: INFO :: DataFramPaginationIterator :: Page 16/16 - Items 5675/155675\n",
      "2022-12-22 19:40:45,621 :: INFO :: DataFramPaginationIterator :: Totals - Pages 16 - Items 155675\n",
      "2022-12-22 19:40:48,843 :: INFO :: RecommenderRepository :: Page 2/1 - Recommenders 1/1\n",
      "2022-12-22 19:40:48,844 :: INFO :: RecommenderRepository :: 1 Total Recommenders \n",
      "2022-12-22 19:40:48,845 :: INFO :: RecommenderService :: Already exists NMF recommender.\n",
      "2022-12-22 19:40:48,931 :: INFO :: SurpriseDistanceMatrixJob :: Finish. Elapsed time: 0:06:52.77\n"
     ]
    }
   ],
   "source": [
    "ctx.nmf_distance_matrix_job.execute()"
   ]
  }
 ],
 "metadata": {
  "kernelspec": {
   "display_name": "Python 3 (ipykernel)",
   "language": "python",
   "name": "python3"
  },
  "language_info": {
   "codemirror_mode": {
    "name": "ipython",
    "version": 3
   },
   "file_extension": ".py",
   "mimetype": "text/x-python",
   "name": "python",
   "nbconvert_exporter": "python",
   "pygments_lexer": "ipython3",
   "version": "3.10.6"
  },
  "widgets": {
   "application/vnd.jupyter.widget-state+json": {
    "state": {},
    "version_major": 2,
    "version_minor": 0
   }
  }
 },
 "nbformat": 4,
 "nbformat_minor": 5
}
