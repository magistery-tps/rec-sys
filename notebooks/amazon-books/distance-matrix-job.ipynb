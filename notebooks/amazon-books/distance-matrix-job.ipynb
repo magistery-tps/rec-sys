{
 "cells": [
  {
   "cell_type": "markdown",
   "id": "0417277b-47df-4113-a7b3-8f960db06f1d",
   "metadata": {
    "tags": []
   },
   "source": [
    "# Distance Matrix Job"
   ]
  },
  {
   "cell_type": "code",
   "execution_count": 1,
   "id": "8dde5e70-5b86-460f-8791-20fcb554c378",
   "metadata": {},
   "outputs": [],
   "source": [
    "%load_ext autoreload\n",
    "%autoreload 2"
   ]
  },
  {
   "cell_type": "code",
   "execution_count": 2,
   "id": "f98e7bf4-f41a-43f6-b7b7-a991d00f82de",
   "metadata": {},
   "outputs": [],
   "source": [
    "import sys\n",
    "sys.path.append('../../src')\n",
    "\n",
    "import numpy as np\n",
    "import pandas as pd\n",
    "from surprise import SVD\n",
    "\n",
    "import data as dt\n",
    "import util as ut\n",
    "from domain_context import DomainContext\n",
    "\n",
    "import api"
   ]
  },
  {
   "cell_type": "code",
   "execution_count": 3,
   "id": "c7853d0e-0e7a-48ac-9b25-50c659a30c38",
   "metadata": {},
   "outputs": [],
   "source": [
    "TEMP_PATH                    = '../../temp'\n",
    "USER_ITEM_RATING_MATRIX_PATH = f'{TEMP_PATH}/user_item_rating_matrix'\n",
    "USER_SIMILARITIES_PATH       = f'{TEMP_PATH}/user_similarities.csv'\n",
    "ITEM_SIMILARITIES_PATH       = f'{TEMP_PATH}/item_similarities.csv'\n",
    "\n",
    "HOST                         = 'http://localhost:8000'\n",
    "API_TOKEN                    = 'e3ff025094fe0ee474501bbeda0a2a44e80230c1'\n",
    "\n",
    "GENERATE_RATING_MATRIX       = True\n",
    "GENERATE_USER_SIMILARITIES   = True\n",
    "GENERATE_ITEM_SIMILARITIES   = True"
   ]
  },
  {
   "cell_type": "markdown",
   "id": "3b17de78-c722-47bd-accb-dbd6d811c954",
   "metadata": {
    "tags": []
   },
   "source": [
    "### Setup"
   ]
  },
  {
   "cell_type": "code",
   "execution_count": 4,
   "id": "c350e8e2-c246-4680-9230-c3f3275f74de",
   "metadata": {},
   "outputs": [],
   "source": [
    "!mkdir -p {TEMP_PATH}"
   ]
  },
  {
   "cell_type": "code",
   "execution_count": 5,
   "id": "c70a9b41-9bcb-49f4-b796-69c658a7a9e5",
   "metadata": {},
   "outputs": [],
   "source": [
    "ctx = DomainContext(API_TOKEN, HOST)"
   ]
  },
  {
   "cell_type": "markdown",
   "id": "40c1da33-a8da-47c9-b174-0b0885b05b50",
   "metadata": {},
   "source": [
    "### Get interactions"
   ]
  },
  {
   "cell_type": "code",
   "execution_count": 6,
   "id": "7c811f1f-02ef-4ef1-9513-cf5a7ca87e14",
   "metadata": {},
   "outputs": [
    {
     "name": "stderr",
     "output_type": "stream",
     "text": [
      "2022-12-18 21:05:26,290 [INFO] - Page 1/2 - Interactions 50000/96605\n",
      "2022-12-18 21:05:28,522 [INFO] - Page 2/2 - Interactions 96605/96605\n",
      "2022-12-18 21:05:28,523 [INFO] - 96605 Total Interactions \n"
     ]
    }
   ],
   "source": [
    "interactions = ctx.interaction_service.find_all()\n",
    "# ctx.interaction_service.plot_n_users_by_item(interactions)"
   ]
  },
  {
   "cell_type": "code",
   "execution_count": 7,
   "id": "0cab7358-7515-49a1-9319-c4b2fccdda8c",
   "metadata": {},
   "outputs": [
    {
     "data": {
      "text/html": [
       "<pre style=\"white-space:pre;overflow-x:auto;line-height:normal;font-family:Menlo,'DejaVu Sans Mono',consolas,'Courier New',monospace\"><span style=\"font-weight: bold\">((</span><span style=\"color: #008080; text-decoration-color: #008080; font-weight: bold\">1584</span>,<span style=\"font-weight: bold\">)</span>, <span style=\"font-weight: bold\">(</span><span style=\"color: #008080; text-decoration-color: #008080; font-weight: bold\">3139</span>,<span style=\"font-weight: bold\">))</span>\n",
       "</pre>\n"
      ],
      "text/plain": [
       "\u001b[1m(\u001b[0m\u001b[1m(\u001b[0m\u001b[1;36m1584\u001b[0m,\u001b[1m)\u001b[0m, \u001b[1m(\u001b[0m\u001b[1;36m3139\u001b[0m,\u001b[1m)\u001b[0m\u001b[1m)\u001b[0m\n"
      ]
     },
     "metadata": {},
     "output_type": "display_data"
    }
   ],
   "source": [
    "interactions.user_id.unique().shape, interactions.item_id.unique().shape"
   ]
  },
  {
   "cell_type": "code",
   "execution_count": 8,
   "id": "7609be5a-3ad7-45bf-89c2-6155d48ffc01",
   "metadata": {},
   "outputs": [],
   "source": [
    "interactions = dt.Sequencer(column='user_id', seq_col_name='user_seq').perform(interactions)\n",
    "interactions = dt.Sequencer(column='item_id', seq_col_name='item_seq').perform(interactions)"
   ]
  },
  {
   "cell_type": "code",
   "execution_count": 9,
   "id": "a4c59ce1-aba5-43f5-8eaa-fd8ef7a83b4d",
   "metadata": {},
   "outputs": [
    {
     "data": {
      "text/html": [
       "<pre style=\"white-space:pre;overflow-x:auto;line-height:normal;font-family:Menlo,'DejaVu Sans Mono',consolas,'Courier New',monospace\"><span style=\"font-weight: bold\">(</span><span style=\"color: #008080; text-decoration-color: #008080; font-weight: bold\">1583</span>, <span style=\"color: #008080; text-decoration-color: #008080; font-weight: bold\">1617</span><span style=\"font-weight: bold\">)</span>\n",
       "</pre>\n"
      ],
      "text/plain": [
       "\u001b[1m(\u001b[0m\u001b[1;36m1583\u001b[0m, \u001b[1;36m1617\u001b[0m\u001b[1m)\u001b[0m\n"
      ]
     },
     "metadata": {},
     "output_type": "display_data"
    }
   ],
   "source": [
    "interactions.user_seq.max(), interactions.user_id.max()"
   ]
  },
  {
   "cell_type": "code",
   "execution_count": 10,
   "id": "1fe5b9a0-5966-488f-ac69-294b6307bd22",
   "metadata": {},
   "outputs": [
    {
     "data": {
      "text/html": [
       "<pre style=\"white-space:pre;overflow-x:auto;line-height:normal;font-family:Menlo,'DejaVu Sans Mono',consolas,'Courier New',monospace\"><span style=\"font-weight: bold\">(</span><span style=\"color: #008080; text-decoration-color: #008080; font-weight: bold\">3138</span>, <span style=\"color: #008080; text-decoration-color: #008080; font-weight: bold\">224950</span><span style=\"font-weight: bold\">)</span>\n",
       "</pre>\n"
      ],
      "text/plain": [
       "\u001b[1m(\u001b[0m\u001b[1;36m3138\u001b[0m, \u001b[1;36m224950\u001b[0m\u001b[1m)\u001b[0m\n"
      ]
     },
     "metadata": {},
     "output_type": "display_data"
    }
   ],
   "source": [
    "interactions.item_seq.max(), interactions.item_id.max()"
   ]
  },
  {
   "cell_type": "markdown",
   "id": "2b9a2536-e3a1-4502-966d-fe66c3e95718",
   "metadata": {},
   "source": [
    "### Compute Rating Matrix"
   ]
  },
  {
   "cell_type": "code",
   "execution_count": 11,
   "id": "eef17f07-f3de-4061-b6cb-9e2d17201311",
   "metadata": {},
   "outputs": [
    {
     "name": "stderr",
     "output_type": "stream",
     "text": [
      "2022-12-18 21:05:28,764 [INFO] Filter by rating scale: [1, 2, 3, 4, 5]\n",
      "2022-12-18 21:05:28,769 [INFO] Filtered: 100.0%\n",
      "2022-12-18 21:05:28,769 [INFO] Filter interactions by user_n_interactions >= 20\n",
      "2022-12-18 21:05:28,774 [INFO] Filtered interactions: 95.2%\n",
      "2022-12-18 21:05:28,775 [INFO] Excluded interactions: 4682\n",
      "2022-12-18 21:05:41,614 [INFO] Unrated interactions: 97.4%\n",
      "2022-12-18 21:05:41,707 [INFO] Train interactions: 91923 - Users: 1098, Items: 3139\n",
      "2022-12-18 21:05:41,728 [INFO] Future interactions: 3355886 - Users: 1098, Items: 3139\n",
      "2022-12-18 21:05:41,730 [INFO] Rating Scale: (1, 5)\n",
      "2022-12-18 21:05:41,763 [INFO] SVD Training...\n",
      "2022-12-18 21:05:50,435 [INFO] SVD Rating Prediction... 10%\n",
      "2022-12-18 21:05:58,764 [INFO] SVD Rating Prediction... 20%\n",
      "2022-12-18 21:06:07,138 [INFO] SVD Rating Prediction... 30%\n",
      "2022-12-18 21:06:15,459 [INFO] SVD Rating Prediction... 40%\n",
      "2022-12-18 21:06:23,730 [INFO] SVD Rating Prediction... 50%\n",
      "2022-12-18 21:06:32,079 [INFO] SVD Rating Prediction... 60%\n",
      "2022-12-18 21:06:40,159 [INFO] SVD Rating Prediction... 70%\n",
      "2022-12-18 21:06:48,190 [INFO] SVD Rating Prediction... 80%\n",
      "2022-12-18 21:06:56,305 [INFO] SVD Rating Prediction... 90%\n",
      "2022-12-18 21:07:04,830 [INFO] SVD Rating Prediction... 100%\n",
      "2022-12-18 21:07:05,225 [INFO] Train + Predited interactions: 3447809 - Users: 1098, Items: 3139\n",
      "2022-12-18 21:07:05,225 [INFO] Compute interactions sparse RatingMatrixType.USER_ITEM matrix...\n",
      "2022-12-18 21:07:16,618 [INFO] Buiding matrix(1572, 3138)... 10%\n",
      "2022-12-18 21:07:28,062 [INFO] Buiding matrix(1572, 3138)... 20%\n",
      "2022-12-18 21:07:39,693 [INFO] Buiding matrix(1572, 3138)... 30%\n",
      "2022-12-18 21:07:51,186 [INFO] Buiding matrix(1572, 3138)... 40%\n",
      "2022-12-18 21:08:02,331 [INFO] Buiding matrix(1572, 3138)... 50%\n",
      "2022-12-18 21:08:13,718 [INFO] Buiding matrix(1572, 3138)... 60%\n",
      "2022-12-18 21:08:25,116 [INFO] Buiding matrix(1572, 3138)... 70%\n",
      "2022-12-18 21:08:36,455 [INFO] Buiding matrix(1572, 3138)... 80%\n",
      "2022-12-18 21:08:47,569 [INFO] Buiding matrix(1572, 3138)... 90%\n",
      "2022-12-18 21:08:58,778 [INFO] Buiding matrix(1572, 3138)... 100%\n"
     ]
    }
   ],
   "source": [
    "if GENERATE_RATING_MATRIX:\n",
    "    rating_matrix = ctx.rating_matrix_service.create(\n",
    "        interactions, \n",
    "        columns = ('user_seq', 'item_seq', 'rating'),\n",
    "        model   = SVD()\n",
    "    )\n",
    "    ut.Picket.save(USER_ITEM_RATING_MATRIX_PATH, rating_matrix)\n",
    "else:\n",
    "    rating_matrix = ut.Picket.load(USER_ITEM_RATING_MATRIX_PATH)"
   ]
  },
  {
   "cell_type": "code",
   "execution_count": 12,
   "id": "7612f38d-ed92-42fc-94ce-07045326bb5e",
   "metadata": {},
   "outputs": [
    {
     "name": "stdout",
     "output_type": "stream",
     "text": [
      "40M\t../../temp/user_item_rating_matrix.pickle\n"
     ]
    }
   ],
   "source": [
    "!du -h {USER_ITEM_RATING_MATRIX_PATH}.pickle"
   ]
  },
  {
   "cell_type": "code",
   "execution_count": 13,
   "id": "d3867e4b-3a2f-4efb-8479-a309d700648b",
   "metadata": {},
   "outputs": [
    {
     "data": {
      "text/html": [
       "<pre style=\"white-space:pre;overflow-x:auto;line-height:normal;font-family:Menlo,'DejaVu Sans Mono',consolas,'Courier New',monospace\"><span style=\"font-weight: bold\">(</span><span style=\"color: #008080; text-decoration-color: #008080; font-weight: bold\">1572</span>, <span style=\"color: #008080; text-decoration-color: #008080; font-weight: bold\">3138</span><span style=\"font-weight: bold\">)</span>\n",
       "</pre>\n"
      ],
      "text/plain": [
       "\u001b[1m(\u001b[0m\u001b[1;36m1572\u001b[0m, \u001b[1;36m3138\u001b[0m\u001b[1m)\u001b[0m\n"
      ]
     },
     "metadata": {},
     "output_type": "display_data"
    }
   ],
   "source": [
    "rating_matrix.shape"
   ]
  },
  {
   "cell_type": "code",
   "execution_count": 14,
   "id": "44d01d57-661b-44d5-82b5-3d794dc0f839",
   "metadata": {},
   "outputs": [
    {
     "data": {
      "text/html": [
       "<pre style=\"white-space:pre;overflow-x:auto;line-height:normal;font-family:Menlo,'DejaVu Sans Mono',consolas,'Courier New',monospace\"><span style=\"font-weight: bold\">(</span><span style=\"color: #008080; text-decoration-color: #008080; font-weight: bold\">1584</span>,<span style=\"font-weight: bold\">)</span>\n",
       "</pre>\n"
      ],
      "text/plain": [
       "\u001b[1m(\u001b[0m\u001b[1;36m1584\u001b[0m,\u001b[1m)\u001b[0m\n"
      ]
     },
     "metadata": {},
     "output_type": "display_data"
    }
   ],
   "source": [
    "interactions.user_seq.unique().shape"
   ]
  },
  {
   "cell_type": "code",
   "execution_count": 15,
   "id": "9924dc67-e6be-4a36-9d75-a5529a8a9b6f",
   "metadata": {},
   "outputs": [
    {
     "data": {
      "text/html": [
       "<pre style=\"white-space:pre;overflow-x:auto;line-height:normal;font-family:Menlo,'DejaVu Sans Mono',consolas,'Courier New',monospace\"><span style=\"font-weight: bold\">[</span><span style=\"color: #008080; text-decoration-color: #008080; font-weight: bold\">0</span>, <span style=\"color: #008080; text-decoration-color: #008080; font-weight: bold\">1</span>, <span style=\"color: #008080; text-decoration-color: #008080; font-weight: bold\">2</span>, <span style=\"color: #008080; text-decoration-color: #008080; font-weight: bold\">3</span>, <span style=\"color: #008080; text-decoration-color: #008080; font-weight: bold\">4</span><span style=\"font-weight: bold\">]</span>\n",
       "</pre>\n"
      ],
      "text/plain": [
       "\u001b[1m[\u001b[0m\u001b[1;36m0\u001b[0m, \u001b[1;36m1\u001b[0m, \u001b[1;36m2\u001b[0m, \u001b[1;36m3\u001b[0m, \u001b[1;36m4\u001b[0m\u001b[1m]\u001b[0m\n"
      ]
     },
     "metadata": {},
     "output_type": "display_data"
    }
   ],
   "source": [
    "list(range(5))"
   ]
  },
  {
   "cell_type": "markdown",
   "id": "732660f5-6230-41c7-a971-68bc61331af3",
   "metadata": {},
   "source": [
    "### Compute User-User and Item-Item similarity matrix"
   ]
  },
  {
   "cell_type": "code",
   "execution_count": 16,
   "id": "66233890-aa0f-46a5-afaf-35e39b104d60",
   "metadata": {
    "tags": []
   },
   "outputs": [
    {
     "name": "stderr",
     "output_type": "stream",
     "text": [
      "2022-12-18 21:08:59,399 [INFO] Compute user_seq combinations...\n",
      "2022-12-18 21:08:59,444 [INFO] user_id combinations...1236378\n",
      "2022-12-18 21:08:59,445 [INFO] Compute user_seq embeddings(size: 3138)...\n",
      "2022-12-18 21:08:59,801 [INFO] Compute user_id similarities...\n",
      "\n",
      "100%|█████████████████████████████████████████████████████████████████████████████████████████████████████████████████████████████████████████████| 1236378/1236378 [00:11<00:00, 110966.42it/s]\n"
     ]
    }
   ],
   "source": [
    "if GENERATE_USER_SIMILARITIES:\n",
    "    user_similarities = ctx.similarity_service.similarities(\n",
    "        rating_matrix,\n",
    "        entity = 'user'\n",
    "    )\n",
    "    ut.save(user_similarities, USER_SIMILARITIES_PATH)\n",
    "else:\n",
    "    user_similarities = ut.load(USER_SIMILARITIES_PATH)"
   ]
  },
  {
   "cell_type": "code",
   "execution_count": 17,
   "id": "fdfa3ce7-5ac0-4e19-b90b-d683989777de",
   "metadata": {},
   "outputs": [
    {
     "name": "stdout",
     "output_type": "stream",
     "text": [
      "24M\t../../temp/user_similarities.csv\n"
     ]
    }
   ],
   "source": [
    "!du -h {USER_SIMILARITIES_PATH}"
   ]
  },
  {
   "cell_type": "code",
   "execution_count": 18,
   "id": "4a889f41-422c-4c10-9740-d26a584ecee5",
   "metadata": {},
   "outputs": [
    {
     "name": "stderr",
     "output_type": "stream",
     "text": [
      "2022-12-18 21:09:13,087 [INFO] Compute item_seq combinations...\n",
      "2022-12-18 21:09:13,258 [INFO] item_id combinations...4925091\n",
      "2022-12-18 21:09:13,259 [INFO] Compute item_seq embeddings(size: 1572)...\n",
      "2022-12-18 21:09:20,989 [INFO] Compute item_id similarities...\n",
      "\n",
      "100%|█████████████████████████████████████████████████████████████████████████████████████████████████████████████████████████████████████████████| 4925091/4925091 [00:38<00:00, 126396.70it/s]\n"
     ]
    }
   ],
   "source": [
    "if GENERATE_ITEM_SIMILARITIES:\n",
    "    item_similarities = ctx.similarity_service.similarities(\n",
    "        rating_matrix.transpose(),\n",
    "        entity = 'item'\n",
    "    )\n",
    "    ut.save(item_similarities, ITEM_SIMILARITIES_PATH)\n",
    "else:\n",
    "    item_similarities = ut.load(ITEM_SIMILARITIES_PATH)"
   ]
  },
  {
   "cell_type": "code",
   "execution_count": 19,
   "id": "c2158b18-b501-4d7b-9f13-9155b9dfe023",
   "metadata": {},
   "outputs": [
    {
     "name": "stdout",
     "output_type": "stream",
     "text": [
      "133M\t../../temp/item_similarities.csv\n"
     ]
    }
   ],
   "source": [
    "!du -h {ITEM_SIMILARITIES_PATH}"
   ]
  },
  {
   "cell_type": "markdown",
   "id": "22fc66c9-6190-45e5-bf04-b2b3b034ff5c",
   "metadata": {},
   "source": [
    "Filter N most similarity users fofr each user (Same for items):"
   ]
  },
  {
   "cell_type": "code",
   "execution_count": 20,
   "id": "eef6e18a-b03e-4eec-8526-354958680d02",
   "metadata": {},
   "outputs": [
    {
     "name": "stderr",
     "output_type": "stream",
     "text": [
      "2022-12-18 21:10:10,256 [INFO] Filtered: 77375/1236378 (93.7%)\n"
     ]
    }
   ],
   "source": [
    "user_most_similarities = ctx.similarity_service.filter_most_similars(\n",
    "    user_similarities, \n",
    "    column = 'user_a', \n",
    "    n      = 50\n",
    ")"
   ]
  },
  {
   "cell_type": "code",
   "execution_count": 21,
   "id": "46a15862-dccb-43ae-bb30-e03b7a90491b",
   "metadata": {},
   "outputs": [
    {
     "name": "stderr",
     "output_type": "stream",
     "text": [
      "2022-12-18 21:10:14,504 [INFO] Filtered: 155675/4925091 (96.8%)\n"
     ]
    }
   ],
   "source": [
    "item_most_similarities = ctx.similarity_service.filter_most_similars(\n",
    "    item_similarities, \n",
    "    column = 'item_a',\n",
    "    n      = 50\n",
    ")"
   ]
  },
  {
   "cell_type": "code",
   "execution_count": 22,
   "id": "dabf7392-0bb4-402b-8f89-f6e9fc755448",
   "metadata": {},
   "outputs": [
    {
     "data": {
      "text/html": [
       "<pre style=\"white-space:pre;overflow-x:auto;line-height:normal;font-family:Menlo,'DejaVu Sans Mono',consolas,'Courier New',monospace\"><span style=\"font-weight: bold\">(</span><span style=\"color: #008080; text-decoration-color: #008080; font-weight: bold\">98</span>, <span style=\"color: #008080; text-decoration-color: #008080; font-weight: bold\">115</span><span style=\"font-weight: bold\">)</span>\n",
       "</pre>\n"
      ],
      "text/plain": [
       "\u001b[1m(\u001b[0m\u001b[1;36m98\u001b[0m, \u001b[1;36m115\u001b[0m\u001b[1m)\u001b[0m\n"
      ]
     },
     "metadata": {},
     "output_type": "display_data"
    }
   ],
   "source": [
    "user_seq_by_id = ctx.interaction_service.seq_by_id(interactions, entity='user')\n",
    "item_seq_by_id = ctx.interaction_service.seq_by_id(interactions, entity='item')\n",
    "\n",
    "user_seq_by_id[0], item_seq_by_id[0]"
   ]
  },
  {
   "cell_type": "code",
   "execution_count": 23,
   "id": "07fabba7-8cdc-4e2f-adb3-01a2f9cd4302",
   "metadata": {},
   "outputs": [
    {
     "name": "stderr",
     "output_type": "stream",
     "text": [
      "2022-12-18 21:10:14,590 [INFO] - Page 2/1 - Similarity_matrix 1/1\n",
      "2022-12-18 21:10:14,590 [INFO] - 1 Total Similarity_matrix \n",
      "2022-12-18 21:10:14,591 [INFO] Already exists SVD-user-to-user SimilarityMatrixType.USER_TO_USER matrix.\n",
      "2022-12-18 21:10:14,617 [INFO] Page 1/8 - Items 10000/77375\n",
      "2022-12-18 21:10:19,163 [INFO] Page 2/8 - Items 20000/77375\n",
      "2022-12-18 21:10:23,777 [INFO] Page 3/8 - Items 30000/77375\n",
      "2022-12-18 21:10:28,460 [INFO] Page 4/8 - Items 40000/77375\n",
      "2022-12-18 21:10:33,335 [INFO] Page 5/8 - Items 50000/77375\n",
      "2022-12-18 21:10:38,112 [INFO] Page 6/8 - Items 60000/77375\n",
      "2022-12-18 21:10:42,776 [INFO] Page 7/8 - Items 70000/77375\n",
      "2022-12-18 21:10:47,306 [INFO] Page 8/8 - Items 7375/77375\n",
      "2022-12-18 21:10:50,842 [INFO] Totals - Pages 8 - Items 77375\n"
     ]
    },
    {
     "data": {
      "text/html": [
       "<pre style=\"white-space:pre;overflow-x:auto;line-height:normal;font-family:Menlo,'DejaVu Sans Mono',consolas,'Courier New',monospace\">\n",
       "<span style=\"font-weight: bold\">{</span>\n",
       "    <span style=\"color: #008000; text-decoration-color: #008000\">\"id\"</span>: <span style=\"color: #008080; text-decoration-color: #008080; font-weight: bold\">29</span>,\n",
       "    <span style=\"color: #008000; text-decoration-color: #008000\">\"name\"</span>: <span style=\"color: #008000; text-decoration-color: #008000\">\"SVD-user-to-user\"</span>,\n",
       "    <span style=\"color: #008000; text-decoration-color: #008000\">\"type\"</span>: <span style=\"color: #008000; text-decoration-color: #008000\">\"SimilarityMatrixType.USER_TO_USER\"</span>,\n",
       "    <span style=\"color: #008000; text-decoration-color: #008000\">\"description\"</span>: <span style=\"color: #008000; text-decoration-color: #008000\">\"SVD-user-to-user\"</span>,\n",
       "    <span style=\"color: #008000; text-decoration-color: #008000\">\"version\"</span>: <span style=\"color: #008080; text-decoration-color: #008080; font-weight: bold\">7</span>\n",
       "<span style=\"font-weight: bold\">}</span>\n",
       "</pre>\n"
      ],
      "text/plain": [
       "\n",
       "\u001b[1m{\u001b[0m\n",
       "    \u001b[32m\"id\"\u001b[0m: \u001b[1;36m29\u001b[0m,\n",
       "    \u001b[32m\"name\"\u001b[0m: \u001b[32m\"SVD-user-to-user\"\u001b[0m,\n",
       "    \u001b[32m\"type\"\u001b[0m: \u001b[32m\"SimilarityMatrixType.USER_TO_USER\"\u001b[0m,\n",
       "    \u001b[32m\"description\"\u001b[0m: \u001b[32m\"SVD-user-to-user\"\u001b[0m,\n",
       "    \u001b[32m\"version\"\u001b[0m: \u001b[1;36m7\u001b[0m\n",
       "\u001b[1m}\u001b[0m\n"
      ]
     },
     "metadata": {},
     "output_type": "display_data"
    }
   ],
   "source": [
    "# Compute similarity matrix...\n",
    "user_similarity_matrix = ctx.similarity_matrix_service.create_or_get(\n",
    "    name = 'SVD-user-to-user',\n",
    "    type = api.SimilarityMatrixType.USER_TO_USER\n",
    ")\n",
    "\n",
    "user_similarity_matrix.version += 1\n",
    "cells = user_most_similarities.rename(columns={'user_a': 'row', 'user_b': 'column'})\n",
    "\n",
    "# Map sequences to ids\n",
    "cells['row']    = cells['row'].apply(lambda seq: user_seq_by_id[seq])\n",
    "cells['column'] = cells['column'].apply(lambda seq: user_seq_by_id[seq])\n",
    "\n",
    "# Upload data...\n",
    "ctx.similarity_matrix_service.add_cells(user_similarity_matrix, cells)\n",
    "ctx.similarity_matrix_service.update(user_similarity_matrix)"
   ]
  },
  {
   "cell_type": "code",
   "execution_count": 24,
   "id": "b346d404-fa7a-4490-a63e-ed31576ac126",
   "metadata": {},
   "outputs": [
    {
     "name": "stderr",
     "output_type": "stream",
     "text": [
      "2022-12-18 21:10:50,921 [INFO] - Page 2/1 - Similarity_matrix 1/1\n",
      "2022-12-18 21:10:50,921 [INFO] - 1 Total Similarity_matrix \n",
      "2022-12-18 21:10:50,922 [INFO] Already exists SVD-item-to-item SimilarityMatrixType.ITEM_TO_ITEM matrix.\n",
      "2022-12-18 21:10:50,984 [INFO] Page 1/16 - Items 10000/155675\n",
      "2022-12-18 21:10:55,662 [INFO] Page 2/16 - Items 20000/155675\n",
      "2022-12-18 21:11:00,455 [INFO] Page 3/16 - Items 30000/155675\n",
      "2022-12-18 21:11:05,402 [INFO] Page 4/16 - Items 40000/155675\n",
      "2022-12-18 21:11:10,181 [INFO] Page 5/16 - Items 50000/155675\n",
      "2022-12-18 21:11:14,834 [INFO] Page 6/16 - Items 60000/155675\n",
      "2022-12-18 21:11:19,388 [INFO] Page 7/16 - Items 70000/155675\n",
      "2022-12-18 21:11:24,210 [INFO] Page 8/16 - Items 80000/155675\n",
      "2022-12-18 21:11:28,964 [INFO] Page 9/16 - Items 90000/155675\n",
      "2022-12-18 21:11:33,516 [INFO] Page 10/16 - Items 100000/155675\n",
      "2022-12-18 21:11:38,426 [INFO] Page 11/16 - Items 110000/155675\n",
      "2022-12-18 21:11:43,019 [INFO] Page 12/16 - Items 120000/155675\n",
      "2022-12-18 21:11:47,575 [INFO] Page 13/16 - Items 130000/155675\n",
      "2022-12-18 21:11:52,163 [INFO] Page 14/16 - Items 140000/155675\n",
      "2022-12-18 21:11:57,137 [INFO] Page 15/16 - Items 150000/155675\n",
      "2022-12-18 21:12:02,225 [INFO] Page 16/16 - Items 5675/155675\n",
      "2022-12-18 21:12:04,952 [INFO] Totals - Pages 16 - Items 155675\n"
     ]
    },
    {
     "data": {
      "text/html": [
       "<pre style=\"white-space:pre;overflow-x:auto;line-height:normal;font-family:Menlo,'DejaVu Sans Mono',consolas,'Courier New',monospace\">\n",
       "<span style=\"font-weight: bold\">{</span>\n",
       "    <span style=\"color: #008000; text-decoration-color: #008000\">\"id\"</span>: <span style=\"color: #008080; text-decoration-color: #008080; font-weight: bold\">30</span>,\n",
       "    <span style=\"color: #008000; text-decoration-color: #008000\">\"name\"</span>: <span style=\"color: #008000; text-decoration-color: #008000\">\"SVD-item-to-item\"</span>,\n",
       "    <span style=\"color: #008000; text-decoration-color: #008000\">\"type\"</span>: <span style=\"color: #008000; text-decoration-color: #008000\">\"SimilarityMatrixType.ITEM_TO_ITEM\"</span>,\n",
       "    <span style=\"color: #008000; text-decoration-color: #008000\">\"description\"</span>: <span style=\"color: #008000; text-decoration-color: #008000\">\"SVD-item-to-item\"</span>,\n",
       "    <span style=\"color: #008000; text-decoration-color: #008000\">\"version\"</span>: <span style=\"color: #008080; text-decoration-color: #008080; font-weight: bold\">6</span>\n",
       "<span style=\"font-weight: bold\">}</span>\n",
       "</pre>\n"
      ],
      "text/plain": [
       "\n",
       "\u001b[1m{\u001b[0m\n",
       "    \u001b[32m\"id\"\u001b[0m: \u001b[1;36m30\u001b[0m,\n",
       "    \u001b[32m\"name\"\u001b[0m: \u001b[32m\"SVD-item-to-item\"\u001b[0m,\n",
       "    \u001b[32m\"type\"\u001b[0m: \u001b[32m\"SimilarityMatrixType.ITEM_TO_ITEM\"\u001b[0m,\n",
       "    \u001b[32m\"description\"\u001b[0m: \u001b[32m\"SVD-item-to-item\"\u001b[0m,\n",
       "    \u001b[32m\"version\"\u001b[0m: \u001b[1;36m6\u001b[0m\n",
       "\u001b[1m}\u001b[0m\n"
      ]
     },
     "metadata": {},
     "output_type": "display_data"
    }
   ],
   "source": [
    "# Compute similarity matrix...\n",
    "item_similarity_matrix = ctx.similarity_matrix_service.create_or_get(\n",
    "    name = 'SVD-item-to-item', \n",
    "    type = api.SimilarityMatrixType.ITEM_TO_ITEM\n",
    ")\n",
    "\n",
    "item_similarity_matrix.version += 1\n",
    "\n",
    "cells = item_most_similarities.rename(columns={'item_a': 'row', 'item_b': 'column'})\n",
    "\n",
    "# Map sequences to ids\n",
    "cells['row']    = cells['row'].apply(lambda seq: item_seq_by_id[seq])\n",
    "cells['column'] = cells['column'].apply(lambda seq: item_seq_by_id[seq])\n",
    "\n",
    "# Upload data...\n",
    "ctx.similarity_matrix_service.add_cells(item_similarity_matrix, cells)\n",
    "ctx.similarity_matrix_service.update(item_similarity_matrix)"
   ]
  },
  {
   "cell_type": "code",
   "execution_count": 25,
   "id": "a0ea66d0-33e7-4660-a01c-ecaad6f6228e",
   "metadata": {},
   "outputs": [
    {
     "name": "stderr",
     "output_type": "stream",
     "text": [
      "2022-12-18 21:12:04,994 [INFO] - Page 2/1 - Recommenders 1/1\n",
      "2022-12-18 21:12:04,995 [INFO] - 1 Total Recommenders \n",
      "2022-12-18 21:12:04,995 [INFO] Already exists SVD recommender.\n"
     ]
    },
    {
     "data": {
      "text/html": [
       "<pre style=\"white-space:pre;overflow-x:auto;line-height:normal;font-family:Menlo,'DejaVu Sans Mono',consolas,'Courier New',monospace\">\n",
       "<span style=\"font-weight: bold\">{</span>\n",
       "    <span style=\"color: #008000; text-decoration-color: #008000\">\"id\"</span>: <span style=\"color: #008080; text-decoration-color: #008080; font-weight: bold\">6</span>,\n",
       "    <span style=\"color: #008000; text-decoration-color: #008000\">\"name\"</span>: <span style=\"color: #008000; text-decoration-color: #008000\">\"SVD\"</span>,\n",
       "    <span style=\"color: #008000; text-decoration-color: #008000\">\"user_similarity_matrix\"</span>: <span style=\"color: #008000; text-decoration-color: #008000\">\"http://localhost:8000/api/similarity-matrix/29/\"</span>,\n",
       "    <span style=\"color: #008000; text-decoration-color: #008000\">\"item_similarity_matrix\"</span>: <span style=\"color: #008000; text-decoration-color: #008000\">\"http://localhost:8000/api/similarity-matrix/30/\"</span>\n",
       "<span style=\"font-weight: bold\">}</span>\n",
       "</pre>\n"
      ],
      "text/plain": [
       "\n",
       "\u001b[1m{\u001b[0m\n",
       "    \u001b[32m\"id\"\u001b[0m: \u001b[1;36m6\u001b[0m,\n",
       "    \u001b[32m\"name\"\u001b[0m: \u001b[32m\"SVD\"\u001b[0m,\n",
       "    \u001b[32m\"user_similarity_matrix\"\u001b[0m: \u001b[32m\"http://localhost:8000/api/similarity-matrix/29/\"\u001b[0m,\n",
       "    \u001b[32m\"item_similarity_matrix\"\u001b[0m: \u001b[32m\"http://localhost:8000/api/similarity-matrix/30/\"\u001b[0m\n",
       "\u001b[1m}\u001b[0m\n"
      ]
     },
     "metadata": {},
     "output_type": "display_data"
    }
   ],
   "source": [
    "ctx.recommender_service.upsert('SVD', user_similarity_matrix, item_similarity_matrix)"
   ]
  }
 ],
 "metadata": {
  "kernelspec": {
   "display_name": "Python 3 (ipykernel)",
   "language": "python",
   "name": "python3"
  },
  "language_info": {
   "codemirror_mode": {
    "name": "ipython",
    "version": 3
   },
   "file_extension": ".py",
   "mimetype": "text/x-python",
   "name": "python",
   "nbconvert_exporter": "python",
   "pygments_lexer": "ipython3",
   "version": "3.10.6"
  },
  "widgets": {
   "application/vnd.jupyter.widget-state+json": {
    "state": {},
    "version_major": 2,
    "version_minor": 0
   }
  }
 },
 "nbformat": 4,
 "nbformat_minor": 5
}
