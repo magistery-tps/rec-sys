{
 "cells": [
  {
   "cell_type": "markdown",
   "id": "0417277b-47df-4113-a7b3-8f960db06f1d",
   "metadata": {
    "tags": []
   },
   "source": [
    "# SVD: Distance Matrix Job"
   ]
  },
  {
   "cell_type": "code",
   "execution_count": 1,
   "id": "8dde5e70-5b86-460f-8791-20fcb554c378",
   "metadata": {},
   "outputs": [],
   "source": [
    "%load_ext autoreload\n",
    "%autoreload 2"
   ]
  },
  {
   "cell_type": "code",
   "execution_count": 2,
   "id": "f98e7bf4-f41a-43f6-b7b7-a991d00f82de",
   "metadata": {},
   "outputs": [],
   "source": [
    "import sys\n",
    "sys.path.append('../../src')\n",
    "\n",
    "import numpy as np\n",
    "import pandas as pd\n",
    "\n",
    "import logging\n",
    "import warnings\n",
    "\n",
    "from surprise import SVD\n",
    "\n",
    "import api\n",
    "import model as ml\n",
    "import util as ut\n",
    "from logger import LoggerBuilder\n",
    "from domain_context import DomainContext "
   ]
  },
  {
   "cell_type": "code",
   "execution_count": 3,
   "id": "c7853d0e-0e7a-48ac-9b25-50c659a30c38",
   "metadata": {},
   "outputs": [],
   "source": [
    "TEMP_PATH               = '../../temp'\n",
    "INPUT_INTERACTIONS_PATH = f'{TEMP_PATH}/input_interations.csv'\n",
    "HOST                    = 'http://localhost:8000'\n",
    "API_TOKEN               = 'e3ff025094fe0ee474501bbeda0a2a44e80230c1'\n",
    "DOWNLOAD                = True\n",
    "UNRATED_USER_ITEMS      = True\n",
    "COMPLETE_RATING_MATRIX  = True"
   ]
  },
  {
   "cell_type": "markdown",
   "id": "3b17de78-c722-47bd-accb-dbd6d811c954",
   "metadata": {
    "tags": []
   },
   "source": [
    "### Setup"
   ]
  },
  {
   "cell_type": "code",
   "execution_count": 4,
   "id": "c350e8e2-c246-4680-9230-c3f3275f74de",
   "metadata": {},
   "outputs": [],
   "source": [
    "!mkdir -p {TEMP_PATH}"
   ]
  },
  {
   "cell_type": "code",
   "execution_count": 5,
   "id": "1c898841-e3e0-4fe9-a0d4-2734c9cf5fa2",
   "metadata": {},
   "outputs": [],
   "source": [
    "LoggerBuilder.build()"
   ]
  },
  {
   "cell_type": "code",
   "execution_count": 6,
   "id": "d0c534bc-6dc7-42a9-adb3-bdada339d82c",
   "metadata": {},
   "outputs": [],
   "source": [
    "warnings.filterwarnings('ignore')"
   ]
  },
  {
   "cell_type": "code",
   "execution_count": 7,
   "id": "c70a9b41-9bcb-49f4-b796-69c658a7a9e5",
   "metadata": {},
   "outputs": [],
   "source": [
    "ctx = DomainContext(API_TOKEN, HOST)"
   ]
  },
  {
   "cell_type": "markdown",
   "id": "40c1da33-a8da-47c9-b174-0b0885b05b50",
   "metadata": {},
   "source": [
    "### Get interactions"
   ]
  },
  {
   "cell_type": "code",
   "execution_count": 8,
   "id": "a2d9349f-033b-4d34-b706-2e3aa0e312a7",
   "metadata": {},
   "outputs": [
    {
     "name": "stderr",
     "output_type": "stream",
     "text": [
      "2022-12-05 19:07:20,787 [INFO] - Page 1/2 - Interactions 100000/147655\n",
      "2022-12-05 19:07:23,133 [INFO] - Page 2/2 - Interactions 147655/147655\n",
      "2022-12-05 19:07:23,133 [INFO] - 147655 Total Interactions \n"
     ]
    }
   ],
   "source": [
    "interactions = pd.DataFrame.from_records(ctx.interaction_repository.find())\n",
    "interactions.to_csv(INPUT_INTERACTIONS_PATH, encoding='utf-8', index=False, header=False)"
   ]
  },
  {
   "cell_type": "code",
   "execution_count": 9,
   "id": "c2a7f42c-ab2d-462c-b22c-f3ae29ba5bde",
   "metadata": {},
   "outputs": [],
   "source": [
    "# ctx.interaction_service.plot_n_users_by_item(interactions)"
   ]
  },
  {
   "cell_type": "markdown",
   "id": "a7f9abd0-5922-4d80-b784-f6da9c4c17e8",
   "metadata": {},
   "source": [
    "### Resolve unrated user items"
   ]
  },
  {
   "cell_type": "code",
   "execution_count": 10,
   "id": "2ba5f191-a69d-46ab-96a2-8134ef649bb0",
   "metadata": {},
   "outputs": [],
   "source": [
    "user_item = ctx.interaction_service.unrated_distinct_user_item(interactions)"
   ]
  },
  {
   "cell_type": "code",
   "execution_count": 11,
   "id": "5ff1f086-441e-4f80-954b-ba89a637bf0e",
   "metadata": {},
   "outputs": [
    {
     "data": {
      "text/html": [
       "<pre style=\"white-space:pre;overflow-x:auto;line-height:normal;font-family:Menlo,'DejaVu Sans Mono',consolas,'Courier New',monospace\"><span style=\"color: #008080; text-decoration-color: #008080; font-weight: bold\">6509222</span>\n",
       "</pre>\n"
      ],
      "text/plain": [
       "\u001b[1;36m6509222\u001b[0m\n"
      ]
     },
     "metadata": {},
     "output_type": "display_data"
    }
   ],
   "source": [
    "len(user_item)"
   ]
  },
  {
   "cell_type": "markdown",
   "id": "2b9a2536-e3a1-4502-966d-fe66c3e95718",
   "metadata": {},
   "source": [
    "### Train Model"
   ]
  },
  {
   "cell_type": "code",
   "execution_count": 15,
   "id": "7f68301a-34ec-4fe8-97b2-e811ee2280d6",
   "metadata": {},
   "outputs": [
    {
     "name": "stderr",
     "output_type": "stream",
     "text": [
      "2022-12-05 19:11:03,248 [INFO] Prediction progress: 100%\n"
     ]
    }
   ],
   "source": [
    "model_manager  = ml.ModelManager(\n",
    "    file_path  = INPUT_INTERACTIONS_PATH,\n",
    "    model      = SVD()\n",
    ")\n",
    "model_manager.train()\n",
    "\n",
    "model_manager.predict_inplase(user_item)\n",
    "\n",
    "complete_interactions = ut.concat(interactions, user_item)"
   ]
  },
  {
   "cell_type": "code",
   "execution_count": 16,
   "id": "eef17f07-f3de-4061-b6cb-9e2d17201311",
   "metadata": {},
   "outputs": [
    {
     "name": "stderr",
     "output_type": "stream",
     "text": [
      "2022-12-05 19:14:44,219 [INFO] Processing: 99%\n"
     ]
    }
   ],
   "source": [
    "rating_matrix = ctx.interaction_service.to_matrix(complete_interactions)"
   ]
  },
  {
   "cell_type": "code",
   "execution_count": 17,
   "id": "1bb47cba-5b89-40f0-9bc0-b62b3712b599",
   "metadata": {},
   "outputs": [],
   "source": [
    "ut.Picket.save(f'{TEMP_PATH}/rating_matrix', rating_matrix)"
   ]
  },
  {
   "cell_type": "code",
   "execution_count": null,
   "id": "33d38b49-d827-4844-a630-3c3f4876e750",
   "metadata": {},
   "outputs": [],
   "source": [
    "# sns.heatmap(rating_matrix.toarray())"
   ]
  }
 ],
 "metadata": {
  "kernelspec": {
   "display_name": "Python 3 (ipykernel)",
   "language": "python",
   "name": "python3"
  },
  "language_info": {
   "codemirror_mode": {
    "name": "ipython",
    "version": 3
   },
   "file_extension": ".py",
   "mimetype": "text/x-python",
   "name": "python",
   "nbconvert_exporter": "python",
   "pygments_lexer": "ipython3",
   "version": "3.10.6"
  },
  "widgets": {
   "application/vnd.jupyter.widget-state+json": {
    "state": {},
    "version_major": 2,
    "version_minor": 0
   }
  }
 },
 "nbformat": 4,
 "nbformat_minor": 5
}
