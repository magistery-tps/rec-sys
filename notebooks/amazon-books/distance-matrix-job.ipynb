{
 "cells": [
  {
   "cell_type": "markdown",
   "id": "0417277b-47df-4113-a7b3-8f960db06f1d",
   "metadata": {
    "tags": []
   },
   "source": [
    "# Distance Matrix Job"
   ]
  },
  {
   "cell_type": "code",
   "execution_count": 30,
   "id": "8dde5e70-5b86-460f-8791-20fcb554c378",
   "metadata": {},
   "outputs": [
    {
     "name": "stdout",
     "output_type": "stream",
     "text": [
      "The autoreload extension is already loaded. To reload it, use:\n",
      "  %reload_ext autoreload\n"
     ]
    }
   ],
   "source": [
    "%load_ext autoreload\n",
    "%autoreload 2"
   ]
  },
  {
   "cell_type": "code",
   "execution_count": 31,
   "id": "f98e7bf4-f41a-43f6-b7b7-a991d00f82de",
   "metadata": {},
   "outputs": [],
   "source": [
    "import sys\n",
    "sys.path.append('../../src')\n",
    "\n",
    "from domain_context import DomainContext"
   ]
  },
  {
   "cell_type": "markdown",
   "id": "3b17de78-c722-47bd-accb-dbd6d811c954",
   "metadata": {
    "tags": []
   },
   "source": [
    "### Setup"
   ]
  },
  {
   "cell_type": "code",
   "execution_count": null,
   "id": "c70a9b41-9bcb-49f4-b796-69c658a7a9e5",
   "metadata": {},
   "outputs": [],
   "source": [
    "TEMP_PATH = '../../temp'\n",
    "HOST      = 'http://localhost:8000'\n",
    "API_TOKEN = 'e3ff025094fe0ee474501bbeda0a2a44e80230c1'\n",
    "\n",
    "ctx = DomainContext(API_TOKEN, HOST, TEMP_PATH)"
   ]
  },
  {
   "cell_type": "markdown",
   "id": "40c1da33-a8da-47c9-b174-0b0885b05b50",
   "metadata": {
    "tags": []
   },
   "source": [
    "### Execute jobs"
   ]
  },
  {
   "cell_type": "code",
   "execution_count": 36,
   "id": "11081fe2-c7df-422c-a75b-52ea77e6c7c8",
   "metadata": {},
   "outputs": [
    {
     "name": "stderr",
     "output_type": "stream",
     "text": [
      "2022-12-19 21:44:26,614 [INFO] Start SurpriseDistanceMatrixJob\n",
      "2022-12-19 21:44:29,240 [INFO] - Page 1/2 - Interactions 50000/96605\n",
      "2022-12-19 21:44:31,803 [INFO] - Page 2/2 - Interactions 96605/96605\n",
      "2022-12-19 21:44:31,804 [INFO] - 96605 Total Interactions \n",
      "2022-12-19 21:44:31,951 [INFO] Filter by rating scale: [1, 2, 3, 4, 5]\n",
      "2022-12-19 21:44:31,958 [INFO] Filtered: 100.0%\n",
      "2022-12-19 21:44:31,959 [INFO] Filter interactions by user_n_interactions >= 20\n",
      "2022-12-19 21:44:31,963 [INFO] Filtered interactions: 95.2%\n",
      "2022-12-19 21:44:31,964 [INFO] Excluded interactions: 4682\n",
      "2022-12-19 21:44:45,446 [INFO] Unrated interactions: 97.4%\n",
      "2022-12-19 21:44:45,537 [INFO] Train interactions: 91923 - Users: 1098, Items: 3139\n",
      "2022-12-19 21:44:45,558 [INFO] Future interactions: 3355886 - Users: 1098, Items: 3139\n",
      "2022-12-19 21:44:45,560 [INFO] Rating Scale: (1, 5)\n",
      "2022-12-19 21:44:45,600 [INFO] SVD Training...\n",
      "2022-12-19 21:44:55,209 [INFO] SVD Rating Prediction... 10%\n",
      "2022-12-19 21:45:04,433 [INFO] SVD Rating Prediction... 20%\n",
      "2022-12-19 21:45:13,165 [INFO] SVD Rating Prediction... 30%\n",
      "2022-12-19 21:45:21,724 [INFO] SVD Rating Prediction... 40%\n",
      "2022-12-19 21:45:30,470 [INFO] SVD Rating Prediction... 50%\n",
      "2022-12-19 21:45:39,287 [INFO] SVD Rating Prediction... 60%\n",
      "2022-12-19 21:45:48,477 [INFO] SVD Rating Prediction... 70%\n",
      "2022-12-19 21:45:57,626 [INFO] SVD Rating Prediction... 80%\n",
      "2022-12-19 21:46:06,712 [INFO] SVD Rating Prediction... 90%\n",
      "2022-12-19 21:46:16,023 [INFO] SVD Rating Prediction... 100%\n",
      "2022-12-19 21:46:16,402 [INFO] Train + Predited interactions: 3447809 - Users: 1098, Items: 3139\n",
      "2022-12-19 21:46:16,403 [INFO] Compute interactions sparse RatingMatrixType.USER_ITEM matrix...\n",
      "2022-12-19 21:46:28,788 [INFO] Buiding matrix(1572, 3138)... 10%\n",
      "2022-12-19 21:46:41,303 [INFO] Buiding matrix(1572, 3138)... 20%\n",
      "2022-12-19 21:46:53,714 [INFO] Buiding matrix(1572, 3138)... 30%\n",
      "2022-12-19 21:47:06,389 [INFO] Buiding matrix(1572, 3138)... 40%\n",
      "2022-12-19 21:47:18,698 [INFO] Buiding matrix(1572, 3138)... 50%\n",
      "2022-12-19 21:47:31,250 [INFO] Buiding matrix(1572, 3138)... 60%\n",
      "2022-12-19 21:47:43,721 [INFO] Buiding matrix(1572, 3138)... 70%\n",
      "2022-12-19 21:47:56,145 [INFO] Buiding matrix(1572, 3138)... 80%\n",
      "2022-12-19 21:48:08,492 [INFO] Buiding matrix(1572, 3138)... 90%\n",
      "2022-12-19 21:48:20,999 [INFO] Buiding matrix(1572, 3138)... 100%\n",
      "2022-12-19 21:48:21,362 [INFO] Compute user_seq combinations...\n",
      "2022-12-19 21:48:21,400 [INFO] user_id combinations...1236378\n",
      "2022-12-19 21:48:21,401 [INFO] Compute user_seq embeddings(size: 3138)...\n",
      "2022-12-19 21:48:21,771 [INFO] Compute user_id similarities...\n",
      "\n",
      "100%|█████████████████████████████████████████████████████████████████████████████████████████████████████████████████████████████████████████████████████████████████████████████████████████████████████████████████████████████████████████████████████████████████████████████| 1236378/1236378 [00:11<00:00, 106194.06it/s]\n",
      "2022-12-19 21:48:34,950 [INFO] Compute item_seq combinations...\n",
      "2022-12-19 21:48:35,092 [INFO] item_id combinations...4925091\n",
      "2022-12-19 21:48:35,092 [INFO] Compute item_seq embeddings(size: 1572)...\n",
      "2022-12-19 21:48:43,024 [INFO] Compute item_id similarities...\n",
      "\n",
      "100%|█████████████████████████████████████████████████████████████████████████████████████████████████████████████████████████████████████████████████████████████████████████████████████████████████████████████████████████████████████████████████████████████████████████████| 4925091/4925091 [00:40<00:00, 121145.18it/s]\n",
      "2022-12-19 21:49:28,462 [INFO] - Page 2/1 - Similarity_matrix 2/2\n",
      "2022-12-19 21:49:28,462 [INFO] - 2 Total Similarity_matrix \n",
      "2022-12-19 21:49:28,463 [INFO] Already exists SVD-user-to-user SimilarityMatrixType.USER_TO_USER matrix.\n",
      "2022-12-19 21:49:29,275 [INFO] Filtered: 77375/1236378 (93.7%)\n",
      "2022-12-19 21:49:29,313 [INFO] Page 1/8 - Items 10000/77375\n",
      "2022-12-19 21:49:34,388 [INFO] Page 2/8 - Items 20000/77375\n",
      "2022-12-19 21:49:39,663 [INFO] Page 3/8 - Items 30000/77375\n",
      "2022-12-19 21:49:44,796 [INFO] Page 4/8 - Items 40000/77375\n",
      "2022-12-19 21:49:50,058 [INFO] Page 5/8 - Items 50000/77375\n",
      "2022-12-19 21:49:55,358 [INFO] Page 6/8 - Items 60000/77375\n",
      "2022-12-19 21:50:00,449 [INFO] Page 7/8 - Items 70000/77375\n",
      "2022-12-19 21:50:05,577 [INFO] Page 8/8 - Items 7375/77375\n",
      "2022-12-19 21:50:09,587 [INFO] Totals - Pages 8 - Items 77375\n",
      "2022-12-19 21:50:09,654 [INFO] - Page 2/1 - Similarity_matrix 2/2\n",
      "2022-12-19 21:50:09,654 [INFO] - 2 Total Similarity_matrix \n",
      "2022-12-19 21:50:09,654 [INFO] Already exists SVD-item-to-item SimilarityMatrixType.ITEM_TO_ITEM matrix.\n",
      "2022-12-19 21:50:13,996 [INFO] Filtered: 155675/4925091 (96.8%)\n",
      "2022-12-19 21:50:14,065 [INFO] Page 1/16 - Items 10000/155675\n",
      "2022-12-19 21:50:19,069 [INFO] Page 2/16 - Items 20000/155675\n",
      "2022-12-19 21:50:24,288 [INFO] Page 3/16 - Items 30000/155675\n",
      "2022-12-19 21:50:29,236 [INFO] Page 4/16 - Items 40000/155675\n",
      "2022-12-19 21:50:34,657 [INFO] Page 5/16 - Items 50000/155675\n",
      "2022-12-19 21:50:39,969 [INFO] Page 6/16 - Items 60000/155675\n",
      "2022-12-19 21:50:45,053 [INFO] Page 7/16 - Items 70000/155675\n",
      "2022-12-19 21:50:50,286 [INFO] Page 8/16 - Items 80000/155675\n",
      "2022-12-19 21:50:55,375 [INFO] Page 9/16 - Items 90000/155675\n",
      "2022-12-19 21:51:00,509 [INFO] Page 10/16 - Items 100000/155675\n",
      "2022-12-19 21:51:05,609 [INFO] Page 11/16 - Items 110000/155675\n",
      "2022-12-19 21:51:10,818 [INFO] Page 12/16 - Items 120000/155675\n",
      "2022-12-19 21:51:15,838 [INFO] Page 13/16 - Items 130000/155675\n",
      "2022-12-19 21:51:20,954 [INFO] Page 14/16 - Items 140000/155675\n",
      "2022-12-19 21:51:26,097 [INFO] Page 15/16 - Items 150000/155675\n",
      "2022-12-19 21:51:31,091 [INFO] Page 16/16 - Items 5675/155675\n",
      "2022-12-19 21:51:33,906 [INFO] Totals - Pages 16 - Items 155675\n",
      "2022-12-19 21:51:33,934 [INFO] - Page 2/1 - Recommenders 1/1\n",
      "2022-12-19 21:51:33,934 [INFO] - 1 Total Recommenders \n",
      "2022-12-19 21:51:33,935 [INFO] Already exists SVD recommender.\n",
      "2022-12-19 21:51:34,021 [INFO] Finish SurpriseDistanceMatrixJob. Elapsec time: 0:07:07.41\n"
     ]
    }
   ],
   "source": [
    "ctx.svd_distance_matrix_job.execute()"
   ]
  },
  {
   "cell_type": "code",
   "execution_count": 35,
   "id": "301b85cf-e134-4d5f-ad87-29cbf58bbdcc",
   "metadata": {},
   "outputs": [
    {
     "name": "stderr",
     "output_type": "stream",
     "text": [
      "2022-12-19 21:37:13,826 [INFO] Start SurpriseDistanceMatrixJob\n",
      "2022-12-19 21:37:16,265 [INFO] - Page 1/2 - Interactions 50000/96605\n",
      "2022-12-19 21:37:18,508 [INFO] - Page 2/2 - Interactions 96605/96605\n",
      "2022-12-19 21:37:18,509 [INFO] - 96605 Total Interactions \n",
      "2022-12-19 21:37:18,828 [INFO] Filter by rating scale: [1, 2, 3, 4, 5]\n",
      "2022-12-19 21:37:18,835 [INFO] Filtered: 100.0%\n",
      "2022-12-19 21:37:18,835 [INFO] Filter interactions by user_n_interactions >= 20\n",
      "2022-12-19 21:37:18,839 [INFO] Filtered interactions: 95.2%\n",
      "2022-12-19 21:37:18,840 [INFO] Excluded interactions: 4682\n",
      "2022-12-19 21:37:31,900 [INFO] Unrated interactions: 97.4%\n",
      "2022-12-19 21:37:31,984 [INFO] Train interactions: 91923 - Users: 1098, Items: 3139\n",
      "2022-12-19 21:37:32,004 [INFO] Future interactions: 3355886 - Users: 1098, Items: 3139\n",
      "2022-12-19 21:37:32,006 [INFO] Rating Scale: (1, 5)\n",
      "2022-12-19 21:37:32,046 [INFO] NMF Training...\n",
      "2022-12-19 21:37:41,966 [INFO] NMF Rating Prediction... 10%\n",
      "2022-12-19 21:37:50,833 [INFO] NMF Rating Prediction... 20%\n",
      "2022-12-19 21:38:00,009 [INFO] NMF Rating Prediction... 30%\n",
      "2022-12-19 21:38:09,064 [INFO] NMF Rating Prediction... 40%\n",
      "2022-12-19 21:38:18,490 [INFO] NMF Rating Prediction... 50%\n",
      "2022-12-19 21:38:28,117 [INFO] NMF Rating Prediction... 60%\n",
      "2022-12-19 21:38:37,692 [INFO] NMF Rating Prediction... 70%\n",
      "2022-12-19 21:38:47,264 [INFO] NMF Rating Prediction... 80%\n",
      "2022-12-19 21:38:56,691 [INFO] NMF Rating Prediction... 90%\n",
      "2022-12-19 21:39:06,283 [INFO] NMF Rating Prediction... 100%\n",
      "2022-12-19 21:39:06,664 [INFO] Train + Predited interactions: 3447809 - Users: 1098, Items: 3139\n",
      "2022-12-19 21:39:06,665 [INFO] Compute interactions sparse RatingMatrixType.USER_ITEM matrix...\n",
      "2022-12-19 21:39:18,743 [INFO] Buiding matrix(1572, 3138)... 10%\n",
      "2022-12-19 21:39:30,546 [INFO] Buiding matrix(1572, 3138)... 20%\n",
      "2022-12-19 21:39:42,172 [INFO] Buiding matrix(1572, 3138)... 30%\n",
      "2022-12-19 21:39:53,622 [INFO] Buiding matrix(1572, 3138)... 40%\n",
      "2022-12-19 21:40:05,328 [INFO] Buiding matrix(1572, 3138)... 50%\n",
      "2022-12-19 21:40:17,254 [INFO] Buiding matrix(1572, 3138)... 60%\n",
      "2022-12-19 21:40:28,972 [INFO] Buiding matrix(1572, 3138)... 70%\n",
      "2022-12-19 21:40:40,643 [INFO] Buiding matrix(1572, 3138)... 80%\n",
      "2022-12-19 21:40:52,211 [INFO] Buiding matrix(1572, 3138)... 90%\n",
      "2022-12-19 21:41:03,914 [INFO] Buiding matrix(1572, 3138)... 100%\n",
      "2022-12-19 21:41:04,279 [INFO] Compute user_seq combinations...\n",
      "2022-12-19 21:41:04,316 [INFO] user_id combinations...1236378\n",
      "2022-12-19 21:41:04,317 [INFO] Compute user_seq embeddings(size: 3138)...\n",
      "2022-12-19 21:41:04,669 [INFO] Compute user_id similarities...\n",
      "\n",
      "100%|█████████████████████████████████████████████████████████████████████████████████████████████████████████████████████████████████████████████████████████████████████████████████████████████████████████████████████████████████████████████████████████████████████████████| 1236378/1236378 [00:11<00:00, 106737.79it/s]\n",
      "2022-12-19 21:41:17,657 [INFO] Compute item_seq combinations...\n",
      "2022-12-19 21:41:17,812 [INFO] item_id combinations...4925091\n",
      "2022-12-19 21:41:17,813 [INFO] Compute item_seq embeddings(size: 1572)...\n",
      "2022-12-19 21:41:25,842 [INFO] Compute item_id similarities...\n",
      "\n",
      "100%|█████████████████████████████████████████████████████████████████████████████████████████████████████████████████████████████████████████████████████████████████████████████████████████████████████████████████████████████████████████████████████████████████████████████| 4925091/4925091 [00:41<00:00, 119095.86it/s]\n",
      "2022-12-19 21:42:12,043 [INFO] - Page 2/1 - Similarity_matrix 1/1\n",
      "2022-12-19 21:42:12,043 [INFO] - 1 Total Similarity_matrix \n",
      "2022-12-19 21:42:12,044 [INFO] Insert NMF-user-to-user SimilarityMatrixType.USER_TO_USER matrix.\n",
      "2022-12-19 21:42:12,946 [INFO] Filtered: 77375/1236378 (93.7%)\n",
      "2022-12-19 21:42:12,980 [INFO] Page 1/8 - Items 10000/77375\n",
      "2022-12-19 21:42:18,273 [INFO] Page 2/8 - Items 20000/77375\n",
      "2022-12-19 21:42:23,464 [INFO] Page 3/8 - Items 30000/77375\n",
      "2022-12-19 21:42:28,596 [INFO] Page 4/8 - Items 40000/77375\n",
      "2022-12-19 21:42:33,833 [INFO] Page 5/8 - Items 50000/77375\n",
      "2022-12-19 21:42:38,838 [INFO] Page 6/8 - Items 60000/77375\n",
      "2022-12-19 21:42:43,883 [INFO] Page 7/8 - Items 70000/77375\n",
      "2022-12-19 21:42:48,898 [INFO] Page 8/8 - Items 7375/77375\n",
      "2022-12-19 21:42:52,537 [INFO] Totals - Pages 8 - Items 77375\n",
      "2022-12-19 21:42:52,604 [INFO] - Page 2/1 - Similarity_matrix 1/1\n",
      "2022-12-19 21:42:52,604 [INFO] - 1 Total Similarity_matrix \n",
      "2022-12-19 21:42:52,605 [INFO] Insert NMF-item-to-item SimilarityMatrixType.ITEM_TO_ITEM matrix.\n",
      "2022-12-19 21:42:57,135 [INFO] Filtered: 155675/4925091 (96.8%)\n",
      "2022-12-19 21:42:57,204 [INFO] Page 1/16 - Items 10000/155675\n",
      "2022-12-19 21:43:02,494 [INFO] Page 2/16 - Items 20000/155675\n",
      "2022-12-19 21:43:07,480 [INFO] Page 3/16 - Items 30000/155675\n",
      "2022-12-19 21:43:13,326 [INFO] Page 4/16 - Items 40000/155675\n",
      "2022-12-19 21:43:18,462 [INFO] Page 5/16 - Items 50000/155675\n",
      "2022-12-19 21:43:23,614 [INFO] Page 6/16 - Items 60000/155675\n",
      "2022-12-19 21:43:28,716 [INFO] Page 7/16 - Items 70000/155675\n",
      "2022-12-19 21:43:33,984 [INFO] Page 8/16 - Items 80000/155675\n",
      "2022-12-19 21:43:39,119 [INFO] Page 9/16 - Items 90000/155675\n",
      "2022-12-19 21:43:44,313 [INFO] Page 10/16 - Items 100000/155675\n",
      "2022-12-19 21:43:49,745 [INFO] Page 11/16 - Items 110000/155675\n",
      "2022-12-19 21:43:54,991 [INFO] Page 12/16 - Items 120000/155675\n",
      "2022-12-19 21:44:00,477 [INFO] Page 13/16 - Items 130000/155675\n",
      "2022-12-19 21:44:05,814 [INFO] Page 14/16 - Items 140000/155675\n",
      "2022-12-19 21:44:11,008 [INFO] Page 15/16 - Items 150000/155675\n",
      "2022-12-19 21:44:16,194 [INFO] Page 16/16 - Items 5675/155675\n",
      "2022-12-19 21:44:19,123 [INFO] Totals - Pages 16 - Items 155675\n",
      "2022-12-19 21:44:19,152 [INFO] - Page 2/0 - Recommenders 0/0\n",
      "2022-12-19 21:44:19,152 [INFO] - 0 Total Recommenders \n",
      "2022-12-19 21:44:19,153 [INFO] Insert NMF recommender.\n",
      "2022-12-19 21:44:19,244 [INFO] Finish SurpriseDistanceMatrixJob. Elapsec time: 0:07:05.42\n"
     ]
    }
   ],
   "source": [
    "ctx.nmf_distance_matrix_job.execute()"
   ]
  }
 ],
 "metadata": {
  "kernelspec": {
   "display_name": "Python 3 (ipykernel)",
   "language": "python",
   "name": "python3"
  },
  "language_info": {
   "codemirror_mode": {
    "name": "ipython",
    "version": 3
   },
   "file_extension": ".py",
   "mimetype": "text/x-python",
   "name": "python",
   "nbconvert_exporter": "python",
   "pygments_lexer": "ipython3",
   "version": "3.10.6"
  },
  "widgets": {
   "application/vnd.jupyter.widget-state+json": {
    "state": {},
    "version_major": 2,
    "version_minor": 0
   }
  }
 },
 "nbformat": 4,
 "nbformat_minor": 5
}
