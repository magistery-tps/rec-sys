{
 "cells": [
  {
   "cell_type": "markdown",
   "id": "0417277b-47df-4113-a7b3-8f960db06f1d",
   "metadata": {
    "tags": []
   },
   "source": [
    "# Distance Matrix Job"
   ]
  },
  {
   "cell_type": "code",
   "execution_count": 1,
   "id": "8dde5e70-5b86-460f-8791-20fcb554c378",
   "metadata": {},
   "outputs": [],
   "source": [
    "%load_ext autoreload\n",
    "%autoreload 2"
   ]
  },
  {
   "cell_type": "code",
   "execution_count": 2,
   "id": "f98e7bf4-f41a-43f6-b7b7-a991d00f82de",
   "metadata": {},
   "outputs": [],
   "source": [
    "import sys\n",
    "sys.path.append('../../src')\n",
    "\n",
    "import numpy as np\n",
    "import pandas as pd\n",
    "from surprise import SVD\n",
    "\n",
    "import util as ut\n",
    "from domain_context import DomainContext\n",
    "\n",
    "import api"
   ]
  },
  {
   "cell_type": "code",
   "execution_count": 3,
   "id": "c7853d0e-0e7a-48ac-9b25-50c659a30c38",
   "metadata": {},
   "outputs": [],
   "source": [
    "TEMP_PATH                    = '../../temp'\n",
    "USER_ITEM_RATING_MATRIX_PATH = f'{TEMP_PATH}/user_item_rating_matrix'\n",
    "USER_SIMILARITIES_PATH       = f'{TEMP_PATH}/user_similarities.csv'\n",
    "ITEM_SIMILARITIES_PATH       = f'{TEMP_PATH}/item_similarities.csv'\n",
    "\n",
    "HOST                         = 'http://localhost:8000'\n",
    "API_TOKEN                    = 'e3ff025094fe0ee474501bbeda0a2a44e80230c1'\n",
    "\n",
    "GENERATE_RATING_MATRIX       = False\n",
    "GENERATE_USER_SIMILARITIES   = False\n",
    "GENERATE_ITEM_SIMILARITIES   = False"
   ]
  },
  {
   "cell_type": "markdown",
   "id": "3b17de78-c722-47bd-accb-dbd6d811c954",
   "metadata": {
    "tags": []
   },
   "source": [
    "### Setup"
   ]
  },
  {
   "cell_type": "code",
   "execution_count": 4,
   "id": "c350e8e2-c246-4680-9230-c3f3275f74de",
   "metadata": {},
   "outputs": [],
   "source": [
    "!mkdir -p {TEMP_PATH}"
   ]
  },
  {
   "cell_type": "code",
   "execution_count": 5,
   "id": "c70a9b41-9bcb-49f4-b796-69c658a7a9e5",
   "metadata": {},
   "outputs": [],
   "source": [
    "ctx = DomainContext(API_TOKEN, HOST)"
   ]
  },
  {
   "cell_type": "markdown",
   "id": "40c1da33-a8da-47c9-b174-0b0885b05b50",
   "metadata": {},
   "source": [
    "### Get interactions"
   ]
  },
  {
   "cell_type": "code",
   "execution_count": 6,
   "id": "7c811f1f-02ef-4ef1-9513-cf5a7ca87e14",
   "metadata": {},
   "outputs": [
    {
     "name": "stderr",
     "output_type": "stream",
     "text": [
      "2022-12-13 00:15:47,562 [INFO] - Page 1/2 - Interactions 50000/96605\n",
      "2022-12-13 00:15:49,784 [INFO] - Page 2/2 - Interactions 96605/96605\n",
      "2022-12-13 00:15:49,785 [INFO] - 96605 Total Interactions \n"
     ]
    }
   ],
   "source": [
    "interactions = ctx.interaction_service.find_all()\n",
    "# ctx.interaction_service.plot_n_users_by_item(interactions)"
   ]
  },
  {
   "cell_type": "markdown",
   "id": "2b9a2536-e3a1-4502-966d-fe66c3e95718",
   "metadata": {},
   "source": [
    "### Compute Rating Matrix"
   ]
  },
  {
   "cell_type": "code",
   "execution_count": 7,
   "id": "eef17f07-f3de-4061-b6cb-9e2d17201311",
   "metadata": {},
   "outputs": [],
   "source": [
    "if GENERATE_RATING_MATRIX:\n",
    "    rating_matrix = ctx.rating_matrix_service.compute(\n",
    "        interactions, \n",
    "        model = SVD()\n",
    "    )\n",
    "    ut.Picket.save(USER_ITEM_RATING_MATRIX_PATH, rating_matrix)\n",
    "else:\n",
    "    rating_matrix = ut.Picket.load(USER_ITEM_RATING_MATRIX_PATH)"
   ]
  },
  {
   "cell_type": "code",
   "execution_count": 8,
   "id": "7612f38d-ed92-42fc-94ce-07045326bb5e",
   "metadata": {},
   "outputs": [
    {
     "name": "stdout",
     "output_type": "stream",
     "text": [
      "40M\t../../temp/user_item_rating_matrix.pickle\n"
     ]
    }
   ],
   "source": [
    "!du -h {USER_ITEM_RATING_MATRIX_PATH}.pickle"
   ]
  },
  {
   "cell_type": "markdown",
   "id": "732660f5-6230-41c7-a971-68bc61331af3",
   "metadata": {},
   "source": [
    "### Compute User-User and Item-Item similarity matrix"
   ]
  },
  {
   "cell_type": "code",
   "execution_count": 9,
   "id": "66233890-aa0f-46a5-afaf-35e39b104d60",
   "metadata": {
    "tags": []
   },
   "outputs": [],
   "source": [
    "if GENERATE_USER_SIMILARITIES:\n",
    "    user_similarities = ctx.similarity_service.similarities(\n",
    "        rating_matrix,\n",
    "        row_ids   = interactions.user_id.unique(),\n",
    "        entity    = 'user',\n",
    "        n_workers = 10,\n",
    "        chunks    = 10_000\n",
    "    )\n",
    "    ut.save(user_similarities, USER_SIMILARITIES_PATH)\n",
    "else:\n",
    "    user_similarities = ut.load(USER_SIMILARITIES_PATH) "
   ]
  },
  {
   "cell_type": "code",
   "execution_count": 10,
   "id": "fdfa3ce7-5ac0-4e19-b90b-d683989777de",
   "metadata": {},
   "outputs": [
    {
     "name": "stdout",
     "output_type": "stream",
     "text": [
      "24M\t../../temp/user_similarities.csv\n"
     ]
    }
   ],
   "source": [
    "!du -h {USER_SIMILARITIES_PATH}"
   ]
  },
  {
   "cell_type": "code",
   "execution_count": 11,
   "id": "4a889f41-422c-4c10-9740-d26a584ecee5",
   "metadata": {},
   "outputs": [],
   "source": [
    "if GENERATE_ITEM_SIMILARITIES:\n",
    "    item_similarities = ctx.similarity_service.similarities(\n",
    "        rating_matrix.transpose(),\n",
    "        row_ids   = interactions.item_id.unique(),\n",
    "        entity    = 'item',\n",
    "        n_workers = 10,\n",
    "        chunks    = 10_000\n",
    "    )\n",
    "    ut.save(item_similarities, ITEM_SIMILARITIES_PATH)\n",
    "else:\n",
    "    item_similarities = ut.load(ITEM_SIMILARITIES_PATH)"
   ]
  },
  {
   "cell_type": "code",
   "execution_count": 12,
   "id": "c2158b18-b501-4d7b-9f13-9155b9dfe023",
   "metadata": {},
   "outputs": [
    {
     "name": "stdout",
     "output_type": "stream",
     "text": [
      "151M\t../../temp/item_similarities.csv\n"
     ]
    }
   ],
   "source": [
    "!du -h {ITEM_SIMILARITIES_PATH}"
   ]
  },
  {
   "cell_type": "markdown",
   "id": "22fc66c9-6190-45e5-bf04-b2b3b034ff5c",
   "metadata": {},
   "source": [
    "Filter N most similarity users fofr each user (Same for items):"
   ]
  },
  {
   "cell_type": "code",
   "execution_count": 13,
   "id": "eef6e18a-b03e-4eec-8526-354958680d02",
   "metadata": {},
   "outputs": [
    {
     "name": "stderr",
     "output_type": "stream",
     "text": [
      "2022-12-13 00:15:52,147 [INFO] Filtered: 77925/1253736 (93.8%)\n"
     ]
    }
   ],
   "source": [
    "user_most_similarities = ctx.similarity_service.filter_most_similars(\n",
    "    user_similarities, \n",
    "    column = 'user_a', \n",
    "    n      = 50\n",
    ")"
   ]
  },
  {
   "cell_type": "code",
   "execution_count": 14,
   "id": "46a15862-dccb-43ae-bb30-e03b7a90491b",
   "metadata": {},
   "outputs": [
    {
     "name": "stderr",
     "output_type": "stream",
     "text": [
      "2022-12-13 00:15:56,909 [INFO] Filtered: 155675/4925091 (96.8%)\n"
     ]
    }
   ],
   "source": [
    "item_most_similarities = ctx.similarity_service.filter_most_similars(\n",
    "    item_similarities, \n",
    "    column = 'item_a',\n",
    "    n      = 50\n",
    ")"
   ]
  },
  {
   "cell_type": "code",
   "execution_count": 15,
   "id": "07fabba7-8cdc-4e2f-adb3-01a2f9cd4302",
   "metadata": {},
   "outputs": [
    {
     "name": "stderr",
     "output_type": "stream",
     "text": [
      "2022-12-13 00:15:56,939 [INFO] - Page 2/0 - Similarity_matrix 0/0\n",
      "2022-12-13 00:15:56,940 [INFO] - 0 Total Similarity_matrix \n",
      "2022-12-13 00:15:56,940 [INFO] Insert SVD-user-to-user SimilarityMatrixType.USER_TO_USER matrix.\n",
      "2022-12-13 00:15:57,028 [INFO] Page 1/8 - Items 10000/77925\n",
      "2022-12-13 00:16:02,084 [INFO] Page 2/8 - Items 20000/77925\n",
      "2022-12-13 00:16:07,196 [INFO] Page 3/8 - Items 30000/77925\n",
      "2022-12-13 00:16:12,073 [INFO] Page 4/8 - Items 40000/77925\n",
      "2022-12-13 00:16:17,032 [INFO] Page 5/8 - Items 50000/77925\n",
      "2022-12-13 00:16:21,737 [INFO] Page 6/8 - Items 60000/77925\n",
      "2022-12-13 00:16:26,424 [INFO] Page 7/8 - Items 70000/77925\n",
      "2022-12-13 00:16:31,297 [INFO] Page 8/8 - Items 7925/77925\n",
      "2022-12-13 00:16:35,068 [INFO] Totals - Pages 8 - Items 77925\n"
     ]
    },
    {
     "data": {
      "text/html": [
       "<pre style=\"white-space:pre;overflow-x:auto;line-height:normal;font-family:Menlo,'DejaVu Sans Mono',consolas,'Courier New',monospace\">\n",
       "<span style=\"font-weight: bold\">{</span>\n",
       "    <span style=\"color: #008000; text-decoration-color: #008000\">\"id\"</span>: <span style=\"color: #008080; text-decoration-color: #008080; font-weight: bold\">29</span>,\n",
       "    <span style=\"color: #008000; text-decoration-color: #008000\">\"name\"</span>: <span style=\"color: #008000; text-decoration-color: #008000\">\"SVD-user-to-user\"</span>,\n",
       "    <span style=\"color: #008000; text-decoration-color: #008000\">\"type\"</span>: <span style=\"color: #008000; text-decoration-color: #008000\">\"SimilarityMatrixType.USER_TO_USER\"</span>,\n",
       "    <span style=\"color: #008000; text-decoration-color: #008000\">\"description\"</span>: <span style=\"color: #008000; text-decoration-color: #008000\">\"SVD-user-to-user\"</span>,\n",
       "    <span style=\"color: #008000; text-decoration-color: #008000\">\"version\"</span>: <span style=\"color: #008080; text-decoration-color: #008080; font-weight: bold\">1</span>\n",
       "<span style=\"font-weight: bold\">}</span>\n",
       "</pre>\n"
      ],
      "text/plain": [
       "\n",
       "\u001b[1m{\u001b[0m\n",
       "    \u001b[32m\"id\"\u001b[0m: \u001b[1;36m29\u001b[0m,\n",
       "    \u001b[32m\"name\"\u001b[0m: \u001b[32m\"SVD-user-to-user\"\u001b[0m,\n",
       "    \u001b[32m\"type\"\u001b[0m: \u001b[32m\"SimilarityMatrixType.USER_TO_USER\"\u001b[0m,\n",
       "    \u001b[32m\"description\"\u001b[0m: \u001b[32m\"SVD-user-to-user\"\u001b[0m,\n",
       "    \u001b[32m\"version\"\u001b[0m: \u001b[1;36m1\u001b[0m\n",
       "\u001b[1m}\u001b[0m\n"
      ]
     },
     "metadata": {},
     "output_type": "display_data"
    }
   ],
   "source": [
    "user_similarity_matrix = ctx.similarity_matrix_service.create_or_get(\n",
    "    name = 'SVD-user-to-user',\n",
    "    type = api.SimilarityMatrixType.USER_TO_USER\n",
    ")\n",
    "\n",
    "user_similarity_matrix.version += 1\n",
    "cells = user_most_similarities.rename(columns={'user_a': 'row', 'user_b': 'column'})\n",
    "\n",
    "ctx.similarity_matrix_service.add_cells(user_similarity_matrix, cells)\n",
    "ctx.similarity_matrix_service.update(user_similarity_matrix)"
   ]
  },
  {
   "cell_type": "code",
   "execution_count": 16,
   "id": "b346d404-fa7a-4490-a63e-ed31576ac126",
   "metadata": {},
   "outputs": [
    {
     "name": "stderr",
     "output_type": "stream",
     "text": [
      "2022-12-13 00:16:35,150 [INFO] - Page 2/0 - Similarity_matrix 0/0\n",
      "2022-12-13 00:16:35,151 [INFO] - 0 Total Similarity_matrix \n",
      "2022-12-13 00:16:35,151 [INFO] Insert SVD-item-to-item SimilarityMatrixType.ITEM_TO_ITEM matrix.\n",
      "2022-12-13 00:16:35,239 [INFO] Page 1/16 - Items 10000/155675\n",
      "2022-12-13 00:16:39,956 [INFO] Page 2/16 - Items 20000/155675\n",
      "2022-12-13 00:16:44,809 [INFO] Page 3/16 - Items 30000/155675\n",
      "2022-12-13 00:16:49,679 [INFO] Page 4/16 - Items 40000/155675\n",
      "2022-12-13 00:16:54,578 [INFO] Page 5/16 - Items 50000/155675\n",
      "2022-12-13 00:16:59,310 [INFO] Page 6/16 - Items 60000/155675\n",
      "2022-12-13 00:17:04,350 [INFO] Page 7/16 - Items 70000/155675\n",
      "2022-12-13 00:17:09,306 [INFO] Page 8/16 - Items 80000/155675\n",
      "2022-12-13 00:17:14,324 [INFO] Page 9/16 - Items 90000/155675\n",
      "2022-12-13 00:17:19,319 [INFO] Page 10/16 - Items 100000/155675\n",
      "2022-12-13 00:17:24,167 [INFO] Page 11/16 - Items 110000/155675\n",
      "2022-12-13 00:17:29,072 [INFO] Page 12/16 - Items 120000/155675\n",
      "2022-12-13 00:17:34,157 [INFO] Page 13/16 - Items 130000/155675\n",
      "2022-12-13 00:17:39,042 [INFO] Page 14/16 - Items 140000/155675\n",
      "2022-12-13 00:17:43,892 [INFO] Page 15/16 - Items 150000/155675\n",
      "2022-12-13 00:17:48,944 [INFO] Page 16/16 - Items 5675/155675\n",
      "2022-12-13 00:17:51,700 [INFO] Totals - Pages 16 - Items 155675\n"
     ]
    },
    {
     "data": {
      "text/html": [
       "<pre style=\"white-space:pre;overflow-x:auto;line-height:normal;font-family:Menlo,'DejaVu Sans Mono',consolas,'Courier New',monospace\">\n",
       "<span style=\"font-weight: bold\">{</span>\n",
       "    <span style=\"color: #008000; text-decoration-color: #008000\">\"id\"</span>: <span style=\"color: #008080; text-decoration-color: #008080; font-weight: bold\">30</span>,\n",
       "    <span style=\"color: #008000; text-decoration-color: #008000\">\"name\"</span>: <span style=\"color: #008000; text-decoration-color: #008000\">\"SVD-item-to-item\"</span>,\n",
       "    <span style=\"color: #008000; text-decoration-color: #008000\">\"type\"</span>: <span style=\"color: #008000; text-decoration-color: #008000\">\"SimilarityMatrixType.ITEM_TO_ITEM\"</span>,\n",
       "    <span style=\"color: #008000; text-decoration-color: #008000\">\"description\"</span>: <span style=\"color: #008000; text-decoration-color: #008000\">\"SVD-item-to-item\"</span>,\n",
       "    <span style=\"color: #008000; text-decoration-color: #008000\">\"version\"</span>: <span style=\"color: #008080; text-decoration-color: #008080; font-weight: bold\">1</span>\n",
       "<span style=\"font-weight: bold\">}</span>\n",
       "</pre>\n"
      ],
      "text/plain": [
       "\n",
       "\u001b[1m{\u001b[0m\n",
       "    \u001b[32m\"id\"\u001b[0m: \u001b[1;36m30\u001b[0m,\n",
       "    \u001b[32m\"name\"\u001b[0m: \u001b[32m\"SVD-item-to-item\"\u001b[0m,\n",
       "    \u001b[32m\"type\"\u001b[0m: \u001b[32m\"SimilarityMatrixType.ITEM_TO_ITEM\"\u001b[0m,\n",
       "    \u001b[32m\"description\"\u001b[0m: \u001b[32m\"SVD-item-to-item\"\u001b[0m,\n",
       "    \u001b[32m\"version\"\u001b[0m: \u001b[1;36m1\u001b[0m\n",
       "\u001b[1m}\u001b[0m\n"
      ]
     },
     "metadata": {},
     "output_type": "display_data"
    }
   ],
   "source": [
    "item_similarity_matrix = ctx.similarity_matrix_service.create_or_get(\n",
    "    name = 'SVD-item-to-item', \n",
    "    type = api.SimilarityMatrixType.ITEM_TO_ITEM\n",
    ")\n",
    "\n",
    "item_similarity_matrix.version += 1\n",
    "cells = item_most_similarities.rename(columns={'item_a': 'row', 'item_b': 'column'})\n",
    "\n",
    "ctx.similarity_matrix_service.add_cells(item_similarity_matrix, cells)\n",
    "ctx.similarity_matrix_service.update(item_similarity_matrix)"
   ]
  },
  {
   "cell_type": "code",
   "execution_count": 27,
   "id": "a0ea66d0-33e7-4660-a01c-ecaad6f6228e",
   "metadata": {},
   "outputs": [
    {
     "name": "stderr",
     "output_type": "stream",
     "text": [
      "2022-12-13 00:23:11,871 [INFO] - Page 2/1 - Recommenders 1/1\n",
      "2022-12-13 00:23:11,871 [INFO] - 1 Total Recommenders \n",
      "2022-12-13 00:23:11,871 [INFO] Already exists SVD recommender.\n"
     ]
    },
    {
     "data": {
      "text/html": [
       "<pre style=\"white-space:pre;overflow-x:auto;line-height:normal;font-family:Menlo,'DejaVu Sans Mono',consolas,'Courier New',monospace\">\n",
       "<span style=\"font-weight: bold\">{</span>\n",
       "    <span style=\"color: #008000; text-decoration-color: #008000\">\"id\"</span>: <span style=\"color: #008080; text-decoration-color: #008080; font-weight: bold\">6</span>,\n",
       "    <span style=\"color: #008000; text-decoration-color: #008000\">\"name\"</span>: <span style=\"color: #008000; text-decoration-color: #008000\">\"SVD\"</span>,\n",
       "    <span style=\"color: #008000; text-decoration-color: #008000\">\"user_similarity_matrix\"</span>: <span style=\"color: #008000; text-decoration-color: #008000\">\"http://localhost:8000/api/similarity-matrix/29/\"</span>,\n",
       "    <span style=\"color: #008000; text-decoration-color: #008000\">\"item_similarity_matrix\"</span>: <span style=\"color: #008000; text-decoration-color: #008000\">\"http://localhost:8000/api/similarity-matrix/30/\"</span>\n",
       "<span style=\"font-weight: bold\">}</span>\n",
       "</pre>\n"
      ],
      "text/plain": [
       "\n",
       "\u001b[1m{\u001b[0m\n",
       "    \u001b[32m\"id\"\u001b[0m: \u001b[1;36m6\u001b[0m,\n",
       "    \u001b[32m\"name\"\u001b[0m: \u001b[32m\"SVD\"\u001b[0m,\n",
       "    \u001b[32m\"user_similarity_matrix\"\u001b[0m: \u001b[32m\"http://localhost:8000/api/similarity-matrix/29/\"\u001b[0m,\n",
       "    \u001b[32m\"item_similarity_matrix\"\u001b[0m: \u001b[32m\"http://localhost:8000/api/similarity-matrix/30/\"\u001b[0m\n",
       "\u001b[1m}\u001b[0m\n"
      ]
     },
     "metadata": {},
     "output_type": "display_data"
    }
   ],
   "source": [
    "ctx.recommender_service.upsert('SVD', user_similarity_matrix, item_similarity_matrix)"
   ]
  },
  {
   "cell_type": "code",
   "execution_count": null,
   "id": "9067d57a-2411-47ce-83c4-c3f59954df76",
   "metadata": {},
   "outputs": [],
   "source": []
  }
 ],
 "metadata": {
  "kernelspec": {
   "display_name": "Python 3 (ipykernel)",
   "language": "python",
   "name": "python3"
  },
  "language_info": {
   "codemirror_mode": {
    "name": "ipython",
    "version": 3
   },
   "file_extension": ".py",
   "mimetype": "text/x-python",
   "name": "python",
   "nbconvert_exporter": "python",
   "pygments_lexer": "ipython3",
   "version": "3.10.6"
  },
  "widgets": {
   "application/vnd.jupyter.widget-state+json": {
    "state": {},
    "version_major": 2,
    "version_minor": 0
   }
  }
 },
 "nbformat": 4,
 "nbformat_minor": 5
}
