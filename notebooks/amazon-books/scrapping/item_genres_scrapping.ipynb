{
 "cells": [
  {
   "cell_type": "markdown",
   "id": "0417277b-47df-4113-a7b3-8f960db06f1d",
   "metadata": {
    "tags": []
   },
   "source": [
    "# Item Genres Scrapping"
   ]
  },
  {
   "cell_type": "code",
   "execution_count": 12,
   "id": "8dde5e70-5b86-460f-8791-20fcb554c378",
   "metadata": {},
   "outputs": [
    {
     "name": "stdout",
     "output_type": "stream",
     "text": [
      "The autoreload extension is already loaded. To reload it, use:\n",
      "  %reload_ext autoreload\n"
     ]
    }
   ],
   "source": [
    "%load_ext autoreload\n",
    "%autoreload 2"
   ]
  },
  {
   "cell_type": "code",
   "execution_count": 13,
   "id": "f98e7bf4-f41a-43f6-b7b7-a991d00f82de",
   "metadata": {},
   "outputs": [],
   "source": [
    "import sys\n",
    "sys.path.append('../../src')\n",
    "\n",
    "from domain_context import DomainContext\n",
    "\n",
    "import time\n",
    "import util as ut"
   ]
  },
  {
   "cell_type": "markdown",
   "id": "0e9ce6ca-b6af-4acf-9389-fbb0395a70b7",
   "metadata": {},
   "source": [
    "### Setup"
   ]
  },
  {
   "cell_type": "code",
   "execution_count": 14,
   "id": "74fbf986-bbf7-4938-8e40-82abb7c4455d",
   "metadata": {},
   "outputs": [],
   "source": [
    "ctx = DomainContext(host='http://localhost:8000')"
   ]
  },
  {
   "cell_type": "code",
   "execution_count": 15,
   "id": "e54c32db-333b-4138-9bd7-aa47365efd2f",
   "metadata": {},
   "outputs": [
    {
     "name": "stderr",
     "output_type": "stream",
     "text": [
      "2023-01-02 20:19:02,993 :: INFO :: ItemRepository :: Page 1/3 - Items 500/1029\n",
      "2023-01-02 20:19:03,228 :: INFO :: ItemRepository :: Page 2/3 - Items 1000/1029\n",
      "2023-01-02 20:19:03,291 :: INFO :: ItemRepository :: Page 3/3 - Items 1029/1029\n",
      "2023-01-02 20:19:03,291 :: INFO :: ItemRepository :: 1029 Total Items \n"
     ]
    }
   ],
   "source": [
    "items_df = ctx.item_service.find_all()"
   ]
  },
  {
   "cell_type": "code",
   "execution_count": 69,
   "id": "8680f6c8-bf65-4b73-99e1-cc9ee793621b",
   "metadata": {},
   "outputs": [],
   "source": [
    "remove = [\"Folio Society Hardcover\",\n",
    "    \"Performed by Derek Jacobi, Geraldine McEwan &amp; Cast\",\n",
    "    'How a Senior Devil Instructs a Junior Devil in the Art of Temptation',\n",
    "    'with related readings',\n",
    "    'Individual Reader Narrative of the Life of Frederick Douglas',\n",
    "    '(HRW Library Study Guides)',\n",
    "    'Individual Reader 1984',\n",
    "    'The New Translation (Harper Perennial Modern Classics)',\n",
    "    \"(Contemporary Classics)\",\n",
    "    'With Connected Readings',\n",
    "    '(Contemporary American Fiction)',\n",
    "    '(Classic, 20th-Century, Audio)',\n",
    "    '(An Isaac Bell Adventure)',\n",
    "    \"S. Morgenstern's Classic Tale of True Love and High Adventure\",\n",
    "    '(Spanish language) (Spanish Edition)',\n",
    "    \"(Movie Tie-in Edition): A No. 1 Ladies' Detective Agency Novel (1)\",\n",
    "    '(Marissa Meyer)',\n",
    "    '(The Jake Brigance)',\n",
    "    '(Virago Modern Classics) [Paperback] [Jul 16, 2015] Daphne Du Maurier (VMC,VMC Designer Collection)',\n",
    "    '(Dresden Files (Unnumbered Paperback))',\n",
    "    '(The Oklahoma All-Girl Brands) (Silhouette Intimate Moments, 1039)',\n",
    "    '(Random House Large Print)',\n",
    "    '(Sookie Stackhouse/True Blood, Book 1)',\n",
    "    'The heartbreaking Richard and Judy bestseller',\n",
    "    '(Kingkiller Chronicles, Day 1)',\n",
    "    '(Turtleback School &amp; Library Binding Edition) (Hcc)',\n",
    "    '(Turtleback School &amp; Library Binding Edition) (Cedar Ridge)',\n",
    "    '(The McCarthys of Gansett Island Series) (Volume 1)',\n",
    "    '(The Texas Brand) (Silhouette Intimate Moments, No 716)',\n",
    "    '(The Mitch Rapp Series)',\n",
    "    '(The Woodlands)',\n",
    "    '(The Driven Trilogy)',\n",
    "    '(A Standalone Romantic Comedy) (The Pucked Series',\n",
    "    '(The Starcrossed Series)',\n",
    "    '(A Sunset Cove Novel)',\n",
    "    '(Throne of Glass)',\n",
    "    '(Thorndike Press Large Print Core)',\n",
    "    '(Thorndike Press Large Pring Basic)',\n",
    "    \"(Ellora's Cave Moderne)\",\n",
    "    \"The year's best suspense novel\",\n",
    "    '(Amos Decker series)',\n",
    "    '(A This Man Novel)',\n",
    "    '(A Rose Gardner Mystery)',\n",
    "    '(Tempting Too Far Novel)',\n",
    "    '(The REAL series)',\n",
    "    '(The REAL series)',\n",
    "    '(The Tangled Series)',\n",
    "    '(The REAL series)',\n",
    "    '(Sign of Love)',\n",
    "    ': Paranormal BBW Romance (Grayslake)',\n",
    "    '(Seductive Nights: Julia &amp; Clay Book 1)',\n",
    "    '(The Nine Minutes Trilogy)',\n",
    "    '(A Knights Rebels MC Book 1)',\n",
    "    '(BBW Paranormal Shape Shifter Romance): A BBW in need of a date + Two hot Alphas looking for a mate = The hottest triad ever. (Paranormal Dating Agency) (Volume 1)',\n",
    "    ': Inside Out (Careless Whispers)',\n",
    "    ': Inside Out (Careless Whispers)',\n",
    "    '(The Hudson Valley Series)',\n",
    "    '(The Coming Home Series)',\n",
    "    '(The Chicago Rebels Series)',\n",
    "    '(The Chicago Rebels Series)',\n",
    "    '(The Coming Home Series)',\n",
    "    '(A Sign of Love)',\n",
    "    '(A Jewel Novel)',\n",
    "    '(Sign of Love)',\n",
    "    'King Part',\n",
    "    '(The Nine Minutes Trilogy)',\n",
    "    'A Series of Standalone Novels',\n",
    "    '(Cocky Bastard)',\n",
    "    '(Skylar and Sebastian) (Happy Crazy Love)',\n",
    "    'King Series',\n",
    "    '(Hearts in Darkness Duet)',\n",
    "    '(The Manwhore Series)',\n",
    "    'a survival romance novel',\n",
    "    '(Bad Boy Billionaires)',\n",
    "    '(Stand-alone British Romance) (British Bad Boys)',\n",
    "    '(The Stroked Series)',\n",
    "    '(A Twin Estates Novel)',\n",
    "    '(Anti-Heroes Collection',\n",
    "    '(A Twin Estates Novel)',\n",
    "    'Flow, The Grip Prequel',\n",
    "    'Co-WRECKER',\n",
    "    '(The Elements Series)',\n",
    "    'A Standalone Off-Limits Romance',\n",
    "    '(The Pucked Series)',\n",
    "    '(Tight Spaces)',\n",
    "    'Preppy: The Life and Death of Samuel Clearwater 2',\n",
    "    \"(Heroes of Chance Creek)\",\n",
    "    \"(Cowboys of Chance Creek)\",\n",
    "    \"Not Everything Should Come in 3's\",\n",
    "    \"The Complete Collection: Mine For Tonight, Mine For Now, Mine Forever, Mine Completely\",\n",
    "    '(The Kingwood Duet)',\n",
    "    '(The Wicked Horse Series)',\n",
    "    '(Last Call Series)',\n",
    "    '(The Everyday Heroes Series)',\n",
    "    '(The Everyday Heroes)',\n",
    "    '(The Winston Brothers)',\n",
    "    '(The Anti-Heroes Collection)',\n",
    "    'An Anti-Heroes Collection Novel (The Savage Trilogy)',\n",
    "    '(The Darkest Sunrise Duet)',\n",
    "    'A North Ridge Novel',\n",
    "    'Miss Fix-It',\n",
    "    '(British Bad Boys)',\n",
    "    'Until Her/ Until Him',\n",
    "    'A King Series Novel',\n",
    "    '(Spanish Edition)'\n",
    "    'Correr o Morir', \n",
    "    'A London Legends Christmas Romance',\n",
    "    '(King Series)',\n",
    "    '(The Syndicate Series)',\n",
    "    \"the Covenant/Autobiography of Will Rogers/Cry, the Beloved Country (Reader's Digest Condensed Books, Volume 1: 1950)\",\n",
    "    '(Scholastic Classics)',\n",
    "    'Maus 1 and 2',\n",
    "    '(Word Cloud Classics)',\n",
    "    '(Lord of the Rings Part 1)',\n",
    "    'By Charles Dickens - The Franklin Library (Hardcover - 1979)',\n",
    "    'The Japanese Art of Decluttering and Organizing',\n",
    "    '[ Lies BY Grant, Michael ( Author ) ] { Paperback } 2014',\n",
    "    'Kindle edition'\n",
    "]"
   ]
  },
  {
   "cell_type": "code",
   "execution_count": 86,
   "id": "c8385303-a87b-4c03-88c8-2905a18fa9f5",
   "metadata": {},
   "outputs": [],
   "source": [
    "from selectorlib import Extractor\n",
    "import requests \n",
    "import re\n",
    "\n",
    "\n",
    "class GoodReadsScrapper:    \n",
    "    def __init__(self):\n",
    "        self.remove_strings = [\n",
    "            'A Sugar Bowl Novel',\n",
    "            '/True',\n",
    "            'Trilogy',\n",
    "            'Novel',\n",
    "            'A Harry Bosch',\n",
    "            'A Reacher',\n",
    "            ','\n",
    "        ] + remove\n",
    "\n",
    "        self.remove_after = [\n",
    "            'A Novel',\n",
    "            'A Jack Reacher Novel',\n",
    "            'Collins',\n",
    "            'Modern Classics',\n",
    "            'Kindle',\n",
    "            'by',\n",
    "            'By',\n",
    "            'Penguin',\n",
    "            '20thCentury',\n",
    "            ' A ',\n",
    "            ' An ',\n",
    "            'English Edition',\n",
    "            'Series',\n",
    "            'Hardcover',\n",
    "            'Large Print',\n",
    "            'Anniversary Edition',\n",
    "            'Motorcycle Club',\n",
    "            'Marissa Meyer'\n",
    "        ]\n",
    "    \n",
    "    def by_name(self, name, id):\n",
    "        for remove_string in self.remove_strings:\n",
    "            name = name.replace(remove_string, '').strip()\n",
    "\n",
    "        for after in self.remove_after:\n",
    "            name = name.split(after)[0].strip()\n",
    "\n",
    "        name = name.replace(\":\",' ').replace(\"'\",'').replace('-', '').replace('(', '').replace(')', '').replace('&amp;', '').replace('.', '')\n",
    "        name = re.sub(' +', ' ', name).strip()\n",
    "        name = name.replace(' ', '+')\n",
    "        name = name.replace('Volume', '')\n",
    "        name = name.replace('Vol', '')\n",
    "        name = name.replace('Book', '')\n",
    "        \n",
    "\n",
    "\n",
    "        print(f'Search: {id} {name}')\n",
    "        r = requests.get(f'https://www.goodreads.com/search?q={name}')\n",
    "        e = Extractor.from_yaml_string(\"\"\"\n",
    "        items:\n",
    "            css: tr[itemtype=\"http://schema.org/Book\"]\n",
    "            multiple: true\n",
    "            type: Link\n",
    "        \"\"\")\n",
    "        items = e.extract(r.text)['items']\n",
    "        if items == None:\n",
    "            print(f'Not found results...')\n",
    "            return []\n",
    "        else:\n",
    "            return [f'https://www.goodreads.com/{i}'for i in items]\n",
    "\n",
    "    def genres(self, link):\n",
    "        r = requests.get(link)\n",
    "        e = Extractor.from_yaml_string(\"\"\"\n",
    "        genres:\n",
    "            css: span.BookPageMetadataSection__genreButton\n",
    "            multiple: true\n",
    "            type: Text\n",
    "        \"\"\")\n",
    "        return e.extract(r.text)['genres']\n",
    "    \n",
    "    def genres2(self, link):\n",
    "        r = requests.get(link)\n",
    "        e = Extractor.from_yaml_string(\"\"\"\n",
    "        genres:\n",
    "            css: a.bookPageGenreLink\n",
    "            multiple: true\n",
    "            type: Text\n",
    "        \"\"\")\n",
    "        return e.extract(r.text)['genres']"
   ]
  },
  {
   "cell_type": "code",
   "execution_count": 87,
   "id": "48d709a8-0d6b-4142-8a80-d4e0b073efce",
   "metadata": {},
   "outputs": [],
   "source": [
    "scrapper = GoodReadsScrapper()\n",
    "\n",
    "try:\n",
    "    books = ut.Picket.load('./books_genres')\n",
    "except:\n",
    "    books = {}"
   ]
  },
  {
   "cell_type": "code",
   "execution_count": 89,
   "id": "7d47704a-ba65-47d7-80b0-8974133d4648",
   "metadata": {},
   "outputs": [
    {
     "data": {
      "text/html": [
       "<pre style=\"white-space:pre;overflow-x:auto;line-height:normal;font-family:Menlo,'DejaVu Sans Mono',consolas,'Courier New',monospace\">Search: <span style=\"color: #008080; text-decoration-color: #008080; font-weight: bold\">2095</span> Holt+McDougal+Library+High+School+with+Connections\n",
       "</pre>\n"
      ],
      "text/plain": [
       "Search: \u001b[1;36m2095\u001b[0m Holt+McDougal+Library+High+School+with+Connections\n"
      ]
     },
     "metadata": {},
     "output_type": "display_data"
    },
    {
     "data": {
      "text/html": [
       "<pre style=\"white-space:pre;overflow-x:auto;line-height:normal;font-family:Menlo,'DejaVu Sans Mono',consolas,'Courier New',monospace\">Not found genres<span style=\"color: #808000; text-decoration-color: #808000\">...</span>\n",
       "</pre>\n"
      ],
      "text/plain": [
       "Not found genres\u001b[33m...\u001b[0m\n"
      ]
     },
     "metadata": {},
     "output_type": "display_data"
    },
    {
     "data": {
      "text/html": [
       "<pre style=\"white-space:pre;overflow-x:auto;line-height:normal;font-family:Menlo,'DejaVu Sans Mono',consolas,'Courier New',monospace\">Search: <span style=\"color: #008080; text-decoration-color: #008080; font-weight: bold\">2097</span> Holt+McDougal+Library+High+School+with+Connections\n",
       "</pre>\n"
      ],
      "text/plain": [
       "Search: \u001b[1;36m2097\u001b[0m Holt+McDougal+Library+High+School+with+Connections\n"
      ]
     },
     "metadata": {},
     "output_type": "display_data"
    },
    {
     "data": {
      "text/html": [
       "<pre style=\"white-space:pre;overflow-x:auto;line-height:normal;font-family:Menlo,'DejaVu Sans Mono',consolas,'Courier New',monospace\">Not found genres<span style=\"color: #808000; text-decoration-color: #808000\">...</span>\n",
       "</pre>\n"
      ],
      "text/plain": [
       "Not found genres\u001b[33m...\u001b[0m\n"
      ]
     },
     "metadata": {},
     "output_type": "display_data"
    },
    {
     "data": {
      "text/html": [
       "<pre style=\"white-space:pre;overflow-x:auto;line-height:normal;font-family:Menlo,'DejaVu Sans Mono',consolas,'Courier New',monospace\">Search: <span style=\"color: #008080; text-decoration-color: #008080; font-weight: bold\">19911</span> The+Princess+Bride+Fox\n",
       "</pre>\n"
      ],
      "text/plain": [
       "Search: \u001b[1;36m19911\u001b[0m The+Princess+Bride+Fox\n"
      ]
     },
     "metadata": {},
     "output_type": "display_data"
    },
    {
     "data": {
      "text/html": [
       "<pre style=\"white-space:pre;overflow-x:auto;line-height:normal;font-family:Menlo,'DejaVu Sans Mono',consolas,'Courier New',monospace\">Not found results<span style=\"color: #808000; text-decoration-color: #808000\">...</span>\n",
       "</pre>\n"
      ],
      "text/plain": [
       "Not found results\u001b[33m...\u001b[0m\n"
      ]
     },
     "metadata": {},
     "output_type": "display_data"
    },
    {
     "data": {
      "text/html": [
       "<pre style=\"white-space:pre;overflow-x:auto;line-height:normal;font-family:Menlo,'DejaVu Sans Mono',consolas,'Courier New',monospace\">Search: <span style=\"color: #008080; text-decoration-color: #008080; font-weight: bold\">25446</span> The+No+<span style=\"color: #008080; text-decoration-color: #008080; font-weight: bold\">1</span>+Ladies+Detective+Agency+Movie+Tiein+Edition\n",
       "</pre>\n"
      ],
      "text/plain": [
       "Search: \u001b[1;36m25446\u001b[0m The+No+\u001b[1;36m1\u001b[0m+Ladies+Detective+Agency+Movie+Tiein+Edition\n"
      ]
     },
     "metadata": {},
     "output_type": "display_data"
    },
    {
     "data": {
      "text/html": [
       "<pre style=\"white-space:pre;overflow-x:auto;line-height:normal;font-family:Menlo,'DejaVu Sans Mono',consolas,'Courier New',monospace\">Not found results<span style=\"color: #808000; text-decoration-color: #808000\">...</span>\n",
       "</pre>\n"
      ],
      "text/plain": [
       "Not found results\u001b[33m...\u001b[0m\n"
      ]
     },
     "metadata": {},
     "output_type": "display_data"
    },
    {
     "data": {
      "text/html": [
       "<pre style=\"white-space:pre;overflow-x:auto;line-height:normal;font-family:Menlo,'DejaVu Sans Mono',consolas,'Courier New',monospace\">Search: <span style=\"color: #008080; text-decoration-color: #008080; font-weight: bold\">57449</span> Dead+Until+Dark+Sookie+Stackhouse+Blood++<span style=\"color: #008080; text-decoration-color: #008080; font-weight: bold\">1</span>\n",
       "</pre>\n"
      ],
      "text/plain": [
       "Search: \u001b[1;36m57449\u001b[0m Dead+Until+Dark+Sookie+Stackhouse+Blood++\u001b[1;36m1\u001b[0m\n"
      ]
     },
     "metadata": {},
     "output_type": "display_data"
    },
    {
     "data": {
      "text/html": [
       "<pre style=\"white-space:pre;overflow-x:auto;line-height:normal;font-family:Menlo,'DejaVu Sans Mono',consolas,'Courier New',monospace\">Not found results<span style=\"color: #808000; text-decoration-color: #808000\">...</span>\n",
       "</pre>\n"
      ],
      "text/plain": [
       "Not found results\u001b[33m...\u001b[0m\n"
      ]
     },
     "metadata": {},
     "output_type": "display_data"
    },
    {
     "data": {
      "text/html": [
       "<pre style=\"white-space:pre;overflow-x:auto;line-height:normal;font-family:Menlo,'DejaVu Sans Mono',consolas,'Courier New',monospace\">Search: <span style=\"color: #008080; text-decoration-color: #008080; font-weight: bold\">117791</span> Crashed+The+Driven\n",
       "</pre>\n"
      ],
      "text/plain": [
       "Search: \u001b[1;36m117791\u001b[0m Crashed+The+Driven\n"
      ]
     },
     "metadata": {},
     "output_type": "display_data"
    },
    {
     "data": {
      "text/html": [
       "<pre style=\"white-space:pre;overflow-x:auto;line-height:normal;font-family:Menlo,'DejaVu Sans Mono',consolas,'Courier New',monospace\">Not found genres<span style=\"color: #808000; text-decoration-color: #808000\">...</span>\n",
       "</pre>\n"
      ],
      "text/plain": [
       "Not found genres\u001b[33m...\u001b[0m\n"
      ]
     },
     "metadata": {},
     "output_type": "display_data"
    },
    {
     "data": {
      "text/html": [
       "<pre style=\"white-space:pre;overflow-x:auto;line-height:normal;font-family:Menlo,'DejaVu Sans Mono',consolas,'Courier New',monospace\">Search: <span style=\"color: #008080; text-decoration-color: #008080; font-weight: bold\">128215</span> Mermaid+Moon+A+Sunset+Cove\n",
       "</pre>\n"
      ],
      "text/plain": [
       "Search: \u001b[1;36m128215\u001b[0m Mermaid+Moon+A+Sunset+Cove\n"
      ]
     },
     "metadata": {},
     "output_type": "display_data"
    },
    {
     "data": {
      "text/html": [
       "<pre style=\"white-space:pre;overflow-x:auto;line-height:normal;font-family:Menlo,'DejaVu Sans Mono',consolas,'Courier New',monospace\">Not found genres<span style=\"color: #808000; text-decoration-color: #808000\">...</span>\n",
       "</pre>\n"
      ],
      "text/plain": [
       "Not found genres\u001b[33m...\u001b[0m\n"
      ]
     },
     "metadata": {},
     "output_type": "display_data"
    },
    {
     "data": {
      "text/html": [
       "<pre style=\"white-space:pre;overflow-x:auto;line-height:normal;font-family:Menlo,'DejaVu Sans Mono',consolas,'Courier New',monospace\">Search: <span style=\"color: #008080; text-decoration-color: #008080; font-weight: bold\">129903</span> Heir+of+Fireno+<span style=\"color: #008080; text-decoration-color: #008080; font-weight: bold\">3</span>\n",
       "</pre>\n"
      ],
      "text/plain": [
       "Search: \u001b[1;36m129903\u001b[0m Heir+of+Fireno+\u001b[1;36m3\u001b[0m\n"
      ]
     },
     "metadata": {},
     "output_type": "display_data"
    },
    {
     "data": {
      "text/html": [
       "<pre style=\"white-space:pre;overflow-x:auto;line-height:normal;font-family:Menlo,'DejaVu Sans Mono',consolas,'Courier New',monospace\">Not found results<span style=\"color: #808000; text-decoration-color: #808000\">...</span>\n",
       "</pre>\n"
      ],
      "text/plain": [
       "Not found results\u001b[33m...\u001b[0m\n"
      ]
     },
     "metadata": {},
     "output_type": "display_data"
    },
    {
     "data": {
      "text/html": [
       "<pre style=\"white-space:pre;overflow-x:auto;line-height:normal;font-family:Menlo,'DejaVu Sans Mono',consolas,'Courier New',monospace\">Search: <span style=\"color: #008080; text-decoration-color: #008080; font-weight: bold\">140868</span> Beneath+This+Man+A+This+Man\n",
       "</pre>\n"
      ],
      "text/plain": [
       "Search: \u001b[1;36m140868\u001b[0m Beneath+This+Man+A+This+Man\n"
      ]
     },
     "metadata": {},
     "output_type": "display_data"
    },
    {
     "data": {
      "text/html": [
       "<pre style=\"white-space:pre;overflow-x:auto;line-height:normal;font-family:Menlo,'DejaVu Sans Mono',consolas,'Courier New',monospace\">Not found results<span style=\"color: #808000; text-decoration-color: #808000\">...</span>\n",
       "</pre>\n"
      ],
      "text/plain": [
       "Not found results\u001b[33m...\u001b[0m\n"
      ]
     },
     "metadata": {},
     "output_type": "display_data"
    },
    {
     "data": {
      "text/html": [
       "<pre style=\"white-space:pre;overflow-x:auto;line-height:normal;font-family:Menlo,'DejaVu Sans Mono',consolas,'Courier New',monospace\">Search: <span style=\"color: #008080; text-decoration-color: #008080; font-weight: bold\">143832</span> Never+Too+Far+Tempting+Too+Far\n",
       "</pre>\n"
      ],
      "text/plain": [
       "Search: \u001b[1;36m143832\u001b[0m Never+Too+Far+Tempting+Too+Far\n"
      ]
     },
     "metadata": {},
     "output_type": "display_data"
    },
    {
     "data": {
      "text/html": [
       "<pre style=\"white-space:pre;overflow-x:auto;line-height:normal;font-family:Menlo,'DejaVu Sans Mono',consolas,'Courier New',monospace\">Not found results<span style=\"color: #808000; text-decoration-color: #808000\">...</span>\n",
       "</pre>\n"
      ],
      "text/plain": [
       "Not found results\u001b[33m...\u001b[0m\n"
      ]
     },
     "metadata": {},
     "output_type": "display_data"
    },
    {
     "data": {
      "text/html": [
       "<pre style=\"white-space:pre;overflow-x:auto;line-height:normal;font-family:Menlo,'DejaVu Sans Mono',consolas,'Courier New',monospace\">Search: <span style=\"color: #008080; text-decoration-color: #008080; font-weight: bold\">158116</span> The+Sapphire+Heist+A+Jewel\n",
       "</pre>\n"
      ],
      "text/plain": [
       "Search: \u001b[1;36m158116\u001b[0m The+Sapphire+Heist+A+Jewel\n"
      ]
     },
     "metadata": {},
     "output_type": "display_data"
    },
    {
     "data": {
      "text/html": [
       "<pre style=\"white-space:pre;overflow-x:auto;line-height:normal;font-family:Menlo,'DejaVu Sans Mono',consolas,'Courier New',monospace\">Not found results<span style=\"color: #808000; text-decoration-color: #808000\">...</span>\n",
       "</pre>\n"
      ],
      "text/plain": [
       "Not found results\u001b[33m...\u001b[0m\n"
      ]
     },
     "metadata": {},
     "output_type": "display_data"
    },
    {
     "data": {
      "text/html": [
       "<pre style=\"white-space:pre;overflow-x:auto;line-height:normal;font-family:Menlo,'DejaVu Sans Mono',consolas,'Courier New',monospace\">Search: <span style=\"color: #008080; text-decoration-color: #008080; font-weight: bold\">162207</span> Out+of+Time+The+Nine+Minutes++<span style=\"color: #008080; text-decoration-color: #008080; font-weight: bold\">2</span>\n",
       "</pre>\n"
      ],
      "text/plain": [
       "Search: \u001b[1;36m162207\u001b[0m Out+of+Time+The+Nine+Minutes++\u001b[1;36m2\u001b[0m\n"
      ]
     },
     "metadata": {},
     "output_type": "display_data"
    },
    {
     "data": {
      "text/html": [
       "<pre style=\"white-space:pre;overflow-x:auto;line-height:normal;font-family:Menlo,'DejaVu Sans Mono',consolas,'Courier New',monospace\">Not found results<span style=\"color: #808000; text-decoration-color: #808000\">...</span>\n",
       "</pre>\n"
      ],
      "text/plain": [
       "Not found results\u001b[33m...\u001b[0m\n"
      ]
     },
     "metadata": {},
     "output_type": "display_data"
    },
    {
     "data": {
      "text/html": [
       "<pre style=\"white-space:pre;overflow-x:auto;line-height:normal;font-family:Menlo,'DejaVu Sans Mono',consolas,'Courier New',monospace\">Search: <span style=\"color: #008080; text-decoration-color: #008080; font-weight: bold\">162410</span> Cocky+Bastard+A\n",
       "</pre>\n"
      ],
      "text/plain": [
       "Search: \u001b[1;36m162410\u001b[0m Cocky+Bastard+A\n"
      ]
     },
     "metadata": {},
     "output_type": "display_data"
    },
    {
     "data": {
      "text/html": [
       "<pre style=\"white-space:pre;overflow-x:auto;line-height:normal;font-family:Menlo,'DejaVu Sans Mono',consolas,'Courier New',monospace\">Not found genres<span style=\"color: #808000; text-decoration-color: #808000\">...</span>\n",
       "</pre>\n"
      ],
      "text/plain": [
       "Not found genres\u001b[33m...\u001b[0m\n"
      ]
     },
     "metadata": {},
     "output_type": "display_data"
    },
    {
     "data": {
      "text/html": [
       "<pre style=\"white-space:pre;overflow-x:auto;line-height:normal;font-family:Menlo,'DejaVu Sans Mono',consolas,'Courier New',monospace\">Search: <span style=\"color: #008080; text-decoration-color: #008080; font-weight: bold\">168411</span> Neighbors+A+Twin+Estates++<span style=\"color: #008080; text-decoration-color: #008080; font-weight: bold\">1</span>\n",
       "</pre>\n"
      ],
      "text/plain": [
       "Search: \u001b[1;36m168411\u001b[0m Neighbors+A+Twin+Estates++\u001b[1;36m1\u001b[0m\n"
      ]
     },
     "metadata": {},
     "output_type": "display_data"
    },
    {
     "data": {
      "text/html": [
       "<pre style=\"white-space:pre;overflow-x:auto;line-height:normal;font-family:Menlo,'DejaVu Sans Mono',consolas,'Courier New',monospace\">Not found genres<span style=\"color: #808000; text-decoration-color: #808000\">...</span>\n",
       "</pre>\n"
      ],
      "text/plain": [
       "Not found genres\u001b[33m...\u001b[0m\n"
      ]
     },
     "metadata": {},
     "output_type": "display_data"
    },
    {
     "data": {
      "text/html": [
       "<pre style=\"white-space:pre;overflow-x:auto;line-height:normal;font-family:Menlo,'DejaVu Sans Mono',consolas,'Courier New',monospace\">Search: <span style=\"color: #008080; text-decoration-color: #008080; font-weight: bold\">169815</span> The+Neighborhood+A+Twin+Estates++<span style=\"color: #008080; text-decoration-color: #008080; font-weight: bold\">2</span>\n",
       "</pre>\n"
      ],
      "text/plain": [
       "Search: \u001b[1;36m169815\u001b[0m The+Neighborhood+A+Twin+Estates++\u001b[1;36m2\u001b[0m\n"
      ]
     },
     "metadata": {},
     "output_type": "display_data"
    },
    {
     "data": {
      "text/html": [
       "<pre style=\"white-space:pre;overflow-x:auto;line-height:normal;font-family:Menlo,'DejaVu Sans Mono',consolas,'Courier New',monospace\">Not found results<span style=\"color: #808000; text-decoration-color: #808000\">...</span>\n",
       "</pre>\n"
      ],
      "text/plain": [
       "Not found results\u001b[33m...\u001b[0m\n"
      ]
     },
     "metadata": {},
     "output_type": "display_data"
    },
    {
     "data": {
      "text/html": [
       "<pre style=\"white-space:pre;overflow-x:auto;line-height:normal;font-family:Menlo,'DejaVu Sans Mono',consolas,'Courier New',monospace\">Search: <span style=\"color: #008080; text-decoration-color: #008080; font-weight: bold\">170316</span> Flow+The+Grip+Prequel\n",
       "</pre>\n"
      ],
      "text/plain": [
       "Search: \u001b[1;36m170316\u001b[0m Flow+The+Grip+Prequel\n"
      ]
     },
     "metadata": {},
     "output_type": "display_data"
    },
    {
     "data": {
      "text/html": [
       "<pre style=\"white-space:pre;overflow-x:auto;line-height:normal;font-family:Menlo,'DejaVu Sans Mono',consolas,'Courier New',monospace\">Not found results<span style=\"color: #808000; text-decoration-color: #808000\">...</span>\n",
       "</pre>\n"
      ],
      "text/plain": [
       "Not found results\u001b[33m...\u001b[0m\n"
      ]
     },
     "metadata": {},
     "output_type": "display_data"
    },
    {
     "data": {
      "text/html": [
       "<pre style=\"white-space:pre;overflow-x:auto;line-height:normal;font-family:Menlo,'DejaVu Sans Mono',consolas,'Courier New',monospace\">Search: <span style=\"color: #008080; text-decoration-color: #008080; font-weight: bold\">170515</span> \n",
       "</pre>\n"
      ],
      "text/plain": [
       "Search: \u001b[1;36m170515\u001b[0m \n"
      ]
     },
     "metadata": {},
     "output_type": "display_data"
    },
    {
     "data": {
      "text/html": [
       "<pre style=\"white-space:pre;overflow-x:auto;line-height:normal;font-family:Menlo,'DejaVu Sans Mono',consolas,'Courier New',monospace\">Not found results<span style=\"color: #808000; text-decoration-color: #808000\">...</span>\n",
       "</pre>\n"
      ],
      "text/plain": [
       "Not found results\u001b[33m...\u001b[0m\n"
      ]
     },
     "metadata": {},
     "output_type": "display_data"
    },
    {
     "data": {
      "text/html": [
       "<pre style=\"white-space:pre;overflow-x:auto;line-height:normal;font-family:Menlo,'DejaVu Sans Mono',consolas,'Courier New',monospace\">Search: <span style=\"color: #008080; text-decoration-color: #008080; font-weight: bold\">209168</span> \n",
       "</pre>\n"
      ],
      "text/plain": [
       "Search: \u001b[1;36m209168\u001b[0m \n"
      ]
     },
     "metadata": {},
     "output_type": "display_data"
    },
    {
     "data": {
      "text/html": [
       "<pre style=\"white-space:pre;overflow-x:auto;line-height:normal;font-family:Menlo,'DejaVu Sans Mono',consolas,'Courier New',monospace\">Not found results<span style=\"color: #808000; text-decoration-color: #808000\">...</span>\n",
       "</pre>\n"
      ],
      "text/plain": [
       "Not found results\u001b[33m...\u001b[0m\n"
      ]
     },
     "metadata": {},
     "output_type": "display_data"
    },
    {
     "data": {
      "text/html": [
       "<pre style=\"white-space:pre;overflow-x:auto;line-height:normal;font-family:Menlo,'DejaVu Sans Mono',consolas,'Courier New',monospace\">Search: <span style=\"color: #008080; text-decoration-color: #008080; font-weight: bold\">209829</span> Until+Harmony+book+<span style=\"color: #008080; text-decoration-color: #008080; font-weight: bold\">6</span>\n",
       "</pre>\n"
      ],
      "text/plain": [
       "Search: \u001b[1;36m209829\u001b[0m Until+Harmony+book+\u001b[1;36m6\u001b[0m\n"
      ]
     },
     "metadata": {},
     "output_type": "display_data"
    },
    {
     "data": {
      "text/html": [
       "<pre style=\"white-space:pre;overflow-x:auto;line-height:normal;font-family:Menlo,'DejaVu Sans Mono',consolas,'Courier New',monospace\">Not found results<span style=\"color: #808000; text-decoration-color: #808000\">...</span>\n",
       "</pre>\n"
      ],
      "text/plain": [
       "Not found results\u001b[33m...\u001b[0m\n"
      ]
     },
     "metadata": {},
     "output_type": "display_data"
    },
    {
     "data": {
      "text/html": [
       "<pre style=\"white-space:pre;overflow-x:auto;line-height:normal;font-family:Menlo,'DejaVu Sans Mono',consolas,'Courier New',monospace\">Search: <span style=\"color: #008080; text-decoration-color: #008080; font-weight: bold\">210831</span> Maze+Runner+Correr+o+Morir+<span style=\"color: #800080; text-decoration-color: #800080\">/</span><span style=\"color: #ff00ff; text-decoration-color: #ff00ff\">+Maze+Runner+Run+or+die+Spanish+Edition</span>\n",
       "</pre>\n"
      ],
      "text/plain": [
       "Search: \u001b[1;36m210831\u001b[0m Maze+Runner+Correr+o+Morir+\u001b[35m/\u001b[0m\u001b[95m+Maze+Runner+Run+or+die+Spanish+Edition\u001b[0m\n"
      ]
     },
     "metadata": {},
     "output_type": "display_data"
    },
    {
     "data": {
      "text/html": [
       "<pre style=\"white-space:pre;overflow-x:auto;line-height:normal;font-family:Menlo,'DejaVu Sans Mono',consolas,'Courier New',monospace\">Not found results<span style=\"color: #808000; text-decoration-color: #808000\">...</span>\n",
       "</pre>\n"
      ],
      "text/plain": [
       "Not found results\u001b[33m...\u001b[0m\n"
      ]
     },
     "metadata": {},
     "output_type": "display_data"
    },
    {
     "data": {
      "text/html": [
       "<pre style=\"white-space:pre;overflow-x:auto;line-height:normal;font-family:Menlo,'DejaVu Sans Mono',consolas,'Courier New',monospace\">Search: <span style=\"color: #008080; text-decoration-color: #008080; font-weight: bold\">215284</span> \n",
       "The+Show+Must+Go+On/The+Cry+and+the+Covenant/Autobiography+of+Will+Rogers/Cry+the+Beloved+Country+Readers+Digest+Co\n",
       "ndensed+s++<span style=\"color: #008080; text-decoration-color: #008080; font-weight: bold\">1</span>+<span style=\"color: #008080; text-decoration-color: #008080; font-weight: bold\">1950</span>\n",
       "</pre>\n"
      ],
      "text/plain": [
       "Search: \u001b[1;36m215284\u001b[0m \n",
       "The+Show+Must+Go+On/The+Cry+and+the+Covenant/Autobiography+of+Will+Rogers/Cry+the+Beloved+Country+Readers+Digest+Co\n",
       "ndensed+s++\u001b[1;36m1\u001b[0m+\u001b[1;36m1950\u001b[0m\n"
      ]
     },
     "metadata": {},
     "output_type": "display_data"
    },
    {
     "data": {
      "text/html": [
       "<pre style=\"white-space:pre;overflow-x:auto;line-height:normal;font-family:Menlo,'DejaVu Sans Mono',consolas,'Courier New',monospace\">Not found results<span style=\"color: #808000; text-decoration-color: #808000\">...</span>\n",
       "</pre>\n"
      ],
      "text/plain": [
       "Not found results\u001b[33m...\u001b[0m\n"
      ]
     },
     "metadata": {},
     "output_type": "display_data"
    },
    {
     "data": {
      "text/html": [
       "<pre style=\"white-space:pre;overflow-x:auto;line-height:normal;font-family:Menlo,'DejaVu Sans Mono',consolas,'Courier New',monospace\">Search: <span style=\"color: #008080; text-decoration-color: #008080; font-weight: bold\">223343</span> <span style=\"font-weight: bold\">[</span>+Lies+BY+Grant+Michael+Author+<span style=\"font-weight: bold\">]</span>+<span style=\"font-weight: bold\">{</span>+Paperback+<span style=\"font-weight: bold\">}</span>+<span style=\"color: #008080; text-decoration-color: #008080; font-weight: bold\">2014</span>\n",
       "</pre>\n"
      ],
      "text/plain": [
       "Search: \u001b[1;36m223343\u001b[0m \u001b[1m[\u001b[0m+Lies+BY+Grant+Michael+Author+\u001b[1m]\u001b[0m+\u001b[1m{\u001b[0m+Paperback+\u001b[1m}\u001b[0m+\u001b[1;36m2014\u001b[0m\n"
      ]
     },
     "metadata": {},
     "output_type": "display_data"
    },
    {
     "data": {
      "text/html": [
       "<pre style=\"white-space:pre;overflow-x:auto;line-height:normal;font-family:Menlo,'DejaVu Sans Mono',consolas,'Courier New',monospace\">Not found results<span style=\"color: #808000; text-decoration-color: #808000\">...</span>\n",
       "</pre>\n"
      ],
      "text/plain": [
       "Not found results\u001b[33m...\u001b[0m\n"
      ]
     },
     "metadata": {},
     "output_type": "display_data"
    }
   ],
   "source": [
    "for index, row in items_df.iterrows():\n",
    "    name = row[\"name\"]\n",
    "\n",
    "    if name in books and len(books[name]) > 0:\n",
    "        # print(f'Success: {name}')\n",
    "        continue \n",
    "\n",
    "    items = scrapper.by_name(name, row[\"id\"])\n",
    "    if len(items) == 0:\n",
    "        books[name] = []\n",
    "        ut.Picket.save('./books_genres', books)\n",
    "        continue\n",
    "    \n",
    "    url = items[0]\n",
    "    # print(f'Url: {url}')\n",
    "    time.sleep(1)\n",
    "    genres = scrapper.genres(url)\n",
    "    \n",
    "    if genres == None:\n",
    "        genres = scrapper.genres2(url)\n",
    "        time.sleep(1)\n",
    "        if genres == None:    \n",
    "            print(f'Not found genres...')\n",
    "            books[name] = []\n",
    "            ut.Picket.save('./books_genres', books)\n",
    "            continue\n",
    "\n",
    "    books[name] = genres\n",
    "    print(f'Success: {name}: {genres}')\n",
    "    ut.Picket.save('./books_genres', books)"
   ]
  },
  {
   "cell_type": "code",
   "execution_count": null,
   "id": "0b659fbd-84ba-435b-8e66-01a32ebebc85",
   "metadata": {},
   "outputs": [],
   "source": [
    "[key  for key, value in books.items() if len(value) == 0]"
   ]
  },
  {
   "cell_type": "code",
   "execution_count": null,
   "id": "e533b9a9-27c6-4ab3-8cc0-58a431d41d7b",
   "metadata": {},
   "outputs": [],
   "source": [
    "books"
   ]
  },
  {
   "cell_type": "code",
   "execution_count": 90,
   "id": "e2955dde-1785-4fcd-8e40-d6ff49b47d83",
   "metadata": {},
   "outputs": [
    {
     "data": {
      "text/html": [
       "<pre style=\"white-space:pre;overflow-x:auto;line-height:normal;font-family:Menlo,'DejaVu Sans Mono',consolas,'Courier New',monospace\"><span style=\"color: #008080; text-decoration-color: #008080; font-weight: bold\">22</span>\n",
       "</pre>\n"
      ],
      "text/plain": [
       "\u001b[1;36m22\u001b[0m\n"
      ]
     },
     "metadata": {},
     "output_type": "display_data"
    }
   ],
   "source": [
    "sum([1 if len(value) == 0 else 0 for key, value in books.items()])"
   ]
  },
  {
   "cell_type": "code",
   "execution_count": null,
   "id": "f88e3a43-2828-4b86-9485-92f2b0e1c7eb",
   "metadata": {},
   "outputs": [],
   "source": [
    "sum([1 for key, value in books.items() if len(value) == 0])"
   ]
  },
  {
   "cell_type": "code",
   "execution_count": null,
   "id": "3d0753b0-c5f6-492d-bcbd-a92290beb8d5",
   "metadata": {},
   "outputs": [],
   "source": [
    "del books['title']"
   ]
  },
  {
   "cell_type": "code",
   "execution_count": null,
   "id": "0af28cd3-6892-4468-8b6c-4c8c49dc7b14",
   "metadata": {},
   "outputs": [],
   "source": [
    "[key for key, value in books.items() if len(value) == 0 and 'Book' in key ]"
   ]
  }
 ],
 "metadata": {
  "kernelspec": {
   "display_name": "Python 3 (ipykernel)",
   "language": "python",
   "name": "python3"
  },
  "language_info": {
   "codemirror_mode": {
    "name": "ipython",
    "version": 3
   },
   "file_extension": ".py",
   "mimetype": "text/x-python",
   "name": "python",
   "nbconvert_exporter": "python",
   "pygments_lexer": "ipython3",
   "version": "3.10.8"
  },
  "widgets": {
   "application/vnd.jupyter.widget-state+json": {
    "state": {},
    "version_major": 2,
    "version_minor": 0
   }
  }
 },
 "nbformat": 4,
 "nbformat_minor": 5
}
