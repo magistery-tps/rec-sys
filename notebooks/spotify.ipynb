{
 "cells": [
  {
   "cell_type": "markdown",
   "id": "21789945-47f1-4b7a-bc31-ccc629d520b8",
   "metadata": {},
   "source": [
    "[Spotify Million Playlist Dataset Challenge](https://www.aicrowd.com/challenges/spotify-million-playlist-dataset-challenge#summary)"
   ]
  },
  {
   "cell_type": "code",
   "execution_count": 1,
   "id": "8ab1435c-2253-4388-82c3-2b9a551e99d6",
   "metadata": {},
   "outputs": [],
   "source": [
    "%load_ext autoreload\n",
    "%autoreload 2"
   ]
  },
  {
   "cell_type": "code",
   "execution_count": 2,
   "id": "6fd262c6-014c-47b8-aab4-6e1c948b57e4",
   "metadata": {},
   "outputs": [],
   "source": [
    "import sys\n",
    "sys.path.append('../src')"
   ]
  },
  {
   "cell_type": "code",
   "execution_count": 3,
   "id": "bcbd1703-c737-4322-83b2-92382e71cb08",
   "metadata": {},
   "outputs": [],
   "source": [
    "import numpy as np\n",
    "import pandas as pd"
   ]
  },
  {
   "cell_type": "code",
   "execution_count": 4,
   "id": "9eb3f76f-1730-4c96-a637-70eb6472d075",
   "metadata": {},
   "outputs": [],
   "source": [
    "DATASET_PATH = '../datasets/spotify'"
   ]
  },
  {
   "cell_type": "code",
   "execution_count": null,
   "id": "438b9af5-4b57-43ac-a9a8-200320b8918f",
   "metadata": {},
   "outputs": [],
   "source": [
    "movies  = pd.read_csv(f'{DATASET_PATH}/ml-latest-small/movies.csv')\n",
    "links   = pd.read_csv(f'{DATASET_PATH}/ml-latest-small/links.csv')\n",
    "ratings = pd.read_csv(f'{DATASET_PATH}/ml-latest-small/ratings.csv')"
   ]
  }
 ],
 "metadata": {
  "kernelspec": {
   "display_name": "Python 3 (ipykernel)",
   "language": "python",
   "name": "python3"
  },
  "language_info": {
   "codemirror_mode": {
    "name": "ipython",
    "version": 3
   },
   "file_extension": ".py",
   "mimetype": "text/x-python",
   "name": "python",
   "nbconvert_exporter": "python",
   "pygments_lexer": "ipython3",
   "version": "3.10.6"
  }
 },
 "nbformat": 4,
 "nbformat_minor": 5
}
