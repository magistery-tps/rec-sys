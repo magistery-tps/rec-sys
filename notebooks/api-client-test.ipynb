{
 "cells": [
  {
   "cell_type": "code",
   "execution_count": 1,
   "id": "94f881df-4e34-4baa-bb19-bd38a2542192",
   "metadata": {
    "tags": []
   },
   "outputs": [],
   "source": [
    "%load_ext autoreload\n",
    "%autoreload 2"
   ]
  },
  {
   "cell_type": "code",
   "execution_count": 2,
   "id": "f8259342-bd48-49ce-a235-d7febaeabe33",
   "metadata": {
    "tags": []
   },
   "outputs": [],
   "source": [
    "import sys\n",
    "sys.path.append('../src')\n",
    "\n",
    "import numpy as np\n",
    "import pandas as pd\n",
    "\n",
    "from api import RecSysApi"
   ]
  },
  {
   "cell_type": "code",
   "execution_count": 3,
   "id": "79655577-629a-4f96-83ae-dd88a019cad5",
   "metadata": {
    "tags": []
   },
   "outputs": [],
   "source": [
    "api = RecSysApi(\n",
    "    host='http://nonosoft.ddns.net:8000',\n",
    "    token='e3ff025094fe0ee474501bbeda0a2a44e80230c1'\n",
    ")"
   ]
  },
  {
   "cell_type": "code",
   "execution_count": 8,
   "id": "8ce565b6-d9c7-4ab1-af3a-a37e7d552b20",
   "metadata": {},
   "outputs": [
    {
     "data": {
      "text/html": [
       "<pre style=\"white-space:pre;overflow-x:auto;line-height:normal;font-family:Menlo,'DejaVu Sans Mono',consolas,'Courier New',monospace\">\n",
       "<span style=\"font-weight: bold\">{</span>\n",
       "    <span style=\"color: #008000; text-decoration-color: #008000\">'status'</span>: <span style=\"color: #008080; text-decoration-color: #008080; font-weight: bold\">200</span>,\n",
       "    <span style=\"color: #008000; text-decoration-color: #008000\">'body'</span>: <span style=\"font-weight: bold\">{</span>\n",
       "        <span style=\"color: #008000; text-decoration-color: #008000\">'count'</span>: <span style=\"color: #008080; text-decoration-color: #008080; font-weight: bold\">1</span>,\n",
       "        <span style=\"color: #008000; text-decoration-color: #008000\">'next'</span>: <span style=\"color: #800080; text-decoration-color: #800080; font-style: italic\">None</span>,\n",
       "        <span style=\"color: #008000; text-decoration-color: #008000\">'previous'</span>: <span style=\"color: #800080; text-decoration-color: #800080; font-style: italic\">None</span>,\n",
       "        <span style=\"color: #008000; text-decoration-color: #008000\">'results'</span>: <span style=\"font-weight: bold\">[{</span><span style=\"color: #008000; text-decoration-color: #008000\">'id'</span>: <span style=\"color: #008080; text-decoration-color: #008080; font-weight: bold\">1</span>, <span style=\"color: #008000; text-decoration-color: #008000\">'name'</span>: <span style=\"color: #008000; text-decoration-color: #008000\">'nn-mf-emb'</span>, <span style=\"color: #008000; text-decoration-color: #008000\">'description'</span>: <span style=\"color: #008000; text-decoration-color: #008000\">'nn-mf-emb'</span><span style=\"font-weight: bold\">}]</span>\n",
       "    <span style=\"font-weight: bold\">}</span>\n",
       "<span style=\"font-weight: bold\">}</span>\n",
       "</pre>\n"
      ],
      "text/plain": [
       "\n",
       "\u001b[1m{\u001b[0m\n",
       "    \u001b[32m'status'\u001b[0m: \u001b[1;36m200\u001b[0m,\n",
       "    \u001b[32m'body'\u001b[0m: \u001b[1m{\u001b[0m\n",
       "        \u001b[32m'count'\u001b[0m: \u001b[1;36m1\u001b[0m,\n",
       "        \u001b[32m'next'\u001b[0m: \u001b[3;35mNone\u001b[0m,\n",
       "        \u001b[32m'previous'\u001b[0m: \u001b[3;35mNone\u001b[0m,\n",
       "        \u001b[32m'results'\u001b[0m: \u001b[1m[\u001b[0m\u001b[1m{\u001b[0m\u001b[32m'id'\u001b[0m: \u001b[1;36m1\u001b[0m, \u001b[32m'name'\u001b[0m: \u001b[32m'nn-mf-emb'\u001b[0m, \u001b[32m'description'\u001b[0m: \u001b[32m'nn-mf-emb'\u001b[0m\u001b[1m}\u001b[0m\u001b[1m]\u001b[0m\n",
       "    \u001b[1m}\u001b[0m\n",
       "\u001b[1m}\u001b[0m\n"
      ]
     },
     "metadata": {},
     "output_type": "display_data"
    }
   ],
   "source": [
    "api.distances_matrix(limit=10)"
   ]
  },
  {
   "cell_type": "code",
   "execution_count": 9,
   "id": "12bb7935-a1d2-4992-8b60-fa30afd83c84",
   "metadata": {},
   "outputs": [
    {
     "data": {
      "text/html": [
       "<pre style=\"white-space:pre;overflow-x:auto;line-height:normal;font-family:Menlo,'DejaVu Sans Mono',consolas,'Courier New',monospace\"><span style=\"font-weight: bold\">{</span><span style=\"color: #008000; text-decoration-color: #008000\">'status'</span>: <span style=\"color: #008080; text-decoration-color: #008080; font-weight: bold\">201</span>, <span style=\"color: #008000; text-decoration-color: #008000\">'body'</span>: <span style=\"font-weight: bold\">{</span><span style=\"color: #008000; text-decoration-color: #008000\">'id'</span>: <span style=\"color: #008080; text-decoration-color: #008080; font-weight: bold\">2</span>, <span style=\"color: #008000; text-decoration-color: #008000\">'name'</span>: <span style=\"color: #008000; text-decoration-color: #008000\">'nn-mf-emb'</span>, <span style=\"color: #008000; text-decoration-color: #008000\">'description'</span>: <span style=\"color: #008000; text-decoration-color: #008000\">'nn-mf-emb'</span><span style=\"font-weight: bold\">}}</span>\n",
       "</pre>\n"
      ],
      "text/plain": [
       "\u001b[1m{\u001b[0m\u001b[32m'status'\u001b[0m: \u001b[1;36m201\u001b[0m, \u001b[32m'body'\u001b[0m: \u001b[1m{\u001b[0m\u001b[32m'id'\u001b[0m: \u001b[1;36m2\u001b[0m, \u001b[32m'name'\u001b[0m: \u001b[32m'nn-mf-emb'\u001b[0m, \u001b[32m'description'\u001b[0m: \u001b[32m'nn-mf-emb'\u001b[0m\u001b[1m}\u001b[0m\u001b[1m}\u001b[0m\n"
      ]
     },
     "metadata": {},
     "output_type": "display_data"
    }
   ],
   "source": [
    "api.add_distances_matrix(\"nn-mf-emb\",\"nn-mf-emb\")"
   ]
  },
  {
   "cell_type": "code",
   "execution_count": 10,
   "id": "bf137a65-ba2e-497b-845b-24fef671f914",
   "metadata": {},
   "outputs": [
    {
     "data": {
      "text/html": [
       "<pre style=\"white-space:pre;overflow-x:auto;line-height:normal;font-family:Menlo,'DejaVu Sans Mono',consolas,'Courier New',monospace\">\n",
       "<span style=\"font-weight: bold\">{</span>\n",
       "    <span style=\"color: #008000; text-decoration-color: #008000\">'status'</span>: <span style=\"color: #008080; text-decoration-color: #008080; font-weight: bold\">200</span>,\n",
       "    <span style=\"color: #008000; text-decoration-color: #008000\">'body'</span>: <span style=\"font-weight: bold\">{</span>\n",
       "        <span style=\"color: #008000; text-decoration-color: #008000\">'count'</span>: <span style=\"color: #008080; text-decoration-color: #008080; font-weight: bold\">2</span>,\n",
       "        <span style=\"color: #008000; text-decoration-color: #008000\">'next'</span>: <span style=\"color: #800080; text-decoration-color: #800080; font-style: italic\">None</span>,\n",
       "        <span style=\"color: #008000; text-decoration-color: #008000\">'previous'</span>: <span style=\"color: #800080; text-decoration-color: #800080; font-style: italic\">None</span>,\n",
       "        <span style=\"color: #008000; text-decoration-color: #008000\">'results'</span>: <span style=\"font-weight: bold\">[</span>\n",
       "            <span style=\"font-weight: bold\">{</span><span style=\"color: #008000; text-decoration-color: #008000\">'id'</span>: <span style=\"color: #008080; text-decoration-color: #008080; font-weight: bold\">1</span>, <span style=\"color: #008000; text-decoration-color: #008000\">'name'</span>: <span style=\"color: #008000; text-decoration-color: #008000\">'nn-mf-emb'</span>, <span style=\"color: #008000; text-decoration-color: #008000\">'description'</span>: <span style=\"color: #008000; text-decoration-color: #008000\">'nn-mf-emb'</span><span style=\"font-weight: bold\">}</span>,\n",
       "            <span style=\"font-weight: bold\">{</span><span style=\"color: #008000; text-decoration-color: #008000\">'id'</span>: <span style=\"color: #008080; text-decoration-color: #008080; font-weight: bold\">2</span>, <span style=\"color: #008000; text-decoration-color: #008000\">'name'</span>: <span style=\"color: #008000; text-decoration-color: #008000\">'nn-mf-emb'</span>, <span style=\"color: #008000; text-decoration-color: #008000\">'description'</span>: <span style=\"color: #008000; text-decoration-color: #008000\">'nn-mf-emb'</span><span style=\"font-weight: bold\">}</span>\n",
       "        <span style=\"font-weight: bold\">]</span>\n",
       "    <span style=\"font-weight: bold\">}</span>\n",
       "<span style=\"font-weight: bold\">}</span>\n",
       "</pre>\n"
      ],
      "text/plain": [
       "\n",
       "\u001b[1m{\u001b[0m\n",
       "    \u001b[32m'status'\u001b[0m: \u001b[1;36m200\u001b[0m,\n",
       "    \u001b[32m'body'\u001b[0m: \u001b[1m{\u001b[0m\n",
       "        \u001b[32m'count'\u001b[0m: \u001b[1;36m2\u001b[0m,\n",
       "        \u001b[32m'next'\u001b[0m: \u001b[3;35mNone\u001b[0m,\n",
       "        \u001b[32m'previous'\u001b[0m: \u001b[3;35mNone\u001b[0m,\n",
       "        \u001b[32m'results'\u001b[0m: \u001b[1m[\u001b[0m\n",
       "            \u001b[1m{\u001b[0m\u001b[32m'id'\u001b[0m: \u001b[1;36m1\u001b[0m, \u001b[32m'name'\u001b[0m: \u001b[32m'nn-mf-emb'\u001b[0m, \u001b[32m'description'\u001b[0m: \u001b[32m'nn-mf-emb'\u001b[0m\u001b[1m}\u001b[0m,\n",
       "            \u001b[1m{\u001b[0m\u001b[32m'id'\u001b[0m: \u001b[1;36m2\u001b[0m, \u001b[32m'name'\u001b[0m: \u001b[32m'nn-mf-emb'\u001b[0m, \u001b[32m'description'\u001b[0m: \u001b[32m'nn-mf-emb'\u001b[0m\u001b[1m}\u001b[0m\n",
       "        \u001b[1m]\u001b[0m\n",
       "    \u001b[1m}\u001b[0m\n",
       "\u001b[1m}\u001b[0m\n"
      ]
     },
     "metadata": {},
     "output_type": "display_data"
    }
   ],
   "source": [
    "api.distances_matrix(limit=10)"
   ]
  },
  {
   "cell_type": "code",
   "execution_count": 60,
   "id": "a2e9d377-9e1b-40a1-b779-76d381b81eff",
   "metadata": {},
   "outputs": [
    {
     "data": {
      "text/html": [
       "<pre style=\"white-space:pre;overflow-x:auto;line-height:normal;font-family:Menlo,'DejaVu Sans Mono',consolas,'Courier New',monospace\"><span style=\"font-weight: bold\">{</span><span style=\"color: #008000; text-decoration-color: #008000\">'status'</span>: <span style=\"color: #008080; text-decoration-color: #008080; font-weight: bold\">204</span>, <span style=\"color: #008000; text-decoration-color: #008000\">'body'</span>: <span style=\"color: #008000; text-decoration-color: #008000\">b''</span><span style=\"font-weight: bold\">}</span>\n",
       "</pre>\n"
      ],
      "text/plain": [
       "\u001b[1m{\u001b[0m\u001b[32m'status'\u001b[0m: \u001b[1;36m204\u001b[0m, \u001b[32m'body'\u001b[0m: \u001b[32mb''\u001b[0m\u001b[1m}\u001b[0m\n"
      ]
     },
     "metadata": {},
     "output_type": "display_data"
    }
   ],
   "source": [
    "api.remove_distances_matrix(7)"
   ]
  },
  {
   "cell_type": "code",
   "execution_count": 10,
   "id": "aee77762-5498-45dc-84d3-71ad80569150",
   "metadata": {},
   "outputs": [
    {
     "data": {
      "text/html": [
       "<pre style=\"white-space:pre;overflow-x:auto;line-height:normal;font-family:Menlo,'DejaVu Sans Mono',consolas,'Courier New',monospace\">\n",
       "<span style=\"font-weight: bold\">{</span>\n",
       "    <span style=\"color: #008000; text-decoration-color: #008000\">'status'</span>: <span style=\"color: #008080; text-decoration-color: #008080; font-weight: bold\">200</span>,\n",
       "    <span style=\"color: #008000; text-decoration-color: #008000\">'body'</span>: <span style=\"font-weight: bold\">{</span>\n",
       "        <span style=\"color: #008000; text-decoration-color: #008000\">'count'</span>: <span style=\"color: #008080; text-decoration-color: #008080; font-weight: bold\">1</span>,\n",
       "        <span style=\"color: #008000; text-decoration-color: #008000\">'next'</span>: <span style=\"color: #800080; text-decoration-color: #800080; font-style: italic\">None</span>,\n",
       "        <span style=\"color: #008000; text-decoration-color: #008000\">'previous'</span>: <span style=\"color: #800080; text-decoration-color: #800080; font-style: italic\">None</span>,\n",
       "        <span style=\"color: #008000; text-decoration-color: #008000\">'results'</span>: <span style=\"font-weight: bold\">[{</span><span style=\"color: #008000; text-decoration-color: #008000\">'id'</span>: <span style=\"color: #008080; text-decoration-color: #008080; font-weight: bold\">1</span>, <span style=\"color: #008000; text-decoration-color: #008000\">'name'</span>: <span style=\"color: #008000; text-decoration-color: #008000\">'nn-mf-emb'</span>, <span style=\"color: #008000; text-decoration-color: #008000\">'description'</span>: <span style=\"color: #008000; text-decoration-color: #008000\">'nn-mf-emb'</span><span style=\"font-weight: bold\">}]</span>\n",
       "    <span style=\"font-weight: bold\">}</span>\n",
       "<span style=\"font-weight: bold\">}</span>\n",
       "</pre>\n"
      ],
      "text/plain": [
       "\n",
       "\u001b[1m{\u001b[0m\n",
       "    \u001b[32m'status'\u001b[0m: \u001b[1;36m200\u001b[0m,\n",
       "    \u001b[32m'body'\u001b[0m: \u001b[1m{\u001b[0m\n",
       "        \u001b[32m'count'\u001b[0m: \u001b[1;36m1\u001b[0m,\n",
       "        \u001b[32m'next'\u001b[0m: \u001b[3;35mNone\u001b[0m,\n",
       "        \u001b[32m'previous'\u001b[0m: \u001b[3;35mNone\u001b[0m,\n",
       "        \u001b[32m'results'\u001b[0m: \u001b[1m[\u001b[0m\u001b[1m{\u001b[0m\u001b[32m'id'\u001b[0m: \u001b[1;36m1\u001b[0m, \u001b[32m'name'\u001b[0m: \u001b[32m'nn-mf-emb'\u001b[0m, \u001b[32m'description'\u001b[0m: \u001b[32m'nn-mf-emb'\u001b[0m\u001b[1m}\u001b[0m\u001b[1m]\u001b[0m\n",
       "    \u001b[1m}\u001b[0m\n",
       "\u001b[1m}\u001b[0m\n"
      ]
     },
     "metadata": {},
     "output_type": "display_data"
    }
   ],
   "source": [
    "api.distances_matrix(limit=10)"
   ]
  },
  {
   "cell_type": "code",
   "execution_count": 11,
   "id": "73d10237-1054-4967-8086-81979760c411",
   "metadata": {},
   "outputs": [
    {
     "data": {
      "text/html": [
       "<pre style=\"white-space:pre;overflow-x:auto;line-height:normal;font-family:Menlo,'DejaVu Sans Mono',consolas,'Courier New',monospace\">\n",
       "<span style=\"font-weight: bold\">{</span>\n",
       "    <span style=\"color: #008000; text-decoration-color: #008000\">'status'</span>: <span style=\"color: #008080; text-decoration-color: #008080; font-weight: bold\">200</span>,\n",
       "    <span style=\"color: #008000; text-decoration-color: #008000\">'body'</span>: <span style=\"font-weight: bold\">{</span><span style=\"color: #008000; text-decoration-color: #008000\">'count'</span>: <span style=\"color: #008080; text-decoration-color: #008080; font-weight: bold\">0</span>, <span style=\"color: #008000; text-decoration-color: #008000\">'next'</span>: <span style=\"color: #800080; text-decoration-color: #800080; font-style: italic\">None</span>, <span style=\"color: #008000; text-decoration-color: #008000\">'previous'</span>: <span style=\"color: #800080; text-decoration-color: #800080; font-style: italic\">None</span>, <span style=\"color: #008000; text-decoration-color: #008000\">'results'</span>: <span style=\"font-weight: bold\">[]}</span>\n",
       "<span style=\"font-weight: bold\">}</span>\n",
       "</pre>\n"
      ],
      "text/plain": [
       "\n",
       "\u001b[1m{\u001b[0m\n",
       "    \u001b[32m'status'\u001b[0m: \u001b[1;36m200\u001b[0m,\n",
       "    \u001b[32m'body'\u001b[0m: \u001b[1m{\u001b[0m\u001b[32m'count'\u001b[0m: \u001b[1;36m0\u001b[0m, \u001b[32m'next'\u001b[0m: \u001b[3;35mNone\u001b[0m, \u001b[32m'previous'\u001b[0m: \u001b[3;35mNone\u001b[0m, \u001b[32m'results'\u001b[0m: \u001b[1m[\u001b[0m\u001b[1m]\u001b[0m\u001b[1m}\u001b[0m\n",
       "\u001b[1m}\u001b[0m\n"
      ]
     },
     "metadata": {},
     "output_type": "display_data"
    }
   ],
   "source": [
    "api.distance_cells(limit=10)"
   ]
  },
  {
   "cell_type": "code",
   "execution_count": 14,
   "id": "3e9abc34-0128-4d1f-9fdb-0236b912d5b5",
   "metadata": {},
   "outputs": [
    {
     "data": {
      "text/html": [
       "<pre style=\"white-space:pre;overflow-x:auto;line-height:normal;font-family:Menlo,'DejaVu Sans Mono',consolas,'Courier New',monospace\">\n",
       "<span style=\"font-weight: bold\">{</span>\n",
       "    <span style=\"color: #008000; text-decoration-color: #008000\">'status'</span>: <span style=\"color: #008080; text-decoration-color: #008080; font-weight: bold\">201</span>,\n",
       "    <span style=\"color: #008000; text-decoration-color: #008000\">'body'</span>: <span style=\"font-weight: bold\">{</span>\n",
       "        <span style=\"color: #008000; text-decoration-color: #008000\">'id'</span>: <span style=\"color: #008080; text-decoration-color: #008080; font-weight: bold\">2</span>,\n",
       "        <span style=\"color: #008000; text-decoration-color: #008000\">'row'</span>: <span style=\"color: #008080; text-decoration-color: #008080; font-weight: bold\">1</span>,\n",
       "        <span style=\"color: #008000; text-decoration-color: #008000\">'column'</span>: <span style=\"color: #008080; text-decoration-color: #008080; font-weight: bold\">2</span>,\n",
       "        <span style=\"color: #008000; text-decoration-color: #008000\">'value'</span>: <span style=\"color: #008080; text-decoration-color: #008080; font-weight: bold\">0.5</span>,\n",
       "        <span style=\"color: #008000; text-decoration-color: #008000\">'matrix'</span>: <span style=\"color: #008000; text-decoration-color: #008000\">'http://localhost:8000/api/distances-matrix/1/'</span>\n",
       "    <span style=\"font-weight: bold\">}</span>\n",
       "<span style=\"font-weight: bold\">}</span>\n",
       "</pre>\n"
      ],
      "text/plain": [
       "\n",
       "\u001b[1m{\u001b[0m\n",
       "    \u001b[32m'status'\u001b[0m: \u001b[1;36m201\u001b[0m,\n",
       "    \u001b[32m'body'\u001b[0m: \u001b[1m{\u001b[0m\n",
       "        \u001b[32m'id'\u001b[0m: \u001b[1;36m2\u001b[0m,\n",
       "        \u001b[32m'row'\u001b[0m: \u001b[1;36m1\u001b[0m,\n",
       "        \u001b[32m'column'\u001b[0m: \u001b[1;36m2\u001b[0m,\n",
       "        \u001b[32m'value'\u001b[0m: \u001b[1;36m0.5\u001b[0m,\n",
       "        \u001b[32m'matrix'\u001b[0m: \u001b[32m'http://localhost:8000/api/distances-matrix/1/'\u001b[0m\n",
       "    \u001b[1m}\u001b[0m\n",
       "\u001b[1m}\u001b[0m\n"
      ]
     },
     "metadata": {},
     "output_type": "display_data"
    }
   ],
   "source": [
    "api.add_distance_cell(row=1, column=2, value=0.5, matrix=1)"
   ]
  },
  {
   "cell_type": "code",
   "execution_count": 15,
   "id": "79f2fd02-326d-434f-97be-817efbf701db",
   "metadata": {},
   "outputs": [
    {
     "data": {
      "text/html": [
       "<pre style=\"white-space:pre;overflow-x:auto;line-height:normal;font-family:Menlo,'DejaVu Sans Mono',consolas,'Courier New',monospace\">\n",
       "<span style=\"font-weight: bold\">{</span>\n",
       "    <span style=\"color: #008000; text-decoration-color: #008000\">'status'</span>: <span style=\"color: #008080; text-decoration-color: #008080; font-weight: bold\">200</span>,\n",
       "    <span style=\"color: #008000; text-decoration-color: #008000\">'body'</span>: <span style=\"font-weight: bold\">{</span>\n",
       "        <span style=\"color: #008000; text-decoration-color: #008000\">'count'</span>: <span style=\"color: #008080; text-decoration-color: #008080; font-weight: bold\">2</span>,\n",
       "        <span style=\"color: #008000; text-decoration-color: #008000\">'next'</span>: <span style=\"color: #800080; text-decoration-color: #800080; font-style: italic\">None</span>,\n",
       "        <span style=\"color: #008000; text-decoration-color: #008000\">'previous'</span>: <span style=\"color: #800080; text-decoration-color: #800080; font-style: italic\">None</span>,\n",
       "        <span style=\"color: #008000; text-decoration-color: #008000\">'results'</span>: <span style=\"font-weight: bold\">[</span>\n",
       "            <span style=\"font-weight: bold\">{</span>\n",
       "                <span style=\"color: #008000; text-decoration-color: #008000\">'id'</span>: <span style=\"color: #008080; text-decoration-color: #008080; font-weight: bold\">1</span>,\n",
       "                <span style=\"color: #008000; text-decoration-color: #008000\">'row'</span>: <span style=\"color: #008080; text-decoration-color: #008080; font-weight: bold\">1</span>,\n",
       "                <span style=\"color: #008000; text-decoration-color: #008000\">'column'</span>: <span style=\"color: #008080; text-decoration-color: #008080; font-weight: bold\">2</span>,\n",
       "                <span style=\"color: #008000; text-decoration-color: #008000\">'value'</span>: <span style=\"color: #008080; text-decoration-color: #008080; font-weight: bold\">0.5</span>,\n",
       "                <span style=\"color: #008000; text-decoration-color: #008000\">'matrix'</span>: <span style=\"color: #008000; text-decoration-color: #008000\">'http://localhost:8000/api/distances-matrix/1/'</span>\n",
       "            <span style=\"font-weight: bold\">}</span>,\n",
       "            <span style=\"font-weight: bold\">{</span>\n",
       "                <span style=\"color: #008000; text-decoration-color: #008000\">'id'</span>: <span style=\"color: #008080; text-decoration-color: #008080; font-weight: bold\">2</span>,\n",
       "                <span style=\"color: #008000; text-decoration-color: #008000\">'row'</span>: <span style=\"color: #008080; text-decoration-color: #008080; font-weight: bold\">1</span>,\n",
       "                <span style=\"color: #008000; text-decoration-color: #008000\">'column'</span>: <span style=\"color: #008080; text-decoration-color: #008080; font-weight: bold\">2</span>,\n",
       "                <span style=\"color: #008000; text-decoration-color: #008000\">'value'</span>: <span style=\"color: #008080; text-decoration-color: #008080; font-weight: bold\">0.5</span>,\n",
       "                <span style=\"color: #008000; text-decoration-color: #008000\">'matrix'</span>: <span style=\"color: #008000; text-decoration-color: #008000\">'http://localhost:8000/api/distances-matrix/1/'</span>\n",
       "            <span style=\"font-weight: bold\">}</span>\n",
       "        <span style=\"font-weight: bold\">]</span>\n",
       "    <span style=\"font-weight: bold\">}</span>\n",
       "<span style=\"font-weight: bold\">}</span>\n",
       "</pre>\n"
      ],
      "text/plain": [
       "\n",
       "\u001b[1m{\u001b[0m\n",
       "    \u001b[32m'status'\u001b[0m: \u001b[1;36m200\u001b[0m,\n",
       "    \u001b[32m'body'\u001b[0m: \u001b[1m{\u001b[0m\n",
       "        \u001b[32m'count'\u001b[0m: \u001b[1;36m2\u001b[0m,\n",
       "        \u001b[32m'next'\u001b[0m: \u001b[3;35mNone\u001b[0m,\n",
       "        \u001b[32m'previous'\u001b[0m: \u001b[3;35mNone\u001b[0m,\n",
       "        \u001b[32m'results'\u001b[0m: \u001b[1m[\u001b[0m\n",
       "            \u001b[1m{\u001b[0m\n",
       "                \u001b[32m'id'\u001b[0m: \u001b[1;36m1\u001b[0m,\n",
       "                \u001b[32m'row'\u001b[0m: \u001b[1;36m1\u001b[0m,\n",
       "                \u001b[32m'column'\u001b[0m: \u001b[1;36m2\u001b[0m,\n",
       "                \u001b[32m'value'\u001b[0m: \u001b[1;36m0.5\u001b[0m,\n",
       "                \u001b[32m'matrix'\u001b[0m: \u001b[32m'http://localhost:8000/api/distances-matrix/1/'\u001b[0m\n",
       "            \u001b[1m}\u001b[0m,\n",
       "            \u001b[1m{\u001b[0m\n",
       "                \u001b[32m'id'\u001b[0m: \u001b[1;36m2\u001b[0m,\n",
       "                \u001b[32m'row'\u001b[0m: \u001b[1;36m1\u001b[0m,\n",
       "                \u001b[32m'column'\u001b[0m: \u001b[1;36m2\u001b[0m,\n",
       "                \u001b[32m'value'\u001b[0m: \u001b[1;36m0.5\u001b[0m,\n",
       "                \u001b[32m'matrix'\u001b[0m: \u001b[32m'http://localhost:8000/api/distances-matrix/1/'\u001b[0m\n",
       "            \u001b[1m}\u001b[0m\n",
       "        \u001b[1m]\u001b[0m\n",
       "    \u001b[1m}\u001b[0m\n",
       "\u001b[1m}\u001b[0m\n"
      ]
     },
     "metadata": {},
     "output_type": "display_data"
    }
   ],
   "source": [
    "api.distance_cells(limit=10)"
   ]
  },
  {
   "cell_type": "code",
   "execution_count": 16,
   "id": "9a7f96e1-32fe-421b-b223-45b42c738e07",
   "metadata": {},
   "outputs": [
    {
     "data": {
      "text/html": [
       "<pre style=\"white-space:pre;overflow-x:auto;line-height:normal;font-family:Menlo,'DejaVu Sans Mono',consolas,'Courier New',monospace\">\n",
       "<span style=\"font-weight: bold\">{</span>\n",
       "    <span style=\"color: #008000; text-decoration-color: #008000\">'status'</span>: <span style=\"color: #008080; text-decoration-color: #008080; font-weight: bold\">200</span>,\n",
       "    <span style=\"color: #008000; text-decoration-color: #008000\">'body'</span>: <span style=\"font-weight: bold\">{</span>\n",
       "        <span style=\"color: #008000; text-decoration-color: #008000\">'count'</span>: <span style=\"color: #008080; text-decoration-color: #008080; font-weight: bold\">18500</span>,\n",
       "        <span style=\"color: #008000; text-decoration-color: #008000\">'next'</span>: <span style=\"color: #008000; text-decoration-color: #008000\">'http://localhost:8000/api/interactions/?limit=10&amp;offset=10'</span>,\n",
       "        <span style=\"color: #008000; text-decoration-color: #008000\">'previous'</span>: <span style=\"color: #800080; text-decoration-color: #800080; font-style: italic\">None</span>,\n",
       "        <span style=\"color: #008000; text-decoration-color: #008000\">'results'</span>: <span style=\"font-weight: bold\">[</span>\n",
       "            <span style=\"font-weight: bold\">{</span>\n",
       "                <span style=\"color: #008000; text-decoration-color: #008000\">'user'</span>: <span style=\"color: #008080; text-decoration-color: #008080; font-weight: bold\">1</span>,\n",
       "                <span style=\"color: #008000; text-decoration-color: #008000\">'item'</span>: <span style=\"color: #008000; text-decoration-color: #008000\">'http://localhost:8000/api/items/411/'</span>,\n",
       "                <span style=\"color: #008000; text-decoration-color: #008000\">'rating'</span>: <span style=\"color: #008080; text-decoration-color: #008080; font-weight: bold\">4.0</span>\n",
       "            <span style=\"font-weight: bold\">}</span>,\n",
       "            <span style=\"font-weight: bold\">{</span>\n",
       "                <span style=\"color: #008000; text-decoration-color: #008000\">'user'</span>: <span style=\"color: #008080; text-decoration-color: #008080; font-weight: bold\">2</span>,\n",
       "                <span style=\"color: #008000; text-decoration-color: #008000\">'item'</span>: <span style=\"color: #008000; text-decoration-color: #008000\">'http://localhost:8000/api/items/411/'</span>,\n",
       "                <span style=\"color: #008000; text-decoration-color: #008000\">'rating'</span>: <span style=\"color: #008080; text-decoration-color: #008080; font-weight: bold\">5.0</span>\n",
       "            <span style=\"font-weight: bold\">}</span>,\n",
       "            <span style=\"font-weight: bold\">{</span>\n",
       "                <span style=\"color: #008000; text-decoration-color: #008000\">'user'</span>: <span style=\"color: #008080; text-decoration-color: #008080; font-weight: bold\">3</span>,\n",
       "                <span style=\"color: #008000; text-decoration-color: #008000\">'item'</span>: <span style=\"color: #008000; text-decoration-color: #008000\">'http://localhost:8000/api/items/411/'</span>,\n",
       "                <span style=\"color: #008000; text-decoration-color: #008000\">'rating'</span>: <span style=\"color: #008080; text-decoration-color: #008080; font-weight: bold\">4.0</span>\n",
       "            <span style=\"font-weight: bold\">}</span>,\n",
       "            <span style=\"font-weight: bold\">{</span>\n",
       "                <span style=\"color: #008000; text-decoration-color: #008000\">'user'</span>: <span style=\"color: #008080; text-decoration-color: #008080; font-weight: bold\">4</span>,\n",
       "                <span style=\"color: #008000; text-decoration-color: #008000\">'item'</span>: <span style=\"color: #008000; text-decoration-color: #008000\">'http://localhost:8000/api/items/411/'</span>,\n",
       "                <span style=\"color: #008000; text-decoration-color: #008000\">'rating'</span>: <span style=\"color: #008080; text-decoration-color: #008080; font-weight: bold\">4.0</span>\n",
       "            <span style=\"font-weight: bold\">}</span>,\n",
       "            <span style=\"font-weight: bold\">{</span>\n",
       "                <span style=\"color: #008000; text-decoration-color: #008000\">'user'</span>: <span style=\"color: #008080; text-decoration-color: #008080; font-weight: bold\">5</span>,\n",
       "                <span style=\"color: #008000; text-decoration-color: #008000\">'item'</span>: <span style=\"color: #008000; text-decoration-color: #008000\">'http://localhost:8000/api/items/411/'</span>,\n",
       "                <span style=\"color: #008000; text-decoration-color: #008000\">'rating'</span>: <span style=\"color: #008080; text-decoration-color: #008080; font-weight: bold\">4.0</span>\n",
       "            <span style=\"font-weight: bold\">}</span>,\n",
       "            <span style=\"font-weight: bold\">{</span>\n",
       "                <span style=\"color: #008000; text-decoration-color: #008000\">'user'</span>: <span style=\"color: #008080; text-decoration-color: #008080; font-weight: bold\">6</span>,\n",
       "                <span style=\"color: #008000; text-decoration-color: #008000\">'item'</span>: <span style=\"color: #008000; text-decoration-color: #008000\">'http://localhost:8000/api/items/411/'</span>,\n",
       "                <span style=\"color: #008000; text-decoration-color: #008000\">'rating'</span>: <span style=\"color: #008080; text-decoration-color: #008080; font-weight: bold\">5.0</span>\n",
       "            <span style=\"font-weight: bold\">}</span>,\n",
       "            <span style=\"font-weight: bold\">{</span>\n",
       "                <span style=\"color: #008000; text-decoration-color: #008000\">'user'</span>: <span style=\"color: #008080; text-decoration-color: #008080; font-weight: bold\">7</span>,\n",
       "                <span style=\"color: #008000; text-decoration-color: #008000\">'item'</span>: <span style=\"color: #008000; text-decoration-color: #008000\">'http://localhost:8000/api/items/411/'</span>,\n",
       "                <span style=\"color: #008000; text-decoration-color: #008000\">'rating'</span>: <span style=\"color: #008080; text-decoration-color: #008080; font-weight: bold\">4.0</span>\n",
       "            <span style=\"font-weight: bold\">}</span>,\n",
       "            <span style=\"font-weight: bold\">{</span>\n",
       "                <span style=\"color: #008000; text-decoration-color: #008000\">'user'</span>: <span style=\"color: #008080; text-decoration-color: #008080; font-weight: bold\">8</span>,\n",
       "                <span style=\"color: #008000; text-decoration-color: #008000\">'item'</span>: <span style=\"color: #008000; text-decoration-color: #008000\">'http://localhost:8000/api/items/411/'</span>,\n",
       "                <span style=\"color: #008000; text-decoration-color: #008000\">'rating'</span>: <span style=\"color: #008080; text-decoration-color: #008080; font-weight: bold\">5.0</span>\n",
       "            <span style=\"font-weight: bold\">}</span>,\n",
       "            <span style=\"font-weight: bold\">{</span>\n",
       "                <span style=\"color: #008000; text-decoration-color: #008000\">'user'</span>: <span style=\"color: #008080; text-decoration-color: #008080; font-weight: bold\">9</span>,\n",
       "                <span style=\"color: #008000; text-decoration-color: #008000\">'item'</span>: <span style=\"color: #008000; text-decoration-color: #008000\">'http://localhost:8000/api/items/411/'</span>,\n",
       "                <span style=\"color: #008000; text-decoration-color: #008000\">'rating'</span>: <span style=\"color: #008080; text-decoration-color: #008080; font-weight: bold\">5.0</span>\n",
       "            <span style=\"font-weight: bold\">}</span>,\n",
       "            <span style=\"font-weight: bold\">{</span>\n",
       "                <span style=\"color: #008000; text-decoration-color: #008000\">'user'</span>: <span style=\"color: #008080; text-decoration-color: #008080; font-weight: bold\">10</span>,\n",
       "                <span style=\"color: #008000; text-decoration-color: #008000\">'item'</span>: <span style=\"color: #008000; text-decoration-color: #008000\">'http://localhost:8000/api/items/411/'</span>,\n",
       "                <span style=\"color: #008000; text-decoration-color: #008000\">'rating'</span>: <span style=\"color: #008080; text-decoration-color: #008080; font-weight: bold\">5.0</span>\n",
       "            <span style=\"font-weight: bold\">}</span>\n",
       "        <span style=\"font-weight: bold\">]</span>\n",
       "    <span style=\"font-weight: bold\">}</span>\n",
       "<span style=\"font-weight: bold\">}</span>\n",
       "</pre>\n"
      ],
      "text/plain": [
       "\n",
       "\u001b[1m{\u001b[0m\n",
       "    \u001b[32m'status'\u001b[0m: \u001b[1;36m200\u001b[0m,\n",
       "    \u001b[32m'body'\u001b[0m: \u001b[1m{\u001b[0m\n",
       "        \u001b[32m'count'\u001b[0m: \u001b[1;36m18500\u001b[0m,\n",
       "        \u001b[32m'next'\u001b[0m: \u001b[32m'http://localhost:8000/api/interactions/?\u001b[0m\u001b[32mlimit\u001b[0m\u001b[32m=\u001b[0m\u001b[32m10\u001b[0m\u001b[32m&\u001b[0m\u001b[32moffset\u001b[0m\u001b[32m=\u001b[0m\u001b[32m10\u001b[0m\u001b[32m'\u001b[0m,\n",
       "        \u001b[32m'previous'\u001b[0m: \u001b[3;35mNone\u001b[0m,\n",
       "        \u001b[32m'results'\u001b[0m: \u001b[1m[\u001b[0m\n",
       "            \u001b[1m{\u001b[0m\n",
       "                \u001b[32m'user'\u001b[0m: \u001b[1;36m1\u001b[0m,\n",
       "                \u001b[32m'item'\u001b[0m: \u001b[32m'http://localhost:8000/api/items/411/'\u001b[0m,\n",
       "                \u001b[32m'rating'\u001b[0m: \u001b[1;36m4.0\u001b[0m\n",
       "            \u001b[1m}\u001b[0m,\n",
       "            \u001b[1m{\u001b[0m\n",
       "                \u001b[32m'user'\u001b[0m: \u001b[1;36m2\u001b[0m,\n",
       "                \u001b[32m'item'\u001b[0m: \u001b[32m'http://localhost:8000/api/items/411/'\u001b[0m,\n",
       "                \u001b[32m'rating'\u001b[0m: \u001b[1;36m5.0\u001b[0m\n",
       "            \u001b[1m}\u001b[0m,\n",
       "            \u001b[1m{\u001b[0m\n",
       "                \u001b[32m'user'\u001b[0m: \u001b[1;36m3\u001b[0m,\n",
       "                \u001b[32m'item'\u001b[0m: \u001b[32m'http://localhost:8000/api/items/411/'\u001b[0m,\n",
       "                \u001b[32m'rating'\u001b[0m: \u001b[1;36m4.0\u001b[0m\n",
       "            \u001b[1m}\u001b[0m,\n",
       "            \u001b[1m{\u001b[0m\n",
       "                \u001b[32m'user'\u001b[0m: \u001b[1;36m4\u001b[0m,\n",
       "                \u001b[32m'item'\u001b[0m: \u001b[32m'http://localhost:8000/api/items/411/'\u001b[0m,\n",
       "                \u001b[32m'rating'\u001b[0m: \u001b[1;36m4.0\u001b[0m\n",
       "            \u001b[1m}\u001b[0m,\n",
       "            \u001b[1m{\u001b[0m\n",
       "                \u001b[32m'user'\u001b[0m: \u001b[1;36m5\u001b[0m,\n",
       "                \u001b[32m'item'\u001b[0m: \u001b[32m'http://localhost:8000/api/items/411/'\u001b[0m,\n",
       "                \u001b[32m'rating'\u001b[0m: \u001b[1;36m4.0\u001b[0m\n",
       "            \u001b[1m}\u001b[0m,\n",
       "            \u001b[1m{\u001b[0m\n",
       "                \u001b[32m'user'\u001b[0m: \u001b[1;36m6\u001b[0m,\n",
       "                \u001b[32m'item'\u001b[0m: \u001b[32m'http://localhost:8000/api/items/411/'\u001b[0m,\n",
       "                \u001b[32m'rating'\u001b[0m: \u001b[1;36m5.0\u001b[0m\n",
       "            \u001b[1m}\u001b[0m,\n",
       "            \u001b[1m{\u001b[0m\n",
       "                \u001b[32m'user'\u001b[0m: \u001b[1;36m7\u001b[0m,\n",
       "                \u001b[32m'item'\u001b[0m: \u001b[32m'http://localhost:8000/api/items/411/'\u001b[0m,\n",
       "                \u001b[32m'rating'\u001b[0m: \u001b[1;36m4.0\u001b[0m\n",
       "            \u001b[1m}\u001b[0m,\n",
       "            \u001b[1m{\u001b[0m\n",
       "                \u001b[32m'user'\u001b[0m: \u001b[1;36m8\u001b[0m,\n",
       "                \u001b[32m'item'\u001b[0m: \u001b[32m'http://localhost:8000/api/items/411/'\u001b[0m,\n",
       "                \u001b[32m'rating'\u001b[0m: \u001b[1;36m5.0\u001b[0m\n",
       "            \u001b[1m}\u001b[0m,\n",
       "            \u001b[1m{\u001b[0m\n",
       "                \u001b[32m'user'\u001b[0m: \u001b[1;36m9\u001b[0m,\n",
       "                \u001b[32m'item'\u001b[0m: \u001b[32m'http://localhost:8000/api/items/411/'\u001b[0m,\n",
       "                \u001b[32m'rating'\u001b[0m: \u001b[1;36m5.0\u001b[0m\n",
       "            \u001b[1m}\u001b[0m,\n",
       "            \u001b[1m{\u001b[0m\n",
       "                \u001b[32m'user'\u001b[0m: \u001b[1;36m10\u001b[0m,\n",
       "                \u001b[32m'item'\u001b[0m: \u001b[32m'http://localhost:8000/api/items/411/'\u001b[0m,\n",
       "                \u001b[32m'rating'\u001b[0m: \u001b[1;36m5.0\u001b[0m\n",
       "            \u001b[1m}\u001b[0m\n",
       "        \u001b[1m]\u001b[0m\n",
       "    \u001b[1m}\u001b[0m\n",
       "\u001b[1m}\u001b[0m\n"
      ]
     },
     "metadata": {},
     "output_type": "display_data"
    }
   ],
   "source": [
    "api.interactions(limit=10)"
   ]
  },
  {
   "cell_type": "code",
   "execution_count": 12,
   "id": "33bf4ba0-b274-4e14-b509-d7ff706e0d19",
   "metadata": {
    "tags": []
   },
   "outputs": [
    {
     "data": {
      "text/plain": [
       "{\n",
       "    \"status\": 200,\n",
       "    \"body\": {\n",
       "        \"count\": 33440,\n",
       "        \"next\": \"http://nonosoft.ddns.net:8000/api/items/?description=&limit=10&name=&offset=10\",\n",
       "        \"previous\": null,\n",
       "        \"results\": [\n",
       "            {\n",
       "                \"id\": 1,\n",
       "                \"name\": \"Toy Story \",\n",
       "                \"description\": \"Led by Woody, Andy's toys live happily in his room until Andy's birthday brings Buzz Lightyear onto the scene. Afraid of losing his place in Andy's heart, Woody plots against Buzz. But when circumstances separate Buzz and Woody from their owner, the duo eventually learns to put aside their differences.\",\n",
       "                \"popularity\": 0.13088061736188272,\n",
       "                \"rating\": 3.982673267326733,\n",
       "                \"votes\": 202.0,\n",
       "                \"tags\": []\n",
       "            },\n",
       "            {\n",
       "                \"id\": 2,\n",
       "                \"name\": \"Jumanji \",\n",
       "                \"description\": \"When siblings Judy and Peter discover an enchanted board game that opens the door to a magical world, they unwittingly invite Alan -- an adult who's been trapped inside the game for 26 years -- into their living room. Alan's only hope for freedom is to finish the game, which proves risky as all three find themselves running from giant rhinoceroses, evil monkeys and other terrifying creatures.\",\n",
       "                \"popularity\": 0.02970860840850028,\n",
       "                \"rating\": 3.267857142857143,\n",
       "                \"votes\": 56.0,\n",
       "                \"tags\": []\n",
       "            },\n",
       "            {\n",
       "                \"id\": 3,\n",
       "                \"name\": \"Grumpier Old Men \",\n",
       "                \"description\": \"A family wedding reignites the ancient feud between next-door neighbors and fishing buddies John and Max. Meanwhile, a sultry Italian divorc\\u00e9e opens a restaurant at the local bait shop, alarming the locals who worry she'll scare the fish away. But she's less interested in seafood than she is in cooking up a hot time with Max.\",\n",
       "                \"popularity\": 0.00529049349873136,\n",
       "                \"rating\": 3.0,\n",
       "                \"votes\": 11.0,\n",
       "                \"tags\": []\n",
       "            },\n",
       "            {\n",
       "                \"id\": 4,\n",
       "                \"name\": \"Waiting to Exhale \",\n",
       "                \"description\": \"Cheated on, mistreated and stepped on, the women are holding their breath, waiting for the elusive good man to break a string of less-than-stellar lovers. Friends and confidants Vannah, Bernie, Glo and Robin talk it all out, determined to find a better way to breathe.\",\n",
       "                \"popularity\": 0.0006510909540161291,\n",
       "                \"rating\": 2.25,\n",
       "                \"votes\": 2.0,\n",
       "                \"tags\": []\n",
       "            },\n",
       "            {\n",
       "                \"id\": 5,\n",
       "                \"name\": \"Father of the Bride Part II \",\n",
       "                \"description\": \"Just when George Banks has recovered from his daughter's wedding, he receives the news that she's pregnant ... and that George's wife, Nina, is expecting too. He was planning on selling their home, but that's a plan that -- like George -- will have to change with the arrival of both a grandchild and a kid of his own.\",\n",
       "                \"popularity\": 0.0029301043125442685,\n",
       "                \"rating\": 3.0833333333333335,\n",
       "                \"votes\": 6.0,\n",
       "                \"tags\": []\n",
       "            },\n",
       "            {\n",
       "                \"id\": 6,\n",
       "                \"name\": \"Heat \",\n",
       "                \"description\": \"Obsessive master thief, Neil McCauley leads a top-notch crew on various insane heists throughout Los Angeles while a mentally unstable detective, Vincent Hanna pursues him without rest. Each man recognizes and respects the ability and the dedication of the other even though they are aware their cat-and-mouse game may end in violence.\",\n",
       "                \"popularity\": 0.06877739889250682,\n",
       "                \"rating\": 4.0673076923076925,\n",
       "                \"votes\": 104.0,\n",
       "                \"tags\": []\n",
       "            },\n",
       "            {\n",
       "                \"id\": 7,\n",
       "                \"name\": \"Sabrina \",\n",
       "                \"description\": \"An ugly duckling having undergone a remarkable change, still harbors feelings for her crush: a carefree playboy, but not before his business-focused brother has something to say about it.\",\n",
       "                \"popularity\": 0.013267089573175968,\n",
       "                \"rating\": 3.9047619047619047,\n",
       "                \"votes\": 21.0,\n",
       "                \"tags\": []\n",
       "            },\n",
       "            {\n",
       "                \"id\": 8,\n",
       "                \"name\": \"Tom and Huck \",\n",
       "                \"description\": \"A mischievous young boy, Tom Sawyer, witnesses a murder by the deadly Injun Joe. Tom becomes friends with Huckleberry Finn, a boy with no future and no family. Tom has to choose between honoring a friendship or honoring an oath because the town alcoholic is accused of the murder. Tom and Huck go through several adventures trying to retrieve evidence.\",\n",
       "                \"popularity\": 0.00032554547700806456,\n",
       "                \"rating\": 2.5,\n",
       "                \"votes\": 1.0,\n",
       "                \"tags\": []\n",
       "            },\n",
       "            {\n",
       "                \"id\": 9,\n",
       "                \"name\": \"Sudden Death \",\n",
       "                \"description\": \"International action superstar Jean Claude Van Damme teams with Powers Boothe in a Tension-packed, suspense thriller, set against the back-drop of a Stanley Cup game.Van Damme portrays a father whose daughter is suddenly taken during a championship hockey game. With the captors demanding a billion dollars by game's end, Van Damme frantically sets a plan in motion to rescue his daughter and abort an impending explosion before the final buzzer...\",\n",
       "                \"popularity\": 0.0008138636925201616,\n",
       "                \"rating\": 2.75,\n",
       "                \"votes\": 2.0,\n",
       "                \"tags\": []\n",
       "            },\n",
       "            {\n",
       "                \"id\": 10,\n",
       "                \"name\": \"GoldenEye \",\n",
       "                \"description\": \"James Bond must unmask the mysterious head of the Janus Syndicate and prevent the leader from utilizing the GoldenEye weapons system to inflict devastating revenge on Britain.\",\n",
       "                \"popularity\": 0.023278430322297622,\n",
       "                \"rating\": 3.5875,\n",
       "                \"votes\": 40.0,\n",
       "                \"tags\": []\n",
       "            }\n",
       "        ]\n",
       "    }\n",
       "}"
      ]
     },
     "execution_count": 12,
     "metadata": {},
     "output_type": "execute_result"
    }
   ],
   "source": [
    "api.items(limit=10)"
   ]
  },
  {
   "cell_type": "code",
   "execution_count": 18,
   "id": "3335b3c8-7496-4af0-ad10-4f3f83b2fc24",
   "metadata": {},
   "outputs": [
    {
     "data": {
      "text/html": [
       "<pre style=\"white-space:pre;overflow-x:auto;line-height:normal;font-family:Menlo,'DejaVu Sans Mono',consolas,'Courier New',monospace\">\n",
       "<span style=\"font-weight: bold\">{</span>\n",
       "    <span style=\"color: #008000; text-decoration-color: #008000\">'status'</span>: <span style=\"color: #008080; text-decoration-color: #008080; font-weight: bold\">200</span>,\n",
       "    <span style=\"color: #008000; text-decoration-color: #008000\">'body'</span>: <span style=\"font-weight: bold\">{</span>\n",
       "        <span style=\"color: #008000; text-decoration-color: #008000\">'count'</span>: <span style=\"color: #008080; text-decoration-color: #008080; font-weight: bold\">2</span>,\n",
       "        <span style=\"color: #008000; text-decoration-color: #008000\">'next'</span>: <span style=\"color: #800080; text-decoration-color: #800080; font-style: italic\">None</span>,\n",
       "        <span style=\"color: #008000; text-decoration-color: #008000\">'previous'</span>: <span style=\"color: #800080; text-decoration-color: #800080; font-style: italic\">None</span>,\n",
       "        <span style=\"color: #008000; text-decoration-color: #008000\">'results'</span>: <span style=\"font-weight: bold\">[</span>\n",
       "            <span style=\"font-weight: bold\">{</span>\n",
       "                <span style=\"color: #008000; text-decoration-color: #008000\">'id'</span>: <span style=\"color: #008080; text-decoration-color: #008080; font-weight: bold\">1</span>,\n",
       "                <span style=\"color: #008000; text-decoration-color: #008000\">'url'</span>: <span style=\"color: #008000; text-decoration-color: #008000\">'http://localhost:8000/api/users/1/'</span>,\n",
       "                <span style=\"color: #008000; text-decoration-color: #008000\">'username'</span>: <span style=\"color: #008000; text-decoration-color: #008000\">'adrian'</span>,\n",
       "                <span style=\"color: #008000; text-decoration-color: #008000\">'email'</span>: <span style=\"color: #008000; text-decoration-color: #008000\">'adrianmarino@gmail.com'</span>\n",
       "            <span style=\"font-weight: bold\">}</span>,\n",
       "            <span style=\"font-weight: bold\">{</span>\n",
       "                <span style=\"color: #008000; text-decoration-color: #008000\">'id'</span>: <span style=\"color: #008080; text-decoration-color: #008080; font-weight: bold\">5000</span>,\n",
       "                <span style=\"color: #008000; text-decoration-color: #008000\">'url'</span>: <span style=\"color: #008000; text-decoration-color: #008000\">'http://localhost:8000/api/users/5000/'</span>,\n",
       "                <span style=\"color: #008000; text-decoration-color: #008000\">'username'</span>: <span style=\"color: #008000; text-decoration-color: #008000\">'adrian.marino'</span>,\n",
       "                <span style=\"color: #008000; text-decoration-color: #008000\">'email'</span>: <span style=\"color: #008000; text-decoration-color: #008000\">'adrian.marino@pedidosya.com'</span>\n",
       "            <span style=\"font-weight: bold\">}</span>\n",
       "        <span style=\"font-weight: bold\">]</span>\n",
       "    <span style=\"font-weight: bold\">}</span>\n",
       "<span style=\"font-weight: bold\">}</span>\n",
       "</pre>\n"
      ],
      "text/plain": [
       "\n",
       "\u001b[1m{\u001b[0m\n",
       "    \u001b[32m'status'\u001b[0m: \u001b[1;36m200\u001b[0m,\n",
       "    \u001b[32m'body'\u001b[0m: \u001b[1m{\u001b[0m\n",
       "        \u001b[32m'count'\u001b[0m: \u001b[1;36m2\u001b[0m,\n",
       "        \u001b[32m'next'\u001b[0m: \u001b[3;35mNone\u001b[0m,\n",
       "        \u001b[32m'previous'\u001b[0m: \u001b[3;35mNone\u001b[0m,\n",
       "        \u001b[32m'results'\u001b[0m: \u001b[1m[\u001b[0m\n",
       "            \u001b[1m{\u001b[0m\n",
       "                \u001b[32m'id'\u001b[0m: \u001b[1;36m1\u001b[0m,\n",
       "                \u001b[32m'url'\u001b[0m: \u001b[32m'http://localhost:8000/api/users/1/'\u001b[0m,\n",
       "                \u001b[32m'username'\u001b[0m: \u001b[32m'adrian'\u001b[0m,\n",
       "                \u001b[32m'email'\u001b[0m: \u001b[32m'adrianmarino@gmail.com'\u001b[0m\n",
       "            \u001b[1m}\u001b[0m,\n",
       "            \u001b[1m{\u001b[0m\n",
       "                \u001b[32m'id'\u001b[0m: \u001b[1;36m5000\u001b[0m,\n",
       "                \u001b[32m'url'\u001b[0m: \u001b[32m'http://localhost:8000/api/users/5000/'\u001b[0m,\n",
       "                \u001b[32m'username'\u001b[0m: \u001b[32m'adrian.marino'\u001b[0m,\n",
       "                \u001b[32m'email'\u001b[0m: \u001b[32m'adrian.marino@pedidosya.com'\u001b[0m\n",
       "            \u001b[1m}\u001b[0m\n",
       "        \u001b[1m]\u001b[0m\n",
       "    \u001b[1m}\u001b[0m\n",
       "\u001b[1m}\u001b[0m\n"
      ]
     },
     "metadata": {},
     "output_type": "display_data"
    }
   ],
   "source": [
    "api.users(limit=10)"
   ]
  },
  {
   "cell_type": "code",
   "execution_count": 32,
   "id": "0728ae87-0155-4e0f-aca8-78260f28bb0c",
   "metadata": {
    "tags": []
   },
   "outputs": [
    {
     "data": {
      "text/html": [
       "<div>\n",
       "<style scoped>\n",
       "    .dataframe tbody tr th:only-of-type {\n",
       "        vertical-align: middle;\n",
       "    }\n",
       "\n",
       "    .dataframe tbody tr th {\n",
       "        vertical-align: top;\n",
       "    }\n",
       "\n",
       "    .dataframe thead th {\n",
       "        text-align: right;\n",
       "    }\n",
       "</style>\n",
       "<table border=\"1\" class=\"dataframe\">\n",
       "  <thead>\n",
       "    <tr style=\"text-align: right;\">\n",
       "      <th></th>\n",
       "      <th>id</th>\n",
       "      <th>rating</th>\n",
       "      <th>votes</th>\n",
       "    </tr>\n",
       "  </thead>\n",
       "  <tbody>\n",
       "    <tr>\n",
       "      <th>0</th>\n",
       "      <td>1</td>\n",
       "      <td>3.982673</td>\n",
       "      <td>202.0</td>\n",
       "    </tr>\n",
       "    <tr>\n",
       "      <th>1</th>\n",
       "      <td>2</td>\n",
       "      <td>3.267857</td>\n",
       "      <td>56.0</td>\n",
       "    </tr>\n",
       "    <tr>\n",
       "      <th>2</th>\n",
       "      <td>3</td>\n",
       "      <td>3.000000</td>\n",
       "      <td>11.0</td>\n",
       "    </tr>\n",
       "    <tr>\n",
       "      <th>3</th>\n",
       "      <td>4</td>\n",
       "      <td>2.250000</td>\n",
       "      <td>2.0</td>\n",
       "    </tr>\n",
       "    <tr>\n",
       "      <th>4</th>\n",
       "      <td>5</td>\n",
       "      <td>3.083333</td>\n",
       "      <td>6.0</td>\n",
       "    </tr>\n",
       "    <tr>\n",
       "      <th>...</th>\n",
       "      <td>...</td>\n",
       "      <td>...</td>\n",
       "      <td>...</td>\n",
       "    </tr>\n",
       "    <tr>\n",
       "      <th>33435</th>\n",
       "      <td>176273</td>\n",
       "      <td>1.000000</td>\n",
       "      <td>1.0</td>\n",
       "    </tr>\n",
       "    <tr>\n",
       "      <th>33436</th>\n",
       "      <td>178755</td>\n",
       "      <td>0.000000</td>\n",
       "      <td>0.0</td>\n",
       "    </tr>\n",
       "    <tr>\n",
       "      <th>33437</th>\n",
       "      <td>181751</td>\n",
       "      <td>0.000000</td>\n",
       "      <td>0.0</td>\n",
       "    </tr>\n",
       "    <tr>\n",
       "      <th>33438</th>\n",
       "      <td>187127</td>\n",
       "      <td>0.000000</td>\n",
       "      <td>0.0</td>\n",
       "    </tr>\n",
       "    <tr>\n",
       "      <th>33439</th>\n",
       "      <td>207145</td>\n",
       "      <td>4.000000</td>\n",
       "      <td>1.0</td>\n",
       "    </tr>\n",
       "  </tbody>\n",
       "</table>\n",
       "<p>33440 rows × 3 columns</p>\n",
       "</div>"
      ],
      "text/plain": [
       "           id    rating  votes\n",
       "0           1  3.982673  202.0\n",
       "1           2  3.267857   56.0\n",
       "2           3  3.000000   11.0\n",
       "3           4  2.250000    2.0\n",
       "4           5  3.083333    6.0\n",
       "...       ...       ...    ...\n",
       "33435  176273  1.000000    1.0\n",
       "33436  178755  0.000000    0.0\n",
       "33437  181751  0.000000    0.0\n",
       "33438  187127  0.000000    0.0\n",
       "33439  207145  4.000000    1.0\n",
       "\n",
       "[33440 rows x 3 columns]"
      ]
     },
     "execution_count": 32,
     "metadata": {},
     "output_type": "execute_result"
    }
   ],
   "source": [
    "\n",
    "\n",
    "\n",
    "\n",
    "response = api.items(limit=100_000)\n",
    "results = response.body['results']\n",
    "\n",
    "rows=[]\n",
    "for idx in range(len(results)):\n",
    "    row = results[idx]\n",
    "    rows.append({\n",
    "        'id'    : row['id'],\n",
    "        'rating': row['rating'],\n",
    "        'votes' : row['votes']\n",
    "    })\n",
    "    \n",
    "\n",
    "df = pd.DataFrame(rows)\n",
    "df"
   ]
  },
  {
   "cell_type": "code",
   "execution_count": 41,
   "id": "2132a393-905b-4a63-9d24-de0dd40b9cf0",
   "metadata": {
    "tags": []
   },
   "outputs": [
    {
     "data": {
      "text/html": [
       "<div>\n",
       "<style scoped>\n",
       "    .dataframe tbody tr th:only-of-type {\n",
       "        vertical-align: middle;\n",
       "    }\n",
       "\n",
       "    .dataframe tbody tr th {\n",
       "        vertical-align: top;\n",
       "    }\n",
       "\n",
       "    .dataframe thead th {\n",
       "        text-align: right;\n",
       "    }\n",
       "</style>\n",
       "<table border=\"1\" class=\"dataframe\">\n",
       "  <thead>\n",
       "    <tr style=\"text-align: right;\">\n",
       "      <th></th>\n",
       "      <th>id</th>\n",
       "      <th>rating</th>\n",
       "      <th>votes</th>\n",
       "    </tr>\n",
       "  </thead>\n",
       "  <tbody>\n",
       "    <tr>\n",
       "      <th>0</th>\n",
       "      <td>1</td>\n",
       "      <td>3.982673</td>\n",
       "      <td>202.0</td>\n",
       "    </tr>\n",
       "    <tr>\n",
       "      <th>1</th>\n",
       "      <td>2</td>\n",
       "      <td>3.267857</td>\n",
       "      <td>56.0</td>\n",
       "    </tr>\n",
       "    <tr>\n",
       "      <th>5</th>\n",
       "      <td>6</td>\n",
       "      <td>4.067308</td>\n",
       "      <td>104.0</td>\n",
       "    </tr>\n",
       "    <tr>\n",
       "      <th>15</th>\n",
       "      <td>16</td>\n",
       "      <td>3.970930</td>\n",
       "      <td>86.0</td>\n",
       "    </tr>\n",
       "    <tr>\n",
       "      <th>16</th>\n",
       "      <td>17</td>\n",
       "      <td>4.039062</td>\n",
       "      <td>64.0</td>\n",
       "    </tr>\n",
       "    <tr>\n",
       "      <th>...</th>\n",
       "      <td>...</td>\n",
       "      <td>...</td>\n",
       "      <td>...</td>\n",
       "    </tr>\n",
       "    <tr>\n",
       "      <th>31539</th>\n",
       "      <td>168612</td>\n",
       "      <td>3.157895</td>\n",
       "      <td>57.0</td>\n",
       "    </tr>\n",
       "    <tr>\n",
       "      <th>31934</th>\n",
       "      <td>169984</td>\n",
       "      <td>3.141509</td>\n",
       "      <td>53.0</td>\n",
       "    </tr>\n",
       "    <tr>\n",
       "      <th>32391</th>\n",
       "      <td>171763</td>\n",
       "      <td>3.956989</td>\n",
       "      <td>93.0</td>\n",
       "    </tr>\n",
       "    <tr>\n",
       "      <th>32796</th>\n",
       "      <td>173291</td>\n",
       "      <td>3.237705</td>\n",
       "      <td>61.0</td>\n",
       "    </tr>\n",
       "    <tr>\n",
       "      <th>32985</th>\n",
       "      <td>174055</td>\n",
       "      <td>3.716495</td>\n",
       "      <td>97.0</td>\n",
       "    </tr>\n",
       "  </tbody>\n",
       "</table>\n",
       "<p>867 rows × 3 columns</p>\n",
       "</div>"
      ],
      "text/plain": [
       "           id    rating  votes\n",
       "0           1  3.982673  202.0\n",
       "1           2  3.267857   56.0\n",
       "5           6  4.067308  104.0\n",
       "15         16  3.970930   86.0\n",
       "16         17  4.039062   64.0\n",
       "...       ...       ...    ...\n",
       "31539  168612  3.157895   57.0\n",
       "31934  169984  3.141509   53.0\n",
       "32391  171763  3.956989   93.0\n",
       "32796  173291  3.237705   61.0\n",
       "32985  174055  3.716495   97.0\n",
       "\n",
       "[867 rows x 3 columns]"
      ]
     },
     "execution_count": 41,
     "metadata": {},
     "output_type": "execute_result"
    }
   ],
   "source": [
    "df[(df['votes'] >= 50)]"
   ]
  },
  {
   "cell_type": "code",
   "execution_count": null,
   "id": "fac71db4-d67e-4134-93bb-fc56eebb6aa1",
   "metadata": {},
   "outputs": [],
   "source": []
  }
 ],
 "metadata": {
  "kernelspec": {
   "display_name": "Python 3 (ipykernel)",
   "language": "python",
   "name": "python3"
  },
  "language_info": {
   "codemirror_mode": {
    "name": "ipython",
    "version": 3
   },
   "file_extension": ".py",
   "mimetype": "text/x-python",
   "name": "python",
   "nbconvert_exporter": "python",
   "pygments_lexer": "ipython3",
   "version": "3.10.11"
  },
  "widgets": {
   "application/vnd.jupyter.widget-state+json": {
    "state": {},
    "version_major": 2,
    "version_minor": 0
   }
  }
 },
 "nbformat": 4,
 "nbformat_minor": 5
}
