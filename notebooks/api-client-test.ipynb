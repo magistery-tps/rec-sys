{
 "cells": [
  {
   "cell_type": "code",
   "execution_count": 1,
   "id": "94f881df-4e34-4baa-bb19-bd38a2542192",
   "metadata": {},
   "outputs": [],
   "source": [
    "%load_ext autoreload\n",
    "%autoreload 2"
   ]
  },
  {
   "cell_type": "code",
   "execution_count": 2,
   "id": "f8259342-bd48-49ce-a235-d7febaeabe33",
   "metadata": {},
   "outputs": [],
   "source": [
    "import sys\n",
    "sys.path.append('../src')\n",
    "\n",
    "import numpy as np\n",
    "import pandas as pd\n",
    "\n",
    "from api import RecSysApi"
   ]
  },
  {
   "cell_type": "code",
   "execution_count": 6,
   "id": "79655577-629a-4f96-83ae-dd88a019cad5",
   "metadata": {},
   "outputs": [],
   "source": [
    "api = RecSysApi(token='e3ff025094fe0ee474501bbeda0a2a44e80230c1')"
   ]
  },
  {
   "cell_type": "code",
   "execution_count": 7,
   "id": "8ce565b6-d9c7-4ab1-af3a-a37e7d552b20",
   "metadata": {},
   "outputs": [
    {
     "data": {
      "text/html": [
       "<pre style=\"white-space:pre;overflow-x:auto;line-height:normal;font-family:Menlo,'DejaVu Sans Mono',consolas,'Courier New',monospace\">\n",
       "<span style=\"font-weight: bold\">{</span>\n",
       "    <span style=\"color: #008000; text-decoration-color: #008000\">'status'</span>: <span style=\"color: #008080; text-decoration-color: #008080; font-weight: bold\">200</span>,\n",
       "    <span style=\"color: #008000; text-decoration-color: #008000\">'body'</span>: <span style=\"font-weight: bold\">{</span><span style=\"color: #008000; text-decoration-color: #008000\">'count'</span>: <span style=\"color: #008080; text-decoration-color: #008080; font-weight: bold\">0</span>, <span style=\"color: #008000; text-decoration-color: #008000\">'next'</span>: <span style=\"color: #800080; text-decoration-color: #800080; font-style: italic\">None</span>, <span style=\"color: #008000; text-decoration-color: #008000\">'previous'</span>: <span style=\"color: #800080; text-decoration-color: #800080; font-style: italic\">None</span>, <span style=\"color: #008000; text-decoration-color: #008000\">'results'</span>: <span style=\"font-weight: bold\">[]}</span>\n",
       "<span style=\"font-weight: bold\">}</span>\n",
       "</pre>\n"
      ],
      "text/plain": [
       "\n",
       "\u001b[1m{\u001b[0m\n",
       "    \u001b[32m'status'\u001b[0m: \u001b[1;36m200\u001b[0m,\n",
       "    \u001b[32m'body'\u001b[0m: \u001b[1m{\u001b[0m\u001b[32m'count'\u001b[0m: \u001b[1;36m0\u001b[0m, \u001b[32m'next'\u001b[0m: \u001b[3;35mNone\u001b[0m, \u001b[32m'previous'\u001b[0m: \u001b[3;35mNone\u001b[0m, \u001b[32m'results'\u001b[0m: \u001b[1m[\u001b[0m\u001b[1m]\u001b[0m\u001b[1m}\u001b[0m\n",
       "\u001b[1m}\u001b[0m\n"
      ]
     },
     "metadata": {},
     "output_type": "display_data"
    }
   ],
   "source": [
    "api.distances_matrix(limit=10)"
   ]
  },
  {
   "cell_type": "code",
   "execution_count": 8,
   "id": "12bb7935-a1d2-4992-8b60-fa30afd83c84",
   "metadata": {},
   "outputs": [
    {
     "data": {
      "text/html": [
       "<pre style=\"white-space:pre;overflow-x:auto;line-height:normal;font-family:Menlo,'DejaVu Sans Mono',consolas,'Courier New',monospace\">\n",
       "<span style=\"font-weight: bold\">{</span>\n",
       "    <span style=\"color: #008000; text-decoration-color: #008000\">'status'</span>: <span style=\"color: #008080; text-decoration-color: #008080; font-weight: bold\">201</span>,\n",
       "    <span style=\"color: #008000; text-decoration-color: #008000\">'body'</span>: <span style=\"font-weight: bold\">{</span><span style=\"color: #008000; text-decoration-color: #008000\">'id'</span>: <span style=\"color: #008080; text-decoration-color: #008080; font-weight: bold\">1</span>, <span style=\"color: #008000; text-decoration-color: #008000\">'name'</span>: <span style=\"color: #008000; text-decoration-color: #008000\">'nn-mf-emb'</span>, <span style=\"color: #008000; text-decoration-color: #008000\">'description'</span>: <span style=\"color: #008000; text-decoration-color: #008000\">'nn-mf-emb'</span><span style=\"font-weight: bold\">}</span>\n",
       "<span style=\"font-weight: bold\">}</span>\n",
       "</pre>\n"
      ],
      "text/plain": [
       "\n",
       "\u001b[1m{\u001b[0m\n",
       "    \u001b[32m'status'\u001b[0m: \u001b[1;36m201\u001b[0m,\n",
       "    \u001b[32m'body'\u001b[0m: \u001b[1m{\u001b[0m\u001b[32m'id'\u001b[0m: \u001b[1;36m1\u001b[0m, \u001b[32m'name'\u001b[0m: \u001b[32m'nn-mf-emb'\u001b[0m, \u001b[32m'description'\u001b[0m: \u001b[32m'nn-mf-emb'\u001b[0m\u001b[1m}\u001b[0m\n",
       "\u001b[1m}\u001b[0m\n"
      ]
     },
     "metadata": {},
     "output_type": "display_data"
    }
   ],
   "source": [
    "api.add_distances_matrix(\"nn-mf-emb\",\"nn-mf-emb\")"
   ]
  },
  {
   "cell_type": "code",
   "execution_count": 9,
   "id": "bf137a65-ba2e-497b-845b-24fef671f914",
   "metadata": {},
   "outputs": [
    {
     "data": {
      "text/html": [
       "<pre style=\"white-space:pre;overflow-x:auto;line-height:normal;font-family:Menlo,'DejaVu Sans Mono',consolas,'Courier New',monospace\">\n",
       "<span style=\"font-weight: bold\">{</span>\n",
       "    <span style=\"color: #008000; text-decoration-color: #008000\">'status'</span>: <span style=\"color: #008080; text-decoration-color: #008080; font-weight: bold\">200</span>,\n",
       "    <span style=\"color: #008000; text-decoration-color: #008000\">'body'</span>: <span style=\"font-weight: bold\">{</span>\n",
       "        <span style=\"color: #008000; text-decoration-color: #008000\">'count'</span>: <span style=\"color: #008080; text-decoration-color: #008080; font-weight: bold\">1</span>,\n",
       "        <span style=\"color: #008000; text-decoration-color: #008000\">'next'</span>: <span style=\"color: #800080; text-decoration-color: #800080; font-style: italic\">None</span>,\n",
       "        <span style=\"color: #008000; text-decoration-color: #008000\">'previous'</span>: <span style=\"color: #800080; text-decoration-color: #800080; font-style: italic\">None</span>,\n",
       "        <span style=\"color: #008000; text-decoration-color: #008000\">'results'</span>: <span style=\"font-weight: bold\">[{</span><span style=\"color: #008000; text-decoration-color: #008000\">'id'</span>: <span style=\"color: #008080; text-decoration-color: #008080; font-weight: bold\">1</span>, <span style=\"color: #008000; text-decoration-color: #008000\">'name'</span>: <span style=\"color: #008000; text-decoration-color: #008000\">'nn-mf-emb'</span>, <span style=\"color: #008000; text-decoration-color: #008000\">'description'</span>: <span style=\"color: #008000; text-decoration-color: #008000\">'nn-mf-emb'</span><span style=\"font-weight: bold\">}]</span>\n",
       "    <span style=\"font-weight: bold\">}</span>\n",
       "<span style=\"font-weight: bold\">}</span>\n",
       "</pre>\n"
      ],
      "text/plain": [
       "\n",
       "\u001b[1m{\u001b[0m\n",
       "    \u001b[32m'status'\u001b[0m: \u001b[1;36m200\u001b[0m,\n",
       "    \u001b[32m'body'\u001b[0m: \u001b[1m{\u001b[0m\n",
       "        \u001b[32m'count'\u001b[0m: \u001b[1;36m1\u001b[0m,\n",
       "        \u001b[32m'next'\u001b[0m: \u001b[3;35mNone\u001b[0m,\n",
       "        \u001b[32m'previous'\u001b[0m: \u001b[3;35mNone\u001b[0m,\n",
       "        \u001b[32m'results'\u001b[0m: \u001b[1m[\u001b[0m\u001b[1m{\u001b[0m\u001b[32m'id'\u001b[0m: \u001b[1;36m1\u001b[0m, \u001b[32m'name'\u001b[0m: \u001b[32m'nn-mf-emb'\u001b[0m, \u001b[32m'description'\u001b[0m: \u001b[32m'nn-mf-emb'\u001b[0m\u001b[1m}\u001b[0m\u001b[1m]\u001b[0m\n",
       "    \u001b[1m}\u001b[0m\n",
       "\u001b[1m}\u001b[0m\n"
      ]
     },
     "metadata": {},
     "output_type": "display_data"
    }
   ],
   "source": [
    "api.distances_matrix(limit=10)"
   ]
  },
  {
   "cell_type": "code",
   "execution_count": 60,
   "id": "a2e9d377-9e1b-40a1-b779-76d381b81eff",
   "metadata": {},
   "outputs": [
    {
     "data": {
      "text/html": [
       "<pre style=\"white-space:pre;overflow-x:auto;line-height:normal;font-family:Menlo,'DejaVu Sans Mono',consolas,'Courier New',monospace\"><span style=\"font-weight: bold\">{</span><span style=\"color: #008000; text-decoration-color: #008000\">'status'</span>: <span style=\"color: #008080; text-decoration-color: #008080; font-weight: bold\">204</span>, <span style=\"color: #008000; text-decoration-color: #008000\">'body'</span>: <span style=\"color: #008000; text-decoration-color: #008000\">b''</span><span style=\"font-weight: bold\">}</span>\n",
       "</pre>\n"
      ],
      "text/plain": [
       "\u001b[1m{\u001b[0m\u001b[32m'status'\u001b[0m: \u001b[1;36m204\u001b[0m, \u001b[32m'body'\u001b[0m: \u001b[32mb''\u001b[0m\u001b[1m}\u001b[0m\n"
      ]
     },
     "metadata": {},
     "output_type": "display_data"
    }
   ],
   "source": [
    "api.remove_distances_matrix(7)"
   ]
  },
  {
   "cell_type": "code",
   "execution_count": 10,
   "id": "aee77762-5498-45dc-84d3-71ad80569150",
   "metadata": {},
   "outputs": [
    {
     "data": {
      "text/html": [
       "<pre style=\"white-space:pre;overflow-x:auto;line-height:normal;font-family:Menlo,'DejaVu Sans Mono',consolas,'Courier New',monospace\">\n",
       "<span style=\"font-weight: bold\">{</span>\n",
       "    <span style=\"color: #008000; text-decoration-color: #008000\">'status'</span>: <span style=\"color: #008080; text-decoration-color: #008080; font-weight: bold\">200</span>,\n",
       "    <span style=\"color: #008000; text-decoration-color: #008000\">'body'</span>: <span style=\"font-weight: bold\">{</span>\n",
       "        <span style=\"color: #008000; text-decoration-color: #008000\">'count'</span>: <span style=\"color: #008080; text-decoration-color: #008080; font-weight: bold\">1</span>,\n",
       "        <span style=\"color: #008000; text-decoration-color: #008000\">'next'</span>: <span style=\"color: #800080; text-decoration-color: #800080; font-style: italic\">None</span>,\n",
       "        <span style=\"color: #008000; text-decoration-color: #008000\">'previous'</span>: <span style=\"color: #800080; text-decoration-color: #800080; font-style: italic\">None</span>,\n",
       "        <span style=\"color: #008000; text-decoration-color: #008000\">'results'</span>: <span style=\"font-weight: bold\">[{</span><span style=\"color: #008000; text-decoration-color: #008000\">'id'</span>: <span style=\"color: #008080; text-decoration-color: #008080; font-weight: bold\">1</span>, <span style=\"color: #008000; text-decoration-color: #008000\">'name'</span>: <span style=\"color: #008000; text-decoration-color: #008000\">'nn-mf-emb'</span>, <span style=\"color: #008000; text-decoration-color: #008000\">'description'</span>: <span style=\"color: #008000; text-decoration-color: #008000\">'nn-mf-emb'</span><span style=\"font-weight: bold\">}]</span>\n",
       "    <span style=\"font-weight: bold\">}</span>\n",
       "<span style=\"font-weight: bold\">}</span>\n",
       "</pre>\n"
      ],
      "text/plain": [
       "\n",
       "\u001b[1m{\u001b[0m\n",
       "    \u001b[32m'status'\u001b[0m: \u001b[1;36m200\u001b[0m,\n",
       "    \u001b[32m'body'\u001b[0m: \u001b[1m{\u001b[0m\n",
       "        \u001b[32m'count'\u001b[0m: \u001b[1;36m1\u001b[0m,\n",
       "        \u001b[32m'next'\u001b[0m: \u001b[3;35mNone\u001b[0m,\n",
       "        \u001b[32m'previous'\u001b[0m: \u001b[3;35mNone\u001b[0m,\n",
       "        \u001b[32m'results'\u001b[0m: \u001b[1m[\u001b[0m\u001b[1m{\u001b[0m\u001b[32m'id'\u001b[0m: \u001b[1;36m1\u001b[0m, \u001b[32m'name'\u001b[0m: \u001b[32m'nn-mf-emb'\u001b[0m, \u001b[32m'description'\u001b[0m: \u001b[32m'nn-mf-emb'\u001b[0m\u001b[1m}\u001b[0m\u001b[1m]\u001b[0m\n",
       "    \u001b[1m}\u001b[0m\n",
       "\u001b[1m}\u001b[0m\n"
      ]
     },
     "metadata": {},
     "output_type": "display_data"
    }
   ],
   "source": [
    "api.distances_matrix(limit=10)"
   ]
  },
  {
   "cell_type": "code",
   "execution_count": 11,
   "id": "73d10237-1054-4967-8086-81979760c411",
   "metadata": {},
   "outputs": [
    {
     "data": {
      "text/html": [
       "<pre style=\"white-space:pre;overflow-x:auto;line-height:normal;font-family:Menlo,'DejaVu Sans Mono',consolas,'Courier New',monospace\">\n",
       "<span style=\"font-weight: bold\">{</span>\n",
       "    <span style=\"color: #008000; text-decoration-color: #008000\">'status'</span>: <span style=\"color: #008080; text-decoration-color: #008080; font-weight: bold\">200</span>,\n",
       "    <span style=\"color: #008000; text-decoration-color: #008000\">'body'</span>: <span style=\"font-weight: bold\">{</span><span style=\"color: #008000; text-decoration-color: #008000\">'count'</span>: <span style=\"color: #008080; text-decoration-color: #008080; font-weight: bold\">0</span>, <span style=\"color: #008000; text-decoration-color: #008000\">'next'</span>: <span style=\"color: #800080; text-decoration-color: #800080; font-style: italic\">None</span>, <span style=\"color: #008000; text-decoration-color: #008000\">'previous'</span>: <span style=\"color: #800080; text-decoration-color: #800080; font-style: italic\">None</span>, <span style=\"color: #008000; text-decoration-color: #008000\">'results'</span>: <span style=\"font-weight: bold\">[]}</span>\n",
       "<span style=\"font-weight: bold\">}</span>\n",
       "</pre>\n"
      ],
      "text/plain": [
       "\n",
       "\u001b[1m{\u001b[0m\n",
       "    \u001b[32m'status'\u001b[0m: \u001b[1;36m200\u001b[0m,\n",
       "    \u001b[32m'body'\u001b[0m: \u001b[1m{\u001b[0m\u001b[32m'count'\u001b[0m: \u001b[1;36m0\u001b[0m, \u001b[32m'next'\u001b[0m: \u001b[3;35mNone\u001b[0m, \u001b[32m'previous'\u001b[0m: \u001b[3;35mNone\u001b[0m, \u001b[32m'results'\u001b[0m: \u001b[1m[\u001b[0m\u001b[1m]\u001b[0m\u001b[1m}\u001b[0m\n",
       "\u001b[1m}\u001b[0m\n"
      ]
     },
     "metadata": {},
     "output_type": "display_data"
    }
   ],
   "source": [
    "api.distance_cells(limit=10)"
   ]
  },
  {
   "cell_type": "code",
   "execution_count": 14,
   "id": "3e9abc34-0128-4d1f-9fdb-0236b912d5b5",
   "metadata": {},
   "outputs": [
    {
     "data": {
      "text/html": [
       "<pre style=\"white-space:pre;overflow-x:auto;line-height:normal;font-family:Menlo,'DejaVu Sans Mono',consolas,'Courier New',monospace\">\n",
       "<span style=\"font-weight: bold\">{</span>\n",
       "    <span style=\"color: #008000; text-decoration-color: #008000\">'status'</span>: <span style=\"color: #008080; text-decoration-color: #008080; font-weight: bold\">201</span>,\n",
       "    <span style=\"color: #008000; text-decoration-color: #008000\">'body'</span>: <span style=\"font-weight: bold\">{</span>\n",
       "        <span style=\"color: #008000; text-decoration-color: #008000\">'id'</span>: <span style=\"color: #008080; text-decoration-color: #008080; font-weight: bold\">2</span>,\n",
       "        <span style=\"color: #008000; text-decoration-color: #008000\">'row'</span>: <span style=\"color: #008080; text-decoration-color: #008080; font-weight: bold\">1</span>,\n",
       "        <span style=\"color: #008000; text-decoration-color: #008000\">'column'</span>: <span style=\"color: #008080; text-decoration-color: #008080; font-weight: bold\">2</span>,\n",
       "        <span style=\"color: #008000; text-decoration-color: #008000\">'value'</span>: <span style=\"color: #008080; text-decoration-color: #008080; font-weight: bold\">0.5</span>,\n",
       "        <span style=\"color: #008000; text-decoration-color: #008000\">'matrix'</span>: <span style=\"color: #008000; text-decoration-color: #008000\">'http://localhost:8000/api/distances-matrix/1/'</span>\n",
       "    <span style=\"font-weight: bold\">}</span>\n",
       "<span style=\"font-weight: bold\">}</span>\n",
       "</pre>\n"
      ],
      "text/plain": [
       "\n",
       "\u001b[1m{\u001b[0m\n",
       "    \u001b[32m'status'\u001b[0m: \u001b[1;36m201\u001b[0m,\n",
       "    \u001b[32m'body'\u001b[0m: \u001b[1m{\u001b[0m\n",
       "        \u001b[32m'id'\u001b[0m: \u001b[1;36m2\u001b[0m,\n",
       "        \u001b[32m'row'\u001b[0m: \u001b[1;36m1\u001b[0m,\n",
       "        \u001b[32m'column'\u001b[0m: \u001b[1;36m2\u001b[0m,\n",
       "        \u001b[32m'value'\u001b[0m: \u001b[1;36m0.5\u001b[0m,\n",
       "        \u001b[32m'matrix'\u001b[0m: \u001b[32m'http://localhost:8000/api/distances-matrix/1/'\u001b[0m\n",
       "    \u001b[1m}\u001b[0m\n",
       "\u001b[1m}\u001b[0m\n"
      ]
     },
     "metadata": {},
     "output_type": "display_data"
    }
   ],
   "source": [
    "api.add_distance_cell(row=1, column=2, value=0.5, matrix=1)"
   ]
  },
  {
   "cell_type": "code",
   "execution_count": 15,
   "id": "79f2fd02-326d-434f-97be-817efbf701db",
   "metadata": {},
   "outputs": [
    {
     "data": {
      "text/html": [
       "<pre style=\"white-space:pre;overflow-x:auto;line-height:normal;font-family:Menlo,'DejaVu Sans Mono',consolas,'Courier New',monospace\">\n",
       "<span style=\"font-weight: bold\">{</span>\n",
       "    <span style=\"color: #008000; text-decoration-color: #008000\">'status'</span>: <span style=\"color: #008080; text-decoration-color: #008080; font-weight: bold\">200</span>,\n",
       "    <span style=\"color: #008000; text-decoration-color: #008000\">'body'</span>: <span style=\"font-weight: bold\">{</span>\n",
       "        <span style=\"color: #008000; text-decoration-color: #008000\">'count'</span>: <span style=\"color: #008080; text-decoration-color: #008080; font-weight: bold\">2</span>,\n",
       "        <span style=\"color: #008000; text-decoration-color: #008000\">'next'</span>: <span style=\"color: #800080; text-decoration-color: #800080; font-style: italic\">None</span>,\n",
       "        <span style=\"color: #008000; text-decoration-color: #008000\">'previous'</span>: <span style=\"color: #800080; text-decoration-color: #800080; font-style: italic\">None</span>,\n",
       "        <span style=\"color: #008000; text-decoration-color: #008000\">'results'</span>: <span style=\"font-weight: bold\">[</span>\n",
       "            <span style=\"font-weight: bold\">{</span>\n",
       "                <span style=\"color: #008000; text-decoration-color: #008000\">'id'</span>: <span style=\"color: #008080; text-decoration-color: #008080; font-weight: bold\">1</span>,\n",
       "                <span style=\"color: #008000; text-decoration-color: #008000\">'row'</span>: <span style=\"color: #008080; text-decoration-color: #008080; font-weight: bold\">1</span>,\n",
       "                <span style=\"color: #008000; text-decoration-color: #008000\">'column'</span>: <span style=\"color: #008080; text-decoration-color: #008080; font-weight: bold\">2</span>,\n",
       "                <span style=\"color: #008000; text-decoration-color: #008000\">'value'</span>: <span style=\"color: #008080; text-decoration-color: #008080; font-weight: bold\">0.5</span>,\n",
       "                <span style=\"color: #008000; text-decoration-color: #008000\">'matrix'</span>: <span style=\"color: #008000; text-decoration-color: #008000\">'http://localhost:8000/api/distances-matrix/1/'</span>\n",
       "            <span style=\"font-weight: bold\">}</span>,\n",
       "            <span style=\"font-weight: bold\">{</span>\n",
       "                <span style=\"color: #008000; text-decoration-color: #008000\">'id'</span>: <span style=\"color: #008080; text-decoration-color: #008080; font-weight: bold\">2</span>,\n",
       "                <span style=\"color: #008000; text-decoration-color: #008000\">'row'</span>: <span style=\"color: #008080; text-decoration-color: #008080; font-weight: bold\">1</span>,\n",
       "                <span style=\"color: #008000; text-decoration-color: #008000\">'column'</span>: <span style=\"color: #008080; text-decoration-color: #008080; font-weight: bold\">2</span>,\n",
       "                <span style=\"color: #008000; text-decoration-color: #008000\">'value'</span>: <span style=\"color: #008080; text-decoration-color: #008080; font-weight: bold\">0.5</span>,\n",
       "                <span style=\"color: #008000; text-decoration-color: #008000\">'matrix'</span>: <span style=\"color: #008000; text-decoration-color: #008000\">'http://localhost:8000/api/distances-matrix/1/'</span>\n",
       "            <span style=\"font-weight: bold\">}</span>\n",
       "        <span style=\"font-weight: bold\">]</span>\n",
       "    <span style=\"font-weight: bold\">}</span>\n",
       "<span style=\"font-weight: bold\">}</span>\n",
       "</pre>\n"
      ],
      "text/plain": [
       "\n",
       "\u001b[1m{\u001b[0m\n",
       "    \u001b[32m'status'\u001b[0m: \u001b[1;36m200\u001b[0m,\n",
       "    \u001b[32m'body'\u001b[0m: \u001b[1m{\u001b[0m\n",
       "        \u001b[32m'count'\u001b[0m: \u001b[1;36m2\u001b[0m,\n",
       "        \u001b[32m'next'\u001b[0m: \u001b[3;35mNone\u001b[0m,\n",
       "        \u001b[32m'previous'\u001b[0m: \u001b[3;35mNone\u001b[0m,\n",
       "        \u001b[32m'results'\u001b[0m: \u001b[1m[\u001b[0m\n",
       "            \u001b[1m{\u001b[0m\n",
       "                \u001b[32m'id'\u001b[0m: \u001b[1;36m1\u001b[0m,\n",
       "                \u001b[32m'row'\u001b[0m: \u001b[1;36m1\u001b[0m,\n",
       "                \u001b[32m'column'\u001b[0m: \u001b[1;36m2\u001b[0m,\n",
       "                \u001b[32m'value'\u001b[0m: \u001b[1;36m0.5\u001b[0m,\n",
       "                \u001b[32m'matrix'\u001b[0m: \u001b[32m'http://localhost:8000/api/distances-matrix/1/'\u001b[0m\n",
       "            \u001b[1m}\u001b[0m,\n",
       "            \u001b[1m{\u001b[0m\n",
       "                \u001b[32m'id'\u001b[0m: \u001b[1;36m2\u001b[0m,\n",
       "                \u001b[32m'row'\u001b[0m: \u001b[1;36m1\u001b[0m,\n",
       "                \u001b[32m'column'\u001b[0m: \u001b[1;36m2\u001b[0m,\n",
       "                \u001b[32m'value'\u001b[0m: \u001b[1;36m0.5\u001b[0m,\n",
       "                \u001b[32m'matrix'\u001b[0m: \u001b[32m'http://localhost:8000/api/distances-matrix/1/'\u001b[0m\n",
       "            \u001b[1m}\u001b[0m\n",
       "        \u001b[1m]\u001b[0m\n",
       "    \u001b[1m}\u001b[0m\n",
       "\u001b[1m}\u001b[0m\n"
      ]
     },
     "metadata": {},
     "output_type": "display_data"
    }
   ],
   "source": [
    "api.distance_cells(limit=10)"
   ]
  },
  {
   "cell_type": "code",
   "execution_count": 16,
   "id": "9a7f96e1-32fe-421b-b223-45b42c738e07",
   "metadata": {},
   "outputs": [
    {
     "data": {
      "text/html": [
       "<pre style=\"white-space:pre;overflow-x:auto;line-height:normal;font-family:Menlo,'DejaVu Sans Mono',consolas,'Courier New',monospace\">\n",
       "<span style=\"font-weight: bold\">{</span>\n",
       "    <span style=\"color: #008000; text-decoration-color: #008000\">'status'</span>: <span style=\"color: #008080; text-decoration-color: #008080; font-weight: bold\">200</span>,\n",
       "    <span style=\"color: #008000; text-decoration-color: #008000\">'body'</span>: <span style=\"font-weight: bold\">{</span>\n",
       "        <span style=\"color: #008000; text-decoration-color: #008000\">'count'</span>: <span style=\"color: #008080; text-decoration-color: #008080; font-weight: bold\">18500</span>,\n",
       "        <span style=\"color: #008000; text-decoration-color: #008000\">'next'</span>: <span style=\"color: #008000; text-decoration-color: #008000\">'http://localhost:8000/api/interactions/?limit=10&amp;offset=10'</span>,\n",
       "        <span style=\"color: #008000; text-decoration-color: #008000\">'previous'</span>: <span style=\"color: #800080; text-decoration-color: #800080; font-style: italic\">None</span>,\n",
       "        <span style=\"color: #008000; text-decoration-color: #008000\">'results'</span>: <span style=\"font-weight: bold\">[</span>\n",
       "            <span style=\"font-weight: bold\">{</span>\n",
       "                <span style=\"color: #008000; text-decoration-color: #008000\">'user'</span>: <span style=\"color: #008080; text-decoration-color: #008080; font-weight: bold\">1</span>,\n",
       "                <span style=\"color: #008000; text-decoration-color: #008000\">'item'</span>: <span style=\"color: #008000; text-decoration-color: #008000\">'http://localhost:8000/api/items/411/'</span>,\n",
       "                <span style=\"color: #008000; text-decoration-color: #008000\">'rating'</span>: <span style=\"color: #008080; text-decoration-color: #008080; font-weight: bold\">4.0</span>\n",
       "            <span style=\"font-weight: bold\">}</span>,\n",
       "            <span style=\"font-weight: bold\">{</span>\n",
       "                <span style=\"color: #008000; text-decoration-color: #008000\">'user'</span>: <span style=\"color: #008080; text-decoration-color: #008080; font-weight: bold\">2</span>,\n",
       "                <span style=\"color: #008000; text-decoration-color: #008000\">'item'</span>: <span style=\"color: #008000; text-decoration-color: #008000\">'http://localhost:8000/api/items/411/'</span>,\n",
       "                <span style=\"color: #008000; text-decoration-color: #008000\">'rating'</span>: <span style=\"color: #008080; text-decoration-color: #008080; font-weight: bold\">5.0</span>\n",
       "            <span style=\"font-weight: bold\">}</span>,\n",
       "            <span style=\"font-weight: bold\">{</span>\n",
       "                <span style=\"color: #008000; text-decoration-color: #008000\">'user'</span>: <span style=\"color: #008080; text-decoration-color: #008080; font-weight: bold\">3</span>,\n",
       "                <span style=\"color: #008000; text-decoration-color: #008000\">'item'</span>: <span style=\"color: #008000; text-decoration-color: #008000\">'http://localhost:8000/api/items/411/'</span>,\n",
       "                <span style=\"color: #008000; text-decoration-color: #008000\">'rating'</span>: <span style=\"color: #008080; text-decoration-color: #008080; font-weight: bold\">4.0</span>\n",
       "            <span style=\"font-weight: bold\">}</span>,\n",
       "            <span style=\"font-weight: bold\">{</span>\n",
       "                <span style=\"color: #008000; text-decoration-color: #008000\">'user'</span>: <span style=\"color: #008080; text-decoration-color: #008080; font-weight: bold\">4</span>,\n",
       "                <span style=\"color: #008000; text-decoration-color: #008000\">'item'</span>: <span style=\"color: #008000; text-decoration-color: #008000\">'http://localhost:8000/api/items/411/'</span>,\n",
       "                <span style=\"color: #008000; text-decoration-color: #008000\">'rating'</span>: <span style=\"color: #008080; text-decoration-color: #008080; font-weight: bold\">4.0</span>\n",
       "            <span style=\"font-weight: bold\">}</span>,\n",
       "            <span style=\"font-weight: bold\">{</span>\n",
       "                <span style=\"color: #008000; text-decoration-color: #008000\">'user'</span>: <span style=\"color: #008080; text-decoration-color: #008080; font-weight: bold\">5</span>,\n",
       "                <span style=\"color: #008000; text-decoration-color: #008000\">'item'</span>: <span style=\"color: #008000; text-decoration-color: #008000\">'http://localhost:8000/api/items/411/'</span>,\n",
       "                <span style=\"color: #008000; text-decoration-color: #008000\">'rating'</span>: <span style=\"color: #008080; text-decoration-color: #008080; font-weight: bold\">4.0</span>\n",
       "            <span style=\"font-weight: bold\">}</span>,\n",
       "            <span style=\"font-weight: bold\">{</span>\n",
       "                <span style=\"color: #008000; text-decoration-color: #008000\">'user'</span>: <span style=\"color: #008080; text-decoration-color: #008080; font-weight: bold\">6</span>,\n",
       "                <span style=\"color: #008000; text-decoration-color: #008000\">'item'</span>: <span style=\"color: #008000; text-decoration-color: #008000\">'http://localhost:8000/api/items/411/'</span>,\n",
       "                <span style=\"color: #008000; text-decoration-color: #008000\">'rating'</span>: <span style=\"color: #008080; text-decoration-color: #008080; font-weight: bold\">5.0</span>\n",
       "            <span style=\"font-weight: bold\">}</span>,\n",
       "            <span style=\"font-weight: bold\">{</span>\n",
       "                <span style=\"color: #008000; text-decoration-color: #008000\">'user'</span>: <span style=\"color: #008080; text-decoration-color: #008080; font-weight: bold\">7</span>,\n",
       "                <span style=\"color: #008000; text-decoration-color: #008000\">'item'</span>: <span style=\"color: #008000; text-decoration-color: #008000\">'http://localhost:8000/api/items/411/'</span>,\n",
       "                <span style=\"color: #008000; text-decoration-color: #008000\">'rating'</span>: <span style=\"color: #008080; text-decoration-color: #008080; font-weight: bold\">4.0</span>\n",
       "            <span style=\"font-weight: bold\">}</span>,\n",
       "            <span style=\"font-weight: bold\">{</span>\n",
       "                <span style=\"color: #008000; text-decoration-color: #008000\">'user'</span>: <span style=\"color: #008080; text-decoration-color: #008080; font-weight: bold\">8</span>,\n",
       "                <span style=\"color: #008000; text-decoration-color: #008000\">'item'</span>: <span style=\"color: #008000; text-decoration-color: #008000\">'http://localhost:8000/api/items/411/'</span>,\n",
       "                <span style=\"color: #008000; text-decoration-color: #008000\">'rating'</span>: <span style=\"color: #008080; text-decoration-color: #008080; font-weight: bold\">5.0</span>\n",
       "            <span style=\"font-weight: bold\">}</span>,\n",
       "            <span style=\"font-weight: bold\">{</span>\n",
       "                <span style=\"color: #008000; text-decoration-color: #008000\">'user'</span>: <span style=\"color: #008080; text-decoration-color: #008080; font-weight: bold\">9</span>,\n",
       "                <span style=\"color: #008000; text-decoration-color: #008000\">'item'</span>: <span style=\"color: #008000; text-decoration-color: #008000\">'http://localhost:8000/api/items/411/'</span>,\n",
       "                <span style=\"color: #008000; text-decoration-color: #008000\">'rating'</span>: <span style=\"color: #008080; text-decoration-color: #008080; font-weight: bold\">5.0</span>\n",
       "            <span style=\"font-weight: bold\">}</span>,\n",
       "            <span style=\"font-weight: bold\">{</span>\n",
       "                <span style=\"color: #008000; text-decoration-color: #008000\">'user'</span>: <span style=\"color: #008080; text-decoration-color: #008080; font-weight: bold\">10</span>,\n",
       "                <span style=\"color: #008000; text-decoration-color: #008000\">'item'</span>: <span style=\"color: #008000; text-decoration-color: #008000\">'http://localhost:8000/api/items/411/'</span>,\n",
       "                <span style=\"color: #008000; text-decoration-color: #008000\">'rating'</span>: <span style=\"color: #008080; text-decoration-color: #008080; font-weight: bold\">5.0</span>\n",
       "            <span style=\"font-weight: bold\">}</span>\n",
       "        <span style=\"font-weight: bold\">]</span>\n",
       "    <span style=\"font-weight: bold\">}</span>\n",
       "<span style=\"font-weight: bold\">}</span>\n",
       "</pre>\n"
      ],
      "text/plain": [
       "\n",
       "\u001b[1m{\u001b[0m\n",
       "    \u001b[32m'status'\u001b[0m: \u001b[1;36m200\u001b[0m,\n",
       "    \u001b[32m'body'\u001b[0m: \u001b[1m{\u001b[0m\n",
       "        \u001b[32m'count'\u001b[0m: \u001b[1;36m18500\u001b[0m,\n",
       "        \u001b[32m'next'\u001b[0m: \u001b[32m'http://localhost:8000/api/interactions/?\u001b[0m\u001b[32mlimit\u001b[0m\u001b[32m=\u001b[0m\u001b[32m10\u001b[0m\u001b[32m&\u001b[0m\u001b[32moffset\u001b[0m\u001b[32m=\u001b[0m\u001b[32m10\u001b[0m\u001b[32m'\u001b[0m,\n",
       "        \u001b[32m'previous'\u001b[0m: \u001b[3;35mNone\u001b[0m,\n",
       "        \u001b[32m'results'\u001b[0m: \u001b[1m[\u001b[0m\n",
       "            \u001b[1m{\u001b[0m\n",
       "                \u001b[32m'user'\u001b[0m: \u001b[1;36m1\u001b[0m,\n",
       "                \u001b[32m'item'\u001b[0m: \u001b[32m'http://localhost:8000/api/items/411/'\u001b[0m,\n",
       "                \u001b[32m'rating'\u001b[0m: \u001b[1;36m4.0\u001b[0m\n",
       "            \u001b[1m}\u001b[0m,\n",
       "            \u001b[1m{\u001b[0m\n",
       "                \u001b[32m'user'\u001b[0m: \u001b[1;36m2\u001b[0m,\n",
       "                \u001b[32m'item'\u001b[0m: \u001b[32m'http://localhost:8000/api/items/411/'\u001b[0m,\n",
       "                \u001b[32m'rating'\u001b[0m: \u001b[1;36m5.0\u001b[0m\n",
       "            \u001b[1m}\u001b[0m,\n",
       "            \u001b[1m{\u001b[0m\n",
       "                \u001b[32m'user'\u001b[0m: \u001b[1;36m3\u001b[0m,\n",
       "                \u001b[32m'item'\u001b[0m: \u001b[32m'http://localhost:8000/api/items/411/'\u001b[0m,\n",
       "                \u001b[32m'rating'\u001b[0m: \u001b[1;36m4.0\u001b[0m\n",
       "            \u001b[1m}\u001b[0m,\n",
       "            \u001b[1m{\u001b[0m\n",
       "                \u001b[32m'user'\u001b[0m: \u001b[1;36m4\u001b[0m,\n",
       "                \u001b[32m'item'\u001b[0m: \u001b[32m'http://localhost:8000/api/items/411/'\u001b[0m,\n",
       "                \u001b[32m'rating'\u001b[0m: \u001b[1;36m4.0\u001b[0m\n",
       "            \u001b[1m}\u001b[0m,\n",
       "            \u001b[1m{\u001b[0m\n",
       "                \u001b[32m'user'\u001b[0m: \u001b[1;36m5\u001b[0m,\n",
       "                \u001b[32m'item'\u001b[0m: \u001b[32m'http://localhost:8000/api/items/411/'\u001b[0m,\n",
       "                \u001b[32m'rating'\u001b[0m: \u001b[1;36m4.0\u001b[0m\n",
       "            \u001b[1m}\u001b[0m,\n",
       "            \u001b[1m{\u001b[0m\n",
       "                \u001b[32m'user'\u001b[0m: \u001b[1;36m6\u001b[0m,\n",
       "                \u001b[32m'item'\u001b[0m: \u001b[32m'http://localhost:8000/api/items/411/'\u001b[0m,\n",
       "                \u001b[32m'rating'\u001b[0m: \u001b[1;36m5.0\u001b[0m\n",
       "            \u001b[1m}\u001b[0m,\n",
       "            \u001b[1m{\u001b[0m\n",
       "                \u001b[32m'user'\u001b[0m: \u001b[1;36m7\u001b[0m,\n",
       "                \u001b[32m'item'\u001b[0m: \u001b[32m'http://localhost:8000/api/items/411/'\u001b[0m,\n",
       "                \u001b[32m'rating'\u001b[0m: \u001b[1;36m4.0\u001b[0m\n",
       "            \u001b[1m}\u001b[0m,\n",
       "            \u001b[1m{\u001b[0m\n",
       "                \u001b[32m'user'\u001b[0m: \u001b[1;36m8\u001b[0m,\n",
       "                \u001b[32m'item'\u001b[0m: \u001b[32m'http://localhost:8000/api/items/411/'\u001b[0m,\n",
       "                \u001b[32m'rating'\u001b[0m: \u001b[1;36m5.0\u001b[0m\n",
       "            \u001b[1m}\u001b[0m,\n",
       "            \u001b[1m{\u001b[0m\n",
       "                \u001b[32m'user'\u001b[0m: \u001b[1;36m9\u001b[0m,\n",
       "                \u001b[32m'item'\u001b[0m: \u001b[32m'http://localhost:8000/api/items/411/'\u001b[0m,\n",
       "                \u001b[32m'rating'\u001b[0m: \u001b[1;36m5.0\u001b[0m\n",
       "            \u001b[1m}\u001b[0m,\n",
       "            \u001b[1m{\u001b[0m\n",
       "                \u001b[32m'user'\u001b[0m: \u001b[1;36m10\u001b[0m,\n",
       "                \u001b[32m'item'\u001b[0m: \u001b[32m'http://localhost:8000/api/items/411/'\u001b[0m,\n",
       "                \u001b[32m'rating'\u001b[0m: \u001b[1;36m5.0\u001b[0m\n",
       "            \u001b[1m}\u001b[0m\n",
       "        \u001b[1m]\u001b[0m\n",
       "    \u001b[1m}\u001b[0m\n",
       "\u001b[1m}\u001b[0m\n"
      ]
     },
     "metadata": {},
     "output_type": "display_data"
    }
   ],
   "source": [
    "api.interactions(limit=10)"
   ]
  },
  {
   "cell_type": "code",
   "execution_count": 17,
   "id": "33bf4ba0-b274-4e14-b509-d7ff706e0d19",
   "metadata": {},
   "outputs": [
    {
     "data": {
      "text/html": [
       "<pre style=\"white-space:pre;overflow-x:auto;line-height:normal;font-family:Menlo,'DejaVu Sans Mono',consolas,'Courier New',monospace\">\n",
       "<span style=\"font-weight: bold\">{</span>\n",
       "    <span style=\"color: #008000; text-decoration-color: #008000\">'status'</span>: <span style=\"color: #008080; text-decoration-color: #008080; font-weight: bold\">200</span>,\n",
       "    <span style=\"color: #008000; text-decoration-color: #008000\">'body'</span>: <span style=\"font-weight: bold\">{</span>\n",
       "        <span style=\"color: #008000; text-decoration-color: #008000\">'count'</span>: <span style=\"color: #008080; text-decoration-color: #008080; font-weight: bold\">1785</span>,\n",
       "        <span style=\"color: #008000; text-decoration-color: #008000\">'next'</span>: <span style=\"color: #008000; text-decoration-color: #008000\">'http://localhost:8000/api/items/?limit=10&amp;offset=10'</span>,\n",
       "        <span style=\"color: #008000; text-decoration-color: #008000\">'previous'</span>: <span style=\"color: #800080; text-decoration-color: #800080; font-style: italic\">None</span>,\n",
       "        <span style=\"color: #008000; text-decoration-color: #008000\">'results'</span>: <span style=\"font-weight: bold\">[</span>\n",
       "            <span style=\"font-weight: bold\">{</span>\n",
       "                <span style=\"color: #008000; text-decoration-color: #008000\">'id'</span>: <span style=\"color: #008080; text-decoration-color: #008080; font-weight: bold\">1</span>,\n",
       "                <span style=\"color: #008000; text-decoration-color: #008000\">'name'</span>: <span style=\"color: #008000; text-decoration-color: #008000\">\"FLYFUPPY Women's Slip-on Canvas Comfort Fashion Sneakers Low Top Classic Lace up Walking Shoes Leopard Size\"</span>,\n",
       "                <span style=\"color: #008000; text-decoration-color: #008000\">'description'</span>: <span style=\"color: #008000; text-decoration-color: #008000\">''</span>\n",
       "            <span style=\"font-weight: bold\">}</span>,\n",
       "            <span style=\"font-weight: bold\">{</span>\n",
       "                <span style=\"color: #008000; text-decoration-color: #008000\">'id'</span>: <span style=\"color: #008080; text-decoration-color: #008080; font-weight: bold\">2</span>,\n",
       "                <span style=\"color: #008000; text-decoration-color: #008000\">'name'</span>: <span style=\"color: #008000; text-decoration-color: #008000\">\"Nike Women's Low-Top Sneakers\"</span>,\n",
       "                <span style=\"color: #008000; text-decoration-color: #008000\">'description'</span>: <span style=\"color: #008000; text-decoration-color: #008000\">'These shoes provide the user with great comfort and effectiveness in activities. Made to be useful in sports activities and to provide good looking style in what people wear. These are made of durable materials. USD 31.0'</span>\n",
       "            <span style=\"font-weight: bold\">}</span>,\n",
       "            <span style=\"font-weight: bold\">{</span>\n",
       "                <span style=\"color: #008000; text-decoration-color: #008000\">'id'</span>: <span style=\"color: #008080; text-decoration-color: #008080; font-weight: bold\">3</span>,\n",
       "                <span style=\"color: #008000; text-decoration-color: #008000\">'name'</span>: <span style=\"color: #008000; text-decoration-color: #008000\">\"Reebok Women's Club C Sneaker\"</span>,\n",
       "                <span style=\"color: #008000; text-decoration-color: #008000\">'description'</span>: <span style=\"color: #008000; text-decoration-color: #008000\">' USD 13.075'</span>\n",
       "            <span style=\"font-weight: bold\">}</span>,\n",
       "            <span style=\"font-weight: bold\">{</span>\n",
       "                <span style=\"color: #008000; text-decoration-color: #008000\">'id'</span>: <span style=\"color: #008080; text-decoration-color: #008080; font-weight: bold\">4</span>,\n",
       "                <span style=\"color: #008000; text-decoration-color: #008000\">'name'</span>: <span style=\"color: #008000; text-decoration-color: #008000\">\"Reebok Men's Classic Harman Run Sneaker\"</span>,\n",
       "                <span style=\"color: #008000; text-decoration-color: #008000\">'description'</span>: <span style=\"color: #008000; text-decoration-color: #008000\">' USD 10.465'</span>\n",
       "            <span style=\"font-weight: bold\">}</span>,\n",
       "            <span style=\"font-weight: bold\">{</span>\n",
       "                <span style=\"color: #008000; text-decoration-color: #008000\">'id'</span>: <span style=\"color: #008080; text-decoration-color: #008080; font-weight: bold\">5</span>,\n",
       "                <span style=\"color: #008000; text-decoration-color: #008000\">'name'</span>: <span style=\"color: #008000; text-decoration-color: #008000\">'Steve Madden Ganzo-R Sneaker'</span>,\n",
       "                <span style=\"color: #008000; text-decoration-color: #008000\">'description'</span>: <span style=\"color: #008000; text-decoration-color: #008000\">''</span>\n",
       "            <span style=\"font-weight: bold\">}</span>,\n",
       "            <span style=\"font-weight: bold\">{</span>\n",
       "                <span style=\"color: #008000; text-decoration-color: #008000\">'id'</span>: <span style=\"color: #008080; text-decoration-color: #008080; font-weight: bold\">6</span>,\n",
       "                <span style=\"color: #008000; text-decoration-color: #008000\">'name'</span>: <span style=\"color: #008000; text-decoration-color: #008000\">\"Reebok Women's Club C Walking Shoe\"</span>,\n",
       "                <span style=\"color: #008000; text-decoration-color: #008000\">'description'</span>: <span style=\"color: #008000; text-decoration-color: #008000\">'Reebok is an American-inspired global brand with a deep fitness heritage and a clear mission: To be the best fitness brand in the world. Not an easy one. But if there is one brand that can make it happen, it is Reebok, the brand that was fundamentally part of a fitness movement that forever changed the way we look at spandex and headbands. Sure, this is not the 1980s anymore – the world has moved on. But so has Reebok and it continues to be daring. Daring is knowing greatness doesn’t come from sameness. The past years have been characterized by a transformation from traditional sports to fitness. The three sides of the Reebok Delta, a symbol of change and transformation, represent the physical, mental and social changes that occur when individuals embrace the challenge of bettering themselves in the gym, in their lives and in the world. USD 8.5'</span>\n",
       "            <span style=\"font-weight: bold\">}</span>,\n",
       "            <span style=\"font-weight: bold\">{</span>\n",
       "                <span style=\"color: #008000; text-decoration-color: #008000\">'id'</span>: <span style=\"color: #008080; text-decoration-color: #008080; font-weight: bold\">7</span>,\n",
       "                <span style=\"color: #008000; text-decoration-color: #008000\">'name'</span>: <span style=\"color: #008000; text-decoration-color: #008000\">\"Superga Women's 2750 Cotu Classic Sneaker\"</span>,\n",
       "                <span style=\"color: #008000; text-decoration-color: #008000\">'description'</span>: <span style=\"color: #008000; text-decoration-color: #008000\">' USD 17.525'</span>\n",
       "            <span style=\"font-weight: bold\">}</span>,\n",
       "            <span style=\"font-weight: bold\">{</span>\n",
       "                <span style=\"color: #008000; text-decoration-color: #008000\">'id'</span>: <span style=\"color: #008080; text-decoration-color: #008080; font-weight: bold\">8</span>,\n",
       "                <span style=\"color: #008000; text-decoration-color: #008000\">'name'</span>: <span style=\"color: #008000; text-decoration-color: #008000\">\"New Balance Women's Dynasoft Nergize V3 Cross Trainer\"</span>,\n",
       "                <span style=\"color: #008000; text-decoration-color: #008000\">'description'</span>: <span style=\"color: #008000; text-decoration-color: #008000\">''</span>\n",
       "            <span style=\"font-weight: bold\">}</span>,\n",
       "            <span style=\"font-weight: bold\">{</span>\n",
       "                <span style=\"color: #008000; text-decoration-color: #008000\">'id'</span>: <span style=\"color: #008080; text-decoration-color: #008080; font-weight: bold\">9</span>,\n",
       "                <span style=\"color: #008000; text-decoration-color: #008000\">'name'</span>: <span style=\"color: #008000; text-decoration-color: #008000\">'Sperry Women’s Crest Vibe Sneaker'</span>,\n",
       "                <span style=\"color: #008000; text-decoration-color: #008000\">'description'</span>: <span style=\"color: #008000; text-decoration-color: #008000\">'The classic crest vibe gets a lift with this new platform construction. USD 40.67'</span>\n",
       "            <span style=\"font-weight: bold\">}</span>,\n",
       "            <span style=\"font-weight: bold\">{</span>\n",
       "                <span style=\"color: #008000; text-decoration-color: #008000\">'id'</span>: <span style=\"color: #008080; text-decoration-color: #008080; font-weight: bold\">10</span>,\n",
       "                <span style=\"color: #008000; text-decoration-color: #008000\">'name'</span>: <span style=\"color: #008000; text-decoration-color: #008000\">\"New Balance Women's Fresh Foam Roav V1 Running Shoe\"</span>,\n",
       "                <span style=\"color: #008000; text-decoration-color: #008000\">'description'</span>: <span style=\"color: #008000; text-decoration-color: #008000\">' USD 82.525'</span>\n",
       "            <span style=\"font-weight: bold\">}</span>\n",
       "        <span style=\"font-weight: bold\">]</span>\n",
       "    <span style=\"font-weight: bold\">}</span>\n",
       "<span style=\"font-weight: bold\">}</span>\n",
       "</pre>\n"
      ],
      "text/plain": [
       "\n",
       "\u001b[1m{\u001b[0m\n",
       "    \u001b[32m'status'\u001b[0m: \u001b[1;36m200\u001b[0m,\n",
       "    \u001b[32m'body'\u001b[0m: \u001b[1m{\u001b[0m\n",
       "        \u001b[32m'count'\u001b[0m: \u001b[1;36m1785\u001b[0m,\n",
       "        \u001b[32m'next'\u001b[0m: \u001b[32m'http://localhost:8000/api/items/?\u001b[0m\u001b[32mlimit\u001b[0m\u001b[32m=\u001b[0m\u001b[32m10\u001b[0m\u001b[32m&\u001b[0m\u001b[32moffset\u001b[0m\u001b[32m=\u001b[0m\u001b[32m10\u001b[0m\u001b[32m'\u001b[0m,\n",
       "        \u001b[32m'previous'\u001b[0m: \u001b[3;35mNone\u001b[0m,\n",
       "        \u001b[32m'results'\u001b[0m: \u001b[1m[\u001b[0m\n",
       "            \u001b[1m{\u001b[0m\n",
       "                \u001b[32m'id'\u001b[0m: \u001b[1;36m1\u001b[0m,\n",
       "                \u001b[32m'name'\u001b[0m: \u001b[32m\"FLYFUPPY Women's Slip-on Canvas Comfort Fashion Sneakers Low Top Classic Lace up Walking Shoes Leopard Size\"\u001b[0m,\n",
       "                \u001b[32m'description'\u001b[0m: \u001b[32m''\u001b[0m\n",
       "            \u001b[1m}\u001b[0m,\n",
       "            \u001b[1m{\u001b[0m\n",
       "                \u001b[32m'id'\u001b[0m: \u001b[1;36m2\u001b[0m,\n",
       "                \u001b[32m'name'\u001b[0m: \u001b[32m\"Nike Women's Low-Top Sneakers\"\u001b[0m,\n",
       "                \u001b[32m'description'\u001b[0m: \u001b[32m'These shoes provide the user with great comfort and effectiveness in activities. Made to be useful in sports activities and to provide good looking style in what people wear. These are made of durable materials. USD 31.0'\u001b[0m\n",
       "            \u001b[1m}\u001b[0m,\n",
       "            \u001b[1m{\u001b[0m\n",
       "                \u001b[32m'id'\u001b[0m: \u001b[1;36m3\u001b[0m,\n",
       "                \u001b[32m'name'\u001b[0m: \u001b[32m\"Reebok Women's Club C Sneaker\"\u001b[0m,\n",
       "                \u001b[32m'description'\u001b[0m: \u001b[32m' USD 13.075'\u001b[0m\n",
       "            \u001b[1m}\u001b[0m,\n",
       "            \u001b[1m{\u001b[0m\n",
       "                \u001b[32m'id'\u001b[0m: \u001b[1;36m4\u001b[0m,\n",
       "                \u001b[32m'name'\u001b[0m: \u001b[32m\"Reebok Men's Classic Harman Run Sneaker\"\u001b[0m,\n",
       "                \u001b[32m'description'\u001b[0m: \u001b[32m' USD 10.465'\u001b[0m\n",
       "            \u001b[1m}\u001b[0m,\n",
       "            \u001b[1m{\u001b[0m\n",
       "                \u001b[32m'id'\u001b[0m: \u001b[1;36m5\u001b[0m,\n",
       "                \u001b[32m'name'\u001b[0m: \u001b[32m'Steve Madden Ganzo-R Sneaker'\u001b[0m,\n",
       "                \u001b[32m'description'\u001b[0m: \u001b[32m''\u001b[0m\n",
       "            \u001b[1m}\u001b[0m,\n",
       "            \u001b[1m{\u001b[0m\n",
       "                \u001b[32m'id'\u001b[0m: \u001b[1;36m6\u001b[0m,\n",
       "                \u001b[32m'name'\u001b[0m: \u001b[32m\"Reebok Women's Club C Walking Shoe\"\u001b[0m,\n",
       "                \u001b[32m'description'\u001b[0m: \u001b[32m'Reebok is an American-inspired global brand with a deep fitness heritage and a clear mission: To be the best fitness brand in the world. Not an easy one. But if there is one brand that can make it happen, it is Reebok, the brand that was fundamentally part of a fitness movement that forever changed the way we look at spandex and headbands. Sure, this is not the 1980s anymore – the world has moved on. But so has Reebok and it continues to be daring. Daring is knowing greatness doesn’t come from sameness. The past years have been characterized by a transformation from traditional sports to fitness. The three sides of the Reebok Delta, a symbol of change and transformation, represent the physical, mental and social changes that occur when individuals embrace the challenge of bettering themselves in the gym, in their lives and in the world. USD 8.5'\u001b[0m\n",
       "            \u001b[1m}\u001b[0m,\n",
       "            \u001b[1m{\u001b[0m\n",
       "                \u001b[32m'id'\u001b[0m: \u001b[1;36m7\u001b[0m,\n",
       "                \u001b[32m'name'\u001b[0m: \u001b[32m\"Superga Women's 2750 Cotu Classic Sneaker\"\u001b[0m,\n",
       "                \u001b[32m'description'\u001b[0m: \u001b[32m' USD 17.525'\u001b[0m\n",
       "            \u001b[1m}\u001b[0m,\n",
       "            \u001b[1m{\u001b[0m\n",
       "                \u001b[32m'id'\u001b[0m: \u001b[1;36m8\u001b[0m,\n",
       "                \u001b[32m'name'\u001b[0m: \u001b[32m\"New Balance Women's Dynasoft Nergize V3 Cross Trainer\"\u001b[0m,\n",
       "                \u001b[32m'description'\u001b[0m: \u001b[32m''\u001b[0m\n",
       "            \u001b[1m}\u001b[0m,\n",
       "            \u001b[1m{\u001b[0m\n",
       "                \u001b[32m'id'\u001b[0m: \u001b[1;36m9\u001b[0m,\n",
       "                \u001b[32m'name'\u001b[0m: \u001b[32m'Sperry Women’s Crest Vibe Sneaker'\u001b[0m,\n",
       "                \u001b[32m'description'\u001b[0m: \u001b[32m'The classic crest vibe gets a lift with this new platform construction. USD 40.67'\u001b[0m\n",
       "            \u001b[1m}\u001b[0m,\n",
       "            \u001b[1m{\u001b[0m\n",
       "                \u001b[32m'id'\u001b[0m: \u001b[1;36m10\u001b[0m,\n",
       "                \u001b[32m'name'\u001b[0m: \u001b[32m\"New Balance Women's Fresh Foam Roav V1 Running Shoe\"\u001b[0m,\n",
       "                \u001b[32m'description'\u001b[0m: \u001b[32m' USD 82.525'\u001b[0m\n",
       "            \u001b[1m}\u001b[0m\n",
       "        \u001b[1m]\u001b[0m\n",
       "    \u001b[1m}\u001b[0m\n",
       "\u001b[1m}\u001b[0m\n"
      ]
     },
     "metadata": {},
     "output_type": "display_data"
    }
   ],
   "source": [
    "api.items(limit=10)"
   ]
  },
  {
   "cell_type": "code",
   "execution_count": 18,
   "id": "3335b3c8-7496-4af0-ad10-4f3f83b2fc24",
   "metadata": {},
   "outputs": [
    {
     "data": {
      "text/html": [
       "<pre style=\"white-space:pre;overflow-x:auto;line-height:normal;font-family:Menlo,'DejaVu Sans Mono',consolas,'Courier New',monospace\">\n",
       "<span style=\"font-weight: bold\">{</span>\n",
       "    <span style=\"color: #008000; text-decoration-color: #008000\">'status'</span>: <span style=\"color: #008080; text-decoration-color: #008080; font-weight: bold\">200</span>,\n",
       "    <span style=\"color: #008000; text-decoration-color: #008000\">'body'</span>: <span style=\"font-weight: bold\">{</span>\n",
       "        <span style=\"color: #008000; text-decoration-color: #008000\">'count'</span>: <span style=\"color: #008080; text-decoration-color: #008080; font-weight: bold\">2</span>,\n",
       "        <span style=\"color: #008000; text-decoration-color: #008000\">'next'</span>: <span style=\"color: #800080; text-decoration-color: #800080; font-style: italic\">None</span>,\n",
       "        <span style=\"color: #008000; text-decoration-color: #008000\">'previous'</span>: <span style=\"color: #800080; text-decoration-color: #800080; font-style: italic\">None</span>,\n",
       "        <span style=\"color: #008000; text-decoration-color: #008000\">'results'</span>: <span style=\"font-weight: bold\">[</span>\n",
       "            <span style=\"font-weight: bold\">{</span>\n",
       "                <span style=\"color: #008000; text-decoration-color: #008000\">'id'</span>: <span style=\"color: #008080; text-decoration-color: #008080; font-weight: bold\">1</span>,\n",
       "                <span style=\"color: #008000; text-decoration-color: #008000\">'url'</span>: <span style=\"color: #008000; text-decoration-color: #008000\">'http://localhost:8000/api/users/1/'</span>,\n",
       "                <span style=\"color: #008000; text-decoration-color: #008000\">'username'</span>: <span style=\"color: #008000; text-decoration-color: #008000\">'adrian'</span>,\n",
       "                <span style=\"color: #008000; text-decoration-color: #008000\">'email'</span>: <span style=\"color: #008000; text-decoration-color: #008000\">'adrianmarino@gmail.com'</span>\n",
       "            <span style=\"font-weight: bold\">}</span>,\n",
       "            <span style=\"font-weight: bold\">{</span>\n",
       "                <span style=\"color: #008000; text-decoration-color: #008000\">'id'</span>: <span style=\"color: #008080; text-decoration-color: #008080; font-weight: bold\">5000</span>,\n",
       "                <span style=\"color: #008000; text-decoration-color: #008000\">'url'</span>: <span style=\"color: #008000; text-decoration-color: #008000\">'http://localhost:8000/api/users/5000/'</span>,\n",
       "                <span style=\"color: #008000; text-decoration-color: #008000\">'username'</span>: <span style=\"color: #008000; text-decoration-color: #008000\">'adrian.marino'</span>,\n",
       "                <span style=\"color: #008000; text-decoration-color: #008000\">'email'</span>: <span style=\"color: #008000; text-decoration-color: #008000\">'adrian.marino@pedidosya.com'</span>\n",
       "            <span style=\"font-weight: bold\">}</span>\n",
       "        <span style=\"font-weight: bold\">]</span>\n",
       "    <span style=\"font-weight: bold\">}</span>\n",
       "<span style=\"font-weight: bold\">}</span>\n",
       "</pre>\n"
      ],
      "text/plain": [
       "\n",
       "\u001b[1m{\u001b[0m\n",
       "    \u001b[32m'status'\u001b[0m: \u001b[1;36m200\u001b[0m,\n",
       "    \u001b[32m'body'\u001b[0m: \u001b[1m{\u001b[0m\n",
       "        \u001b[32m'count'\u001b[0m: \u001b[1;36m2\u001b[0m,\n",
       "        \u001b[32m'next'\u001b[0m: \u001b[3;35mNone\u001b[0m,\n",
       "        \u001b[32m'previous'\u001b[0m: \u001b[3;35mNone\u001b[0m,\n",
       "        \u001b[32m'results'\u001b[0m: \u001b[1m[\u001b[0m\n",
       "            \u001b[1m{\u001b[0m\n",
       "                \u001b[32m'id'\u001b[0m: \u001b[1;36m1\u001b[0m,\n",
       "                \u001b[32m'url'\u001b[0m: \u001b[32m'http://localhost:8000/api/users/1/'\u001b[0m,\n",
       "                \u001b[32m'username'\u001b[0m: \u001b[32m'adrian'\u001b[0m,\n",
       "                \u001b[32m'email'\u001b[0m: \u001b[32m'adrianmarino@gmail.com'\u001b[0m\n",
       "            \u001b[1m}\u001b[0m,\n",
       "            \u001b[1m{\u001b[0m\n",
       "                \u001b[32m'id'\u001b[0m: \u001b[1;36m5000\u001b[0m,\n",
       "                \u001b[32m'url'\u001b[0m: \u001b[32m'http://localhost:8000/api/users/5000/'\u001b[0m,\n",
       "                \u001b[32m'username'\u001b[0m: \u001b[32m'adrian.marino'\u001b[0m,\n",
       "                \u001b[32m'email'\u001b[0m: \u001b[32m'adrian.marino@pedidosya.com'\u001b[0m\n",
       "            \u001b[1m}\u001b[0m\n",
       "        \u001b[1m]\u001b[0m\n",
       "    \u001b[1m}\u001b[0m\n",
       "\u001b[1m}\u001b[0m\n"
      ]
     },
     "metadata": {},
     "output_type": "display_data"
    }
   ],
   "source": [
    "api.users(limit=10)"
   ]
  },
  {
   "cell_type": "code",
   "execution_count": null,
   "id": "10b74563-af9e-46d5-b55d-123d323741f9",
   "metadata": {},
   "outputs": [],
   "source": []
  }
 ],
 "metadata": {
  "kernelspec": {
   "display_name": "Python 3 (ipykernel)",
   "language": "python",
   "name": "python3"
  },
  "language_info": {
   "codemirror_mode": {
    "name": "ipython",
    "version": 3
   },
   "file_extension": ".py",
   "mimetype": "text/x-python",
   "name": "python",
   "nbconvert_exporter": "python",
   "pygments_lexer": "ipython3",
   "version": "3.10.6"
  },
  "widgets": {
   "application/vnd.jupyter.widget-state+json": {
    "state": {},
    "version_major": 2,
    "version_minor": 0
   }
  }
 },
 "nbformat": 4,
 "nbformat_minor": 5
}
