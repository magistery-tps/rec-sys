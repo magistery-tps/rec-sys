{
 "cells": [
  {
   "cell_type": "markdown",
   "id": "133bc121-3ff0-4942-b051-487512a350a1",
   "metadata": {},
   "source": [
    "## Datasets\n",
    "\n",
    "* [Google Play Store Apps](https://www.kaggle.com/datasets/lava18/google-play-store-apps?select=googleplaystore_user_reviews.csv)\n",
    "* [Joke dataset](https://goldberg.berkeley.edu/jester-data/)\n",
    "* [Book-Crossing Dataset](http://www2.informatik.uni-freiburg.de/~cziegler/BX/)\n",
    "* [Public Datasets For Recommender Systems](https://github.com/caserec/Datasets-for-Recommender-Systems)"
   ]
  }
 ],
 "metadata": {
  "kernelspec": {
   "display_name": "Python 3 (ipykernel)",
   "language": "python",
   "name": "python3"
  },
  "language_info": {
   "codemirror_mode": {
    "name": "ipython",
    "version": 3
   },
   "file_extension": ".py",
   "mimetype": "text/x-python",
   "name": "python",
   "nbconvert_exporter": "python",
   "pygments_lexer": "ipython3",
   "version": "3.10.6"
  },
  "widgets": {
   "application/vnd.jupyter.widget-state+json": {
    "state": {},
    "version_major": 2,
    "version_minor": 0
   }
  }
 },
 "nbformat": 4,
 "nbformat_minor": 5
}
