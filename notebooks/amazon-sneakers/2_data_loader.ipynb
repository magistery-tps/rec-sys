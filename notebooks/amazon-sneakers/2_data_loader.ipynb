{
 "cells": [
  {
   "cell_type": "code",
   "execution_count": 1,
   "id": "94f881df-4e34-4baa-bb19-bd38a2542192",
   "metadata": {},
   "outputs": [],
   "source": [
    "%load_ext autoreload\n",
    "%autoreload 2"
   ]
  },
  {
   "cell_type": "code",
   "execution_count": 2,
   "id": "f8259342-bd48-49ce-a235-d7febaeabe33",
   "metadata": {},
   "outputs": [],
   "source": [
    "import sys\n",
    "sys.path.append('../../src')"
   ]
  },
  {
   "cell_type": "code",
   "execution_count": 19,
   "id": "72fe1c26-d376-424b-9fce-17b67596e8ed",
   "metadata": {},
   "outputs": [],
   "source": [
    "import numpy    as np\n",
    "import pandas   as pd\n",
    "import database as db"
   ]
  },
  {
   "cell_type": "code",
   "execution_count": 20,
   "id": "79655577-629a-4f96-83ae-dd88a019cad5",
   "metadata": {},
   "outputs": [],
   "source": [
    "DATASET_PATH = '../../datasets/amazon-sneakers'\n",
    "DB_CONFIG = {\n",
    "  'host'     : 'localhost',\n",
    "  'user'     : 'root',\n",
    "  'password' : '1234'\n",
    "}"
   ]
  },
  {
   "cell_type": "code",
   "execution_count": 24,
   "id": "80db828a-01a4-4fd7-a1d0-0164bb07566c",
   "metadata": {},
   "outputs": [],
   "source": [
    "database  = db.Database(DB_CONFIG)\n",
    "c = db.ItemRepository(database)\n",
    "int_repo  = db.InteractionRepository(database)"
   ]
  },
  {
   "cell_type": "code",
   "execution_count": 21,
   "id": "28344fce-605c-4a36-968c-4b2d1dc6cb38",
   "metadata": {},
   "outputs": [],
   "source": [
    "items      = pd.read_json(f'{DATASET_PATH}/db_items.json')\n",
    "interactions = pd.read_json(f'{DATASET_PATH}/db_interactions.json')"
   ]
  },
  {
   "cell_type": "code",
   "execution_count": 25,
   "id": "04bfb6c0-710d-4751-bc3b-42673e8391c7",
   "metadata": {},
   "outputs": [],
   "source": [
    "database.reset()"
   ]
  },
  {
   "cell_type": "code",
   "execution_count": 26,
   "id": "27f91ee7-6212-4f2b-af47-4fb5560faabf",
   "metadata": {},
   "outputs": [],
   "source": [
    "item_repo.save_all(items)"
   ]
  },
  {
   "cell_type": "code",
   "execution_count": 27,
   "id": "ee4669fb-563d-409d-b715-7c9de64f3d61",
   "metadata": {},
   "outputs": [],
   "source": [
    "int_repo.save_all(interactions)"
   ]
  }
 ],
 "metadata": {
  "kernelspec": {
   "display_name": "Python 3 (ipykernel)",
   "language": "python",
   "name": "python3"
  },
  "language_info": {
   "codemirror_mode": {
    "name": "ipython",
    "version": 3
   },
   "file_extension": ".py",
   "mimetype": "text/x-python",
   "name": "python",
   "nbconvert_exporter": "python",
   "pygments_lexer": "ipython3",
   "version": "3.10.11"
  },
  "widgets": {
   "application/vnd.jupyter.widget-state+json": {
    "state": {},
    "version_major": 2,
    "version_minor": 0
   }
  }
 },
 "nbformat": 4,
 "nbformat_minor": 5
}
