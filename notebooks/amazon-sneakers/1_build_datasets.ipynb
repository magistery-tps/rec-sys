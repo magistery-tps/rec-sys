{
 "cells": [
  {
   "cell_type": "code",
   "execution_count": 1,
   "id": "94f881df-4e34-4baa-bb19-bd38a2542192",
   "metadata": {},
   "outputs": [],
   "source": [
    "%load_ext autoreload\n",
    "%autoreload 2"
   ]
  },
  {
   "cell_type": "code",
   "execution_count": 2,
   "id": "f8259342-bd48-49ce-a235-d7febaeabe33",
   "metadata": {},
   "outputs": [],
   "source": [
    "import sys\n",
    "sys.path.append('../../src')"
   ]
  },
  {
   "cell_type": "code",
   "execution_count": 3,
   "id": "72fe1c26-d376-424b-9fce-17b67596e8ed",
   "metadata": {},
   "outputs": [],
   "source": [
    "import numpy as np\n",
    "import pandas as pd\n",
    "import glob\n",
    "import json\n",
    "import logging"
   ]
  },
  {
   "cell_type": "code",
   "execution_count": 4,
   "id": "79655577-629a-4f96-83ae-dd88a019cad5",
   "metadata": {},
   "outputs": [],
   "source": [
    "DATASET_PATH = '../../datasets/amazon-sneakers'"
   ]
  },
  {
   "cell_type": "code",
   "execution_count": 38,
   "id": "31172179-9a94-4ce5-acd3-cf05a4c14d4a",
   "metadata": {},
   "outputs": [],
   "source": [
    "products_detail_files         = !find {DATASET_PATH} -type f -name '??????????.json'\n",
    "products_detail_variant_files = !find {DATASET_PATH} -type f -name '*_variant_*.json'\n",
    "\n",
    "products_detail_files = products_detail_files + products_detail_variant_files"
   ]
  },
  {
   "cell_type": "code",
   "execution_count": 39,
   "id": "29e81c60-0404-41c2-b6df-98af59d2ef42",
   "metadata": {},
   "outputs": [],
   "source": [
    "def load_json(path):\n",
    "    with open(path,'r') as f:\n",
    "        return json.load(f)\n",
    "\n",
    "def to_product_detail_json(path):\n",
    "    json = load_json(path)\n",
    "    json['path'] = path\n",
    "    json['variant'] = ('variant' in path)\n",
    "    return json\n",
    "    \n",
    "product_details = [to_product_detail_json(file) for file in products_detail_files]"
   ]
  },
  {
   "cell_type": "code",
   "execution_count": 40,
   "id": "f7c4c723-c962-4090-9f4d-dca82198e295",
   "metadata": {},
   "outputs": [],
   "source": [
    "def price(data):    \n",
    "    if 'price_range' in data and data['price_range'] != None:\n",
    "        price_range = data['price_range']\n",
    "        \n",
    "        if isinstance(price_range, str):\n",
    "            return price_range.split('Details The List Price')[0].replace('List Price:', '').replace('$', '')\n",
    "        elif 'from' in price_range and 'to' in price_range:\n",
    "            return (price_range['to'] - price_range['from']) / 2\n",
    "        elif 'from' in price_range:\n",
    "            return price_range['from']\n",
    "        elif 'to' in price_range:\n",
    "            return price_range['to']\n",
    "\n",
    "    return 0\n",
    "\n",
    "def id(data):\n",
    "    filename = data['path'].split('/')[-1]\n",
    "    \n",
    "    if '_variant_' in filename:\n",
    "        return filename.split('_variant_')[-1].replace('.json', '')\n",
    "    else:\n",
    "        return filename.replace('.json', '')\n",
    "\n",
    "def description(data):\n",
    "    desc = data['description']\n",
    "    return desc if desc else ''\n",
    "    \n",
    "def to_product_detail_row(data):\n",
    "    try:        \n",
    "        return {\n",
    "            'id'         : id(data),\n",
    "            'title'      : data['title'],\n",
    "            'description': description(data),\n",
    "            'variant'    : data['variant'],\n",
    "            'url'        : data['images'][0][0],\n",
    "            'rating'     : data['rating'],\n",
    "            'reviews'    : data['reviews_count'],\n",
    "            'price'      : price(data)\n",
    "        }\n",
    "    except Exception as e:\n",
    "        logging.error(f'{e}. Data: {data}')\n",
    "        \n",
    "\n",
    "product_detail_rows = [to_product_detail_row(pd) for pd in product_details if pd['id']]"
   ]
  },
  {
   "cell_type": "code",
   "execution_count": 42,
   "id": "512f92e5-f1aa-433a-b9bd-469da7ed89bc",
   "metadata": {},
   "outputs": [
    {
     "data": {
      "text/html": [
       "<pre style=\"white-space:pre;overflow-x:auto;line-height:normal;font-family:Menlo,'DejaVu Sans Mono',consolas,'Courier New',monospace\">\n",
       "<span style=\"font-weight: bold\">{</span>\n",
       "    <span style=\"color: #008000; text-decoration-color: #008000\">'id'</span>: <span style=\"color: #008000; text-decoration-color: #008000\">'B08YFMTSFK'</span>,\n",
       "    <span style=\"color: #008000; text-decoration-color: #008000\">'title'</span>: <span style=\"color: #008000; text-decoration-color: #008000\">\"Betsey Johnson Women's Sidny Sneaker\"</span>,\n",
       "    <span style=\"color: #008000; text-decoration-color: #008000\">'description'</span>: <span style=\"color: #008000; text-decoration-color: #008000\">\"Betsey Johnson's SIDNY is a stand out sneaker! This all over rhinestone sneaker, featuring a platform sole and lace up closure, can be paired with your best dress or favorite jeans!\"</span>,\n",
       "    <span style=\"color: #008000; text-decoration-color: #008000\">'variant'</span>: <span style=\"color: #00ff00; text-decoration-color: #00ff00; font-style: italic\">True</span>,\n",
       "    <span style=\"color: #008000; text-decoration-color: #008000\">'url'</span>: <span style=\"color: #008000; text-decoration-color: #008000\">'https://m.media-amazon.com/images/I/81M0cM+fQNS._AC_UX575_.jpg'</span>,\n",
       "    <span style=\"color: #008000; text-decoration-color: #008000\">'rating'</span>: <span style=\"color: #008080; text-decoration-color: #008080; font-weight: bold\">4.5</span>,\n",
       "    <span style=\"color: #008000; text-decoration-color: #008000\">'reviews'</span>: <span style=\"color: #008080; text-decoration-color: #008080; font-weight: bold\">1264</span>,\n",
       "    <span style=\"color: #008000; text-decoration-color: #008000\">'price'</span>: <span style=\"color: #008080; text-decoration-color: #008080; font-weight: bold\">15.14</span>\n",
       "<span style=\"font-weight: bold\">}</span>\n",
       "</pre>\n"
      ],
      "text/plain": [
       "\n",
       "\u001b[1m{\u001b[0m\n",
       "    \u001b[32m'id'\u001b[0m: \u001b[32m'B08YFMTSFK'\u001b[0m,\n",
       "    \u001b[32m'title'\u001b[0m: \u001b[32m\"Betsey Johnson Women's Sidny Sneaker\"\u001b[0m,\n",
       "    \u001b[32m'description'\u001b[0m: \u001b[32m\"Betsey Johnson's SIDNY is a stand out sneaker! This all over rhinestone sneaker, featuring a platform sole and lace up closure, can be paired with your best dress or favorite jeans!\"\u001b[0m,\n",
       "    \u001b[32m'variant'\u001b[0m: \u001b[3;92mTrue\u001b[0m,\n",
       "    \u001b[32m'url'\u001b[0m: \u001b[32m'https://m.media-amazon.com/images/I/81M0cM+fQNS._AC_UX575_.jpg'\u001b[0m,\n",
       "    \u001b[32m'rating'\u001b[0m: \u001b[1;36m4.5\u001b[0m,\n",
       "    \u001b[32m'reviews'\u001b[0m: \u001b[1;36m1264\u001b[0m,\n",
       "    \u001b[32m'price'\u001b[0m: \u001b[1;36m15.14\u001b[0m\n",
       "\u001b[1m}\u001b[0m\n"
      ]
     },
     "metadata": {},
     "output_type": "display_data"
    }
   ],
   "source": [
    "product_detail_rows[100]"
   ]
  },
  {
   "cell_type": "code",
   "execution_count": 43,
   "id": "a5e36f66-0fd0-4794-9fd1-6bcca9ac5543",
   "metadata": {},
   "outputs": [
    {
     "data": {
      "text/html": [
       "<div>\n",
       "<style scoped>\n",
       "    .dataframe tbody tr th:only-of-type {\n",
       "        vertical-align: middle;\n",
       "    }\n",
       "\n",
       "    .dataframe tbody tr th {\n",
       "        vertical-align: top;\n",
       "    }\n",
       "\n",
       "    .dataframe thead th {\n",
       "        text-align: right;\n",
       "    }\n",
       "</style>\n",
       "<table border=\"1\" class=\"dataframe\">\n",
       "  <thead>\n",
       "    <tr style=\"text-align: right;\">\n",
       "      <th></th>\n",
       "      <th>id</th>\n",
       "      <th>title</th>\n",
       "      <th>description</th>\n",
       "      <th>variant</th>\n",
       "      <th>url</th>\n",
       "      <th>rating</th>\n",
       "      <th>reviews</th>\n",
       "      <th>price</th>\n",
       "    </tr>\n",
       "  </thead>\n",
       "  <tbody>\n",
       "    <tr>\n",
       "      <th>0</th>\n",
       "      <td>B089PV3D1G</td>\n",
       "      <td>Superga Women's 2750 Cotu Classic Sneaker</td>\n",
       "      <td></td>\n",
       "      <td>False</td>\n",
       "      <td>https://m.media-amazon.com/images/I/612WcQ1+bI...</td>\n",
       "      <td>4.2</td>\n",
       "      <td>7396</td>\n",
       "      <td>17.525</td>\n",
       "    </tr>\n",
       "    <tr>\n",
       "      <th>1</th>\n",
       "      <td>B07MTVLHYS</td>\n",
       "      <td>New Suede Shoe Cleaner Kit. Suede Brush &amp; Sued...</td>\n",
       "      <td></td>\n",
       "      <td>False</td>\n",
       "      <td>https://m.media-amazon.com/images/I/71tbpuN6ZI...</td>\n",
       "      <td>4.4</td>\n",
       "      <td>872</td>\n",
       "      <td>0</td>\n",
       "    </tr>\n",
       "    <tr>\n",
       "      <th>2</th>\n",
       "      <td>B093QLZJ4F</td>\n",
       "      <td>New Balance Women's Dynasoft Nergize V3 Cross ...</td>\n",
       "      <td></td>\n",
       "      <td>False</td>\n",
       "      <td>https://m.media-amazon.com/images/I/71pR+J-gp4...</td>\n",
       "      <td>4.4</td>\n",
       "      <td>117</td>\n",
       "      <td>0.0</td>\n",
       "    </tr>\n",
       "    <tr>\n",
       "      <th>3</th>\n",
       "      <td>B086187DQY</td>\n",
       "      <td>NCNDB Women's Camouflage Wedges Sneakers Inner...</td>\n",
       "      <td>welcome.our Sneaker shoes size tabs are chines...</td>\n",
       "      <td>False</td>\n",
       "      <td>https://m.media-amazon.com/images/I/61reE-na08...</td>\n",
       "      <td>4.2</td>\n",
       "      <td>191</td>\n",
       "      <td>1.82</td>\n",
       "    </tr>\n",
       "    <tr>\n",
       "      <th>4</th>\n",
       "      <td>B092XC424L</td>\n",
       "      <td>Reebok Men's Classic Harman Run Sneaker</td>\n",
       "      <td></td>\n",
       "      <td>False</td>\n",
       "      <td>https://m.media-amazon.com/images/I/71FaYc6pSM...</td>\n",
       "      <td>4.6</td>\n",
       "      <td>6501</td>\n",
       "      <td>10.465</td>\n",
       "    </tr>\n",
       "  </tbody>\n",
       "</table>\n",
       "</div>"
      ]
     },
     "execution_count": 43,
     "metadata": {},
     "output_type": "execute_result"
    }
   ],
   "source": [
    "product_detail = pd.DataFrame(product_detail_rows)\n",
    "product_detail.head(5)"
   ]
  },
  {
   "cell_type": "code",
   "execution_count": 44,
   "id": "5cfe89a1-728a-4301-82d0-af01b1cf4773",
   "metadata": {},
   "outputs": [
    {
     "data": {
      "text/html": [
       "<pre style=\"white-space:pre;overflow-x:auto;line-height:normal;font-family:Menlo,'DejaVu Sans Mono',consolas,'Courier New',monospace\">\n",
       "B089PV3D1G    <span style=\"color: #008080; text-decoration-color: #008080; font-weight: bold\">1</span>\n",
       "B08V52LJ9X    <span style=\"color: #008080; text-decoration-color: #008080; font-weight: bold\">1</span>\n",
       "B08P2G41N7    <span style=\"color: #008080; text-decoration-color: #008080; font-weight: bold\">1</span>\n",
       "B09FLF5ZF6    <span style=\"color: #008080; text-decoration-color: #008080; font-weight: bold\">1</span>\n",
       "B072KGKBWH    <span style=\"color: #008080; text-decoration-color: #008080; font-weight: bold\">1</span>\n",
       "             ..\n",
       "B08H8TDWTM    <span style=\"color: #008080; text-decoration-color: #008080; font-weight: bold\">1</span>\n",
       "B08RYKYFML    <span style=\"color: #008080; text-decoration-color: #008080; font-weight: bold\">1</span>\n",
       "B08S7R21VS    <span style=\"color: #008080; text-decoration-color: #008080; font-weight: bold\">1</span>\n",
       "B08QCKF3PY    <span style=\"color: #008080; text-decoration-color: #008080; font-weight: bold\">1</span>\n",
       "B085B59LND    <span style=\"color: #008080; text-decoration-color: #008080; font-weight: bold\">1</span>\n",
       "Name: id, Length: <span style=\"color: #008080; text-decoration-color: #008080; font-weight: bold\">1785</span>, dtype: int64\n",
       "</pre>\n"
      ],
      "text/plain": [
       "\n",
       "B089PV3D1G    \u001b[1;36m1\u001b[0m\n",
       "B08V52LJ9X    \u001b[1;36m1\u001b[0m\n",
       "B08P2G41N7    \u001b[1;36m1\u001b[0m\n",
       "B09FLF5ZF6    \u001b[1;36m1\u001b[0m\n",
       "B072KGKBWH    \u001b[1;36m1\u001b[0m\n",
       "             ..\n",
       "B08H8TDWTM    \u001b[1;36m1\u001b[0m\n",
       "B08RYKYFML    \u001b[1;36m1\u001b[0m\n",
       "B08S7R21VS    \u001b[1;36m1\u001b[0m\n",
       "B08QCKF3PY    \u001b[1;36m1\u001b[0m\n",
       "B085B59LND    \u001b[1;36m1\u001b[0m\n",
       "Name: id, Length: \u001b[1;36m1785\u001b[0m, dtype: int64\n"
      ]
     },
     "metadata": {},
     "output_type": "display_data"
    }
   ],
   "source": [
    "product_detail.id.value_counts()"
   ]
  },
  {
   "cell_type": "code",
   "execution_count": 45,
   "id": "dc0b1dc2-ad41-404e-b791-7fa2f545c040",
   "metadata": {},
   "outputs": [],
   "source": [
    "product_detail.to_json(f'{DATASET_PATH}/items.json', orient=\"records\")"
   ]
  },
  {
   "cell_type": "code",
   "execution_count": 46,
   "id": "27fb821c-f124-4449-b655-855328760da8",
   "metadata": {},
   "outputs": [],
   "source": [
    "def to_reviews_json(path):\n",
    "    reviews = load_json(path)\n",
    "    for review in reviews:\n",
    "        review['item_id']  = path.split('/')[-1].split('_')[0]\n",
    "        review['username'] = review['user']\n",
    "        del review['user']\n",
    "    return reviews\n",
    "\n",
    "\n",
    "product_reviews = []\n",
    "for file in glob.glob(f'{DATASET_PATH}/*_reviews.json'):\n",
    "    product_reviews.extend(to_reviews_json(file))"
   ]
  },
  {
   "cell_type": "code",
   "execution_count": 47,
   "id": "2544ffbb-dc1d-4226-9a7a-fae6f588d1ed",
   "metadata": {},
   "outputs": [],
   "source": [
    "user_interactions = pd.DataFrame(product_reviews)\n",
    "user_interactions = user_interactions[['username', 'item_id', 'rating', 'message']]"
   ]
  },
  {
   "cell_type": "code",
   "execution_count": 48,
   "id": "b715ec77-0657-4303-b617-dd1b1e9f75ec",
   "metadata": {},
   "outputs": [],
   "source": [
    "user_interactions.to_json(f'{DATASET_PATH}/interactions.json', orient=\"records\")"
   ]
  },
  {
   "cell_type": "markdown",
   "id": "7806bc52-65a2-476d-97c0-10fc119d48cf",
   "metadata": {},
   "source": [
    "# Database prepare"
   ]
  },
  {
   "cell_type": "code",
   "execution_count": 64,
   "id": "bffd8912-c909-4bc9-acf5-8003eba55ded",
   "metadata": {},
   "outputs": [],
   "source": [
    "items        = pd.read_json(f'{DATASET_PATH}/items.json')\n",
    "interactions = pd.read_json(f'{DATASET_PATH}/interactions.json')"
   ]
  },
  {
   "cell_type": "code",
   "execution_count": 65,
   "id": "8817d9a4-bc9e-495a-aff8-fbb2806b73bf",
   "metadata": {},
   "outputs": [],
   "source": [
    "def desc_price(value):\n",
    "    return ' USD ' + str(value) if value else ''\n",
    "\n",
    "items['description'] = items['description'] + [desc_price(i) for i in items['price'].values]"
   ]
  },
  {
   "cell_type": "code",
   "execution_count": 66,
   "id": "dd6da7ff-4580-412b-965a-785851ebee1d",
   "metadata": {},
   "outputs": [
    {
     "data": {
      "text/html": [
       "<div>\n",
       "<style scoped>\n",
       "    .dataframe tbody tr th:only-of-type {\n",
       "        vertical-align: middle;\n",
       "    }\n",
       "\n",
       "    .dataframe tbody tr th {\n",
       "        vertical-align: top;\n",
       "    }\n",
       "\n",
       "    .dataframe thead th {\n",
       "        text-align: right;\n",
       "    }\n",
       "</style>\n",
       "<table border=\"1\" class=\"dataframe\">\n",
       "  <thead>\n",
       "    <tr style=\"text-align: right;\">\n",
       "      <th></th>\n",
       "      <th>item_id</th>\n",
       "      <th>original_id</th>\n",
       "      <th>name</th>\n",
       "      <th>description</th>\n",
       "      <th>image</th>\n",
       "    </tr>\n",
       "  </thead>\n",
       "  <tbody>\n",
       "    <tr>\n",
       "      <th>0</th>\n",
       "      <td>1</td>\n",
       "      <td>B089PV3D1G</td>\n",
       "      <td>Superga Women's 2750 Cotu Classic Sneaker</td>\n",
       "      <td>USD 17.525</td>\n",
       "      <td>https://m.media-amazon.com/images/I/612WcQ1+bI...</td>\n",
       "    </tr>\n",
       "    <tr>\n",
       "      <th>1</th>\n",
       "      <td>2</td>\n",
       "      <td>B07MTVLHYS</td>\n",
       "      <td>New Suede Shoe Cleaner Kit. Suede Brush &amp; Sued...</td>\n",
       "      <td></td>\n",
       "      <td>https://m.media-amazon.com/images/I/71tbpuN6ZI...</td>\n",
       "    </tr>\n",
       "    <tr>\n",
       "      <th>2</th>\n",
       "      <td>3</td>\n",
       "      <td>B093QLZJ4F</td>\n",
       "      <td>New Balance Women's Dynasoft Nergize V3 Cross ...</td>\n",
       "      <td></td>\n",
       "      <td>https://m.media-amazon.com/images/I/71pR+J-gp4...</td>\n",
       "    </tr>\n",
       "    <tr>\n",
       "      <th>3</th>\n",
       "      <td>4</td>\n",
       "      <td>B086187DQY</td>\n",
       "      <td>NCNDB Women's Camouflage Wedges Sneakers Inner...</td>\n",
       "      <td>welcome.our Sneaker shoes size tabs are chines...</td>\n",
       "      <td>https://m.media-amazon.com/images/I/61reE-na08...</td>\n",
       "    </tr>\n",
       "    <tr>\n",
       "      <th>4</th>\n",
       "      <td>5</td>\n",
       "      <td>B092XC424L</td>\n",
       "      <td>Reebok Men's Classic Harman Run Sneaker</td>\n",
       "      <td>USD 10.465</td>\n",
       "      <td>https://m.media-amazon.com/images/I/71FaYc6pSM...</td>\n",
       "    </tr>\n",
       "  </tbody>\n",
       "</table>\n",
       "</div>"
      ]
     },
     "execution_count": 66,
     "metadata": {},
     "output_type": "execute_result"
    }
   ],
   "source": [
    "def sequence_from(df, source, target):\n",
    "    df[target] = pd.factorize(df[source])[0] + 1\n",
    "    return df\n",
    "\n",
    "select = lambda df, columns: df[columns]\n",
    "rename = lambda df, columns: df.rename(columns=columns)\n",
    "\n",
    "\n",
    "items = items \\\n",
    "    .pipe(sequence_from, source='id', target='item_id') \\\n",
    "    .pipe(select, ['item_id', 'id', 'title', 'description', 'url']) \\\n",
    "    .pipe(rename, { 'id': 'original_id', 'title': 'name', 'url': 'image'})\n",
    "\n",
    "items.head(5)"
   ]
  },
  {
   "cell_type": "code",
   "execution_count": 67,
   "id": "f71e192b-a2f5-444d-a376-6fe6bc6190ce",
   "metadata": {},
   "outputs": [
    {
     "data": {
      "text/html": [
       "<div>\n",
       "<style scoped>\n",
       "    .dataframe tbody tr th:only-of-type {\n",
       "        vertical-align: middle;\n",
       "    }\n",
       "\n",
       "    .dataframe tbody tr th {\n",
       "        vertical-align: top;\n",
       "    }\n",
       "\n",
       "    .dataframe thead th {\n",
       "        text-align: right;\n",
       "    }\n",
       "</style>\n",
       "<table border=\"1\" class=\"dataframe\">\n",
       "  <thead>\n",
       "    <tr style=\"text-align: right;\">\n",
       "      <th></th>\n",
       "      <th>original_item_id</th>\n",
       "      <th>rating</th>\n",
       "      <th>user_id</th>\n",
       "    </tr>\n",
       "  </thead>\n",
       "  <tbody>\n",
       "    <tr>\n",
       "      <th>0</th>\n",
       "      <td>B0BG8YCNZM</td>\n",
       "      <td>4.0</td>\n",
       "      <td>1</td>\n",
       "    </tr>\n",
       "    <tr>\n",
       "      <th>1</th>\n",
       "      <td>B0BG8YCNZM</td>\n",
       "      <td>4.0</td>\n",
       "      <td>2</td>\n",
       "    </tr>\n",
       "    <tr>\n",
       "      <th>2</th>\n",
       "      <td>B0BG8YCNZM</td>\n",
       "      <td>4.0</td>\n",
       "      <td>3</td>\n",
       "    </tr>\n",
       "    <tr>\n",
       "      <th>3</th>\n",
       "      <td>B0BG8YCNZM</td>\n",
       "      <td>5.0</td>\n",
       "      <td>4</td>\n",
       "    </tr>\n",
       "    <tr>\n",
       "      <th>4</th>\n",
       "      <td>B0BG8YCNZM</td>\n",
       "      <td>5.0</td>\n",
       "      <td>5</td>\n",
       "    </tr>\n",
       "  </tbody>\n",
       "</table>\n",
       "</div>"
      ]
     },
     "execution_count": 67,
     "metadata": {},
     "output_type": "execute_result"
    }
   ],
   "source": [
    "interactions = interactions \\\n",
    "    .pipe(sequence_from, source='username', target='user_id') \\\n",
    "    .pipe(select, ['item_id', 'rating', 'user_id']) \\\n",
    "    .pipe(rename, {'item_id': 'original_item_id'})\n",
    "\n",
    "interactions.head(5)"
   ]
  },
  {
   "cell_type": "code",
   "execution_count": 68,
   "id": "f3ab545f-5b12-4e2e-9e54-0307a7c42604",
   "metadata": {},
   "outputs": [
    {
     "data": {
      "text/html": [
       "<div>\n",
       "<style scoped>\n",
       "    .dataframe tbody tr th:only-of-type {\n",
       "        vertical-align: middle;\n",
       "    }\n",
       "\n",
       "    .dataframe tbody tr th {\n",
       "        vertical-align: top;\n",
       "    }\n",
       "\n",
       "    .dataframe thead th {\n",
       "        text-align: right;\n",
       "    }\n",
       "</style>\n",
       "<table border=\"1\" class=\"dataframe\">\n",
       "  <thead>\n",
       "    <tr style=\"text-align: right;\">\n",
       "      <th></th>\n",
       "      <th>user_id</th>\n",
       "      <th>item_id</th>\n",
       "      <th>rating</th>\n",
       "    </tr>\n",
       "  </thead>\n",
       "  <tbody>\n",
       "    <tr>\n",
       "      <th>0</th>\n",
       "      <td>98</td>\n",
       "      <td>1082</td>\n",
       "      <td>4.0</td>\n",
       "    </tr>\n",
       "    <tr>\n",
       "      <th>1</th>\n",
       "      <td>99</td>\n",
       "      <td>1082</td>\n",
       "      <td>5.0</td>\n",
       "    </tr>\n",
       "    <tr>\n",
       "      <th>2</th>\n",
       "      <td>10</td>\n",
       "      <td>1082</td>\n",
       "      <td>4.0</td>\n",
       "    </tr>\n",
       "    <tr>\n",
       "      <th>3</th>\n",
       "      <td>100</td>\n",
       "      <td>1082</td>\n",
       "      <td>4.0</td>\n",
       "    </tr>\n",
       "    <tr>\n",
       "      <th>4</th>\n",
       "      <td>101</td>\n",
       "      <td>1082</td>\n",
       "      <td>5.0</td>\n",
       "    </tr>\n",
       "  </tbody>\n",
       "</table>\n",
       "</div>"
      ]
     },
     "execution_count": 68,
     "metadata": {},
     "output_type": "execute_result"
    }
   ],
   "source": [
    "interactions = interactions.merge(items, left_on  = 'original_item_id', right_on = 'original_id') \\\n",
    "    .pipe(select, ['user_id', 'item_id', 'rating'])\n",
    "\n",
    "interactions.head(5)"
   ]
  },
  {
   "cell_type": "code",
   "execution_count": 69,
   "id": "f1d45248-cf67-4441-8cdc-400f6a63169c",
   "metadata": {},
   "outputs": [],
   "source": [
    "interactions.to_json(f'{DATASET_PATH}/db_interactions.json', orient=\"records\")"
   ]
  },
  {
   "cell_type": "code",
   "execution_count": 70,
   "id": "3fd2982d-b0da-407a-9abd-d132d49c3ca6",
   "metadata": {},
   "outputs": [
    {
     "data": {
      "text/html": [
       "<div>\n",
       "<style scoped>\n",
       "    .dataframe tbody tr th:only-of-type {\n",
       "        vertical-align: middle;\n",
       "    }\n",
       "\n",
       "    .dataframe tbody tr th {\n",
       "        vertical-align: top;\n",
       "    }\n",
       "\n",
       "    .dataframe thead th {\n",
       "        text-align: right;\n",
       "    }\n",
       "</style>\n",
       "<table border=\"1\" class=\"dataframe\">\n",
       "  <thead>\n",
       "    <tr style=\"text-align: right;\">\n",
       "      <th></th>\n",
       "      <th>id</th>\n",
       "      <th>name</th>\n",
       "      <th>description</th>\n",
       "      <th>image</th>\n",
       "    </tr>\n",
       "  </thead>\n",
       "  <tbody>\n",
       "    <tr>\n",
       "      <th>0</th>\n",
       "      <td>1</td>\n",
       "      <td>Superga Women's 2750 Cotu Classic Sneaker</td>\n",
       "      <td>USD 17.525</td>\n",
       "      <td>https://m.media-amazon.com/images/I/612WcQ1+bI...</td>\n",
       "    </tr>\n",
       "    <tr>\n",
       "      <th>1</th>\n",
       "      <td>2</td>\n",
       "      <td>New Suede Shoe Cleaner Kit. Suede Brush &amp; Sued...</td>\n",
       "      <td></td>\n",
       "      <td>https://m.media-amazon.com/images/I/71tbpuN6ZI...</td>\n",
       "    </tr>\n",
       "    <tr>\n",
       "      <th>2</th>\n",
       "      <td>3</td>\n",
       "      <td>New Balance Women's Dynasoft Nergize V3 Cross ...</td>\n",
       "      <td></td>\n",
       "      <td>https://m.media-amazon.com/images/I/71pR+J-gp4...</td>\n",
       "    </tr>\n",
       "    <tr>\n",
       "      <th>3</th>\n",
       "      <td>4</td>\n",
       "      <td>NCNDB Women's Camouflage Wedges Sneakers Inner...</td>\n",
       "      <td>welcome.our Sneaker shoes size tabs are chines...</td>\n",
       "      <td>https://m.media-amazon.com/images/I/61reE-na08...</td>\n",
       "    </tr>\n",
       "    <tr>\n",
       "      <th>4</th>\n",
       "      <td>5</td>\n",
       "      <td>Reebok Men's Classic Harman Run Sneaker</td>\n",
       "      <td>USD 10.465</td>\n",
       "      <td>https://m.media-amazon.com/images/I/71FaYc6pSM...</td>\n",
       "    </tr>\n",
       "  </tbody>\n",
       "</table>\n",
       "</div>"
      ]
     },
     "execution_count": 70,
     "metadata": {},
     "output_type": "execute_result"
    }
   ],
   "source": [
    "items = items.pipe(select, ['item_id', 'name', 'description', 'image']) \\\n",
    "              .pipe(rename, {'item_id': 'id'})\n",
    "items.head(5)"
   ]
  },
  {
   "cell_type": "code",
   "execution_count": 71,
   "id": "f860980c-cb88-4caf-aa2b-678a65be3200",
   "metadata": {},
   "outputs": [],
   "source": [
    "items.to_json(f'{DATASET_PATH}/db_items.json', orient=\"records\")"
   ]
  }
 ],
 "metadata": {
  "kernelspec": {
   "display_name": "Python 3 (ipykernel)",
   "language": "python",
   "name": "python3"
  },
  "language_info": {
   "codemirror_mode": {
    "name": "ipython",
    "version": 3
   },
   "file_extension": ".py",
   "mimetype": "text/x-python",
   "name": "python",
   "nbconvert_exporter": "python",
   "pygments_lexer": "ipython3",
   "version": "3.10.6"
  },
  "widgets": {
   "application/vnd.jupyter.widget-state+json": {
    "state": {},
    "version_major": 2,
    "version_minor": 0
   }
  }
 },
 "nbformat": 4,
 "nbformat_minor": 5
}
